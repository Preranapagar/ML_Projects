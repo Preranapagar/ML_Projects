{
 "cells": [
  {
   "cell_type": "code",
   "execution_count": 1,
   "id": "f450908f",
   "metadata": {},
   "outputs": [],
   "source": [
    "#import libraries\n",
    "import pandas as pd\n",
    "import numpy as np\n",
    "import seaborn as sns\n",
    "import warnings\n",
    "warnings.filterwarnings('ignore')\n",
    "import matplotlib.pyplot as plt"
   ]
  },
  {
   "cell_type": "code",
   "execution_count": 2,
   "id": "458ef8da",
   "metadata": {},
   "outputs": [
    {
     "data": {
      "text/html": [
       "<div>\n",
       "<style scoped>\n",
       "    .dataframe tbody tr th:only-of-type {\n",
       "        vertical-align: middle;\n",
       "    }\n",
       "\n",
       "    .dataframe tbody tr th {\n",
       "        vertical-align: top;\n",
       "    }\n",
       "\n",
       "    .dataframe thead th {\n",
       "        text-align: right;\n",
       "    }\n",
       "</style>\n",
       "<table border=\"1\" class=\"dataframe\">\n",
       "  <thead>\n",
       "    <tr style=\"text-align: right;\">\n",
       "      <th></th>\n",
       "      <th>Age_band_of_driver</th>\n",
       "      <th>Sex_of_driver</th>\n",
       "      <th>Educational_level</th>\n",
       "      <th>Vehicle_driver_relation</th>\n",
       "      <th>Driving_experience</th>\n",
       "      <th>Lanes_or_Medians</th>\n",
       "      <th>Types_of_Junction</th>\n",
       "      <th>Road_surface_type</th>\n",
       "      <th>Light_conditions</th>\n",
       "      <th>Weather_conditions</th>\n",
       "      <th>Type_of_collision</th>\n",
       "      <th>Vehicle_movement</th>\n",
       "      <th>Pedestrian_movement</th>\n",
       "      <th>Cause_of_accident</th>\n",
       "      <th>Accident_severity</th>\n",
       "    </tr>\n",
       "  </thead>\n",
       "  <tbody>\n",
       "    <tr>\n",
       "      <th>0</th>\n",
       "      <td>18-30</td>\n",
       "      <td>Male</td>\n",
       "      <td>Above high school</td>\n",
       "      <td>Employee</td>\n",
       "      <td>1-2yr</td>\n",
       "      <td>Unknown</td>\n",
       "      <td>No junction</td>\n",
       "      <td>Asphalt roads</td>\n",
       "      <td>Daylight</td>\n",
       "      <td>Normal</td>\n",
       "      <td>Collision with roadside-parked vehicles</td>\n",
       "      <td>Going straight</td>\n",
       "      <td>Not a Pedestrian</td>\n",
       "      <td>Moving Backward</td>\n",
       "      <td>2</td>\n",
       "    </tr>\n",
       "    <tr>\n",
       "      <th>1</th>\n",
       "      <td>31-50</td>\n",
       "      <td>Male</td>\n",
       "      <td>Junior high school</td>\n",
       "      <td>Employee</td>\n",
       "      <td>Above 10yr</td>\n",
       "      <td>Undivided Two way</td>\n",
       "      <td>No junction</td>\n",
       "      <td>Asphalt roads</td>\n",
       "      <td>Daylight</td>\n",
       "      <td>Normal</td>\n",
       "      <td>Vehicle with vehicle collision</td>\n",
       "      <td>Going straight</td>\n",
       "      <td>Not a Pedestrian</td>\n",
       "      <td>Overtaking</td>\n",
       "      <td>2</td>\n",
       "    </tr>\n",
       "    <tr>\n",
       "      <th>2</th>\n",
       "      <td>18-30</td>\n",
       "      <td>Male</td>\n",
       "      <td>Junior high school</td>\n",
       "      <td>Employee</td>\n",
       "      <td>1-2yr</td>\n",
       "      <td>other</td>\n",
       "      <td>No junction</td>\n",
       "      <td>Asphalt roads</td>\n",
       "      <td>Daylight</td>\n",
       "      <td>Normal</td>\n",
       "      <td>Collision with roadside objects</td>\n",
       "      <td>Going straight</td>\n",
       "      <td>Not a Pedestrian</td>\n",
       "      <td>Changing lane to the left</td>\n",
       "      <td>1</td>\n",
       "    </tr>\n",
       "    <tr>\n",
       "      <th>3</th>\n",
       "      <td>18-30</td>\n",
       "      <td>Male</td>\n",
       "      <td>Junior high school</td>\n",
       "      <td>Employee</td>\n",
       "      <td>5-10yr</td>\n",
       "      <td>other</td>\n",
       "      <td>Y Shape</td>\n",
       "      <td>Earth roads</td>\n",
       "      <td>Darkness - lights lit</td>\n",
       "      <td>Normal</td>\n",
       "      <td>Vehicle with vehicle collision</td>\n",
       "      <td>Going straight</td>\n",
       "      <td>Not a Pedestrian</td>\n",
       "      <td>Changing lane to the right</td>\n",
       "      <td>2</td>\n",
       "    </tr>\n",
       "    <tr>\n",
       "      <th>4</th>\n",
       "      <td>18-30</td>\n",
       "      <td>Male</td>\n",
       "      <td>Junior high school</td>\n",
       "      <td>Employee</td>\n",
       "      <td>2-5yr</td>\n",
       "      <td>other</td>\n",
       "      <td>Y Shape</td>\n",
       "      <td>Asphalt roads</td>\n",
       "      <td>Darkness - lights lit</td>\n",
       "      <td>Normal</td>\n",
       "      <td>Vehicle with vehicle collision</td>\n",
       "      <td>Going straight</td>\n",
       "      <td>Not a Pedestrian</td>\n",
       "      <td>Overtaking</td>\n",
       "      <td>2</td>\n",
       "    </tr>\n",
       "    <tr>\n",
       "      <th>...</th>\n",
       "      <td>...</td>\n",
       "      <td>...</td>\n",
       "      <td>...</td>\n",
       "      <td>...</td>\n",
       "      <td>...</td>\n",
       "      <td>...</td>\n",
       "      <td>...</td>\n",
       "      <td>...</td>\n",
       "      <td>...</td>\n",
       "      <td>...</td>\n",
       "      <td>...</td>\n",
       "      <td>...</td>\n",
       "      <td>...</td>\n",
       "      <td>...</td>\n",
       "      <td>...</td>\n",
       "    </tr>\n",
       "    <tr>\n",
       "      <th>12311</th>\n",
       "      <td>31-50</td>\n",
       "      <td>Male</td>\n",
       "      <td>Unknown</td>\n",
       "      <td>Employee</td>\n",
       "      <td>2-5yr</td>\n",
       "      <td>Undivided Two way</td>\n",
       "      <td>No junction</td>\n",
       "      <td>Asphalt roads</td>\n",
       "      <td>Daylight</td>\n",
       "      <td>Normal</td>\n",
       "      <td>Vehicle with vehicle collision</td>\n",
       "      <td>Going straight</td>\n",
       "      <td>Not a Pedestrian</td>\n",
       "      <td>No distancing</td>\n",
       "      <td>2</td>\n",
       "    </tr>\n",
       "    <tr>\n",
       "      <th>12312</th>\n",
       "      <td>Unknown</td>\n",
       "      <td>Male</td>\n",
       "      <td>Elementary school</td>\n",
       "      <td>Employee</td>\n",
       "      <td>5-10yr</td>\n",
       "      <td>Two-way (divided with broken lines road marking)</td>\n",
       "      <td>No junction</td>\n",
       "      <td>Asphalt roads</td>\n",
       "      <td>Daylight</td>\n",
       "      <td>Normal</td>\n",
       "      <td>Vehicle with vehicle collision</td>\n",
       "      <td>Other</td>\n",
       "      <td>Not a Pedestrian</td>\n",
       "      <td>No distancing</td>\n",
       "      <td>2</td>\n",
       "    </tr>\n",
       "    <tr>\n",
       "      <th>12313</th>\n",
       "      <td>Over 51</td>\n",
       "      <td>Male</td>\n",
       "      <td>Junior high school</td>\n",
       "      <td>Employee</td>\n",
       "      <td>5-10yr</td>\n",
       "      <td>Two-way (divided with broken lines road marking)</td>\n",
       "      <td>No junction</td>\n",
       "      <td>Asphalt roads</td>\n",
       "      <td>Daylight</td>\n",
       "      <td>Normal</td>\n",
       "      <td>Vehicle with vehicle collision</td>\n",
       "      <td>Other</td>\n",
       "      <td>Not a Pedestrian</td>\n",
       "      <td>Changing lane to the right</td>\n",
       "      <td>1</td>\n",
       "    </tr>\n",
       "    <tr>\n",
       "      <th>12314</th>\n",
       "      <td>18-30</td>\n",
       "      <td>Female</td>\n",
       "      <td>Junior high school</td>\n",
       "      <td>Employee</td>\n",
       "      <td>Above 10yr</td>\n",
       "      <td>Undivided Two way</td>\n",
       "      <td>No junction</td>\n",
       "      <td>Asphalt roads</td>\n",
       "      <td>Darkness - lights lit</td>\n",
       "      <td>Normal</td>\n",
       "      <td>Vehicle with vehicle collision</td>\n",
       "      <td>Other</td>\n",
       "      <td>Not a Pedestrian</td>\n",
       "      <td>Driving under the influence of drugs</td>\n",
       "      <td>2</td>\n",
       "    </tr>\n",
       "    <tr>\n",
       "      <th>12315</th>\n",
       "      <td>18-30</td>\n",
       "      <td>Male</td>\n",
       "      <td>Junior high school</td>\n",
       "      <td>Employee</td>\n",
       "      <td>5-10yr</td>\n",
       "      <td>Undivided Two way</td>\n",
       "      <td>O Shape</td>\n",
       "      <td>Asphalt roads</td>\n",
       "      <td>Darkness - lights lit</td>\n",
       "      <td>Normal</td>\n",
       "      <td>Vehicle with vehicle collision</td>\n",
       "      <td>Stopping</td>\n",
       "      <td>Crossing from nearside - masked by parked or s...</td>\n",
       "      <td>Changing lane to the right</td>\n",
       "      <td>2</td>\n",
       "    </tr>\n",
       "  </tbody>\n",
       "</table>\n",
       "<p>12316 rows × 15 columns</p>\n",
       "</div>"
      ],
      "text/plain": [
       "      Age_band_of_driver Sex_of_driver   Educational_level  \\\n",
       "0                  18-30          Male   Above high school   \n",
       "1                  31-50          Male  Junior high school   \n",
       "2                  18-30          Male  Junior high school   \n",
       "3                  18-30          Male  Junior high school   \n",
       "4                  18-30          Male  Junior high school   \n",
       "...                  ...           ...                 ...   \n",
       "12311              31-50          Male             Unknown   \n",
       "12312            Unknown          Male   Elementary school   \n",
       "12313            Over 51          Male  Junior high school   \n",
       "12314              18-30        Female  Junior high school   \n",
       "12315              18-30          Male  Junior high school   \n",
       "\n",
       "      Vehicle_driver_relation Driving_experience  \\\n",
       "0                    Employee              1-2yr   \n",
       "1                    Employee         Above 10yr   \n",
       "2                    Employee              1-2yr   \n",
       "3                    Employee             5-10yr   \n",
       "4                    Employee              2-5yr   \n",
       "...                       ...                ...   \n",
       "12311                Employee              2-5yr   \n",
       "12312                Employee             5-10yr   \n",
       "12313                Employee             5-10yr   \n",
       "12314                Employee         Above 10yr   \n",
       "12315                Employee             5-10yr   \n",
       "\n",
       "                                       Lanes_or_Medians Types_of_Junction  \\\n",
       "0                                               Unknown       No junction   \n",
       "1                                     Undivided Two way       No junction   \n",
       "2                                                 other       No junction   \n",
       "3                                                 other           Y Shape   \n",
       "4                                                 other           Y Shape   \n",
       "...                                                 ...               ...   \n",
       "12311                                 Undivided Two way       No junction   \n",
       "12312  Two-way (divided with broken lines road marking)       No junction   \n",
       "12313  Two-way (divided with broken lines road marking)       No junction   \n",
       "12314                                 Undivided Two way       No junction   \n",
       "12315                                 Undivided Two way           O Shape   \n",
       "\n",
       "      Road_surface_type       Light_conditions Weather_conditions  \\\n",
       "0         Asphalt roads               Daylight             Normal   \n",
       "1         Asphalt roads               Daylight             Normal   \n",
       "2         Asphalt roads               Daylight             Normal   \n",
       "3           Earth roads  Darkness - lights lit             Normal   \n",
       "4         Asphalt roads  Darkness - lights lit             Normal   \n",
       "...                 ...                    ...                ...   \n",
       "12311     Asphalt roads               Daylight             Normal   \n",
       "12312     Asphalt roads               Daylight             Normal   \n",
       "12313     Asphalt roads               Daylight             Normal   \n",
       "12314     Asphalt roads  Darkness - lights lit             Normal   \n",
       "12315     Asphalt roads  Darkness - lights lit             Normal   \n",
       "\n",
       "                             Type_of_collision Vehicle_movement  \\\n",
       "0      Collision with roadside-parked vehicles   Going straight   \n",
       "1               Vehicle with vehicle collision   Going straight   \n",
       "2              Collision with roadside objects   Going straight   \n",
       "3               Vehicle with vehicle collision   Going straight   \n",
       "4               Vehicle with vehicle collision   Going straight   \n",
       "...                                        ...              ...   \n",
       "12311           Vehicle with vehicle collision   Going straight   \n",
       "12312           Vehicle with vehicle collision            Other   \n",
       "12313           Vehicle with vehicle collision            Other   \n",
       "12314           Vehicle with vehicle collision            Other   \n",
       "12315           Vehicle with vehicle collision         Stopping   \n",
       "\n",
       "                                     Pedestrian_movement  \\\n",
       "0                                       Not a Pedestrian   \n",
       "1                                       Not a Pedestrian   \n",
       "2                                       Not a Pedestrian   \n",
       "3                                       Not a Pedestrian   \n",
       "4                                       Not a Pedestrian   \n",
       "...                                                  ...   \n",
       "12311                                   Not a Pedestrian   \n",
       "12312                                   Not a Pedestrian   \n",
       "12313                                   Not a Pedestrian   \n",
       "12314                                   Not a Pedestrian   \n",
       "12315  Crossing from nearside - masked by parked or s...   \n",
       "\n",
       "                          Cause_of_accident  Accident_severity  \n",
       "0                           Moving Backward                  2  \n",
       "1                                Overtaking                  2  \n",
       "2                 Changing lane to the left                  1  \n",
       "3                Changing lane to the right                  2  \n",
       "4                                Overtaking                  2  \n",
       "...                                     ...                ...  \n",
       "12311                         No distancing                  2  \n",
       "12312                         No distancing                  2  \n",
       "12313            Changing lane to the right                  1  \n",
       "12314  Driving under the influence of drugs                  2  \n",
       "12315            Changing lane to the right                  2  \n",
       "\n",
       "[12316 rows x 15 columns]"
      ]
     },
     "execution_count": 2,
     "metadata": {},
     "output_type": "execute_result"
    }
   ],
   "source": [
    "df=pd.read_csv('cleaned.csv')\n",
    "df"
   ]
  },
  {
   "cell_type": "code",
   "execution_count": 3,
   "id": "070285af",
   "metadata": {},
   "outputs": [
    {
     "name": "stdout",
     "output_type": "stream",
     "text": [
      "<class 'pandas.core.frame.DataFrame'>\n",
      "RangeIndex: 12316 entries, 0 to 12315\n",
      "Data columns (total 15 columns):\n",
      " #   Column                   Non-Null Count  Dtype \n",
      "---  ------                   --------------  ----- \n",
      " 0   Age_band_of_driver       12316 non-null  object\n",
      " 1   Sex_of_driver            12316 non-null  object\n",
      " 2   Educational_level        12316 non-null  object\n",
      " 3   Vehicle_driver_relation  12316 non-null  object\n",
      " 4   Driving_experience       12316 non-null  object\n",
      " 5   Lanes_or_Medians         12316 non-null  object\n",
      " 6   Types_of_Junction        12316 non-null  object\n",
      " 7   Road_surface_type        12316 non-null  object\n",
      " 8   Light_conditions         12316 non-null  object\n",
      " 9   Weather_conditions       12316 non-null  object\n",
      " 10  Type_of_collision        12316 non-null  object\n",
      " 11  Vehicle_movement         12316 non-null  object\n",
      " 12  Pedestrian_movement      12316 non-null  object\n",
      " 13  Cause_of_accident        12316 non-null  object\n",
      " 14  Accident_severity        12316 non-null  int64 \n",
      "dtypes: int64(1), object(14)\n",
      "memory usage: 1.4+ MB\n"
     ]
    }
   ],
   "source": [
    "df.info()"
   ]
  },
  {
   "cell_type": "code",
   "execution_count": 4,
   "id": "29c511a5",
   "metadata": {},
   "outputs": [
    {
     "data": {
      "text/plain": [
       "Index(['Age_band_of_driver', 'Sex_of_driver', 'Educational_level',\n",
       "       'Vehicle_driver_relation', 'Driving_experience', 'Lanes_or_Medians',\n",
       "       'Types_of_Junction', 'Road_surface_type', 'Light_conditions',\n",
       "       'Weather_conditions', 'Type_of_collision', 'Vehicle_movement',\n",
       "       'Pedestrian_movement', 'Cause_of_accident', 'Accident_severity'],\n",
       "      dtype='object')"
      ]
     },
     "execution_count": 4,
     "metadata": {},
     "output_type": "execute_result"
    }
   ],
   "source": [
    "df.columns"
   ]
  },
  {
   "cell_type": "code",
   "execution_count": 5,
   "id": "7299255d",
   "metadata": {},
   "outputs": [
    {
     "data": {
      "text/plain": [
       "0          18-30\n",
       "1          31-50\n",
       "2          18-30\n",
       "3          18-30\n",
       "4          18-30\n",
       "          ...   \n",
       "12311      31-50\n",
       "12312    Unknown\n",
       "12313    Over 51\n",
       "12314      18-30\n",
       "12315      18-30\n",
       "Name: Age_band_of_driver, Length: 12316, dtype: object"
      ]
     },
     "execution_count": 5,
     "metadata": {},
     "output_type": "execute_result"
    }
   ],
   "source": [
    "#feature-1 Age_band_of_driver\n",
    "df['Age_band_of_driver']"
   ]
  },
  {
   "cell_type": "code",
   "execution_count": 6,
   "id": "7e98fd66",
   "metadata": {},
   "outputs": [
    {
     "data": {
      "text/plain": [
       "array(['18-30', '31-50', 'Under 18', 'Over 51', 'Unknown'], dtype=object)"
      ]
     },
     "execution_count": 6,
     "metadata": {},
     "output_type": "execute_result"
    }
   ],
   "source": [
    "df['Age_band_of_driver'].unique()"
   ]
  },
  {
   "cell_type": "code",
   "execution_count": 7,
   "id": "f854592b",
   "metadata": {},
   "outputs": [
    {
     "data": {
      "text/plain": [
       "<AxesSubplot:xlabel='Age_band_of_driver', ylabel='count'>"
      ]
     },
     "execution_count": 7,
     "metadata": {},
     "output_type": "execute_result"
    },
    {
     "data": {
      "image/png": "[encoded data removed]",
      "text/plain": [
       "<Figure size 432x288 with 1 Axes>"
      ]
     },
     "metadata": {
      "needs_background": "light"
     },
     "output_type": "display_data"
    }
   ],
   "source": [
    "sns.countplot(df['Age_band_of_driver'])"
   ]
  },
  {
   "cell_type": "code",
   "execution_count": 8,
   "id": "876e1e35",
   "metadata": {},
   "outputs": [
    {
     "data": {
      "text/plain": [
       "Male       11437\n",
       "Female       701\n",
       "Unknown      178\n",
       "Name: Sex_of_driver, dtype: int64"
      ]
     },
     "execution_count": 8,
     "metadata": {},
     "output_type": "execute_result"
    }
   ],
   "source": [
    "#feature-2-Sex_of_driver\n",
    "df['Sex_of_driver'].value_counts()"
   ]
  },
  {
   "cell_type": "code",
   "execution_count": 9,
   "id": "9d40cf1e",
   "metadata": {},
   "outputs": [
    {
     "data": {
      "text/plain": [
       "<AxesSubplot:xlabel='Sex_of_driver', ylabel='count'>"
      ]
     },
     "execution_count": 9,
     "metadata": {},
     "output_type": "execute_result"
    },
    {
     "data": {
      "image/png": "[encoded data removed]",
      "text/plain": [
       "<Figure size 432x288 with 1 Axes>"
      ]
     },
     "metadata": {
      "needs_background": "light"
     },
     "output_type": "display_data"
    }
   ],
   "source": [
    "sns.countplot(df['Sex_of_driver'])"
   ]
  },
  {
   "cell_type": "code",
   "execution_count": 10,
   "id": "287da67b",
   "metadata": {},
   "outputs": [
    {
     "data": {
      "text/plain": [
       "Junior high school    7619\n",
       "Elementary school     2163\n",
       "High school           1110\n",
       "Unknown                841\n",
       "Above high school      362\n",
       "Writing & reading      176\n",
       "Illiterate              45\n",
       "Name: Educational_level, dtype: int64"
      ]
     },
     "execution_count": 10,
     "metadata": {},
     "output_type": "execute_result"
    }
   ],
   "source": [
    "#feature-3-Educational_level\n",
    "df['Educational_level'].value_counts()"
   ]
  },
  {
   "cell_type": "code",
   "execution_count": 16,
   "id": "def85d63",
   "metadata": {},
   "outputs": [
    {
     "data": {
      "text/plain": [
       "0"
      ]
     },
     "execution_count": 16,
     "metadata": {},
     "output_type": "execute_result"
    }
   ],
   "source": [
    "df['Educational_level'].isnull().sum()"
   ]
  },
  {
   "cell_type": "code",
   "execution_count": 11,
   "id": "99520eb8",
   "metadata": {},
   "outputs": [
    {
     "data": {
      "text/plain": [
       "(array([0, 1, 2, 3, 4, 5, 6]),\n",
       " [Text(0, 0, 'Above high school'),\n",
       "  Text(1, 0, 'Junior high school'),\n",
       "  Text(2, 0, 'Unknown'),\n",
       "  Text(3, 0, 'Elementary school'),\n",
       "  Text(4, 0, 'High school'),\n",
       "  Text(5, 0, 'Illiterate'),\n",
       "  Text(6, 0, 'Writing & reading')])"
      ]
     },
     "execution_count": 11,
     "metadata": {},
     "output_type": "execute_result"
    },
    {
     "data": {
      "image/png": "[encoded data removed]",
      "text/plain": [
       "<Figure size 432x288 with 1 Axes>"
      ]
     },
     "metadata": {
      "needs_background": "light"
     },
     "output_type": "display_data"
    }
   ],
   "source": [
    "sns.countplot(df['Educational_level'])\n",
    "plt.xticks(rotation=45)"
   ]
  },
  {
   "cell_type": "code",
   "execution_count": 12,
   "id": "6253af60",
   "metadata": {},
   "outputs": [
    {
     "data": {
      "text/plain": [
       "Junior high school    7619\n",
       "Elementary school     2163\n",
       "High school           1110\n",
       "Unknown                841\n",
       "Above high school      362\n",
       "Writing & reading      176\n",
       "Illiterate              45\n",
       "Name: Educational_level, dtype: int64"
      ]
     },
     "execution_count": 12,
     "metadata": {},
     "output_type": "execute_result"
    }
   ],
   "source": [
    "#feature-4-Educational_level\n",
    "df['Educational_level'].value_counts()"
   ]
  },
  {
   "cell_type": "code",
   "execution_count": 17,
   "id": "03d7ddce",
   "metadata": {},
   "outputs": [
    {
     "data": {
      "text/plain": [
       "Employee    9627\n",
       "Owner       1973\n",
       "Unknown      593\n",
       "Other        123\n",
       "Name: Vehicle_driver_relation, dtype: int64"
      ]
     },
     "execution_count": 17,
     "metadata": {},
     "output_type": "execute_result"
    }
   ],
   "source": [
    "df['Vehicle_driver_relation'].value_counts()"
   ]
  },
  {
   "cell_type": "code",
   "execution_count": 18,
   "id": "0821d718",
   "metadata": {},
   "outputs": [
    {
     "data": {
      "text/plain": [
       "5-10yr        3363\n",
       "2-5yr         2613\n",
       "Above 10yr    2262\n",
       "1-2yr         1756\n",
       "Below 1yr     1342\n",
       "Unknown        829\n",
       "No Licence     118\n",
       "unknown         33\n",
       "Name: Driving_experience, dtype: int64"
      ]
     },
     "execution_count": 18,
     "metadata": {},
     "output_type": "execute_result"
    }
   ],
   "source": [
    "df['Driving_experience'].value_counts()"
   ]
  },
  {
   "cell_type": "code",
   "execution_count": 19,
   "id": "7476d62e",
   "metadata": {},
   "outputs": [
    {
     "data": {
      "text/plain": [
       "Asphalt roads                       11296\n",
       "Earth roads                           358\n",
       "Gravel roads                          242\n",
       "Unknown                               172\n",
       "Other                                 167\n",
       "Asphalt roads with some distress       81\n",
       "Name: Road_surface_type, dtype: int64"
      ]
     },
     "execution_count": 19,
     "metadata": {},
     "output_type": "execute_result"
    }
   ],
   "source": [
    "df['Road_surface_type'].value_counts()"
   ]
  },
  {
   "cell_type": "code",
   "execution_count": 21,
   "id": "9a21e72e",
   "metadata": {},
   "outputs": [
    {
     "data": {
      "text/plain": [
       "2    10415\n",
       "1     1743\n",
       "0      158\n",
       "Name: Accident_severity, dtype: int64"
      ]
     },
     "execution_count": 21,
     "metadata": {},
     "output_type": "execute_result"
    }
   ],
   "source": [
    "df['Accident_severity'].value_counts()"
   ]
  },
  {
   "cell_type": "code",
   "execution_count": 13,
   "id": "dfb40c02",
   "metadata": {
    "scrolled": true
   },
   "outputs": [
    {
     "name": "stdout",
     "output_type": "stream",
     "text": [
      "<class 'pandas.core.frame.DataFrame'>\n",
      "RangeIndex: 12316 entries, 0 to 12315\n",
      "Data columns (total 15 columns):\n",
      " #   Column                   Non-Null Count  Dtype \n",
      "---  ------                   --------------  ----- \n",
      " 0   Age_band_of_driver       12316 non-null  object\n",
      " 1   Sex_of_driver            12316 non-null  object\n",
      " 2   Educational_level        12316 non-null  object\n",
      " 3   Vehicle_driver_relation  12316 non-null  object\n",
      " 4   Driving_experience       12316 non-null  object\n",
      " 5   Lanes_or_Medians         12316 non-null  object\n",
      " 6   Types_of_Junction        12316 non-null  object\n",
      " 7   Road_surface_type        12316 non-null  object\n",
      " 8   Light_conditions         12316 non-null  object\n",
      " 9   Weather_conditions       12316 non-null  object\n",
      " 10  Type_of_collision        12316 non-null  object\n",
      " 11  Vehicle_movement         12316 non-null  object\n",
      " 12  Pedestrian_movement      12316 non-null  object\n",
      " 13  Cause_of_accident        12316 non-null  object\n",
      " 14  Accident_severity        12316 non-null  int64 \n",
      "dtypes: int64(1), object(14)\n",
      "memory usage: 1.4+ MB\n"
     ]
    }
   ],
   "source": [
    "df.info()"
   ]
  }
 ],
 "metadata": {
  "kernelspec": {
   "display_name": "Python 3 (ipykernel)",
   "language": "python",
   "name": "python3"
  },
  "language_info": {
   "codemirror_mode": {
    "name": "ipython",
    "version": 3
   },
   "file_extension": ".py",
   "mimetype": "text/x-python",
   "name": "python",
   "nbconvert_exporter": "python",
   "pygments_lexer": "ipython3",
   "version": "3.9.7"
  }
 },
 "nbformat": 4,
 "nbformat_minor": 5
}
