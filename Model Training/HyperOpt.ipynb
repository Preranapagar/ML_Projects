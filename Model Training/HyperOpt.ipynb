{
 "cells": [
  {
   "cell_type": "markdown",
   "id": "eeee87aa",
   "metadata": {},
   "source": [
    "## <span style = 'color:green'> HyperOpt and HyperOpt-SKlearn </span>"
   ]
  },
  {
   "cell_type": "markdown",
   "id": "c6563b98",
   "metadata": {},
   "source": [
    "* HyperOpt is an open-source Python library for Bayesian optimization developed by James Bergstra.It is designed for large-scale optimization for models with hundreds of parameters and allows the optimization procedure to be scaled across multiple cores and multiple machines.\n",
    "\n",
    "* The library was explicitly used to optimize machine learning pipelines, including data preparation, model selection, and model hyperparameters."
   ]
  },
  {
   "cell_type": "markdown",
   "id": "1f9278ea",
   "metadata": {},
   "source": [
    "#### 1 <span style= 'color:green'>|</span> Installation of Library"
   ]
  },
  {
   "cell_type": "code",
   "execution_count": 3,
   "id": "295f5e8e",
   "metadata": {},
   "outputs": [
    {
     "name": "stdout",
     "output_type": "stream",
     "text": [
      "Collecting hyperoptNote: you may need to restart the kernel to use updated packages.\n",
      "\n",
      "  Downloading hyperopt-0.2.7-py2.py3-none-any.whl (1.6 MB)\n",
      "     ---------------------------------------- 1.6/1.6 MB 7.2 MB/s eta 0:00:00\n",
      "Requirement already satisfied: numpy in c:\\users\\prerana\\anaconda3\\lib\\site-packages (from hyperopt) (1.22.4)\n",
      "Requirement already satisfied: future in c:\\users\\prerana\\anaconda3\\lib\\site-packages (from hyperopt) (0.18.2)\n",
      "Requirement already satisfied: tqdm in c:\\users\\prerana\\anaconda3\\lib\\site-packages (from hyperopt) (4.64.0)\n",
      "Collecting py4j\n",
      "  Downloading py4j-0.10.9.7-py2.py3-none-any.whl (200 kB)\n",
      "     -------------------------------------- 200.5/200.5 kB 6.1 MB/s eta 0:00:00\n",
      "Requirement already satisfied: scipy in c:\\users\\prerana\\anaconda3\\lib\\site-packages (from hyperopt) (1.8.1)\n",
      "Requirement already satisfied: cloudpickle in c:\\users\\prerana\\anaconda3\\lib\\site-packages (from hyperopt) (2.1.0)\n",
      "Requirement already satisfied: networkx>=2.2 in c:\\users\\prerana\\anaconda3\\lib\\site-packages (from hyperopt) (2.8.4)\n",
      "Requirement already satisfied: six in c:\\users\\prerana\\anaconda3\\lib\\site-packages (from hyperopt) (1.16.0)\n",
      "Requirement already satisfied: colorama in c:\\users\\prerana\\anaconda3\\lib\\site-packages (from tqdm->hyperopt) (0.4.5)\n",
      "Installing collected packages: py4j, hyperopt\n",
      "Successfully installed hyperopt-0.2.7 py4j-0.10.9.7\n"
     ]
    }
   ],
   "source": [
    "pip install hyperopt"
   ]
  },
  {
   "cell_type": "code",
   "execution_count": 4,
   "id": "9f7542a4",
   "metadata": {},
   "outputs": [
    {
     "name": "stdout",
     "output_type": "stream",
     "text": [
      "Name: hyperopt\n",
      "Version: 0.2.7\n",
      "Summary: Distributed Asynchronous Hyperparameter Optimization\n",
      "Home-page: https://hyperopt.github.io/hyperopt\n",
      "Author: James Bergstra\n",
      "Author-email: james.bergstra@gmail.com\n",
      "License: BSD\n",
      "Location: c:\\users\\prerana\\anaconda3\\lib\\site-packages\n",
      "Requires: cloudpickle, future, networkx, numpy, py4j, scipy, six, tqdm\n",
      "Required-by: \n",
      "Note: you may need to restart the kernel to use updated packages.\n"
     ]
    }
   ],
   "source": [
    "pip show hyperopt"
   ]
  },
  {
   "cell_type": "code",
   "execution_count": 5,
   "id": "395bb81d",
   "metadata": {},
   "outputs": [
    {
     "name": "stdout",
     "output_type": "stream",
     "text": [
      "Collecting hpsklearn\n",
      "  Downloading hpsklearn-0.1.0.tar.gz (26 kB)\n",
      "  Preparing metadata (setup.py): started\n",
      "  Preparing metadata (setup.py): finished with status 'done'\n",
      "Requirement already satisfied: hyperopt in c:\\users\\prerana\\anaconda3\\lib\\site-packages (from hpsklearn) (0.2.7)\n",
      "Requirement already satisfied: nose in c:\\users\\prerana\\anaconda3\\lib\\site-packages (from hpsklearn) (1.3.7)\n",
      "Requirement already satisfied: numpy in c:\\users\\prerana\\anaconda3\\lib\\site-packages (from hpsklearn) (1.22.4)\n",
      "Requirement already satisfied: scikit-learn in c:\\users\\prerana\\anaconda3\\lib\\site-packages (from hpsklearn) (1.1.1)\n",
      "Requirement already satisfied: scipy in c:\\users\\prerana\\anaconda3\\lib\\site-packages (from hpsklearn) (1.8.1)\n",
      "Requirement already satisfied: tqdm in c:\\users\\prerana\\anaconda3\\lib\\site-packages (from hyperopt->hpsklearn) (4.64.0)\n",
      "Requirement already satisfied: cloudpickle in c:\\users\\prerana\\anaconda3\\lib\\site-packages (from hyperopt->hpsklearn) (2.1.0)\n",
      "Requirement already satisfied: future in c:\\users\\prerana\\anaconda3\\lib\\site-packages (from hyperopt->hpsklearn) (0.18.2)\n",
      "Requirement already satisfied: py4j in c:\\users\\prerana\\anaconda3\\lib\\site-packages (from hyperopt->hpsklearn) (0.10.9.7)\n",
      "Requirement already satisfied: six in c:\\users\\prerana\\anaconda3\\lib\\site-packages (from hyperopt->hpsklearn) (1.16.0)\n",
      "Requirement already satisfied: networkx>=2.2 in c:\\users\\prerana\\anaconda3\\lib\\site-packages (from hyperopt->hpsklearn) (2.8.4)\n",
      "Requirement already satisfied: threadpoolctl>=2.0.0 in c:\\users\\prerana\\anaconda3\\lib\\site-packages (from scikit-learn->hpsklearn) (3.1.0)\n",
      "Requirement already satisfied: joblib>=1.0.0 in c:\\users\\prerana\\anaconda3\\lib\\site-packages (from scikit-learn->hpsklearn) (1.2.0)\n",
      "Requirement already satisfied: colorama in c:\\users\\prerana\\anaconda3\\lib\\site-packages (from tqdm->hyperopt->hpsklearn) (0.4.5)\n",
      "Building wheels for collected packages: hpsklearn\n",
      "  Building wheel for hpsklearn (setup.py): started\n",
      "  Building wheel for hpsklearn (setup.py): finished with status 'done'\n",
      "  Created wheel for hpsklearn: filename=hpsklearn-0.1.0-py3-none-any.whl size=23915 sha256=a0349db1c8494328401d80fbcdb5d72d263cd53bb952f7344346b2c544312e9b\n",
      "  Stored in directory: c:\\users\\prerana\\appdata\\local\\pip\\cache\\wheels\\82\\e9\\9b\\6c00474de5e4835503f5d3e228d52662ce7859cfced5d96509\n",
      "Successfully built hpsklearn\n",
      "Installing collected packages: hpsklearn\n",
      "Successfully installed hpsklearn-0.1.0\n",
      "Note: you may need to restart the kernel to use updated packages.\n"
     ]
    }
   ],
   "source": [
    "pip install hpsklearn"
   ]
  },
  {
   "cell_type": "code",
   "execution_count": null,
   "id": "9c6395e9",
   "metadata": {},
   "outputs": [],
   "source": []
  }
 ],
 "metadata": {
  "kernelspec": {
   "display_name": "Python 3 (ipykernel)",
   "language": "python",
   "name": "python3"
  },
  "language_info": {
   "codemirror_mode": {
    "name": "ipython",
    "version": 3
   },
   "file_extension": ".py",
   "mimetype": "text/x-python",
   "name": "python",
   "nbconvert_exporter": "python",
   "pygments_lexer": "ipython3",
   "version": "3.9.7"
  }
 },
 "nbformat": 4,
 "nbformat_minor": 5
}
