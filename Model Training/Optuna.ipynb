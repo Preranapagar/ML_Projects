{
 "cells": [
  {
   "cell_type": "markdown",
   "id": "e574f454",
   "metadata": {},
   "source": [
    "## <span style='color:purple '> Hyperparameter Tunning Using Optuna </span>"
   ]
  },
  {
   "cell_type": "markdown",
   "id": "32a87c25",
   "metadata": {},
   "source": [
    "• Uses Baysian Optimization Technique\n",
    "\n",
    "• Bayesian optimization technique overview\n",
    "\n",
    "\t1. Build a surrogate probability model of the objective function\n",
    "\t2. Find the hyperparameter that performs best on surrogate\n",
    "\t3. Appy these hyperparameters to the true objective function\n",
    "\t4. Update the surrogate model incorporating the new results\n",
    "\t5. Repeat step 2-4 until max iterations or time is reached\n"
   ]
  },
  {
   "cell_type": "code",
   "execution_count": null,
   "id": "8fa3e60f",
   "metadata": {},
   "outputs": [],
   "source": []
  }
 ],
 "metadata": {
  "kernelspec": {
   "display_name": "Python 3 (ipykernel)",
   "language": "python",
   "name": "python3"
  },
  "language_info": {
   "codemirror_mode": {
    "name": "ipython",
    "version": 3
   },
   "file_extension": ".py",
   "mimetype": "text/x-python",
   "name": "python",
   "nbconvert_exporter": "python",
   "pygments_lexer": "ipython3",
   "version": "3.9.7"
  }
 },
 "nbformat": 4,
 "nbformat_minor": 5
}
