{
 "cells": [
  {
   "cell_type": "markdown",
   "id": "458d7201",
   "metadata": {},
   "source": [
    "#### Assignment Title: Data Analytics for Haqdarshak's YojanaCard - Understanding Demographic Needs"
   ]
  },
  {
   "cell_type": "markdown",
   "id": "7d6e4065",
   "metadata": {},
   "source": [
    "#### Objective: The objective of this assignment is to analyse secondary data related to bank offerings and income/expenditure of a specific demographic group. This analysis will help Haqdarshak in designing the YojanaCard and adding specific offerings that align with the needs of this demographic."
   ]
  },
  {
   "cell_type": "markdown",
   "id": "e582ce75",
   "metadata": {},
   "source": [
    "### <span style='color:purple'> Required Libraries </span>"
   ]
  },
  {
   "cell_type": "code",
   "execution_count": 1,
   "id": "8d097d37",
   "metadata": {},
   "outputs": [],
   "source": [
    "import pandas as pd\n",
    "import numpy as np\n",
    "import matplotlib.pyplot as plt\n",
    "import seaborn as sns\n"
   ]
  },
  {
   "cell_type": "markdown",
   "id": "4767c6a9",
   "metadata": {},
   "source": [
    "# 1<span style='color:purple'>|</span> Data Collection and Preprocessing"
   ]
  },
  {
   "cell_type": "code",
   "execution_count": 2,
   "id": "5ee72795",
   "metadata": {
    "scrolled": true
   },
   "outputs": [
    {
     "name": "stdout",
     "output_type": "stream",
     "text": [
      "Bank survey responses data shape : (100, 45)\n",
      "Demography primary data shape : (1350, 40)\n",
      "Income expenditure demography data shape : (1080, 14)\n"
     ]
    }
   ],
   "source": [
    "bank_survey = pd.read_csv('Bank Survey Responses.csv')\n",
    "demography_data = pd.read_csv('DemographyPrimaryData.csv')\n",
    "ie_demography = pd.read_csv('Income expenditure demography.csv')\n",
    "\n",
    "#How big data is\n",
    "print(\"Bank survey responses data shape :\", bank_survey.shape)\n",
    "print(\"Demography primary data shape :\", demography_data.shape)\n",
    "print(\"Income expenditure demography data shape :\", ie_demography.shape)"
   ]
  },
  {
   "cell_type": "markdown",
   "id": "cd6d0015",
   "metadata": {},
   "source": [
    "<div class=\"alert alert-block alert-info\" style=\"font-size:14px; font-family:verdana; line-height: 1.7em;\">\n",
    "    📌 &nbsp;<b>How does the data look like?</b><br>\n",
    "</div>"
   ]
  },
  {
   "cell_type": "markdown",
   "id": "cb4f2aef",
   "metadata": {},
   "source": [
    "* Bank Survey Responses"
   ]
  },
  {
   "cell_type": "code",
   "execution_count": 3,
   "id": "7f58bfe5",
   "metadata": {},
   "outputs": [
    {
     "data": {
      "text/html": [
       "<div>\n",
       "<style scoped>\n",
       "    .dataframe tbody tr th:only-of-type {\n",
       "        vertical-align: middle;\n",
       "    }\n",
       "\n",
       "    .dataframe tbody tr th {\n",
       "        vertical-align: top;\n",
       "    }\n",
       "\n",
       "    .dataframe thead th {\n",
       "        text-align: right;\n",
       "    }\n",
       "</style>\n",
       "<table border=\"1\" class=\"dataframe\">\n",
       "  <thead>\n",
       "    <tr style=\"text-align: right;\">\n",
       "      <th></th>\n",
       "      <th>Time</th>\n",
       "      <th>Gender</th>\n",
       "      <th>Education</th>\n",
       "      <th>Location</th>\n",
       "      <th>Profession</th>\n",
       "      <th>Monthly Income</th>\n",
       "      <th>Do you have bank account</th>\n",
       "      <th>which of the following bank are you using?</th>\n",
       "      <th>Status of usage</th>\n",
       "      <th>Which attributes of the bank you like the most? [Quality of service]</th>\n",
       "      <th>...</th>\n",
       "      <th>security [protection of banking transaction]</th>\n",
       "      <th>security [privacy/confidentiality of the bank]</th>\n",
       "      <th>security [care in collection of personal information]</th>\n",
       "      <th>customer service [customer friendly environment in bank]</th>\n",
       "      <th>customer service [customer feedback service]</th>\n",
       "      <th>customer service [special service for elders and disabled]</th>\n",
       "      <th>customer service [Are you satisfied with service of the bank ]</th>\n",
       "      <th>At what level your satisfaction with the following services quality dimension? [Location of bank]</th>\n",
       "      <th>At what level your satisfaction with the following services quality dimension? [sufficient number of ATM machines]</th>\n",
       "      <th>At what level your satisfaction with the following services quality dimension? [Employees approach in solving problems]</th>\n",
       "    </tr>\n",
       "  </thead>\n",
       "  <tbody>\n",
       "    <tr>\n",
       "      <th>0</th>\n",
       "      <td>04-07-2019 15:17</td>\n",
       "      <td>male</td>\n",
       "      <td>Illiterate</td>\n",
       "      <td>Bangalore</td>\n",
       "      <td>Plumber</td>\n",
       "      <td>2</td>\n",
       "      <td>yes</td>\n",
       "      <td>SBI</td>\n",
       "      <td>1-5 years</td>\n",
       "      <td>2</td>\n",
       "      <td>...</td>\n",
       "      <td>3</td>\n",
       "      <td>4</td>\n",
       "      <td>4</td>\n",
       "      <td>5</td>\n",
       "      <td>5</td>\n",
       "      <td>5</td>\n",
       "      <td>3</td>\n",
       "      <td>0</td>\n",
       "      <td>0</td>\n",
       "      <td>0</td>\n",
       "    </tr>\n",
       "    <tr>\n",
       "      <th>1</th>\n",
       "      <td>04-07-2019 15:26</td>\n",
       "      <td>Female</td>\n",
       "      <td>Primary</td>\n",
       "      <td>Kochi</td>\n",
       "      <td>Lawyer</td>\n",
       "      <td>2</td>\n",
       "      <td>yes</td>\n",
       "      <td>BOB</td>\n",
       "      <td>5-10 years</td>\n",
       "      <td>2</td>\n",
       "      <td>...</td>\n",
       "      <td>2</td>\n",
       "      <td>2</td>\n",
       "      <td>4</td>\n",
       "      <td>4</td>\n",
       "      <td>4</td>\n",
       "      <td>4</td>\n",
       "      <td>2</td>\n",
       "      <td>4</td>\n",
       "      <td>1</td>\n",
       "      <td>5</td>\n",
       "    </tr>\n",
       "    <tr>\n",
       "      <th>2</th>\n",
       "      <td>4/7/2019 15.45.23</td>\n",
       "      <td>male</td>\n",
       "      <td>Post graduation</td>\n",
       "      <td>Kolkata</td>\n",
       "      <td>Production Engineer</td>\n",
       "      <td>0</td>\n",
       "      <td>yes</td>\n",
       "      <td>SBI</td>\n",
       "      <td>1-5 years</td>\n",
       "      <td>2</td>\n",
       "      <td>...</td>\n",
       "      <td>2</td>\n",
       "      <td>2</td>\n",
       "      <td>2</td>\n",
       "      <td>3</td>\n",
       "      <td>4</td>\n",
       "      <td>4</td>\n",
       "      <td>3</td>\n",
       "      <td>2</td>\n",
       "      <td>3</td>\n",
       "      <td>5</td>\n",
       "    </tr>\n",
       "    <tr>\n",
       "      <th>3</th>\n",
       "      <td>04-07-2019 16:00</td>\n",
       "      <td>male</td>\n",
       "      <td>Graduation</td>\n",
       "      <td>Kolkata</td>\n",
       "      <td>Business</td>\n",
       "      <td>0</td>\n",
       "      <td>yes</td>\n",
       "      <td>BOB</td>\n",
       "      <td>1-5 years</td>\n",
       "      <td>2</td>\n",
       "      <td>...</td>\n",
       "      <td>2</td>\n",
       "      <td>2</td>\n",
       "      <td>2</td>\n",
       "      <td>2</td>\n",
       "      <td>3</td>\n",
       "      <td>4</td>\n",
       "      <td>2</td>\n",
       "      <td>1</td>\n",
       "      <td>2</td>\n",
       "      <td>2</td>\n",
       "    </tr>\n",
       "    <tr>\n",
       "      <th>4</th>\n",
       "      <td>04-07-2019 16:08</td>\n",
       "      <td>male</td>\n",
       "      <td>Graduation</td>\n",
       "      <td>Bangalore</td>\n",
       "      <td>Mechanic</td>\n",
       "      <td>2</td>\n",
       "      <td>yes</td>\n",
       "      <td>SBI</td>\n",
       "      <td>5-10 years</td>\n",
       "      <td>4</td>\n",
       "      <td>...</td>\n",
       "      <td>3</td>\n",
       "      <td>3</td>\n",
       "      <td>3</td>\n",
       "      <td>3</td>\n",
       "      <td>3</td>\n",
       "      <td>3</td>\n",
       "      <td>3</td>\n",
       "      <td>3</td>\n",
       "      <td>3</td>\n",
       "      <td>3</td>\n",
       "    </tr>\n",
       "  </tbody>\n",
       "</table>\n",
       "<p>5 rows × 45 columns</p>\n",
       "</div>"
      ],
      "text/plain": [
       "                 Time  Gender        Education   Location  \\\n",
       "0    04-07-2019 15:17    male       Illiterate  Bangalore   \n",
       "1    04-07-2019 15:26  Female          Primary      Kochi   \n",
       "2   4/7/2019 15.45.23    male  Post graduation    Kolkata   \n",
       "3    04-07-2019 16:00    male       Graduation    Kolkata   \n",
       "4    04-07-2019 16:08    male       Graduation  Bangalore   \n",
       "\n",
       "            Profession  Monthly Income Do you have bank account  \\\n",
       "0              Plumber               2                      yes   \n",
       "1               Lawyer               2                      yes   \n",
       "2  Production Engineer               0                      yes   \n",
       "3             Business               0                      yes   \n",
       "4             Mechanic               2                      yes   \n",
       "\n",
       "  which of the following bank are you using? Status of usage  \\\n",
       "0                                        SBI       1-5 years   \n",
       "1                                        BOB      5-10 years   \n",
       "2                                        SBI       1-5 years   \n",
       "3                                        BOB       1-5 years   \n",
       "4                                        SBI      5-10 years   \n",
       "\n",
       "   Which attributes of the bank you like the most? [Quality of service]  ...  \\\n",
       "0                                                  2                     ...   \n",
       "1                                                  2                     ...   \n",
       "2                                                  2                     ...   \n",
       "3                                                  2                     ...   \n",
       "4                                                  4                     ...   \n",
       "\n",
       "   security [protection of banking transaction]  \\\n",
       "0                                             3   \n",
       "1                                             2   \n",
       "2                                             2   \n",
       "3                                             2   \n",
       "4                                             3   \n",
       "\n",
       "   security [privacy/confidentiality of the bank]  \\\n",
       "0                                               4   \n",
       "1                                               2   \n",
       "2                                               2   \n",
       "3                                               2   \n",
       "4                                               3   \n",
       "\n",
       "   security [care in collection of personal information]  \\\n",
       "0                                                  4       \n",
       "1                                                  4       \n",
       "2                                                  2       \n",
       "3                                                  2       \n",
       "4                                                  3       \n",
       "\n",
       "  customer service [customer friendly environment in bank]  \\\n",
       "0                                                  5         \n",
       "1                                                  4         \n",
       "2                                                  3         \n",
       "3                                                  2         \n",
       "4                                                  3         \n",
       "\n",
       "  customer service [customer feedback service]  \\\n",
       "0                                            5   \n",
       "1                                            4   \n",
       "2                                            4   \n",
       "3                                            3   \n",
       "4                                            3   \n",
       "\n",
       "   customer service [special service for elders and disabled]  \\\n",
       "0                                                  5            \n",
       "1                                                  4            \n",
       "2                                                  4            \n",
       "3                                                  4            \n",
       "4                                                  3            \n",
       "\n",
       "   customer service [Are you satisfied with service of the bank ]  \\\n",
       "0                                                  3                \n",
       "1                                                  2                \n",
       "2                                                  3                \n",
       "3                                                  2                \n",
       "4                                                  3                \n",
       "\n",
       "   At what level your satisfaction with the following services quality dimension? [Location of bank]  \\\n",
       "0                                                  0                                                   \n",
       "1                                                  4                                                   \n",
       "2                                                  2                                                   \n",
       "3                                                  1                                                   \n",
       "4                                                  3                                                   \n",
       "\n",
       "   At what level your satisfaction with the following services quality dimension? [sufficient number of ATM machines]  \\\n",
       "0                                                  0                                                                    \n",
       "1                                                  1                                                                    \n",
       "2                                                  3                                                                    \n",
       "3                                                  2                                                                    \n",
       "4                                                  3                                                                    \n",
       "\n",
       "   At what level your satisfaction with the following services quality dimension? [Employees approach in solving problems]  \n",
       "0                                                  0                                                                        \n",
       "1                                                  5                                                                        \n",
       "2                                                  5                                                                        \n",
       "3                                                  2                                                                        \n",
       "4                                                  3                                                                        \n",
       "\n",
       "[5 rows x 45 columns]"
      ]
     },
     "execution_count": 3,
     "metadata": {},
     "output_type": "execute_result"
    }
   ],
   "source": [
    "bank_survey.head()"
   ]
  },
  {
   "cell_type": "code",
   "execution_count": 4,
   "id": "41696597",
   "metadata": {},
   "outputs": [
    {
     "data": {
      "text/html": [
       "<div>\n",
       "<style scoped>\n",
       "    .dataframe tbody tr th:only-of-type {\n",
       "        vertical-align: middle;\n",
       "    }\n",
       "\n",
       "    .dataframe tbody tr th {\n",
       "        vertical-align: top;\n",
       "    }\n",
       "\n",
       "    .dataframe thead th {\n",
       "        text-align: right;\n",
       "    }\n",
       "</style>\n",
       "<table border=\"1\" class=\"dataframe\">\n",
       "  <thead>\n",
       "    <tr style=\"text-align: right;\">\n",
       "      <th></th>\n",
       "      <th>Time</th>\n",
       "      <th>Gender</th>\n",
       "      <th>Education</th>\n",
       "      <th>Location</th>\n",
       "      <th>Profession</th>\n",
       "      <th>Monthly Income</th>\n",
       "      <th>Do you have bank account</th>\n",
       "      <th>which of the following bank are you using?</th>\n",
       "      <th>Status of usage</th>\n",
       "      <th>Which attributes of the bank you like the most? [Quality of service]</th>\n",
       "      <th>...</th>\n",
       "      <th>security [protection of banking transaction]</th>\n",
       "      <th>security [privacy/confidentiality of the bank]</th>\n",
       "      <th>security [care in collection of personal information]</th>\n",
       "      <th>customer service [customer friendly environment in bank]</th>\n",
       "      <th>customer service [customer feedback service]</th>\n",
       "      <th>customer service [special service for elders and disabled]</th>\n",
       "      <th>customer service [Are you satisfied with service of the bank ]</th>\n",
       "      <th>At what level your satisfaction with the following services quality dimension? [Location of bank]</th>\n",
       "      <th>At what level your satisfaction with the following services quality dimension? [sufficient number of ATM machines]</th>\n",
       "      <th>At what level your satisfaction with the following services quality dimension? [Employees approach in solving problems]</th>\n",
       "    </tr>\n",
       "  </thead>\n",
       "  <tbody>\n",
       "    <tr>\n",
       "      <th>73</th>\n",
       "      <td>4/19/2019 19:30:50</td>\n",
       "      <td>Female</td>\n",
       "      <td>Secondary</td>\n",
       "      <td>Bangalore</td>\n",
       "      <td>Civil Engineer</td>\n",
       "      <td>3</td>\n",
       "      <td>yes</td>\n",
       "      <td>SBI</td>\n",
       "      <td>1-5 years</td>\n",
       "      <td>2</td>\n",
       "      <td>...</td>\n",
       "      <td>2</td>\n",
       "      <td>3</td>\n",
       "      <td>2</td>\n",
       "      <td>2</td>\n",
       "      <td>3</td>\n",
       "      <td>2</td>\n",
       "      <td>3</td>\n",
       "      <td>2</td>\n",
       "      <td>3</td>\n",
       "      <td>2</td>\n",
       "    </tr>\n",
       "  </tbody>\n",
       "</table>\n",
       "<p>1 rows × 45 columns</p>\n",
       "</div>"
      ],
      "text/plain": [
       "                  Time  Gender  Education   Location      Profession  \\\n",
       "73  4/19/2019 19:30:50  Female  Secondary  Bangalore  Civil Engineer   \n",
       "\n",
       "    Monthly Income Do you have bank account  \\\n",
       "73               3                      yes   \n",
       "\n",
       "   which of the following bank are you using? Status of usage  \\\n",
       "73                                        SBI       1-5 years   \n",
       "\n",
       "    Which attributes of the bank you like the most? [Quality of service]  ...  \\\n",
       "73                                                  2                     ...   \n",
       "\n",
       "    security [protection of banking transaction]  \\\n",
       "73                                             2   \n",
       "\n",
       "    security [privacy/confidentiality of the bank]  \\\n",
       "73                                               3   \n",
       "\n",
       "    security [care in collection of personal information]  \\\n",
       "73                                                  2       \n",
       "\n",
       "   customer service [customer friendly environment in bank]  \\\n",
       "73                                                  2         \n",
       "\n",
       "   customer service [customer feedback service]  \\\n",
       "73                                            3   \n",
       "\n",
       "    customer service [special service for elders and disabled]  \\\n",
       "73                                                  2            \n",
       "\n",
       "    customer service [Are you satisfied with service of the bank ]  \\\n",
       "73                                                  3                \n",
       "\n",
       "    At what level your satisfaction with the following services quality dimension? [Location of bank]  \\\n",
       "73                                                  2                                                   \n",
       "\n",
       "    At what level your satisfaction with the following services quality dimension? [sufficient number of ATM machines]  \\\n",
       "73                                                  3                                                                    \n",
       "\n",
       "    At what level your satisfaction with the following services quality dimension? [Employees approach in solving problems]  \n",
       "73                                                  2                                                                        \n",
       "\n",
       "[1 rows x 45 columns]"
      ]
     },
     "execution_count": 4,
     "metadata": {},
     "output_type": "execute_result"
    }
   ],
   "source": [
    "bank_survey.sample()"
   ]
  },
  {
   "cell_type": "markdown",
   "id": "7ff622af",
   "metadata": {},
   "source": [
    "* Demography primary data"
   ]
  },
  {
   "cell_type": "code",
   "execution_count": 5,
   "id": "703f5ed9",
   "metadata": {},
   "outputs": [
    {
     "data": {
      "text/html": [
       "<div>\n",
       "<style scoped>\n",
       "    .dataframe tbody tr th:only-of-type {\n",
       "        vertical-align: middle;\n",
       "    }\n",
       "\n",
       "    .dataframe tbody tr th {\n",
       "        vertical-align: top;\n",
       "    }\n",
       "\n",
       "    .dataframe thead th {\n",
       "        text-align: right;\n",
       "    }\n",
       "</style>\n",
       "<table border=\"1\" class=\"dataframe\">\n",
       "  <thead>\n",
       "    <tr style=\"text-align: right;\">\n",
       "      <th></th>\n",
       "      <th>First Name</th>\n",
       "      <th>Last Name</th>\n",
       "      <th>Gender</th>\n",
       "      <th>Age</th>\n",
       "      <th>Phone</th>\n",
       "      <th>Education</th>\n",
       "      <th>Occupation</th>\n",
       "      <th>Marital Status</th>\n",
       "      <th>Number of Children</th>\n",
       "      <th>Address</th>\n",
       "      <th>...</th>\n",
       "      <th>YojanaCardInsurance</th>\n",
       "      <th>YojanaCardUnmetNeedsHealthExpenses</th>\n",
       "      <th>YojanaCardUnmetNeedsChildrensEducation</th>\n",
       "      <th>YojanaCardUnmetNeedsMarriageSupport</th>\n",
       "      <th>YojanaCardUnmetNeedsBusinessSupport</th>\n",
       "      <th>YojanaCardUnmetNeedsNone</th>\n",
       "      <th>YojanaCardUnmetNeedsOther</th>\n",
       "      <th>YojanaCardInterestInPayingForYojanaCard</th>\n",
       "      <th>YojanaCardPriceComfortableToAvailYojanaCard</th>\n",
       "      <th>YojanaCardAcceptanceOfFreeYojanaCard</th>\n",
       "    </tr>\n",
       "  </thead>\n",
       "  <tbody>\n",
       "    <tr>\n",
       "      <th>0</th>\n",
       "      <td>Cadie</td>\n",
       "      <td>Scott</td>\n",
       "      <td>Female</td>\n",
       "      <td>24</td>\n",
       "      <td>787-6371-18</td>\n",
       "      <td>Primary</td>\n",
       "      <td>Business</td>\n",
       "      <td>Single</td>\n",
       "      <td>2</td>\n",
       "      <td>Kochi</td>\n",
       "      <td>...</td>\n",
       "      <td>0</td>\n",
       "      <td>1</td>\n",
       "      <td>0</td>\n",
       "      <td>0</td>\n",
       "      <td>0</td>\n",
       "      <td>1</td>\n",
       "      <td>1</td>\n",
       "      <td>1</td>\n",
       "      <td>1</td>\n",
       "      <td>0</td>\n",
       "    </tr>\n",
       "    <tr>\n",
       "      <th>1</th>\n",
       "      <td>Sophia</td>\n",
       "      <td>Johnson</td>\n",
       "      <td>Female</td>\n",
       "      <td>23</td>\n",
       "      <td>541-7651-79</td>\n",
       "      <td>Illiterate</td>\n",
       "      <td>Teaching faculty</td>\n",
       "      <td>Married</td>\n",
       "      <td>1</td>\n",
       "      <td>Mumbai</td>\n",
       "      <td>...</td>\n",
       "      <td>1</td>\n",
       "      <td>1</td>\n",
       "      <td>1</td>\n",
       "      <td>1</td>\n",
       "      <td>1</td>\n",
       "      <td>1</td>\n",
       "      <td>1</td>\n",
       "      <td>1</td>\n",
       "      <td>0</td>\n",
       "      <td>1</td>\n",
       "    </tr>\n",
       "    <tr>\n",
       "      <th>2</th>\n",
       "      <td>Lyndon</td>\n",
       "      <td>Scott</td>\n",
       "      <td>Male</td>\n",
       "      <td>20</td>\n",
       "      <td>268-3140-69</td>\n",
       "      <td>Secondary</td>\n",
       "      <td>Pharmacist</td>\n",
       "      <td>Married</td>\n",
       "      <td>3</td>\n",
       "      <td>Patna</td>\n",
       "      <td>...</td>\n",
       "      <td>0</td>\n",
       "      <td>1</td>\n",
       "      <td>0</td>\n",
       "      <td>0</td>\n",
       "      <td>1</td>\n",
       "      <td>0</td>\n",
       "      <td>1</td>\n",
       "      <td>1</td>\n",
       "      <td>0</td>\n",
       "      <td>1</td>\n",
       "    </tr>\n",
       "    <tr>\n",
       "      <th>3</th>\n",
       "      <td>Isabella</td>\n",
       "      <td>Phillips</td>\n",
       "      <td>Female</td>\n",
       "      <td>18</td>\n",
       "      <td>837-4334-04</td>\n",
       "      <td>Senior Secondary</td>\n",
       "      <td>Civil Engineer</td>\n",
       "      <td>Married</td>\n",
       "      <td>2</td>\n",
       "      <td>Kochi</td>\n",
       "      <td>...</td>\n",
       "      <td>0</td>\n",
       "      <td>0</td>\n",
       "      <td>1</td>\n",
       "      <td>0</td>\n",
       "      <td>0</td>\n",
       "      <td>0</td>\n",
       "      <td>0</td>\n",
       "      <td>1</td>\n",
       "      <td>0</td>\n",
       "      <td>1</td>\n",
       "    </tr>\n",
       "    <tr>\n",
       "      <th>4</th>\n",
       "      <td>Ryan</td>\n",
       "      <td>Miller</td>\n",
       "      <td>Male</td>\n",
       "      <td>26</td>\n",
       "      <td>304-2544-67</td>\n",
       "      <td>Primary</td>\n",
       "      <td>Doctor</td>\n",
       "      <td>Single</td>\n",
       "      <td>2</td>\n",
       "      <td>Patna</td>\n",
       "      <td>...</td>\n",
       "      <td>0</td>\n",
       "      <td>1</td>\n",
       "      <td>0</td>\n",
       "      <td>0</td>\n",
       "      <td>0</td>\n",
       "      <td>1</td>\n",
       "      <td>1</td>\n",
       "      <td>1</td>\n",
       "      <td>1</td>\n",
       "      <td>0</td>\n",
       "    </tr>\n",
       "  </tbody>\n",
       "</table>\n",
       "<p>5 rows × 40 columns</p>\n",
       "</div>"
      ],
      "text/plain": [
       "  First Name Last Name  Gender  Age        Phone         Education  \\\n",
       "0      Cadie     Scott  Female   24  787-6371-18           Primary   \n",
       "1     Sophia   Johnson  Female   23  541-7651-79        Illiterate   \n",
       "2     Lyndon     Scott    Male   20  268-3140-69         Secondary   \n",
       "3   Isabella  Phillips  Female   18  837-4334-04  Senior Secondary   \n",
       "4       Ryan    Miller    Male   26  304-2544-67           Primary   \n",
       "\n",
       "         Occupation Marital Status  Number of Children Address  ...  \\\n",
       "0          Business         Single                   2   Kochi  ...   \n",
       "1  Teaching faculty        Married                   1  Mumbai  ...   \n",
       "2        Pharmacist        Married                   3   Patna  ...   \n",
       "3    Civil Engineer        Married                   2   Kochi  ...   \n",
       "4            Doctor         Single                   2   Patna  ...   \n",
       "\n",
       "  YojanaCardInsurance  YojanaCardUnmetNeedsHealthExpenses  \\\n",
       "0                   0                                   1   \n",
       "1                   1                                   1   \n",
       "2                   0                                   1   \n",
       "3                   0                                   0   \n",
       "4                   0                                   1   \n",
       "\n",
       "   YojanaCardUnmetNeedsChildrensEducation  \\\n",
       "0                                       0   \n",
       "1                                       1   \n",
       "2                                       0   \n",
       "3                                       1   \n",
       "4                                       0   \n",
       "\n",
       "   YojanaCardUnmetNeedsMarriageSupport  YojanaCardUnmetNeedsBusinessSupport  \\\n",
       "0                                    0                                    0   \n",
       "1                                    1                                    1   \n",
       "2                                    0                                    1   \n",
       "3                                    0                                    0   \n",
       "4                                    0                                    0   \n",
       "\n",
       "   YojanaCardUnmetNeedsNone  YojanaCardUnmetNeedsOther  \\\n",
       "0                         1                          1   \n",
       "1                         1                          1   \n",
       "2                         0                          1   \n",
       "3                         0                          0   \n",
       "4                         1                          1   \n",
       "\n",
       "   YojanaCardInterestInPayingForYojanaCard  \\\n",
       "0                                        1   \n",
       "1                                        1   \n",
       "2                                        1   \n",
       "3                                        1   \n",
       "4                                        1   \n",
       "\n",
       "   YojanaCardPriceComfortableToAvailYojanaCard  \\\n",
       "0                                            1   \n",
       "1                                            0   \n",
       "2                                            0   \n",
       "3                                            0   \n",
       "4                                            1   \n",
       "\n",
       "   YojanaCardAcceptanceOfFreeYojanaCard  \n",
       "0                                     0  \n",
       "1                                     1  \n",
       "2                                     1  \n",
       "3                                     1  \n",
       "4                                     0  \n",
       "\n",
       "[5 rows x 40 columns]"
      ]
     },
     "execution_count": 5,
     "metadata": {},
     "output_type": "execute_result"
    }
   ],
   "source": [
    "demography_data.head()"
   ]
  },
  {
   "cell_type": "code",
   "execution_count": 6,
   "id": "3138a9e3",
   "metadata": {},
   "outputs": [
    {
     "data": {
      "text/html": [
       "<div>\n",
       "<style scoped>\n",
       "    .dataframe tbody tr th:only-of-type {\n",
       "        vertical-align: middle;\n",
       "    }\n",
       "\n",
       "    .dataframe tbody tr th {\n",
       "        vertical-align: top;\n",
       "    }\n",
       "\n",
       "    .dataframe thead th {\n",
       "        text-align: right;\n",
       "    }\n",
       "</style>\n",
       "<table border=\"1\" class=\"dataframe\">\n",
       "  <thead>\n",
       "    <tr style=\"text-align: right;\">\n",
       "      <th></th>\n",
       "      <th>First Name</th>\n",
       "      <th>Last Name</th>\n",
       "      <th>Gender</th>\n",
       "      <th>Age</th>\n",
       "      <th>Phone</th>\n",
       "      <th>Education</th>\n",
       "      <th>Occupation</th>\n",
       "      <th>Marital Status</th>\n",
       "      <th>Number of Children</th>\n",
       "      <th>Address</th>\n",
       "      <th>...</th>\n",
       "      <th>YojanaCardInsurance</th>\n",
       "      <th>YojanaCardUnmetNeedsHealthExpenses</th>\n",
       "      <th>YojanaCardUnmetNeedsChildrensEducation</th>\n",
       "      <th>YojanaCardUnmetNeedsMarriageSupport</th>\n",
       "      <th>YojanaCardUnmetNeedsBusinessSupport</th>\n",
       "      <th>YojanaCardUnmetNeedsNone</th>\n",
       "      <th>YojanaCardUnmetNeedsOther</th>\n",
       "      <th>YojanaCardInterestInPayingForYojanaCard</th>\n",
       "      <th>YojanaCardPriceComfortableToAvailYojanaCard</th>\n",
       "      <th>YojanaCardAcceptanceOfFreeYojanaCard</th>\n",
       "    </tr>\n",
       "  </thead>\n",
       "  <tbody>\n",
       "    <tr>\n",
       "      <th>861</th>\n",
       "      <td>Garry</td>\n",
       "      <td>Carter</td>\n",
       "      <td>Male</td>\n",
       "      <td>79</td>\n",
       "      <td>691-4450-23</td>\n",
       "      <td>Secondary</td>\n",
       "      <td>Accountant</td>\n",
       "      <td>Single</td>\n",
       "      <td>4</td>\n",
       "      <td>Delhi</td>\n",
       "      <td>...</td>\n",
       "      <td>0</td>\n",
       "      <td>0</td>\n",
       "      <td>1</td>\n",
       "      <td>0</td>\n",
       "      <td>1</td>\n",
       "      <td>1</td>\n",
       "      <td>0</td>\n",
       "      <td>1</td>\n",
       "      <td>1</td>\n",
       "      <td>1</td>\n",
       "    </tr>\n",
       "  </tbody>\n",
       "</table>\n",
       "<p>1 rows × 40 columns</p>\n",
       "</div>"
      ],
      "text/plain": [
       "    First Name Last Name Gender  Age        Phone  Education  Occupation  \\\n",
       "861      Garry    Carter   Male   79  691-4450-23  Secondary  Accountant   \n",
       "\n",
       "    Marital Status  Number of Children Address  ... YojanaCardInsurance  \\\n",
       "861         Single                   4   Delhi  ...                   0   \n",
       "\n",
       "     YojanaCardUnmetNeedsHealthExpenses  \\\n",
       "861                                   0   \n",
       "\n",
       "     YojanaCardUnmetNeedsChildrensEducation  \\\n",
       "861                                       1   \n",
       "\n",
       "     YojanaCardUnmetNeedsMarriageSupport  YojanaCardUnmetNeedsBusinessSupport  \\\n",
       "861                                    0                                    1   \n",
       "\n",
       "     YojanaCardUnmetNeedsNone  YojanaCardUnmetNeedsOther  \\\n",
       "861                         1                          0   \n",
       "\n",
       "     YojanaCardInterestInPayingForYojanaCard  \\\n",
       "861                                        1   \n",
       "\n",
       "     YojanaCardPriceComfortableToAvailYojanaCard  \\\n",
       "861                                            1   \n",
       "\n",
       "     YojanaCardAcceptanceOfFreeYojanaCard  \n",
       "861                                     1  \n",
       "\n",
       "[1 rows x 40 columns]"
      ]
     },
     "execution_count": 6,
     "metadata": {},
     "output_type": "execute_result"
    }
   ],
   "source": [
    "demography_data.sample()"
   ]
  },
  {
   "cell_type": "markdown",
   "id": "9b7a0753",
   "metadata": {},
   "source": [
    "* income expenditure demography"
   ]
  },
  {
   "cell_type": "code",
   "execution_count": 7,
   "id": "c708c869",
   "metadata": {},
   "outputs": [
    {
     "data": {
      "text/html": [
       "<div>\n",
       "<style scoped>\n",
       "    .dataframe tbody tr th:only-of-type {\n",
       "        vertical-align: middle;\n",
       "    }\n",
       "\n",
       "    .dataframe tbody tr th {\n",
       "        vertical-align: top;\n",
       "    }\n",
       "\n",
       "    .dataframe thead th {\n",
       "        text-align: right;\n",
       "    }\n",
       "</style>\n",
       "<table border=\"1\" class=\"dataframe\">\n",
       "  <thead>\n",
       "    <tr style=\"text-align: right;\">\n",
       "      <th></th>\n",
       "      <th>Gender</th>\n",
       "      <th>Age</th>\n",
       "      <th>Education</th>\n",
       "      <th>City</th>\n",
       "      <th>Job_Title</th>\n",
       "      <th>Income</th>\n",
       "      <th>Housing</th>\n",
       "      <th>Groceries</th>\n",
       "      <th>Leisure</th>\n",
       "      <th>Entertainment</th>\n",
       "      <th>Transportation</th>\n",
       "      <th>Insurance</th>\n",
       "      <th>Medical</th>\n",
       "      <th>Utilities</th>\n",
       "    </tr>\n",
       "  </thead>\n",
       "  <tbody>\n",
       "    <tr>\n",
       "      <th>0</th>\n",
       "      <td>F</td>\n",
       "      <td>48</td>\n",
       "      <td>Post graduation</td>\n",
       "      <td>Kochi</td>\n",
       "      <td>Production Engineer</td>\n",
       "      <td>35675</td>\n",
       "      <td>15472</td>\n",
       "      <td>3251</td>\n",
       "      <td>2200</td>\n",
       "      <td>1102</td>\n",
       "      <td>3500</td>\n",
       "      <td>849</td>\n",
       "      <td>839</td>\n",
       "      <td>4394</td>\n",
       "    </tr>\n",
       "    <tr>\n",
       "      <th>1</th>\n",
       "      <td>F</td>\n",
       "      <td>18</td>\n",
       "      <td>Graduation</td>\n",
       "      <td>Mumbai</td>\n",
       "      <td>Accountant</td>\n",
       "      <td>45627</td>\n",
       "      <td>20308</td>\n",
       "      <td>1946</td>\n",
       "      <td>6561</td>\n",
       "      <td>1389</td>\n",
       "      <td>4299</td>\n",
       "      <td>1150</td>\n",
       "      <td>974</td>\n",
       "      <td>4804</td>\n",
       "    </tr>\n",
       "    <tr>\n",
       "      <th>2</th>\n",
       "      <td>M</td>\n",
       "      <td>25</td>\n",
       "      <td>Graduation</td>\n",
       "      <td>Patna</td>\n",
       "      <td>Plumber</td>\n",
       "      <td>25155</td>\n",
       "      <td>9343</td>\n",
       "      <td>1520</td>\n",
       "      <td>3434</td>\n",
       "      <td>1154</td>\n",
       "      <td>3604</td>\n",
       "      <td>889</td>\n",
       "      <td>826</td>\n",
       "      <td>4046</td>\n",
       "    </tr>\n",
       "    <tr>\n",
       "      <th>3</th>\n",
       "      <td>M</td>\n",
       "      <td>21</td>\n",
       "      <td>Graduation</td>\n",
       "      <td>Kochi</td>\n",
       "      <td>Doctor</td>\n",
       "      <td>68599</td>\n",
       "      <td>22536</td>\n",
       "      <td>4151</td>\n",
       "      <td>2182</td>\n",
       "      <td>2251</td>\n",
       "      <td>3086</td>\n",
       "      <td>604</td>\n",
       "      <td>752</td>\n",
       "      <td>3272</td>\n",
       "    </tr>\n",
       "    <tr>\n",
       "      <th>4</th>\n",
       "      <td>M</td>\n",
       "      <td>40</td>\n",
       "      <td>Primary</td>\n",
       "      <td>Patna</td>\n",
       "      <td>Data Analyst</td>\n",
       "      <td>65827</td>\n",
       "      <td>22669</td>\n",
       "      <td>1379</td>\n",
       "      <td>4468</td>\n",
       "      <td>1285</td>\n",
       "      <td>3947</td>\n",
       "      <td>986</td>\n",
       "      <td>1131</td>\n",
       "      <td>4170</td>\n",
       "    </tr>\n",
       "  </tbody>\n",
       "</table>\n",
       "</div>"
      ],
      "text/plain": [
       "  Gender  Age        Education    City            Job_Title  Income  Housing  \\\n",
       "0      F   48  Post graduation   Kochi  Production Engineer   35675    15472   \n",
       "1      F   18       Graduation  Mumbai           Accountant   45627    20308   \n",
       "2      M   25       Graduation   Patna              Plumber   25155     9343   \n",
       "3      M   21       Graduation   Kochi               Doctor   68599    22536   \n",
       "4      M   40          Primary   Patna         Data Analyst   65827    22669   \n",
       "\n",
       "   Groceries  Leisure  Entertainment  Transportation  Insurance  Medical  \\\n",
       "0       3251     2200           1102            3500        849      839   \n",
       "1       1946     6561           1389            4299       1150      974   \n",
       "2       1520     3434           1154            3604        889      826   \n",
       "3       4151     2182           2251            3086        604      752   \n",
       "4       1379     4468           1285            3947        986     1131   \n",
       "\n",
       "   Utilities  \n",
       "0       4394  \n",
       "1       4804  \n",
       "2       4046  \n",
       "3       3272  \n",
       "4       4170  "
      ]
     },
     "execution_count": 7,
     "metadata": {},
     "output_type": "execute_result"
    }
   ],
   "source": [
    "ie_demography.head()"
   ]
  },
  {
   "cell_type": "code",
   "execution_count": 8,
   "id": "03cfb208",
   "metadata": {},
   "outputs": [
    {
     "data": {
      "text/html": [
       "<div>\n",
       "<style scoped>\n",
       "    .dataframe tbody tr th:only-of-type {\n",
       "        vertical-align: middle;\n",
       "    }\n",
       "\n",
       "    .dataframe tbody tr th {\n",
       "        vertical-align: top;\n",
       "    }\n",
       "\n",
       "    .dataframe thead th {\n",
       "        text-align: right;\n",
       "    }\n",
       "</style>\n",
       "<table border=\"1\" class=\"dataframe\">\n",
       "  <thead>\n",
       "    <tr style=\"text-align: right;\">\n",
       "      <th></th>\n",
       "      <th>Gender</th>\n",
       "      <th>Age</th>\n",
       "      <th>Education</th>\n",
       "      <th>City</th>\n",
       "      <th>Job_Title</th>\n",
       "      <th>Income</th>\n",
       "      <th>Housing</th>\n",
       "      <th>Groceries</th>\n",
       "      <th>Leisure</th>\n",
       "      <th>Entertainment</th>\n",
       "      <th>Transportation</th>\n",
       "      <th>Insurance</th>\n",
       "      <th>Medical</th>\n",
       "      <th>Utilities</th>\n",
       "    </tr>\n",
       "  </thead>\n",
       "  <tbody>\n",
       "    <tr>\n",
       "      <th>673</th>\n",
       "      <td>F</td>\n",
       "      <td>47</td>\n",
       "      <td>Primary</td>\n",
       "      <td>Kolkata</td>\n",
       "      <td>Civil Engineer</td>\n",
       "      <td>33148</td>\n",
       "      <td>17833</td>\n",
       "      <td>4026</td>\n",
       "      <td>1648</td>\n",
       "      <td>1860</td>\n",
       "      <td>2101</td>\n",
       "      <td>932</td>\n",
       "      <td>1324</td>\n",
       "      <td>2698</td>\n",
       "    </tr>\n",
       "  </tbody>\n",
       "</table>\n",
       "</div>"
      ],
      "text/plain": [
       "    Gender  Age Education     City       Job_Title  Income  Housing  \\\n",
       "673      F   47   Primary  Kolkata  Civil Engineer   33148    17833   \n",
       "\n",
       "     Groceries  Leisure  Entertainment  Transportation  Insurance  Medical  \\\n",
       "673       4026     1648           1860            2101        932     1324   \n",
       "\n",
       "     Utilities  \n",
       "673       2698  "
      ]
     },
     "execution_count": 8,
     "metadata": {},
     "output_type": "execute_result"
    }
   ],
   "source": [
    "ie_demography.sample()"
   ]
  },
  {
   "cell_type": "markdown",
   "id": "25436001",
   "metadata": {},
   "source": [
    "<div style=\"border-radius:10px; border:#DEB887 solid; padding: 15px; background-color: #FFFAF0; font-size:100%; text-align:left\">\n",
    "<h3 align=\"left\"><font color='#DEB887'>💡 Observations:</font></h3>\n",
    "\n",
    "The feature names in the bank survey dataset and demography primary dataset lack readability and ease of accessibility. Therefore, we are undertaking an initiative to modify and enhance them for improved clarity and accessibility."
   ]
  },
  {
   "cell_type": "code",
   "execution_count": 9,
   "id": "4d21a2e0",
   "metadata": {},
   "outputs": [
    {
     "data": {
      "text/plain": [
       "Index(['Time', 'Gender', 'Education', 'Location', 'Profession',\n",
       "       'Monthly Income', 'Do you have bank account',\n",
       "       'which of the following bank are you using?', 'Status of usage',\n",
       "       'Which attributes of the bank you like the most? [Quality of service]',\n",
       "       'Which attributes of the bank you like the most? [technology used]',\n",
       "       'Which attributes of the bank you like the most? [Trust]',\n",
       "       'Which attributes of the bank you like the most? [Location]',\n",
       "       'Which factor promotes you to use the new techniques in bank?(Tick all if applicable)',\n",
       "       'Which banking facilities are you using currently?(Tick all that are applicable to you)',\n",
       "       'How frequently do you use the following banking service per month? [Branch banking]',\n",
       "       'How frequently do you use the following banking service per month? [ATM]',\n",
       "       'How frequently do you use the following banking service per month? [Internet banking ]',\n",
       "       'How frequently do you use the following banking service per month? [Mobile banking]',\n",
       "       'Satisfaction on Technology usage-ATM services [Delivery of cards]',\n",
       "       'Satisfaction on Technology usage-ATM services [Number of Transactions ]',\n",
       "       'Satisfaction on Technology usage-ATM services [Quality of notes(currency)]',\n",
       "       'Satisfaction on Technology usage-ATM services [Location of ATM]',\n",
       "       'Internet Banking services [Account information and balance inquiry]',\n",
       "       'Internet Banking services [Account to Account transfer]',\n",
       "       'Internet Banking services [E-payment]',\n",
       "       'Internet Banking services [Due installment inquiry]',\n",
       "       'Problem of technology usage: ATM Problem [card get blocked]',\n",
       "       'Problem of technology usage: ATM Problem [Machine out of cash]',\n",
       "       'Problem of technology usage: ATM Problem [Non printing of status]',\n",
       "       'Problem of technology usage: ATM Problem [Machine out of order]',\n",
       "       'Problem of technology usage: ATM Problem [Long waiting in queue ]',\n",
       "       'Problem of technology usage: ATM Problem [Reduction of balance without cash]',\n",
       "       'security [security of ATMs]',\n",
       "       'security [online filling of insurance/income-tax/etc]',\n",
       "       'security [protection of banking transaction]',\n",
       "       'security [privacy/confidentiality of the bank]',\n",
       "       'security [care in collection of personal information]',\n",
       "       'customer service [customer friendly environment in bank]',\n",
       "       'customer service [customer feedback service]',\n",
       "       'customer service [special service for elders and disabled]',\n",
       "       'customer service [Are you satisfied with service of the bank ]',\n",
       "       'At what level your satisfaction with the following services quality dimension? [Location of bank]',\n",
       "       'At what level your satisfaction with the following services quality dimension? [sufficient number of ATM machines]',\n",
       "       'At what level your satisfaction with the following services quality dimension? [Employees approach in solving problems]'],\n",
       "      dtype='object')"
      ]
     },
     "execution_count": 9,
     "metadata": {},
     "output_type": "execute_result"
    }
   ],
   "source": [
    "bank_survey.columns"
   ]
  },
  {
   "cell_type": "code",
   "execution_count": 10,
   "id": "f9265f9c",
   "metadata": {},
   "outputs": [],
   "source": [
    "#change column name for better redeability\n",
    "feature_shortnames = {\n",
    "    'Time': 'Time',\n",
    "    'Gender': 'Gender',\n",
    "    'Education': 'Education',\n",
    "    'Location': 'Location',\n",
    "    'Profession': 'Profession',\n",
    "    'Monthly Income': 'Income',\n",
    "    'Do you have bank account': 'HasBankAccount',\n",
    "    'which of the following bank are you using?': 'BankUsed',\n",
    "    'Status of usage': 'UsageStatus',\n",
    "    'Which attributes of the bank you like the most? [Quality of service]': 'QualityOfService',\n",
    "    'Which attributes of the bank you like the most? [technology used]': 'TechnologyUsed',\n",
    "    'Which attributes of the bank you like the most? [Trust]': 'Trust',\n",
    "    'Which attributes of the bank you like the most? [Location]': 'LocationPreference',\n",
    "    'Which factor promotes you to use the new techniques in bank?(Tick all if applicable)': 'TechAdoptionFactors',\n",
    "    'Which banking facilities are you using currently?(Tick all that are applicable to you)': 'UsedBankingFacilities',\n",
    "    'How frequently do you use the following banking service per month? [Branch banking]': 'FrequencyBranch',\n",
    "    'How frequently do you use the following banking service per month? [ATM]': 'FrequencyATM',\n",
    "    'How frequently do you use the following banking service per month? [Internet banking ]': 'FrequencyInternet',\n",
    "    'How frequently do you use the following banking service per month? [Mobile banking]': 'FrequencyMobile',\n",
    "    'Satisfaction on Technology usage-ATM services [Delivery of cards]': 'ATM_Satisfaction_Delivery',\n",
    "    'Satisfaction on Technology usage-ATM services [Number of Transactions ]': 'ATM_Satisfaction_Transactions',\n",
    "    'Satisfaction on Technology usage-ATM services [Quality of notes(currency)]': 'ATM_Satisfaction_Notes',\n",
    "    'Satisfaction on Technology usage-ATM services [Location of ATM]': 'ATM_Satisfaction_Location',\n",
    "    'Internet Banking services [Account information and balance inquiry]': 'InternetBanking_InfoBalance',\n",
    "    'Internet Banking services [Account to Account transfer]': 'InternetBanking_Transfer',\n",
    "    'Internet Banking services [E-payment]': 'InternetBanking_EPayment',\n",
    "    'Internet Banking services [Due installment inquiry]': 'InternetBanking_InstallmentInquiry',\n",
    "    'Problem of technology usage: ATM Problem [card get blocked]': 'ATM_Problem_CardBlocked',\n",
    "    'Problem of technology usage: ATM Problem [Machine out of cash]': 'ATM_Problem_OutOfCash',\n",
    "    'Problem of technology usage: ATM Problem [Non printing of status]': 'ATM_Problem_NoPrinting',\n",
    "    'Problem of technology usage: ATM Problem [Machine out of order]': 'ATM_Problem_OutOfOrder',\n",
    "    'Problem of technology usage: ATM Problem [Long waiting in queue ]': 'ATM_Problem_LongQueue',\n",
    "    'Problem of technology usage: ATM Problem [Reduction of balance without cash]': 'ATM_Problem_BalanceReduction',\n",
    "    'security [security of ATMs]': 'Security_ATM',\n",
    "    'security [online filling of insurance/income-tax/etc]': 'Security_OnlineFilling',\n",
    "    'security [protection of banking transaction]': 'Security_BankingTransaction',\n",
    "    'security [privacy/confidentiality of the bank]': 'Security_Privacy',\n",
    "    'security [care in collection of personal information]': 'Security_PersonalInfo',\n",
    "    'customer service [customer friendly environment in bank]': 'CustomerService_FriendlyEnvironment',\n",
    "    'customer service [customer feedback service]': 'CustomerService_Feedback',\n",
    "    'customer service [special service for elders and disabled]': 'CustomerService_SpecialServices',\n",
    "    'customer service [Are you satisfied with service of the bank ]': 'CustomerService_Satisfaction',\n",
    "    'At what level your satisfaction with the following services quality dimension? [Location of bank]': 'Satisfaction_Location',\n",
    "    'At what level your satisfaction with the following services quality dimension? [sufficient number of ATM machines]': 'Satisfaction_ATMCount',\n",
    "    'At what level your satisfaction with the following services quality dimension? [Employees approach in solving problems]': 'Satisfaction_EmployeesApproach'\n",
    "}\n",
    "\n",
    "bank_survey.rename(columns=feature_shortnames, inplace=True)"
   ]
  },
  {
   "cell_type": "code",
   "execution_count": 11,
   "id": "2ba7a3f1",
   "metadata": {},
   "outputs": [
    {
     "data": {
      "text/html": [
       "<div>\n",
       "<style scoped>\n",
       "    .dataframe tbody tr th:only-of-type {\n",
       "        vertical-align: middle;\n",
       "    }\n",
       "\n",
       "    .dataframe tbody tr th {\n",
       "        vertical-align: top;\n",
       "    }\n",
       "\n",
       "    .dataframe thead th {\n",
       "        text-align: right;\n",
       "    }\n",
       "</style>\n",
       "<table border=\"1\" class=\"dataframe\">\n",
       "  <thead>\n",
       "    <tr style=\"text-align: right;\">\n",
       "      <th></th>\n",
       "      <th>Time</th>\n",
       "      <th>Gender</th>\n",
       "      <th>Education</th>\n",
       "      <th>Location</th>\n",
       "      <th>Profession</th>\n",
       "      <th>Income</th>\n",
       "      <th>HasBankAccount</th>\n",
       "      <th>BankUsed</th>\n",
       "      <th>UsageStatus</th>\n",
       "      <th>QualityOfService</th>\n",
       "      <th>...</th>\n",
       "      <th>Security_BankingTransaction</th>\n",
       "      <th>Security_Privacy</th>\n",
       "      <th>Security_PersonalInfo</th>\n",
       "      <th>CustomerService_FriendlyEnvironment</th>\n",
       "      <th>CustomerService_Feedback</th>\n",
       "      <th>CustomerService_SpecialServices</th>\n",
       "      <th>CustomerService_Satisfaction</th>\n",
       "      <th>Satisfaction_Location</th>\n",
       "      <th>Satisfaction_ATMCount</th>\n",
       "      <th>Satisfaction_EmployeesApproach</th>\n",
       "    </tr>\n",
       "  </thead>\n",
       "  <tbody>\n",
       "    <tr>\n",
       "      <th>0</th>\n",
       "      <td>04-07-2019 15:17</td>\n",
       "      <td>male</td>\n",
       "      <td>Illiterate</td>\n",
       "      <td>Bangalore</td>\n",
       "      <td>Plumber</td>\n",
       "      <td>2</td>\n",
       "      <td>yes</td>\n",
       "      <td>SBI</td>\n",
       "      <td>1-5 years</td>\n",
       "      <td>2</td>\n",
       "      <td>...</td>\n",
       "      <td>3</td>\n",
       "      <td>4</td>\n",
       "      <td>4</td>\n",
       "      <td>5</td>\n",
       "      <td>5</td>\n",
       "      <td>5</td>\n",
       "      <td>3</td>\n",
       "      <td>0</td>\n",
       "      <td>0</td>\n",
       "      <td>0</td>\n",
       "    </tr>\n",
       "    <tr>\n",
       "      <th>1</th>\n",
       "      <td>04-07-2019 15:26</td>\n",
       "      <td>Female</td>\n",
       "      <td>Primary</td>\n",
       "      <td>Kochi</td>\n",
       "      <td>Lawyer</td>\n",
       "      <td>2</td>\n",
       "      <td>yes</td>\n",
       "      <td>BOB</td>\n",
       "      <td>5-10 years</td>\n",
       "      <td>2</td>\n",
       "      <td>...</td>\n",
       "      <td>2</td>\n",
       "      <td>2</td>\n",
       "      <td>4</td>\n",
       "      <td>4</td>\n",
       "      <td>4</td>\n",
       "      <td>4</td>\n",
       "      <td>2</td>\n",
       "      <td>4</td>\n",
       "      <td>1</td>\n",
       "      <td>5</td>\n",
       "    </tr>\n",
       "  </tbody>\n",
       "</table>\n",
       "<p>2 rows × 45 columns</p>\n",
       "</div>"
      ],
      "text/plain": [
       "               Time  Gender   Education   Location Profession  Income  \\\n",
       "0  04-07-2019 15:17    male  Illiterate  Bangalore    Plumber       2   \n",
       "1  04-07-2019 15:26  Female     Primary      Kochi     Lawyer       2   \n",
       "\n",
       "  HasBankAccount BankUsed UsageStatus  QualityOfService  ...  \\\n",
       "0            yes      SBI   1-5 years                 2  ...   \n",
       "1            yes      BOB  5-10 years                 2  ...   \n",
       "\n",
       "   Security_BankingTransaction  Security_Privacy  Security_PersonalInfo  \\\n",
       "0                            3                 4                      4   \n",
       "1                            2                 2                      4   \n",
       "\n",
       "  CustomerService_FriendlyEnvironment CustomerService_Feedback  \\\n",
       "0                                   5                        5   \n",
       "1                                   4                        4   \n",
       "\n",
       "   CustomerService_SpecialServices  CustomerService_Satisfaction  \\\n",
       "0                                5                             3   \n",
       "1                                4                             2   \n",
       "\n",
       "   Satisfaction_Location  Satisfaction_ATMCount  \\\n",
       "0                      0                      0   \n",
       "1                      4                      1   \n",
       "\n",
       "   Satisfaction_EmployeesApproach  \n",
       "0                               0  \n",
       "1                               5  \n",
       "\n",
       "[2 rows x 45 columns]"
      ]
     },
     "execution_count": 11,
     "metadata": {},
     "output_type": "execute_result"
    }
   ],
   "source": [
    "bank_survey.head(2)"
   ]
  },
  {
   "cell_type": "code",
   "execution_count": 12,
   "id": "202f7e19",
   "metadata": {},
   "outputs": [
    {
     "data": {
      "text/plain": [
       "Index(['First Name', 'Last Name', 'Gender', 'Age', 'Phone', 'Education',\n",
       "       'Occupation', 'Marital Status', 'Number of Children', 'Address',\n",
       "       'Caste', 'YojanaCardBenefits', 'YojanaCardBenefitsBankAccountLinked',\n",
       "       'YojanaCardBenefitsUniqueQRCode',\n",
       "       'YojanaCardBenefitsBookServiceWithHaqdarshaks',\n",
       "       'YojanaCardBenefitsSchemeApplicationSupport',\n",
       "       'YojanaCardBenefitsDigiLockerAccount',\n",
       "       'YojanaCardBenefitsOffersCashbacks',\n",
       "       'YojanaCardInterestedInYojanaCardStatus',\n",
       "       'YojanaCardFeatureBenefitInformation',\n",
       "       'YojanaCardFeatureBenefitSubsidySchemeInfo',\n",
       "       'YojanaCardFeatureBenefitAccessToBankingServices',\n",
       "       'YojanaCardFeatureBenefitYojanaKendra',\n",
       "       'YojanaCardFeatureBenefitHQHelpline',\n",
       "       'YojanaCardFeatureBenefitAssistedHQService',\n",
       "       'YojanaCardFeatureBenefitDigilocker',\n",
       "       'YojanaCardFeatureBenefitCashbackOffers',\n",
       "       'YojanaCardFeatureBenefitBankAccountInfo',\n",
       "       'YojanaCardFeatureBenefitOtherStatus', 'YojanaCardLoanInterestStatus',\n",
       "       'YojanaCardInsurance', 'YojanaCardUnmetNeedsHealthExpenses',\n",
       "       'YojanaCardUnmetNeedsChildrensEducation',\n",
       "       'YojanaCardUnmetNeedsMarriageSupport',\n",
       "       'YojanaCardUnmetNeedsBusinessSupport', 'YojanaCardUnmetNeedsNone',\n",
       "       'YojanaCardUnmetNeedsOther', 'YojanaCardInterestInPayingForYojanaCard',\n",
       "       'YojanaCardPriceComfortableToAvailYojanaCard',\n",
       "       'YojanaCardAcceptanceOfFreeYojanaCard'],\n",
       "      dtype='object')"
      ]
     },
     "execution_count": 12,
     "metadata": {},
     "output_type": "execute_result"
    }
   ],
   "source": [
    "demography_data.columns"
   ]
  },
  {
   "cell_type": "code",
   "execution_count": 13,
   "id": "5859a61b",
   "metadata": {},
   "outputs": [],
   "source": [
    "feature_shortnames2 = {\n",
    "    'First Name': 'FName',\n",
    "    'Last Name': 'LName',\n",
    "    'Gender': 'Gender',\n",
    "    'Age': 'Age',\n",
    "    'Phone': 'Phone',\n",
    "    'Education': 'Edu',\n",
    "    'Occupation': 'Occupation',\n",
    "    'Marital Status': 'MaritalStatus',\n",
    "    'Number of Children': 'NumChildren',\n",
    "    'Address': 'Address',\n",
    "    'Caste': 'Caste',\n",
    "    'YojanaCardBenefits': 'YCB',\n",
    "    'YojanaCardBenefitsBankAccountLinked': 'YCB_BankLinked',\n",
    "    'YojanaCardBenefitsUniqueQRCode': 'YCB_QRCode',\n",
    "    'YojanaCardBenefitsBookServiceWithHaqdarshaks': 'YCB_BookService',\n",
    "    'YojanaCardBenefitsSchemeApplicationSupport': 'YCB_SchemeSupport',\n",
    "    'YojanaCardBenefitsDigiLockerAccount': 'YCB_DigiLocker',\n",
    "    'YojanaCardBenefitsOffersCashbacks': 'YCB_Cashbacks',\n",
    "    'YojanaCardInterestedInYojanaCardStatus': 'YCB_InterestStatus',\n",
    "    'YojanaCardFeatureBenefitInformation': 'YCB_FeatureInfo',\n",
    "    'YojanaCardFeatureBenefitSubsidySchemeInfo': 'YCB_FeatureSubsidy',\n",
    "    'YojanaCardFeatureBenefitAccessToBankingServices': 'YCB_FeatureBankAccess',\n",
    "    'YojanaCardFeatureBenefitYojanaKendra': 'YCB_FeatureYojanaKendra',\n",
    "    'YojanaCardFeatureBenefitHQHelpline': 'YCB_FeatureHQHelpline',\n",
    "    'YojanaCardFeatureBenefitAssistedHQService': 'YCB_FeatureAssistedHQ',\n",
    "    'YojanaCardFeatureBenefitDigilocker': 'YCB_FeatureDigilocker',\n",
    "    'YojanaCardFeatureBenefitCashbackOffers': 'YCB_FeatureCashbacks',\n",
    "    'YojanaCardFeatureBenefitBankAccountInfo': 'YCB_FeatureBankInfo',\n",
    "    'YojanaCardFeatureBenefitOtherStatus': 'YCB_FeatureOtherStatus',\n",
    "    'YojanaCardLoanInterestStatus': 'YCB_LoanInterestStatus',\n",
    "    'YojanaCardInsurance': 'YCB_Insurance',\n",
    "    'YojanaCardUnmetNeedsHealthExpenses': 'YCB_UnmetHealth',\n",
    "    'YojanaCardUnmetNeedsChildrensEducation': 'YCB_UnmetEducation',\n",
    "    'YojanaCardUnmetNeedsMarriageSupport': 'YCB_UnmetMarriage',\n",
    "    'YojanaCardUnmetNeedsBusinessSupport': 'YCB_UnmetBusiness',\n",
    "    'YojanaCardUnmetNeedsNone': 'YCB_UnmetNone',\n",
    "    'YojanaCardUnmetNeedsOther': 'YCB_UnmetOther',\n",
    "    'YojanaCardInterestInPayingForYojanaCard': 'YCB_PayInterest',\n",
    "    'YojanaCardPriceComfortableToAvailYojanaCard': 'YCB_PriceComfort',\n",
    "    'YojanaCardAcceptanceOfFreeYojanaCard': 'YCB_AcceptFree'\n",
    "}\n",
    "demography_data.rename(columns=feature_shortnames2, inplace=True)"
   ]
  },
  {
   "cell_type": "code",
   "execution_count": 14,
   "id": "dafe29ac",
   "metadata": {},
   "outputs": [
    {
     "data": {
      "text/html": [
       "<div>\n",
       "<style scoped>\n",
       "    .dataframe tbody tr th:only-of-type {\n",
       "        vertical-align: middle;\n",
       "    }\n",
       "\n",
       "    .dataframe tbody tr th {\n",
       "        vertical-align: top;\n",
       "    }\n",
       "\n",
       "    .dataframe thead th {\n",
       "        text-align: right;\n",
       "    }\n",
       "</style>\n",
       "<table border=\"1\" class=\"dataframe\">\n",
       "  <thead>\n",
       "    <tr style=\"text-align: right;\">\n",
       "      <th></th>\n",
       "      <th>FName</th>\n",
       "      <th>LName</th>\n",
       "      <th>Gender</th>\n",
       "      <th>Age</th>\n",
       "      <th>Phone</th>\n",
       "      <th>Edu</th>\n",
       "      <th>Occupation</th>\n",
       "      <th>MaritalStatus</th>\n",
       "      <th>NumChildren</th>\n",
       "      <th>Address</th>\n",
       "      <th>...</th>\n",
       "      <th>YCB_Insurance</th>\n",
       "      <th>YCB_UnmetHealth</th>\n",
       "      <th>YCB_UnmetEducation</th>\n",
       "      <th>YCB_UnmetMarriage</th>\n",
       "      <th>YCB_UnmetBusiness</th>\n",
       "      <th>YCB_UnmetNone</th>\n",
       "      <th>YCB_UnmetOther</th>\n",
       "      <th>YCB_PayInterest</th>\n",
       "      <th>YCB_PriceComfort</th>\n",
       "      <th>YCB_AcceptFree</th>\n",
       "    </tr>\n",
       "  </thead>\n",
       "  <tbody>\n",
       "    <tr>\n",
       "      <th>0</th>\n",
       "      <td>Cadie</td>\n",
       "      <td>Scott</td>\n",
       "      <td>Female</td>\n",
       "      <td>24</td>\n",
       "      <td>787-6371-18</td>\n",
       "      <td>Primary</td>\n",
       "      <td>Business</td>\n",
       "      <td>Single</td>\n",
       "      <td>2</td>\n",
       "      <td>Kochi</td>\n",
       "      <td>...</td>\n",
       "      <td>0</td>\n",
       "      <td>1</td>\n",
       "      <td>0</td>\n",
       "      <td>0</td>\n",
       "      <td>0</td>\n",
       "      <td>1</td>\n",
       "      <td>1</td>\n",
       "      <td>1</td>\n",
       "      <td>1</td>\n",
       "      <td>0</td>\n",
       "    </tr>\n",
       "    <tr>\n",
       "      <th>1</th>\n",
       "      <td>Sophia</td>\n",
       "      <td>Johnson</td>\n",
       "      <td>Female</td>\n",
       "      <td>23</td>\n",
       "      <td>541-7651-79</td>\n",
       "      <td>Illiterate</td>\n",
       "      <td>Teaching faculty</td>\n",
       "      <td>Married</td>\n",
       "      <td>1</td>\n",
       "      <td>Mumbai</td>\n",
       "      <td>...</td>\n",
       "      <td>1</td>\n",
       "      <td>1</td>\n",
       "      <td>1</td>\n",
       "      <td>1</td>\n",
       "      <td>1</td>\n",
       "      <td>1</td>\n",
       "      <td>1</td>\n",
       "      <td>1</td>\n",
       "      <td>0</td>\n",
       "      <td>1</td>\n",
       "    </tr>\n",
       "  </tbody>\n",
       "</table>\n",
       "<p>2 rows × 40 columns</p>\n",
       "</div>"
      ],
      "text/plain": [
       "    FName    LName  Gender  Age        Phone         Edu        Occupation  \\\n",
       "0   Cadie    Scott  Female   24  787-6371-18     Primary          Business   \n",
       "1  Sophia  Johnson  Female   23  541-7651-79  Illiterate  Teaching faculty   \n",
       "\n",
       "  MaritalStatus  NumChildren Address  ... YCB_Insurance  YCB_UnmetHealth  \\\n",
       "0        Single            2   Kochi  ...             0                1   \n",
       "1       Married            1  Mumbai  ...             1                1   \n",
       "\n",
       "   YCB_UnmetEducation  YCB_UnmetMarriage  YCB_UnmetBusiness  YCB_UnmetNone  \\\n",
       "0                   0                  0                  0              1   \n",
       "1                   1                  1                  1              1   \n",
       "\n",
       "   YCB_UnmetOther  YCB_PayInterest  YCB_PriceComfort  YCB_AcceptFree  \n",
       "0               1                1                 1               0  \n",
       "1               1                1                 0               1  \n",
       "\n",
       "[2 rows x 40 columns]"
      ]
     },
     "execution_count": 14,
     "metadata": {},
     "output_type": "execute_result"
    }
   ],
   "source": [
    "demography_data.head(2)"
   ]
  },
  {
   "cell_type": "markdown",
   "id": "3d13351a",
   "metadata": {},
   "source": [
    "<div class=\"alert alert-block alert-info\" style=\"font-size:14px; font-family:verdana; line-height: 1.7em;\">\n",
    "    📌 &nbsp;<b>What is data type of columns?</b><br>\n",
    "</div>"
   ]
  },
  {
   "cell_type": "code",
   "execution_count": 15,
   "id": "b2d69550",
   "metadata": {},
   "outputs": [
    {
     "name": "stdout",
     "output_type": "stream",
     "text": [
      "<class 'pandas.core.frame.DataFrame'>\n",
      "RangeIndex: 100 entries, 0 to 99\n",
      "Data columns (total 45 columns):\n",
      " #   Column                               Non-Null Count  Dtype \n",
      "---  ------                               --------------  ----- \n",
      " 0   Time                                 100 non-null    object\n",
      " 1   Gender                               100 non-null    object\n",
      " 2   Education                            100 non-null    object\n",
      " 3   Location                             100 non-null    object\n",
      " 4   Profession                           100 non-null    object\n",
      " 5   Income                               100 non-null    int64 \n",
      " 6   HasBankAccount                       100 non-null    object\n",
      " 7   BankUsed                             92 non-null     object\n",
      " 8   UsageStatus                          100 non-null    object\n",
      " 9   QualityOfService                     100 non-null    int64 \n",
      " 10  TechnologyUsed                       100 non-null    int64 \n",
      " 11  Trust                                100 non-null    int64 \n",
      " 12  LocationPreference                   100 non-null    int64 \n",
      " 13  TechAdoptionFactors                  100 non-null    object\n",
      " 14  UsedBankingFacilities                100 non-null    object\n",
      " 15  FrequencyBranch                      100 non-null    int64 \n",
      " 16  FrequencyATM                         100 non-null    int64 \n",
      " 17  FrequencyInternet                    100 non-null    int64 \n",
      " 18  FrequencyMobile                      100 non-null    int64 \n",
      " 19  ATM_Satisfaction_Delivery            100 non-null    int64 \n",
      " 20  ATM_Satisfaction_Transactions        100 non-null    int64 \n",
      " 21  ATM_Satisfaction_Notes               100 non-null    int64 \n",
      " 22  ATM_Satisfaction_Location            100 non-null    int64 \n",
      " 23  InternetBanking_InfoBalance          100 non-null    int64 \n",
      " 24  InternetBanking_Transfer             100 non-null    int64 \n",
      " 25  InternetBanking_EPayment             100 non-null    int64 \n",
      " 26  InternetBanking_InstallmentInquiry   100 non-null    int64 \n",
      " 27  ATM_Problem_CardBlocked              100 non-null    int64 \n",
      " 28  ATM_Problem_OutOfCash                100 non-null    int64 \n",
      " 29  ATM_Problem_NoPrinting               100 non-null    int64 \n",
      " 30  ATM_Problem_OutOfOrder               100 non-null    int64 \n",
      " 31  ATM_Problem_LongQueue                100 non-null    int64 \n",
      " 32  ATM_Problem_BalanceReduction         100 non-null    int64 \n",
      " 33  Security_ATM                         100 non-null    int64 \n",
      " 34  Security_OnlineFilling               100 non-null    int64 \n",
      " 35  Security_BankingTransaction          100 non-null    int64 \n",
      " 36  Security_Privacy                     100 non-null    int64 \n",
      " 37  Security_PersonalInfo                100 non-null    int64 \n",
      " 38  CustomerService_FriendlyEnvironment  100 non-null    int64 \n",
      " 39  CustomerService_Feedback             100 non-null    int64 \n",
      " 40  CustomerService_SpecialServices      100 non-null    int64 \n",
      " 41  CustomerService_Satisfaction         100 non-null    int64 \n",
      " 42  Satisfaction_Location                100 non-null    int64 \n",
      " 43  Satisfaction_ATMCount                100 non-null    int64 \n",
      " 44  Satisfaction_EmployeesApproach       100 non-null    int64 \n",
      "dtypes: int64(35), object(10)\n",
      "memory usage: 35.3+ KB\n"
     ]
    }
   ],
   "source": [
    "bank_survey.info()"
   ]
  },
  {
   "cell_type": "code",
   "execution_count": 16,
   "id": "311878c2",
   "metadata": {},
   "outputs": [
    {
     "name": "stdout",
     "output_type": "stream",
     "text": [
      "<class 'pandas.core.frame.DataFrame'>\n",
      "RangeIndex: 1350 entries, 0 to 1349\n",
      "Data columns (total 40 columns):\n",
      " #   Column                   Non-Null Count  Dtype \n",
      "---  ------                   --------------  ----- \n",
      " 0   FName                    1350 non-null   object\n",
      " 1   LName                    1350 non-null   object\n",
      " 2   Gender                   1350 non-null   object\n",
      " 3   Age                      1350 non-null   int64 \n",
      " 4   Phone                    1350 non-null   object\n",
      " 5   Edu                      1350 non-null   object\n",
      " 6   Occupation               1350 non-null   object\n",
      " 7   MaritalStatus            1350 non-null   object\n",
      " 8   NumChildren              1350 non-null   int64 \n",
      " 9   Address                  1350 non-null   object\n",
      " 10  Caste                    1350 non-null   object\n",
      " 11  YCB                      1350 non-null   int64 \n",
      " 12  YCB_BankLinked           1350 non-null   int64 \n",
      " 13  YCB_QRCode               1350 non-null   int64 \n",
      " 14  YCB_BookService          1350 non-null   int64 \n",
      " 15  YCB_SchemeSupport        1350 non-null   int64 \n",
      " 16  YCB_DigiLocker           1350 non-null   int64 \n",
      " 17  YCB_Cashbacks            1350 non-null   int64 \n",
      " 18  YCB_InterestStatus       1350 non-null   int64 \n",
      " 19  YCB_FeatureInfo          1350 non-null   int64 \n",
      " 20  YCB_FeatureSubsidy       1350 non-null   int64 \n",
      " 21  YCB_FeatureBankAccess    1350 non-null   int64 \n",
      " 22  YCB_FeatureYojanaKendra  1350 non-null   int64 \n",
      " 23  YCB_FeatureHQHelpline    1350 non-null   int64 \n",
      " 24  YCB_FeatureAssistedHQ    1350 non-null   int64 \n",
      " 25  YCB_FeatureDigilocker    1350 non-null   int64 \n",
      " 26  YCB_FeatureCashbacks     1350 non-null   int64 \n",
      " 27  YCB_FeatureBankInfo      1350 non-null   int64 \n",
      " 28  YCB_FeatureOtherStatus   1350 non-null   int64 \n",
      " 29  YCB_LoanInterestStatus   1350 non-null   int64 \n",
      " 30  YCB_Insurance            1350 non-null   int64 \n",
      " 31  YCB_UnmetHealth          1350 non-null   int64 \n",
      " 32  YCB_UnmetEducation       1350 non-null   int64 \n",
      " 33  YCB_UnmetMarriage        1350 non-null   int64 \n",
      " 34  YCB_UnmetBusiness        1350 non-null   int64 \n",
      " 35  YCB_UnmetNone            1350 non-null   int64 \n",
      " 36  YCB_UnmetOther           1350 non-null   int64 \n",
      " 37  YCB_PayInterest          1350 non-null   int64 \n",
      " 38  YCB_PriceComfort         1350 non-null   int64 \n",
      " 39  YCB_AcceptFree           1350 non-null   int64 \n",
      "dtypes: int64(31), object(9)\n",
      "memory usage: 422.0+ KB\n"
     ]
    }
   ],
   "source": [
    "demography_data.info()"
   ]
  },
  {
   "cell_type": "code",
   "execution_count": 17,
   "id": "6e9e91fa",
   "metadata": {},
   "outputs": [
    {
     "name": "stdout",
     "output_type": "stream",
     "text": [
      "<class 'pandas.core.frame.DataFrame'>\n",
      "RangeIndex: 1080 entries, 0 to 1079\n",
      "Data columns (total 14 columns):\n",
      " #   Column          Non-Null Count  Dtype \n",
      "---  ------          --------------  ----- \n",
      " 0   Gender          1080 non-null   object\n",
      " 1   Age             1080 non-null   int64 \n",
      " 2   Education       1080 non-null   object\n",
      " 3   City            1080 non-null   object\n",
      " 4   Job_Title       1080 non-null   object\n",
      " 5   Income          1080 non-null   int64 \n",
      " 6   Housing         1080 non-null   int64 \n",
      " 7   Groceries       1080 non-null   int64 \n",
      " 8   Leisure         1080 non-null   int64 \n",
      " 9   Entertainment   1080 non-null   int64 \n",
      " 10  Transportation  1080 non-null   int64 \n",
      " 11  Insurance       1080 non-null   int64 \n",
      " 12  Medical         1080 non-null   int64 \n",
      " 13  Utilities       1080 non-null   int64 \n",
      "dtypes: int64(10), object(4)\n",
      "memory usage: 118.2+ KB\n"
     ]
    }
   ],
   "source": [
    "ie_demography.info()"
   ]
  },
  {
   "cell_type": "markdown",
   "id": "96d17d00",
   "metadata": {},
   "source": [
    "<div style=\"border-radius:10px; border:#DEB887 solid; padding: 15px; background-color: #FFFAF0; font-size:100%; text-align:left\">\n",
    "<h3 align=\"left\"><font color='#DEB887'>💡 Observations:</font></h3>\n",
    "    \n",
    "* Bank Survey Responses\n",
    "    \n",
    "    - Number of Variables : 45\n",
    "    - Categorical Variables : 38\n",
    "    - Numeric Variables : 6\n",
    "    - Boolean Variables : 1\n",
    "    \n",
    "    \n",
    "* Demography Primary Data\n",
    "    \n",
    "    - Number of Variables : 40\n",
    "    - Categorical Variables : 38\n",
    "    - Numeric Variables : 2\n",
    "    \n",
    "    \n",
    "* Income expenditure demography\n",
    "    \n",
    "    - Number of Variables : 14\n",
    "    - Categorical Variables : 4\n",
    "    - Numeric Variables : 10"
   ]
  },
  {
   "cell_type": "markdown",
   "id": "4091198b",
   "metadata": {},
   "source": [
    "<div class=\"alert alert-block alert-info\" style=\"font-size:14px; font-family:verdana; line-height: 1.7em;\">\n",
    "    📌 &nbsp;<b>Check & handle missing values</b><br>\n",
    "</div>"
   ]
  },
  {
   "cell_type": "code",
   "execution_count": 18,
   "id": "1c427bef",
   "metadata": {
    "scrolled": true
   },
   "outputs": [
    {
     "data": {
      "text/plain": [
       "BankUsed    8\n",
       "dtype: int64"
      ]
     },
     "execution_count": 18,
     "metadata": {},
     "output_type": "execute_result"
    }
   ],
   "source": [
    "missing_value = bank_survey.isnull().sum()\n",
    "missing_value[missing_value>0]"
   ]
  },
  {
   "cell_type": "markdown",
   "id": "f77fc51c",
   "metadata": {},
   "source": [
    "<div style=\"border-radius:10px; border:#DEB887 solid; padding: 15px; background-color: #FFFAF0; font-size:100%; text-align:left\">\n",
    "<h3 align=\"left\"><font color='#DEB887'>💡 Observations:</font></h3>\n",
    "    \n",
    "* Entries in the 'Bank Used' column containing the value 'Don't Know' will be treated as missing values (NaN).\n",
    "* Null values in the 'Bank Used' column will be filled using the mode, given that approximately 57% of individuals are users of the State Bank of India (SBI). The mode represents the most frequently occurring value and is chosen as a strategy for imputing missing values in this context."
   ]
  },
  {
   "cell_type": "code",
   "execution_count": 19,
   "id": "897c484e",
   "metadata": {},
   "outputs": [
    {
     "data": {
      "text/plain": [
       "array(['SBI', 'BOB', 'Both', 'Bank of India', 'Others', nan, \"Don't know\",\n",
       "       'Apna Bank', 'Icici', 'Hdfc'], dtype=object)"
      ]
     },
     "execution_count": 19,
     "metadata": {},
     "output_type": "execute_result"
    }
   ],
   "source": [
    "bank_survey['BankUsed'].unique()"
   ]
  },
  {
   "cell_type": "code",
   "execution_count": 20,
   "id": "0ff724e2",
   "metadata": {},
   "outputs": [
    {
     "data": {
      "text/plain": [
       "<AxesSubplot:xlabel='BankUsed', ylabel='count'>"
      ]
     },
     "execution_count": 20,
     "metadata": {},
     "output_type": "execute_result"
    },
    {
     "data": {
      "image/png": "[encoded data removed]",
      "text/plain": [
       "<Figure size 720x360 with 1 Axes>"
      ]
     },
     "metadata": {
      "needs_background": "light"
     },
     "output_type": "display_data"
    }
   ],
   "source": [
    "plt.figure(figsize=(10,5))\n",
    "sns.countplot(x=bank_survey['BankUsed'])"
   ]
  },
  {
   "cell_type": "code",
   "execution_count": 21,
   "id": "6e23b35b",
   "metadata": {},
   "outputs": [],
   "source": [
    "bank_survey['BankUsed'].replace({\"Don't know\":np.nan},inplace=True)"
   ]
  },
  {
   "cell_type": "code",
   "execution_count": 22,
   "id": "fb758229",
   "metadata": {},
   "outputs": [],
   "source": [
    "bank_survey['BankUsed'].fillna(bank_survey['BankUsed'].mode()[0],inplace=True)"
   ]
  },
  {
   "cell_type": "code",
   "execution_count": 23,
   "id": "bab5a9ff",
   "metadata": {},
   "outputs": [
    {
     "data": {
      "text/plain": [
       "Series([], dtype: int64)"
      ]
     },
     "execution_count": 23,
     "metadata": {},
     "output_type": "execute_result"
    }
   ],
   "source": [
    "#check for missing values in other datasets\n",
    "missing_demo = demography_data.isnull().sum()\n",
    "missing_demo[missing_demo>0]"
   ]
  },
  {
   "cell_type": "code",
   "execution_count": 24,
   "id": "fdb6d8e4",
   "metadata": {},
   "outputs": [
    {
     "data": {
      "text/plain": [
       "Series([], dtype: int64)"
      ]
     },
     "execution_count": 24,
     "metadata": {},
     "output_type": "execute_result"
    }
   ],
   "source": [
    "missing_ie = ie_demography.isnull().sum()\n",
    "missing_ie[missing_ie>0]"
   ]
  },
  {
   "cell_type": "markdown",
   "id": "51252641",
   "metadata": {},
   "source": [
    "<div style=\"border-radius:10px; border:#DEB887 solid; padding: 15px; background-color: #FFFAF0; font-size:100%; text-align:left\">\n",
    "Demography data and Income/Expenditure data has no missing values"
   ]
  },
  {
   "cell_type": "markdown",
   "id": "f63a6c94",
   "metadata": {},
   "source": [
    "<div class=\"alert alert-block alert-info\" style=\"font-size:14px; font-family:verdana; line-height: 1.7em;\">\n",
    "    📌 &nbsp;<b>Check duplicates</b><br>\n",
    "</div>"
   ]
  },
  {
   "cell_type": "code",
   "execution_count": 25,
   "id": "e7a88099",
   "metadata": {},
   "outputs": [
    {
     "data": {
      "text/plain": [
       "0"
      ]
     },
     "execution_count": 25,
     "metadata": {},
     "output_type": "execute_result"
    }
   ],
   "source": [
    "bank_survey.duplicated().sum()"
   ]
  },
  {
   "cell_type": "code",
   "execution_count": 26,
   "id": "7992c978",
   "metadata": {},
   "outputs": [
    {
     "data": {
      "text/plain": [
       "0"
      ]
     },
     "execution_count": 26,
     "metadata": {},
     "output_type": "execute_result"
    }
   ],
   "source": [
    "demography_data.duplicated().sum()"
   ]
  },
  {
   "cell_type": "code",
   "execution_count": 27,
   "id": "7c26e20a",
   "metadata": {},
   "outputs": [
    {
     "data": {
      "text/plain": [
       "0"
      ]
     },
     "execution_count": 27,
     "metadata": {},
     "output_type": "execute_result"
    }
   ],
   "source": [
    "ie_demography.duplicated().sum()"
   ]
  },
  {
   "cell_type": "code",
   "execution_count": 28,
   "id": "d83712bf",
   "metadata": {},
   "outputs": [],
   "source": [
    "bank_survey['Time'] = bank_survey['Time'].apply(lambda x: x.replace('.',':'))"
   ]
  },
  {
   "cell_type": "code",
   "execution_count": 29,
   "id": "f317c554",
   "metadata": {},
   "outputs": [],
   "source": [
    "bank_survey['Time'] = pd.to_datetime(bank_survey['Time'])"
   ]
  },
  {
   "cell_type": "code",
   "execution_count": 30,
   "id": "67c1101d",
   "metadata": {},
   "outputs": [
    {
     "data": {
      "text/plain": [
       "2019    100\n",
       "Name: Time, dtype: int64"
      ]
     },
     "execution_count": 30,
     "metadata": {},
     "output_type": "execute_result"
    }
   ],
   "source": [
    "bank_survey['Time'].dt.year.value_counts()"
   ]
  },
  {
   "cell_type": "code",
   "execution_count": 31,
   "id": "b3a0b5da",
   "metadata": {},
   "outputs": [
    {
     "data": {
      "text/plain": [
       "4    100\n",
       "Name: Time, dtype: int64"
      ]
     },
     "execution_count": 31,
     "metadata": {},
     "output_type": "execute_result"
    }
   ],
   "source": [
    "bank_survey['Time'].dt.month.value_counts()"
   ]
  },
  {
   "cell_type": "code",
   "execution_count": 32,
   "id": "088ac9fe",
   "metadata": {},
   "outputs": [],
   "source": [
    "bank_survey.drop('Time',axis=1,inplace=True)"
   ]
  },
  {
   "cell_type": "markdown",
   "id": "fc935155",
   "metadata": {},
   "source": [
    "<div style=\"border-radius:10px; border:#DEB887 solid; padding: 15px; background-color: #FFFAF0; font-size:100%; text-align:left\">\n",
    "\n",
    "In light of the survey being conducted in the 4th month of 2019 and considering that the time feature doesn't provide significant insights, it is proposed to drop the time-related feature from the dataset"
   ]
  },
  {
   "cell_type": "markdown",
   "id": "406b9be4",
   "metadata": {},
   "source": [
    "# 2<span style='color:purple'>|</span> Data Exploration"
   ]
  },
  {
   "cell_type": "markdown",
   "id": "303efae1",
   "metadata": {},
   "source": [
    "<div class=\"alert alert-block alert-info\" style=\"font-size:14px; font-family:verdana; line-height: 1.7em;\">\n",
    "    📌 &nbsp;<b>EDA of Bank Survey data</b><br>\n",
    "</div>"
   ]
  },
  {
   "cell_type": "code",
   "execution_count": 33,
   "id": "b3b674f5",
   "metadata": {},
   "outputs": [
    {
     "data": {
      "image/png": "[encoded data removed]",
      "text/plain": [
       "<Figure size 1440x1440 with 8 Axes>"
      ]
     },
     "metadata": {
      "needs_background": "light"
     },
     "output_type": "display_data"
    }
   ],
   "source": [
    "plt.figure(figsize=(20,20))\n",
    "pltnum = 1\n",
    "for col in bank_survey.columns[:8]:\n",
    "    if pltnum <= 8:\n",
    "        ax1 = plt.subplot(4,2,pltnum)\n",
    "        sns.countplot(data=bank_survey,x=col,palette='dark')\n",
    "        plt.xticks(fontsize=12, rotation=45)\n",
    "        plt.yticks(fontsize=12)\n",
    "        plt.title(col.title(),fontsize=14)\n",
    "    pltnum+=1\n",
    "plt.tight_layout()"
   ]
  },
  {
   "cell_type": "code",
   "execution_count": 34,
   "id": "8bded83c",
   "metadata": {},
   "outputs": [
    {
     "data": {
      "text/html": [
       "<div>\n",
       "<style scoped>\n",
       "    .dataframe tbody tr th:only-of-type {\n",
       "        vertical-align: middle;\n",
       "    }\n",
       "\n",
       "    .dataframe tbody tr th {\n",
       "        vertical-align: top;\n",
       "    }\n",
       "\n",
       "    .dataframe thead th {\n",
       "        text-align: right;\n",
       "    }\n",
       "</style>\n",
       "<table border=\"1\" class=\"dataframe\">\n",
       "  <thead>\n",
       "    <tr style=\"text-align: right;\">\n",
       "      <th></th>\n",
       "      <th>Gender</th>\n",
       "      <th>Education</th>\n",
       "      <th>Location</th>\n",
       "      <th>Profession</th>\n",
       "      <th>Income</th>\n",
       "      <th>HasBankAccount</th>\n",
       "      <th>BankUsed</th>\n",
       "      <th>UsageStatus</th>\n",
       "      <th>QualityOfService</th>\n",
       "      <th>TechnologyUsed</th>\n",
       "      <th>...</th>\n",
       "      <th>Security_BankingTransaction</th>\n",
       "      <th>Security_Privacy</th>\n",
       "      <th>Security_PersonalInfo</th>\n",
       "      <th>CustomerService_FriendlyEnvironment</th>\n",
       "      <th>CustomerService_Feedback</th>\n",
       "      <th>CustomerService_SpecialServices</th>\n",
       "      <th>CustomerService_Satisfaction</th>\n",
       "      <th>Satisfaction_Location</th>\n",
       "      <th>Satisfaction_ATMCount</th>\n",
       "      <th>Satisfaction_EmployeesApproach</th>\n",
       "    </tr>\n",
       "  </thead>\n",
       "  <tbody>\n",
       "    <tr>\n",
       "      <th>32</th>\n",
       "      <td>male</td>\n",
       "      <td>Primary</td>\n",
       "      <td>Raipur</td>\n",
       "      <td>Mechanic</td>\n",
       "      <td>0</td>\n",
       "      <td>No</td>\n",
       "      <td>Others</td>\n",
       "      <td>less than 1 years</td>\n",
       "      <td>3</td>\n",
       "      <td>3</td>\n",
       "      <td>...</td>\n",
       "      <td>3</td>\n",
       "      <td>3</td>\n",
       "      <td>3</td>\n",
       "      <td>3</td>\n",
       "      <td>3</td>\n",
       "      <td>3</td>\n",
       "      <td>3</td>\n",
       "      <td>3</td>\n",
       "      <td>3</td>\n",
       "      <td>3</td>\n",
       "    </tr>\n",
       "  </tbody>\n",
       "</table>\n",
       "<p>1 rows × 44 columns</p>\n",
       "</div>"
      ],
      "text/plain": [
       "   Gender Education Location Profession  Income HasBankAccount BankUsed  \\\n",
       "32   male   Primary   Raipur   Mechanic       0             No   Others   \n",
       "\n",
       "          UsageStatus  QualityOfService  TechnologyUsed  ...  \\\n",
       "32  less than 1 years                 3               3  ...   \n",
       "\n",
       "    Security_BankingTransaction  Security_Privacy Security_PersonalInfo  \\\n",
       "32                            3                 3                     3   \n",
       "\n",
       "   CustomerService_FriendlyEnvironment  CustomerService_Feedback  \\\n",
       "32                                   3                         3   \n",
       "\n",
       "    CustomerService_SpecialServices  CustomerService_Satisfaction  \\\n",
       "32                                3                             3   \n",
       "\n",
       "    Satisfaction_Location  Satisfaction_ATMCount  \\\n",
       "32                      3                      3   \n",
       "\n",
       "    Satisfaction_EmployeesApproach  \n",
       "32                               3  \n",
       "\n",
       "[1 rows x 44 columns]"
      ]
     },
     "execution_count": 34,
     "metadata": {},
     "output_type": "execute_result"
    }
   ],
   "source": [
    "bank_survey[bank_survey['HasBankAccount']=='No']"
   ]
  },
  {
   "cell_type": "markdown",
   "id": "36d099c0",
   "metadata": {},
   "source": [
    "<div style=\"border-radius:10px; border:#DEB887 solid; padding: 15px; background-color: #FFFAF0; font-size:100%; text-align:left\">\n",
    "<h3 align=\"left\"><font color='#DEB887'>💡 Observations:</font></h3>\n",
    "\n",
    "* Most of the people in the survey who shared their opinions were 63% men and 37% women.\n",
    "\n",
    "* People from Chennai and Raipur didn't take part in the survey as much.\n",
    "\n",
    "* Teachers joined in a lot, but not many data analysts took part.\n",
    "\n",
    "* They divided income into groups from 0 to 4.\n",
    "\n",
    "* Only one person with a no bank account joined the survey. It's surprising because usually, you need a bank account to give feedback on banking services.\n",
    "\n",
    "* Many people who use banking services have been doing so for 1 to 10 years.\n",
    "\n",
    "* People rated service quality from 0 to 5, and most (52%) gave it a 2, which is not great."
   ]
  },
  {
   "cell_type": "code",
   "execution_count": 35,
   "id": "8ed69bd7",
   "metadata": {},
   "outputs": [
    {
     "data": {
      "image/png": "[encoded data removed]",
      "text/plain": [
       "<Figure size 1440x720 with 4 Axes>"
      ]
     },
     "metadata": {
      "needs_background": "light"
     },
     "output_type": "display_data"
    }
   ],
   "source": [
    "#Attributes of bank liked by people\n",
    "plt.figure(figsize=(20,10))\n",
    "pltnum = 1\n",
    "for col in bank_survey.columns[8:12]:\n",
    "    if pltnum <=5:\n",
    "        ax1 = plt.subplot(2,2,pltnum)\n",
    "        sns.countplot(data=bank_survey,x=col,palette='dark')\n",
    "        plt.xticks(fontsize=12)\n",
    "        plt.yticks(fontsize=12)\n",
    "        plt.title(col.title(),fontsize=14)\n",
    "    pltnum += 1\n",
    "plt.tight_layout()"
   ]
  },
  {
   "cell_type": "markdown",
   "id": "bbdbc3e0",
   "metadata": {},
   "source": [
    "<div style=\"border-radius:10px; border:#DEB887 solid; padding: 15px; background-color: #FFFAF0; font-size:100%; text-align:left\">\n",
    "<h3 align=\"left\"><font color='#DEB887'>💡 Observations:</font></h3>\n",
    "    \n",
    "* The quality of service, technology use, trust, and location are attributes that are rated on a scale from 0 to 5\n",
    "* Overall, for each attribute, the middle ratings (2 and 3) received the most support, indicating a neutral to moderately positive sentiment. The extreme ratings (0 and 5) generally received less support."
   ]
  },
  {
   "cell_type": "code",
   "execution_count": 36,
   "id": "ed92e20d",
   "metadata": {
    "scrolled": true
   },
   "outputs": [
    {
     "data": {
      "text/plain": [
       "array(['Reduced time of transaction, cost effectiveness, Ease of use, Technology savy',\n",
       "       'Reduced time of transaction, Ease of use',\n",
       "       'Reduced time of transaction, Technology savy',\n",
       "       'Reduced time of transaction, cost effectiveness', 'Ease of use',\n",
       "       'Reduced time of transaction, cost effectiveness, Ease of use',\n",
       "       'Reduced time of transaction', 'Technology savy',\n",
       "       'Reduced time of transaction, Ease of use, Technology savy',\n",
       "       'Ease of use, Technology savy',\n",
       "       'cost effectiveness, Technology savy',\n",
       "       'cost effectiveness, Ease of use',\n",
       "       'cost effectiveness, Ease of use, Technology savy',\n",
       "       'cost effectiveness'], dtype=object)"
      ]
     },
     "execution_count": 36,
     "metadata": {},
     "output_type": "execute_result"
    }
   ],
   "source": [
    "bank_survey['TechAdoptionFactors'].unique()"
   ]
  },
  {
   "cell_type": "code",
   "execution_count": 37,
   "id": "72e7da7c",
   "metadata": {},
   "outputs": [
    {
     "data": {
      "text/plain": [
       "array(['Fix deposit, ATM/Debit, saving account, online banking service, E payment, Electronic Fund Transfer',\n",
       "       'ATM/Debit, saving account, online banking service, E payment, Electronic Fund Transfer',\n",
       "       'ATM/Debit, saving account, online banking service',\n",
       "       'saving account', 'ATM/Debit', 'ATM/Debit, saving account',\n",
       "       'Fix deposit, ATM/Debit, saving account, online banking service, E payment',\n",
       "       'ATM/Debit, E payment',\n",
       "       'ATM/Debit, saving account, online banking service, Electronic Fund Transfer',\n",
       "       'ATM/Debit, online banking service, E payment, Electronic Fund Transfer',\n",
       "       'ATM/Debit, saving account, online banking service, E payment',\n",
       "       'ATM/Debit, online banking service',\n",
       "       'Fix deposit, ATM/Debit, online banking service, E payment',\n",
       "       'ATM/Debit, online banking service, E payment',\n",
       "       'Fix deposit, ATM/Debit',\n",
       "       'ATM/Debit, E payment, Electronic Fund Transfer',\n",
       "       'online banking service', 'E payment',\n",
       "       'Fix deposit, ATM/Debit, E payment, Electronic Fund Transfer',\n",
       "       'Fix deposit, online banking service, E payment, Electronic Fund Transfer',\n",
       "       'ATM/Debit, online banking service, Electronic Fund Transfer',\n",
       "       'Fix deposit',\n",
       "       'ATM/Debit, saving account, E payment, Electronic Fund Transfer'],\n",
       "      dtype=object)"
      ]
     },
     "execution_count": 37,
     "metadata": {},
     "output_type": "execute_result"
    }
   ],
   "source": [
    "bank_survey['UsedBankingFacilities'].unique()"
   ]
  },
  {
   "cell_type": "markdown",
   "id": "8c64faf7",
   "metadata": {},
   "source": [
    "<div style=\"border-radius:10px; border:#DEB887 solid; padding: 15px; background-color: #FFFAF0; font-size:100%; text-align:left\">\n",
    "<h3 align=\"left\"><font color='#DEB887'>💡 Observations:</font></h3>\n",
    " \n",
    "* In the dataset, there are two columns named 'TechAdoptionFactors' and 'UsedBankingFacilities' that capture information about the factors influencing technology adoption and the banking facilities used by customers, respectively. To enhance the analysis, we are creating individual binary features for each factor and facility. Each feature will represent whether a specific factor or facility is utilized by a customer"
   ]
  },
  {
   "cell_type": "code",
   "execution_count": 38,
   "id": "a960f358",
   "metadata": {},
   "outputs": [],
   "source": [
    "#create features for factors promote to use new techniques\n",
    "unique_factors = list(bank_survey['TechAdoptionFactors'].unique())\n",
    "\n",
    "factors = []\n",
    "\n",
    "for i in range(len(unique_factors)):\n",
    "    for j in unique_factors[i].split(', '):\n",
    "        factors.append(j.strip())\n",
    "        \n",
    "factors = set(factors)\n",
    "\n",
    "bank_survey['TechAdoptionFactors'] = bank_survey['TechAdoptionFactors'].apply(lambda x:x.split(', '))\n",
    "\n",
    "for fact in factors:\n",
    "    bank_survey['factor_'+fact.replace(' ','_')] = bank_survey['TechAdoptionFactors'].apply(lambda x:1 if fact in x else 0)\n",
    "    \n",
    "bank_survey.drop(['TechAdoptionFactors'],axis=1,inplace=True)"
   ]
  },
  {
   "cell_type": "code",
   "execution_count": 39,
   "id": "1155a549",
   "metadata": {},
   "outputs": [],
   "source": [
    "#create feature for banking facilities being used by users\n",
    "unique_facilities = list(bank_survey['UsedBankingFacilities'].unique())\n",
    "\n",
    "facilities = []\n",
    "\n",
    "for i in range(len(unique_facilities)):\n",
    "    for j in unique_facilities[i].split(', '):\n",
    "        facilities.append(j.strip())\n",
    "        \n",
    "facilities = set(facilities)\n",
    "\n",
    "bank_survey['UsedBankingFacilities'] = bank_survey['UsedBankingFacilities'].apply(lambda x:x.split(', '))\n",
    "\n",
    "for fac in facilities:\n",
    "    bank_survey['facility_'+fac.replace(' ','_')] = bank_survey['UsedBankingFacilities'].apply(lambda x:1 if fac in x else 0)\n",
    "    \n",
    "bank_survey.drop(['UsedBankingFacilities'],axis=1,inplace=True)"
   ]
  },
  {
   "cell_type": "code",
   "execution_count": 40,
   "id": "bcf2e963",
   "metadata": {},
   "outputs": [
    {
     "data": {
      "image/png": "[encoded data removed]",
      "text/plain": [
       "<Figure size 1440x360 with 4 Axes>"
      ]
     },
     "metadata": {
      "needs_background": "light"
     },
     "output_type": "display_data"
    }
   ],
   "source": [
    "factors =['factor_Ease_of_use','factor_Reduced_time_of_transaction', 'factor_cost_effectiveness','factor_Technology_savy']\n",
    "\n",
    "plt.figure(figsize=(20,5))\n",
    "pltnum = 1\n",
    "\n",
    "for fact in factors:\n",
    "    if pltnum <= 4:\n",
    "        ax1 = plt.subplot(1,4,pltnum)\n",
    "        sns.countplot(data=bank_survey,x=fact,palette='dark')\n",
    "        plt.xticks(fontsize=12)\n",
    "        plt.yticks(fontsize=12)\n",
    "        plt.title(fact.title(),fontsize=14)\n",
    "    pltnum += 1\n",
    "plt.tight_layout()"
   ]
  },
  {
   "cell_type": "markdown",
   "id": "c3eefff7",
   "metadata": {},
   "source": [
    "<div style=\"border-radius:10px; border:#DEB887 solid; padding: 15px; background-color: #FFFAF0; font-size:100%; text-align:left\">\n",
    "<h3 align=\"left\"><font color='#DEB887'>💡 Observations:</font></h3>\n",
    "    \n",
    "* Ease of Use: 64% of respondents indicated that the ease of use is a significant factor influencing their adoption of new banking techniques.\n",
    "\n",
    "* Reduce Time of Transaction: 65% of respondents expressed that the reduction in transaction time is a key motivator for embracing new banking techniques.\n",
    "\n",
    "* Cost Effectiveness: 65% of respondents consider cost effectiveness as a critical factor driving their inclination towards adopting new banking methods.\n",
    "\n",
    "* Technology Savvy: 59% of respondents stated that being technology-savvy plays a crucial role in their decision to adopt new banking techniques."
   ]
  },
  {
   "cell_type": "code",
   "execution_count": 41,
   "id": "17f980e6",
   "metadata": {},
   "outputs": [
    {
     "data": {
      "image/png": "[encoded data removed]",
      "text/plain": [
       "<Figure size 1440x720 with 6 Axes>"
      ]
     },
     "metadata": {
      "needs_background": "light"
     },
     "output_type": "display_data"
    }
   ],
   "source": [
    "facilities = ['facility_E_payment', 'facility_Electronic_Fund_Transfer', 'facility_ATM/Debit','facility_saving_account',\n",
    "              'facility_Fix_deposit','facility_online_banking_service']\n",
    "\n",
    "plt.figure(figsize=(20,10))\n",
    "pltnum = 1\n",
    "\n",
    "for fac in facilities:\n",
    "    if pltnum <= 6:\n",
    "        ax1 = plt.subplot(2,3,pltnum)\n",
    "        sns.countplot(data=bank_survey,x=fac,palette='dark')\n",
    "        plt.xticks(fontsize=12)\n",
    "        plt.yticks(fontsize=12)\n",
    "        plt.title(fac.title(),fontsize=14)\n",
    "    pltnum += 1\n",
    "plt.tight_layout()"
   ]
  },
  {
   "cell_type": "markdown",
   "id": "3480500a",
   "metadata": {},
   "source": [
    "<div style=\"border-radius:10px; border:#DEB887 solid; padding: 15px; background-color: #FFFAF0; font-size:100%; text-align:left\">\n",
    "<h3 align=\"left\"><font color='#DEB887'>💡 Observations:</font></h3>\n",
    "    \n",
    "* The high percentage of users utilizing ATM/Debit cards suggests that this facility is widely accepted and preferred.\n",
    "* Online banking and E Payments are also reasonably popular among users.\n",
    "* Electronic Fund Transfer has a lower adoption rate compared to other facilities.\n",
    "* Fixed Deposits have the lowest adoption rate among the mentioned facilities."
   ]
  },
  {
   "cell_type": "code",
   "execution_count": 42,
   "id": "02a4fd27",
   "metadata": {},
   "outputs": [
    {
     "data": {
      "image/png": "[encoded data removed]",
      "text/plain": [
       "<Figure size 1440x1080 with 4 Axes>"
      ]
     },
     "metadata": {
      "needs_background": "light"
     },
     "output_type": "display_data"
    }
   ],
   "source": [
    "# Monthly frequency of use of facilities like Branch, ATM, Internet Banking, Mobile Banking \n",
    "frequency =['FrequencyBranch','FrequencyATM', 'FrequencyInternet', 'FrequencyMobile']\n",
    "\n",
    "plt.figure(figsize=(20,15))\n",
    "pltnum = 1\n",
    "\n",
    "for freq in frequency:\n",
    "    if pltnum <= 4:\n",
    "        ax1 = plt.subplot(2,2,pltnum)\n",
    "        sns.countplot(data=bank_survey,x=freq,palette='dark')\n",
    "        plt.xticks(fontsize=12)\n",
    "        plt.yticks(fontsize=12)\n",
    "        plt.title(freq.title(),fontsize=14)\n",
    "    pltnum += 1\n",
    "plt.tight_layout()"
   ]
  },
  {
   "cell_type": "markdown",
   "id": "39ced787",
   "metadata": {},
   "source": [
    "<div style=\"border-radius:10px; border:#DEB887 solid; padding: 15px; background-color: #FFFAF0; font-size:100%; text-align:left\">\n",
    "<h3 align=\"left\"><font color='#DEB887'>💡 Observations:</font></h3>\n",
    "\n",
    "* Branch Service: Majority of users utilize the branch service once a month, with fewer users using it twice or thrice monthly.\n",
    "* ATM Service: The usage is spread across different frequencies, with a significant number of users utilizing the ATM service either twice or thrice a month.\n",
    "* Internet Banking: Users mostly engage in internet banking once or twice a month, with fewer users using it thrice or four times monthly.\n",
    "* Mobile Banking: Usage is distributed across different frequencies, with a significant number of users using mobile banking twice a month. The other frequencies also have substantial user counts."
   ]
  },
  {
   "cell_type": "code",
   "execution_count": 43,
   "id": "31167158",
   "metadata": {},
   "outputs": [
    {
     "data": {
      "image/png": "[encoded data removed]",
      "text/plain": [
       "<Figure size 1440x1080 with 4 Axes>"
      ]
     },
     "metadata": {
      "needs_background": "light"
     },
     "output_type": "display_data"
    }
   ],
   "source": [
    "#user satisfaction about ATM service\n",
    "atm = ['ATM_Satisfaction_Delivery', 'ATM_Satisfaction_Transactions','ATM_Satisfaction_Notes', 'ATM_Satisfaction_Location']\n",
    "\n",
    "plt.figure(figsize=(20,15))\n",
    "pltnum = 1\n",
    "\n",
    "for i in atm:\n",
    "    if pltnum <= 4:\n",
    "        ax1 = plt.subplot(2,2,pltnum)\n",
    "        sns.countplot(data=bank_survey,x=i,palette='dark')\n",
    "        plt.xticks(fontsize=12)\n",
    "        plt.yticks(fontsize=12)\n",
    "        plt.title(i.title(),fontsize=14)\n",
    "    pltnum += 1\n",
    "plt.tight_layout()"
   ]
  },
  {
   "cell_type": "markdown",
   "id": "82e4d881",
   "metadata": {},
   "source": [
    "<div style=\"border-radius:10px; border:#DEB887 solid; padding: 15px; background-color: #FFFAF0; font-size:100%; text-align:left\">\n",
    "<h3 align=\"left\"><font color='#DEB887'>💡 Observations:</font></h3>\n",
    "    \n",
    "* Users express relatively low satisfaction with the delivery aspect, as the majority (60 votes) provided a rating of 2. Higher ratings (4 and 5) have very few votes, suggesting dissatisfaction in terms of delivery.\n",
    "* Ratings for transactions are more evenly distributed, with the highest number of votes for rating 2, followed by ratings 3 and 4. Users appear to have mixed satisfaction regarding transaction-related services.\n",
    "* Similar to the delivery aspect, the majority of users (60 votes) gave a relatively low rating of 2 for the notes-related services. Higher ratings (4 and 5) have very few votes, indicating lower satisfaction with notes-related services.\n",
    "* Ratings for the location-related services are more evenly distributed across different ratings. There is a higher number of votes for ratings 2 and 3, suggesting mixed satisfaction with the physical location of ATMs."
   ]
  },
  {
   "cell_type": "code",
   "execution_count": 44,
   "id": "4a212daf",
   "metadata": {},
   "outputs": [
    {
     "data": {
      "image/png": "[encoded data removed]",
      "text/plain": [
       "<Figure size 1440x1080 with 4 Axes>"
      ]
     },
     "metadata": {
      "needs_background": "light"
     },
     "output_type": "display_data"
    }
   ],
   "source": [
    "#ratings to Internet banking services\n",
    "IB = ['InternetBanking_InfoBalance', 'InternetBanking_Transfer','InternetBanking_EPayment',\n",
    "      'InternetBanking_InstallmentInquiry']\n",
    "plt.figure(figsize=(20,15))\n",
    "pltnum = 1\n",
    "\n",
    "for i in IB:\n",
    "    if pltnum <= 4:\n",
    "        ax1 = plt.subplot(2,2,pltnum)\n",
    "        sns.countplot(data=bank_survey,x=i,palette='dark')\n",
    "        plt.xticks(fontsize=12)\n",
    "        plt.yticks(fontsize=12)\n",
    "        plt.title(i.title(),fontsize=14)\n",
    "    pltnum += 1\n",
    "plt.tight_layout()"
   ]
  },
  {
   "cell_type": "markdown",
   "id": "625ebb51",
   "metadata": {},
   "source": [
    "<div style=\"border-radius:10px; border:#DEB887 solid; padding: 15px; background-color: #FFFAF0; font-size:100%; text-align:left\">\n",
    "<h3 align=\"left\"><font color='#DEB887'>💡 Observations:</font></h3>\n",
    "\n",
    "* The most common rating for all services is 2, suggesting a moderate level of satisfaction for the majority of users.\n",
    "* There are varying degrees of dissatisfaction expressed by votes for ratings 1 and 3 across all services.\n",
    "* There is room for improvement, particularly in addressing areas that lead to lower ratings (1 and 3).\n",
    "* The lack of votes for the highest rating (5) in Transfer and EPayment services suggests potential opportunities for enhancing user experience and satisfaction in these areas."
   ]
  },
  {
   "cell_type": "code",
   "execution_count": 45,
   "id": "259a8a9d",
   "metadata": {},
   "outputs": [
    {
     "data": {
      "image/png": "[encoded data removed]",
      "text/plain": [
       "<Figure size 1440x1080 with 6 Axes>"
      ]
     },
     "metadata": {
      "needs_background": "light"
     },
     "output_type": "display_data"
    }
   ],
   "source": [
    "# problems related to ATM service faced by users\n",
    "problems = ['ATM_Problem_CardBlocked', 'ATM_Problem_OutOfCash','ATM_Problem_NoPrinting', 'ATM_Problem_OutOfOrder',\n",
    "       'ATM_Problem_LongQueue', 'ATM_Problem_BalanceReduction']\n",
    "\n",
    "plt.figure(figsize=(20,15))\n",
    "pltnum = 1\n",
    "\n",
    "for i in problems:\n",
    "    if pltnum <= 6:\n",
    "        ax1 = plt.subplot(3,2,pltnum)\n",
    "        sns.countplot(data=bank_survey,x=i,palette='dark')\n",
    "        plt.xticks(fontsize=12)\n",
    "        plt.yticks(fontsize=12)\n",
    "        plt.title(i.title(),fontsize=14)\n",
    "    pltnum += 1\n",
    "plt.tight_layout()"
   ]
  },
  {
   "cell_type": "markdown",
   "id": "1f07eb20",
   "metadata": {},
   "source": [
    "<div style=\"border-radius:10px; border:#DEB887 solid; padding: 15px; background-color: #FFFAF0; font-size:100%; text-align:left\">\n",
    "<h3 align=\"left\"><font color='#DEB887'>💡 Observations:</font></h3>\n",
    "\n",
    "* The problems of Card Blocked and Out of Cash have higher dissatisfaction ratings, with the majority of users expressing dissatisfaction (ratings 2 and 3).\n",
    "* Other problems such as No Printing, Out of Order, Long Queue, and Balance Reduction have mixed opinions, with users expressing varying degrees of satisfaction and dissatisfaction."
   ]
  },
  {
   "cell_type": "code",
   "execution_count": 46,
   "id": "3cf813da",
   "metadata": {},
   "outputs": [
    {
     "data": {
      "image/png": "[encoded data removed]",
      "text/plain": [
       "<Figure size 1440x1080 with 5 Axes>"
      ]
     },
     "metadata": {
      "needs_background": "light"
     },
     "output_type": "display_data"
    }
   ],
   "source": [
    "#security provided by bank in facilities\n",
    "security = ['Security_ATM','Security_OnlineFilling', 'Security_BankingTransaction','Security_Privacy',\n",
    "            'Security_PersonalInfo']\n",
    "\n",
    "plt.figure(figsize=(20,15))\n",
    "pltnum = 1\n",
    "\n",
    "for i in security:\n",
    "    if pltnum <= 5:\n",
    "        ax1 = plt.subplot(3,2,pltnum)\n",
    "        sns.countplot(data=bank_survey,x=i,palette='dark')\n",
    "        plt.xticks(fontsize=12)\n",
    "        plt.yticks(fontsize=12)\n",
    "        plt.title(i.title(),fontsize=14)\n",
    "    pltnum += 1\n",
    "plt.tight_layout()"
   ]
  },
  {
   "cell_type": "markdown",
   "id": "ce87453f",
   "metadata": {},
   "source": [
    "<div style=\"border-radius:10px; border:#DEB887 solid; padding: 15px; background-color: #FFFAF0; font-size:100%; text-align:left\">\n",
    "<h3 align=\"left\"><font color='#DEB887'>💡 Observations:</font></h3>\n",
    "    \n",
    "* Online form filling receives higher satisfaction ratings compared to other security aspects.\n",
    "* The security of ATMs, banking transactions, privacy, and personal information has mixed satisfaction levels, with a notable number of users expressing dissatisfaction.\n",
    "* Improvements in security measures for ATMs, banking transactions, and the protection of personal information may enhance user satisfaction."
   ]
  },
  {
   "cell_type": "code",
   "execution_count": 47,
   "id": "6317c47e",
   "metadata": {},
   "outputs": [
    {
     "data": {
      "image/png": "[encoded data removed]",
      "text/plain": [
       "<Figure size 1440x1080 with 4 Axes>"
      ]
     },
     "metadata": {
      "needs_background": "light"
     },
     "output_type": "display_data"
    }
   ],
   "source": [
    "#customer service provided by bank\n",
    "cust = ['CustomerService_FriendlyEnvironment', 'CustomerService_Feedback',\n",
    "       'CustomerService_SpecialServices', 'CustomerService_Satisfaction']\n",
    "plt.figure(figsize=(20,15))\n",
    "pltnum = 1\n",
    "\n",
    "for i in cust:\n",
    "    if pltnum <= 4:\n",
    "        ax1 = plt.subplot(3,2,pltnum)\n",
    "        sns.countplot(data=bank_survey,x=i,palette='dark')\n",
    "        plt.xticks(fontsize=12)\n",
    "        plt.yticks(fontsize=12)\n",
    "        plt.title(i.title(),fontsize=14)\n",
    "    pltnum += 1\n",
    "plt.tight_layout()"
   ]
  },
  {
   "cell_type": "markdown",
   "id": "02facaf3",
   "metadata": {},
   "source": [
    "<div style=\"border-radius:10px; border:#DEB887 solid; padding: 15px; background-color: #FFFAF0; font-size:100%; text-align:left\">\n",
    "<h3 align=\"left\"><font color='#DEB887'>💡 Observations:</font></h3>\n",
    "    \n",
    "* The friendly environment and overall satisfaction with customer service receive higher satisfaction ratings.\n",
    "* Feedback and special services have mixed satisfaction levels, with a notable number of users expressing dissatisfaction.\n",
    "* Improvements in feedback mechanisms and special services may enhance overall customer service satisfaction."
   ]
  },
  {
   "cell_type": "code",
   "execution_count": 48,
   "id": "495563a8",
   "metadata": {},
   "outputs": [
    {
     "data": {
      "image/png": "[encoded data removed]",
      "text/plain": [
       "<Figure size 1440x1080 with 3 Axes>"
      ]
     },
     "metadata": {
      "needs_background": "light"
     },
     "output_type": "display_data"
    }
   ],
   "source": [
    "#Satisfaction rate with services\n",
    "sat = ['Satisfaction_Location', 'Satisfaction_ATMCount','Satisfaction_EmployeesApproach']\n",
    "\n",
    "plt.figure(figsize=(20,15))\n",
    "pltnum = 1\n",
    "\n",
    "for i in sat:\n",
    "    if pltnum <= 3:\n",
    "        ax1 = plt.subplot(2,2,pltnum)\n",
    "        sns.countplot(data=bank_survey,x=i,palette='dark')\n",
    "        plt.xticks(fontsize=12)\n",
    "        plt.yticks(fontsize=12)\n",
    "        plt.title(i.title(),fontsize=14)\n",
    "    pltnum += 1\n",
    "plt.tight_layout()"
   ]
  },
  {
   "cell_type": "markdown",
   "id": "e8695ab4",
   "metadata": {},
   "source": [
    "<div style=\"border-radius:10px; border:#DEB887 solid; padding: 15px; background-color: #FFFAF0; font-size:100%; text-align:left\">\n",
    "<h3 align=\"left\"><font color='#DEB887'>💡 Observations:</font></h3>\n",
    "    \n",
    "* Users generally express moderate satisfaction with the location of services and the count of ATMs.\n",
    "* Satisfaction with employees' approach receives higher satisfaction ratings.\n",
    "* There is a notable number of users expressing dissatisfaction with ratings 1 and 3 for various services."
   ]
  },
  {
   "cell_type": "markdown",
   "id": "6f8dfd99",
   "metadata": {},
   "source": [
    "<div class=\"alert alert-block alert-info\" style=\"font-size:14px; font-family:verdana; line-height: 1.7em;\">\n",
    "    📌 &nbsp;<b>Check common features from all of three datasets</b><br>\n",
    "</div>"
   ]
  },
  {
   "cell_type": "code",
   "execution_count": 49,
   "id": "969e141b",
   "metadata": {},
   "outputs": [
    {
     "name": "stdout",
     "output_type": "stream",
     "text": [
      "['male' 'Female']\n",
      "2\n",
      "**************************************************\n",
      "['Female' 'Male']\n",
      "2\n",
      "**************************************************\n",
      "['F' 'M']\n",
      "2\n"
     ]
    }
   ],
   "source": [
    "print(bank_survey['Gender'].unique())\n",
    "print(bank_survey['Gender'].nunique())\n",
    "print('*'*50)\n",
    "print(demography_data['Gender'].unique())\n",
    "print(demography_data['Gender'].nunique())\n",
    "print('*'*50)\n",
    "print(ie_demography['Gender'].unique())\n",
    "print(ie_demography['Gender'].nunique())"
   ]
  },
  {
   "cell_type": "code",
   "execution_count": 50,
   "id": "7097c2bb",
   "metadata": {},
   "outputs": [
    {
     "name": "stdout",
     "output_type": "stream",
     "text": [
      "['Illiterate' 'Primary' 'Post graduation' 'Graduation' 'Senior Secondary'\n",
      " 'Secondary']\n",
      "6\n",
      "**************************************************\n",
      "['Primary' 'Illiterate' 'Secondary' 'Senior Secondary' 'Graduation'\n",
      " 'Post graduation']\n",
      "6\n",
      "**************************************************\n",
      "['Post graduation' 'Graduation' 'Primary' 'Secondary' 'Senior Secondary'\n",
      " 'Illiterate']\n",
      "6\n"
     ]
    }
   ],
   "source": [
    "print(bank_survey['Education'].unique())\n",
    "print(bank_survey['Education'].nunique())\n",
    "print('*'*50)\n",
    "print(demography_data['Edu'].unique())\n",
    "print(demography_data['Edu'].nunique())\n",
    "print('*'*50)\n",
    "print(ie_demography['Education'].unique())\n",
    "print(ie_demography['Education'].nunique())"
   ]
  },
  {
   "cell_type": "code",
   "execution_count": 51,
   "id": "098a491f",
   "metadata": {},
   "outputs": [
    {
     "name": "stdout",
     "output_type": "stream",
     "text": [
      "['Bangalore' 'Kochi' 'Kolkata' 'Patna' 'Lucknow' 'Hyderabad' 'Chennai'\n",
      " 'Delhi' 'Raipur' 'Mumbai']\n",
      "10\n",
      "**************************************************\n",
      "['Kochi' 'Mumbai' 'Patna' 'Lucknow' 'Raipur' 'Chennai' 'Bangalore'\n",
      " 'Kolkata' 'Delhi' 'Hyderabad']\n",
      "10\n",
      "**************************************************\n",
      "['Kochi' 'Mumbai' 'Patna' 'Lucknow' 'Raipur' 'Chennai' 'Bangalore'\n",
      " 'Kolkata' 'Delhi' 'Hyderabad']\n",
      "10\n"
     ]
    }
   ],
   "source": [
    "print(bank_survey['Location'].unique())\n",
    "print(bank_survey['Location'].nunique())\n",
    "print('*'*50)\n",
    "print(demography_data['Address'].unique())\n",
    "print(demography_data['Address'].nunique())\n",
    "print('*'*50)\n",
    "print(ie_demography['City'].unique())\n",
    "print(ie_demography['City'].nunique())"
   ]
  },
  {
   "cell_type": "code",
   "execution_count": 52,
   "id": "3d8cb90c",
   "metadata": {},
   "outputs": [
    {
     "name": "stdout",
     "output_type": "stream",
     "text": [
      "['Plumber' 'Lawyer' 'Production Engineer' 'Business' 'Mechanic' 'Police'\n",
      " 'Clerk' 'Civil Engineer' 'Teaching faculty' 'Software Developer'\n",
      " 'Pharmacist' 'Accountant' 'Data Analyst' 'Doctor' 'Architect']\n",
      "15\n",
      "**************************************************\n",
      "['Business' 'Teaching faculty' 'Pharmacist' 'Civil Engineer' 'Doctor'\n",
      " 'Accountant' 'Lawyer' 'Police' 'Production Engineer' 'Software Developer'\n",
      " 'Mechanic' 'Clerk' 'Architect' 'Plumber' 'Data Analyst']\n",
      "15\n",
      "**************************************************\n",
      "['Production Engineer' 'Accountant' 'Plumber' 'Doctor' 'Data Analyst'\n",
      " 'Teaching faculty' 'Clerk' 'Software Developer' 'Pharmacist' 'Architect'\n",
      " 'Business' 'Civil Engineer' 'Police' 'Mechanic' 'Lawyer']\n",
      "15\n"
     ]
    }
   ],
   "source": [
    "print(bank_survey['Profession'].unique())\n",
    "print(bank_survey['Profession'].nunique())\n",
    "print('*'*50)\n",
    "print(demography_data['Occupation'].unique())\n",
    "print(demography_data['Occupation'].nunique())\n",
    "print('*'*50)\n",
    "print(ie_demography['Job_Title'].unique())\n",
    "print(ie_demography['Job_Title'].nunique())"
   ]
  },
  {
   "cell_type": "code",
   "execution_count": 53,
   "id": "d9caab8c",
   "metadata": {},
   "outputs": [
    {
     "name": "stdout",
     "output_type": "stream",
     "text": [
      "[2 0 1 3 4]\n",
      "5\n",
      "**************************************************\n",
      "[ 35675  45627  25155 ...  77286 119227 107098]\n",
      "1060\n"
     ]
    }
   ],
   "source": [
    "print(bank_survey['Income'].unique())\n",
    "print(bank_survey['Income'].nunique())\n",
    "print('*'*50)\n",
    "print(ie_demography['Income'].unique())\n",
    "print(ie_demography['Income'].nunique())"
   ]
  },
  {
   "cell_type": "code",
   "execution_count": 54,
   "id": "971410de",
   "metadata": {},
   "outputs": [
    {
     "name": "stdout",
     "output_type": "stream",
     "text": [
      "[24 23 20 18 26 28 27 30 22 29 21 25 19 38 32 35 39 40 34 31 37 33 36 48\n",
      " 46 50 43 47 44 41 42 49 45 70 69 62 61 66 63 68 64 65 67 60 78 80 74 71\n",
      " 75 73 72 76 77 79]\n",
      "54\n",
      "**************************************************\n",
      "[48 18 25 21 40 42 59 34 33 28 29 27 32 60 41 43 45 20 35 58 36 26 50 53\n",
      " 22 57 54 38 23 39 44 51 55 31 46 37 19 56 52 30 47 24 49]\n",
      "43\n"
     ]
    }
   ],
   "source": [
    "print(demography_data['Age'].unique())\n",
    "print(demography_data['Age'].nunique())\n",
    "print('*'*50)\n",
    "print(ie_demography['Age'].unique())\n",
    "print(ie_demography['Age'].nunique())"
   ]
  },
  {
   "cell_type": "markdown",
   "id": "98811d43",
   "metadata": {},
   "source": [
    "<div style=\"border-radius:10px; border:#DEB887 solid; padding: 15px; background-color: #FFFAF0; font-size:100%; text-align:left\">\n",
    "<h3 align=\"left\"><font color='#DEB887'>💡 Observations:</font></h3>\n",
    "\n",
    "* Several features are common in all the datasets\n",
    "* It is necessary to standardize the column names to create common identifier for merging datasets\n",
    "* Standardizing observation in Gender column of all dataset as well"
   ]
  },
  {
   "cell_type": "code",
   "execution_count": 55,
   "id": "185aefc9",
   "metadata": {},
   "outputs": [],
   "source": [
    "bank_survey['Gender'].replace({'male':'Male'},inplace=True)\n",
    "ie_demography['Gender'].replace({'F':'Female','M':'Male'},inplace=True)"
   ]
  },
  {
   "cell_type": "code",
   "execution_count": 56,
   "id": "80c27d03",
   "metadata": {},
   "outputs": [],
   "source": [
    "demography_data.rename(columns={'Edu':'Education','Address':'Location','Occupation':'Profession'},inplace=True)\n",
    "ie_demography.rename(columns={'City':'Location','Job_Title':'Profession'},inplace=True)"
   ]
  },
  {
   "cell_type": "markdown",
   "id": "c0d66ca5",
   "metadata": {},
   "source": [
    "<div class=\"alert alert-block alert-info\" style=\"font-size:14px; font-family:verdana; line-height: 1.7em;\">\n",
    "    📌 &nbsp;<b>Merge Datasets</b><br>\n",
    "</div>"
   ]
  },
  {
   "cell_type": "code",
   "execution_count": 57,
   "id": "26ba952d",
   "metadata": {},
   "outputs": [],
   "source": [
    "df = pd.merge(demography_data,ie_demography,on=['Gender','Education','Location','Profession','Age'],how='outer')\n",
    "df = pd.merge(df,bank_survey,on=['Gender','Education','Location','Profession'],how='outer')"
   ]
  },
  {
   "cell_type": "code",
   "execution_count": 58,
   "id": "d44ffb1d",
   "metadata": {},
   "outputs": [
    {
     "data": {
      "text/plain": [
       "(2448, 97)"
      ]
     },
     "execution_count": 58,
     "metadata": {},
     "output_type": "execute_result"
    }
   ],
   "source": [
    "df.shape"
   ]
  },
  {
   "cell_type": "code",
   "execution_count": 59,
   "id": "4de15826",
   "metadata": {},
   "outputs": [
    {
     "name": "stdout",
     "output_type": "stream",
     "text": [
      "<class 'pandas.core.frame.DataFrame'>\n",
      "Int64Index: 2448 entries, 0 to 2447\n",
      "Data columns (total 97 columns):\n",
      " #   Column                               Non-Null Count  Dtype  \n",
      "---  ------                               --------------  -----  \n",
      " 0   FName                                1350 non-null   object \n",
      " 1   LName                                1350 non-null   object \n",
      " 2   Gender                               2448 non-null   object \n",
      " 3   Age                                  2422 non-null   float64\n",
      " 4   Phone                                1350 non-null   object \n",
      " 5   Education                            2448 non-null   object \n",
      " 6   Profession                           2448 non-null   object \n",
      " 7   MaritalStatus                        1350 non-null   object \n",
      " 8   NumChildren                          1350 non-null   float64\n",
      " 9   Location                             2448 non-null   object \n",
      " 10  Caste                                1350 non-null   object \n",
      " 11  YCB                                  1350 non-null   float64\n",
      " 12  YCB_BankLinked                       1350 non-null   float64\n",
      " 13  YCB_QRCode                           1350 non-null   float64\n",
      " 14  YCB_BookService                      1350 non-null   float64\n",
      " 15  YCB_SchemeSupport                    1350 non-null   float64\n",
      " 16  YCB_DigiLocker                       1350 non-null   float64\n",
      " 17  YCB_Cashbacks                        1350 non-null   float64\n",
      " 18  YCB_InterestStatus                   1350 non-null   float64\n",
      " 19  YCB_FeatureInfo                      1350 non-null   float64\n",
      " 20  YCB_FeatureSubsidy                   1350 non-null   float64\n",
      " 21  YCB_FeatureBankAccess                1350 non-null   float64\n",
      " 22  YCB_FeatureYojanaKendra              1350 non-null   float64\n",
      " 23  YCB_FeatureHQHelpline                1350 non-null   float64\n",
      " 24  YCB_FeatureAssistedHQ                1350 non-null   float64\n",
      " 25  YCB_FeatureDigilocker                1350 non-null   float64\n",
      " 26  YCB_FeatureCashbacks                 1350 non-null   float64\n",
      " 27  YCB_FeatureBankInfo                  1350 non-null   float64\n",
      " 28  YCB_FeatureOtherStatus               1350 non-null   float64\n",
      " 29  YCB_LoanInterestStatus               1350 non-null   float64\n",
      " 30  YCB_Insurance                        1350 non-null   float64\n",
      " 31  YCB_UnmetHealth                      1350 non-null   float64\n",
      " 32  YCB_UnmetEducation                   1350 non-null   float64\n",
      " 33  YCB_UnmetMarriage                    1350 non-null   float64\n",
      " 34  YCB_UnmetBusiness                    1350 non-null   float64\n",
      " 35  YCB_UnmetNone                        1350 non-null   float64\n",
      " 36  YCB_UnmetOther                       1350 non-null   float64\n",
      " 37  YCB_PayInterest                      1350 non-null   float64\n",
      " 38  YCB_PriceComfort                     1350 non-null   float64\n",
      " 39  YCB_AcceptFree                       1350 non-null   float64\n",
      " 40  Income_x                             1082 non-null   float64\n",
      " 41  Housing                              1082 non-null   float64\n",
      " 42  Groceries                            1082 non-null   float64\n",
      " 43  Leisure                              1082 non-null   float64\n",
      " 44  Entertainment                        1082 non-null   float64\n",
      " 45  Transportation                       1082 non-null   float64\n",
      " 46  Insurance                            1082 non-null   float64\n",
      " 47  Medical                              1082 non-null   float64\n",
      " 48  Utilities                            1082 non-null   float64\n",
      " 49  Income_y                             146 non-null    float64\n",
      " 50  HasBankAccount                       146 non-null    object \n",
      " 51  BankUsed                             146 non-null    object \n",
      " 52  UsageStatus                          146 non-null    object \n",
      " 53  QualityOfService                     146 non-null    float64\n",
      " 54  TechnologyUsed                       146 non-null    float64\n",
      " 55  Trust                                146 non-null    float64\n",
      " 56  LocationPreference                   146 non-null    float64\n",
      " 57  FrequencyBranch                      146 non-null    float64\n",
      " 58  FrequencyATM                         146 non-null    float64\n",
      " 59  FrequencyInternet                    146 non-null    float64\n",
      " 60  FrequencyMobile                      146 non-null    float64\n",
      " 61  ATM_Satisfaction_Delivery            146 non-null    float64\n",
      " 62  ATM_Satisfaction_Transactions        146 non-null    float64\n",
      " 63  ATM_Satisfaction_Notes               146 non-null    float64\n",
      " 64  ATM_Satisfaction_Location            146 non-null    float64\n",
      " 65  InternetBanking_InfoBalance          146 non-null    float64\n",
      " 66  InternetBanking_Transfer             146 non-null    float64\n",
      " 67  InternetBanking_EPayment             146 non-null    float64\n",
      " 68  InternetBanking_InstallmentInquiry   146 non-null    float64\n",
      " 69  ATM_Problem_CardBlocked              146 non-null    float64\n",
      " 70  ATM_Problem_OutOfCash                146 non-null    float64\n",
      " 71  ATM_Problem_NoPrinting               146 non-null    float64\n",
      " 72  ATM_Problem_OutOfOrder               146 non-null    float64\n",
      " 73  ATM_Problem_LongQueue                146 non-null    float64\n",
      " 74  ATM_Problem_BalanceReduction         146 non-null    float64\n",
      " 75  Security_ATM                         146 non-null    float64\n",
      " 76  Security_OnlineFilling               146 non-null    float64\n",
      " 77  Security_BankingTransaction          146 non-null    float64\n",
      " 78  Security_Privacy                     146 non-null    float64\n",
      " 79  Security_PersonalInfo                146 non-null    float64\n",
      " 80  CustomerService_FriendlyEnvironment  146 non-null    float64\n",
      " 81  CustomerService_Feedback             146 non-null    float64\n",
      " 82  CustomerService_SpecialServices      146 non-null    float64\n",
      " 83  CustomerService_Satisfaction         146 non-null    float64\n",
      " 84  Satisfaction_Location                146 non-null    float64\n",
      " 85  Satisfaction_ATMCount                146 non-null    float64\n",
      " 86  Satisfaction_EmployeesApproach       146 non-null    float64\n",
      " 87  factor_Reduced_time_of_transaction   146 non-null    float64\n",
      " 88  factor_Ease_of_use                   146 non-null    float64\n",
      " 89  factor_cost_effectiveness            146 non-null    float64\n",
      " 90  factor_Technology_savy               146 non-null    float64\n",
      " 91  facility_Electronic_Fund_Transfer    146 non-null    float64\n",
      " 92  facility_online_banking_service      146 non-null    float64\n",
      " 93  facility_Fix_deposit                 146 non-null    float64\n",
      " 94  facility_ATM/Debit                   146 non-null    float64\n",
      " 95  facility_E_payment                   146 non-null    float64\n",
      " 96  facility_saving_account              146 non-null    float64\n",
      "dtypes: float64(85), object(12)\n",
      "memory usage: 1.8+ MB\n"
     ]
    }
   ],
   "source": [
    "df.info()"
   ]
  },
  {
   "cell_type": "code",
   "execution_count": 60,
   "id": "bf731187",
   "metadata": {},
   "outputs": [],
   "source": [
    "#Features like FName, Lname and Phone are considered as non-essential for demographic analysis.\n",
    "df.drop(['FName','LName','Phone'],axis=1,inplace=True)"
   ]
  },
  {
   "cell_type": "code",
   "execution_count": 61,
   "id": "6ff5d87c",
   "metadata": {},
   "outputs": [
    {
     "data": {
      "text/html": [
       "<div>\n",
       "<style scoped>\n",
       "    .dataframe tbody tr th:only-of-type {\n",
       "        vertical-align: middle;\n",
       "    }\n",
       "\n",
       "    .dataframe tbody tr th {\n",
       "        vertical-align: top;\n",
       "    }\n",
       "\n",
       "    .dataframe thead th {\n",
       "        text-align: right;\n",
       "    }\n",
       "</style>\n",
       "<table border=\"1\" class=\"dataframe\">\n",
       "  <thead>\n",
       "    <tr style=\"text-align: right;\">\n",
       "      <th></th>\n",
       "      <th>count</th>\n",
       "      <th>mean</th>\n",
       "      <th>std</th>\n",
       "      <th>min</th>\n",
       "      <th>25%</th>\n",
       "      <th>50%</th>\n",
       "      <th>75%</th>\n",
       "      <th>max</th>\n",
       "    </tr>\n",
       "  </thead>\n",
       "  <tbody>\n",
       "    <tr>\n",
       "      <th>Age</th>\n",
       "      <td>2422.0</td>\n",
       "      <td>41.255574</td>\n",
       "      <td>16.807937</td>\n",
       "      <td>18.0</td>\n",
       "      <td>27.0</td>\n",
       "      <td>39.0</td>\n",
       "      <td>52.0</td>\n",
       "      <td>80.0</td>\n",
       "    </tr>\n",
       "    <tr>\n",
       "      <th>NumChildren</th>\n",
       "      <td>1350.0</td>\n",
       "      <td>2.500741</td>\n",
       "      <td>1.719271</td>\n",
       "      <td>0.0</td>\n",
       "      <td>1.0</td>\n",
       "      <td>2.0</td>\n",
       "      <td>4.0</td>\n",
       "      <td>5.0</td>\n",
       "    </tr>\n",
       "    <tr>\n",
       "      <th>YCB</th>\n",
       "      <td>1350.0</td>\n",
       "      <td>0.504444</td>\n",
       "      <td>0.500166</td>\n",
       "      <td>0.0</td>\n",
       "      <td>0.0</td>\n",
       "      <td>1.0</td>\n",
       "      <td>1.0</td>\n",
       "      <td>1.0</td>\n",
       "    </tr>\n",
       "    <tr>\n",
       "      <th>YCB_BankLinked</th>\n",
       "      <td>1350.0</td>\n",
       "      <td>0.494815</td>\n",
       "      <td>0.500158</td>\n",
       "      <td>0.0</td>\n",
       "      <td>0.0</td>\n",
       "      <td>0.0</td>\n",
       "      <td>1.0</td>\n",
       "      <td>1.0</td>\n",
       "    </tr>\n",
       "    <tr>\n",
       "      <th>YCB_QRCode</th>\n",
       "      <td>1350.0</td>\n",
       "      <td>0.497778</td>\n",
       "      <td>0.500180</td>\n",
       "      <td>0.0</td>\n",
       "      <td>0.0</td>\n",
       "      <td>0.0</td>\n",
       "      <td>1.0</td>\n",
       "      <td>1.0</td>\n",
       "    </tr>\n",
       "    <tr>\n",
       "      <th>...</th>\n",
       "      <td>...</td>\n",
       "      <td>...</td>\n",
       "      <td>...</td>\n",
       "      <td>...</td>\n",
       "      <td>...</td>\n",
       "      <td>...</td>\n",
       "      <td>...</td>\n",
       "      <td>...</td>\n",
       "    </tr>\n",
       "    <tr>\n",
       "      <th>facility_online_banking_service</th>\n",
       "      <td>146.0</td>\n",
       "      <td>0.541096</td>\n",
       "      <td>0.500024</td>\n",
       "      <td>0.0</td>\n",
       "      <td>0.0</td>\n",
       "      <td>1.0</td>\n",
       "      <td>1.0</td>\n",
       "      <td>1.0</td>\n",
       "    </tr>\n",
       "    <tr>\n",
       "      <th>facility_Fix_deposit</th>\n",
       "      <td>146.0</td>\n",
       "      <td>0.109589</td>\n",
       "      <td>0.313452</td>\n",
       "      <td>0.0</td>\n",
       "      <td>0.0</td>\n",
       "      <td>0.0</td>\n",
       "      <td>0.0</td>\n",
       "      <td>1.0</td>\n",
       "    </tr>\n",
       "    <tr>\n",
       "      <th>facility_ATM/Debit</th>\n",
       "      <td>146.0</td>\n",
       "      <td>0.945205</td>\n",
       "      <td>0.228362</td>\n",
       "      <td>0.0</td>\n",
       "      <td>1.0</td>\n",
       "      <td>1.0</td>\n",
       "      <td>1.0</td>\n",
       "      <td>1.0</td>\n",
       "    </tr>\n",
       "    <tr>\n",
       "      <th>facility_E_payment</th>\n",
       "      <td>146.0</td>\n",
       "      <td>0.445205</td>\n",
       "      <td>0.498699</td>\n",
       "      <td>0.0</td>\n",
       "      <td>0.0</td>\n",
       "      <td>0.0</td>\n",
       "      <td>1.0</td>\n",
       "      <td>1.0</td>\n",
       "    </tr>\n",
       "    <tr>\n",
       "      <th>facility_saving_account</th>\n",
       "      <td>146.0</td>\n",
       "      <td>0.267123</td>\n",
       "      <td>0.443980</td>\n",
       "      <td>0.0</td>\n",
       "      <td>0.0</td>\n",
       "      <td>0.0</td>\n",
       "      <td>1.0</td>\n",
       "      <td>1.0</td>\n",
       "    </tr>\n",
       "  </tbody>\n",
       "</table>\n",
       "<p>85 rows × 8 columns</p>\n",
       "</div>"
      ],
      "text/plain": [
       "                                  count       mean        std   min   25%  \\\n",
       "Age                              2422.0  41.255574  16.807937  18.0  27.0   \n",
       "NumChildren                      1350.0   2.500741   1.719271   0.0   1.0   \n",
       "YCB                              1350.0   0.504444   0.500166   0.0   0.0   \n",
       "YCB_BankLinked                   1350.0   0.494815   0.500158   0.0   0.0   \n",
       "YCB_QRCode                       1350.0   0.497778   0.500180   0.0   0.0   \n",
       "...                                 ...        ...        ...   ...   ...   \n",
       "facility_online_banking_service   146.0   0.541096   0.500024   0.0   0.0   \n",
       "facility_Fix_deposit              146.0   0.109589   0.313452   0.0   0.0   \n",
       "facility_ATM/Debit                146.0   0.945205   0.228362   0.0   1.0   \n",
       "facility_E_payment                146.0   0.445205   0.498699   0.0   0.0   \n",
       "facility_saving_account           146.0   0.267123   0.443980   0.0   0.0   \n",
       "\n",
       "                                  50%   75%   max  \n",
       "Age                              39.0  52.0  80.0  \n",
       "NumChildren                       2.0   4.0   5.0  \n",
       "YCB                               1.0   1.0   1.0  \n",
       "YCB_BankLinked                    0.0   1.0   1.0  \n",
       "YCB_QRCode                        0.0   1.0   1.0  \n",
       "...                               ...   ...   ...  \n",
       "facility_online_banking_service   1.0   1.0   1.0  \n",
       "facility_Fix_deposit              0.0   0.0   1.0  \n",
       "facility_ATM/Debit                1.0   1.0   1.0  \n",
       "facility_E_payment                0.0   1.0   1.0  \n",
       "facility_saving_account           0.0   1.0   1.0  \n",
       "\n",
       "[85 rows x 8 columns]"
      ]
     },
     "execution_count": 61,
     "metadata": {},
     "output_type": "execute_result"
    }
   ],
   "source": [
    "df.describe().T"
   ]
  },
  {
   "cell_type": "code",
   "execution_count": 62,
   "id": "e2c80b0b",
   "metadata": {},
   "outputs": [
    {
     "data": {
      "text/html": [
       "<div>\n",
       "<style scoped>\n",
       "    .dataframe tbody tr th:only-of-type {\n",
       "        vertical-align: middle;\n",
       "    }\n",
       "\n",
       "    .dataframe tbody tr th {\n",
       "        vertical-align: top;\n",
       "    }\n",
       "\n",
       "    .dataframe thead th {\n",
       "        text-align: right;\n",
       "    }\n",
       "</style>\n",
       "<table border=\"1\" class=\"dataframe\">\n",
       "  <thead>\n",
       "    <tr style=\"text-align: right;\">\n",
       "      <th></th>\n",
       "      <th>count</th>\n",
       "      <th>unique</th>\n",
       "      <th>top</th>\n",
       "      <th>freq</th>\n",
       "    </tr>\n",
       "  </thead>\n",
       "  <tbody>\n",
       "    <tr>\n",
       "      <th>Gender</th>\n",
       "      <td>2448</td>\n",
       "      <td>2</td>\n",
       "      <td>Male</td>\n",
       "      <td>1242</td>\n",
       "    </tr>\n",
       "    <tr>\n",
       "      <th>Education</th>\n",
       "      <td>2448</td>\n",
       "      <td>6</td>\n",
       "      <td>Illiterate</td>\n",
       "      <td>428</td>\n",
       "    </tr>\n",
       "    <tr>\n",
       "      <th>Profession</th>\n",
       "      <td>2448</td>\n",
       "      <td>15</td>\n",
       "      <td>Data Analyst</td>\n",
       "      <td>204</td>\n",
       "    </tr>\n",
       "    <tr>\n",
       "      <th>MaritalStatus</th>\n",
       "      <td>1350</td>\n",
       "      <td>2</td>\n",
       "      <td>Single</td>\n",
       "      <td>693</td>\n",
       "    </tr>\n",
       "    <tr>\n",
       "      <th>Location</th>\n",
       "      <td>2448</td>\n",
       "      <td>10</td>\n",
       "      <td>Raipur</td>\n",
       "      <td>295</td>\n",
       "    </tr>\n",
       "    <tr>\n",
       "      <th>Caste</th>\n",
       "      <td>1350</td>\n",
       "      <td>6</td>\n",
       "      <td>SC</td>\n",
       "      <td>246</td>\n",
       "    </tr>\n",
       "    <tr>\n",
       "      <th>HasBankAccount</th>\n",
       "      <td>146</td>\n",
       "      <td>2</td>\n",
       "      <td>yes</td>\n",
       "      <td>145</td>\n",
       "    </tr>\n",
       "    <tr>\n",
       "      <th>BankUsed</th>\n",
       "      <td>146</td>\n",
       "      <td>8</td>\n",
       "      <td>SBI</td>\n",
       "      <td>95</td>\n",
       "    </tr>\n",
       "    <tr>\n",
       "      <th>UsageStatus</th>\n",
       "      <td>146</td>\n",
       "      <td>4</td>\n",
       "      <td>5-10 years</td>\n",
       "      <td>62</td>\n",
       "    </tr>\n",
       "  </tbody>\n",
       "</table>\n",
       "</div>"
      ],
      "text/plain": [
       "               count unique           top  freq\n",
       "Gender          2448      2          Male  1242\n",
       "Education       2448      6    Illiterate   428\n",
       "Profession      2448     15  Data Analyst   204\n",
       "MaritalStatus   1350      2        Single   693\n",
       "Location        2448     10        Raipur   295\n",
       "Caste           1350      6            SC   246\n",
       "HasBankAccount   146      2           yes   145\n",
       "BankUsed         146      8           SBI    95\n",
       "UsageStatus      146      4    5-10 years    62"
      ]
     },
     "execution_count": 62,
     "metadata": {},
     "output_type": "execute_result"
    }
   ],
   "source": [
    "df.describe(include='object').T"
   ]
  },
  {
   "cell_type": "code",
   "execution_count": 63,
   "id": "97d5a57d",
   "metadata": {},
   "outputs": [
    {
     "data": {
      "text/plain": [
       "0"
      ]
     },
     "execution_count": 63,
     "metadata": {},
     "output_type": "execute_result"
    }
   ],
   "source": [
    "df.duplicated().sum()"
   ]
  },
  {
   "cell_type": "markdown",
   "id": "23405c45",
   "metadata": {},
   "source": [
    "<div class=\"alert alert-block alert-info\" style=\"font-size:14px; font-family:verdana; line-height: 1.7em;\">\n",
    "    📌 &nbsp;<b>Check Missing Values</b><br>\n",
    "</div>"
   ]
  },
  {
   "cell_type": "code",
   "execution_count": 64,
   "id": "5c22f0d2",
   "metadata": {},
   "outputs": [
    {
     "data": {
      "text/plain": [
       "Age                                 1.062092\n",
       "MaritalStatus                      44.852941\n",
       "NumChildren                        44.852941\n",
       "Caste                              44.852941\n",
       "YCB                                44.852941\n",
       "                                     ...    \n",
       "facility_online_banking_service    94.035948\n",
       "facility_Fix_deposit               94.035948\n",
       "facility_ATM/Debit                 94.035948\n",
       "facility_E_payment                 94.035948\n",
       "facility_saving_account            94.035948\n",
       "Length: 90, dtype: float64"
      ]
     },
     "execution_count": 64,
     "metadata": {},
     "output_type": "execute_result"
    }
   ],
   "source": [
    "missing_data = df.isnull().sum()\n",
    "missing_data[missing_data>0]/df.shape[0]*100"
   ]
  },
  {
   "cell_type": "code",
   "execution_count": 65,
   "id": "0baf8a9a",
   "metadata": {},
   "outputs": [],
   "source": [
    "#Age column has less than 5% missing values so dropping the observation \n",
    "df.dropna(subset=['Age'],inplace=True)"
   ]
  },
  {
   "cell_type": "code",
   "execution_count": 66,
   "id": "67b93906",
   "metadata": {
    "scrolled": true
   },
   "outputs": [
    {
     "data": {
      "text/plain": [
       "0"
      ]
     },
     "execution_count": 66,
     "metadata": {},
     "output_type": "execute_result"
    }
   ],
   "source": [
    "df['Age'].isnull().sum()"
   ]
  },
  {
   "cell_type": "markdown",
   "id": "2614e226",
   "metadata": {},
   "source": [
    "# 3<span style='color:purple'>|</span> Data Analysis"
   ]
  },
  {
   "cell_type": "code",
   "execution_count": null,
   "id": "971264eb",
   "metadata": {},
   "outputs": [],
   "source": []
  },
  {
   "cell_type": "markdown",
   "id": "2df6440e",
   "metadata": {},
   "source": [
    "# 4<span style='color:purple'>|</span> Data Visualization and Reporting"
   ]
  },
  {
   "cell_type": "code",
   "execution_count": null,
   "id": "dc97d1d7",
   "metadata": {},
   "outputs": [],
   "source": []
  },
  {
   "cell_type": "markdown",
   "id": "50df0828",
   "metadata": {},
   "source": [
    "# 5<span style='color:purple'>|</span> Conclusion and Future Steps"
   ]
  },
  {
   "cell_type": "code",
   "execution_count": null,
   "id": "472710b7",
   "metadata": {},
   "outputs": [],
   "source": []
  }
 ],
 "metadata": {
  "kernelspec": {
   "display_name": "Python 3 (ipykernel)",
   "language": "python",
   "name": "python3"
  },
  "language_info": {
   "codemirror_mode": {
    "name": "ipython",
    "version": 3
   },
   "file_extension": ".py",
   "mimetype": "text/x-python",
   "name": "python",
   "nbconvert_exporter": "python",
   "pygments_lexer": "ipython3",
   "version": "3.9.7"
  }
 },
 "nbformat": 4,
 "nbformat_minor": 5
}
