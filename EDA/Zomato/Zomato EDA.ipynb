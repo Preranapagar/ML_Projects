{
 "cells": [
  {
   "cell_type": "markdown",
   "id": "4c69a151",
   "metadata": {},
   "source": [
    "![Alt Text](data:image/png;base64,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)"
   ]
  },
  {
   "cell_type": "markdown",
   "id": "f7b595bd",
   "metadata": {},
   "source": [
    "## <center><span style='color:red'> Zomato : Exploratory Data Analysis</span></center>"
   ]
  },
  {
   "cell_type": "markdown",
   "id": "970f54e7",
   "metadata": {},
   "source": [
    "### 🥫Import Necessary Libraries :"
   ]
  },
  {
   "cell_type": "code",
   "execution_count": 1,
   "id": "66acdff7",
   "metadata": {},
   "outputs": [],
   "source": [
    "import numpy as np\n",
    "import pandas as pd\n",
    "import matplotlib.pyplot as plt\n",
    "import seaborn as sns\n",
    "import matplotlib.cm as cm\n",
    "import random\n",
    "from wordcloud import WordCloud\n",
    "import zipfile"
   ]
  },
  {
   "cell_type": "markdown",
   "id": "d6974cf2",
   "metadata": {},
   "source": [
    "### 🥫Import Data :"
   ]
  },
  {
   "cell_type": "code",
   "execution_count": 2,
   "id": "810357a7",
   "metadata": {
    "scrolled": true
   },
   "outputs": [],
   "source": [
    "with zipfile.ZipFile('zomato.zip','r') as zip_file:\n",
    "    file_list = zip_file.namelist()\n",
    "    file_name = 'zomato_restaurants_in_India.csv'\n",
    "    for file in file_list:\n",
    "        if file == file_name:\n",
    "            with zip_file.open(file_name) as csv_file:\n",
    "                df = pd.read_csv(csv_file)"
   ]
  },
  {
   "cell_type": "code",
   "execution_count": 3,
   "id": "7c419889",
   "metadata": {},
   "outputs": [
    {
     "data": {
      "text/html": [
       "<div>\n",
       "<style scoped>\n",
       "    .dataframe tbody tr th:only-of-type {\n",
       "        vertical-align: middle;\n",
       "    }\n",
       "\n",
       "    .dataframe tbody tr th {\n",
       "        vertical-align: top;\n",
       "    }\n",
       "\n",
       "    .dataframe thead th {\n",
       "        text-align: right;\n",
       "    }\n",
       "</style>\n",
       "<table border=\"1\" class=\"dataframe\">\n",
       "  <thead>\n",
       "    <tr style=\"text-align: right;\">\n",
       "      <th></th>\n",
       "      <th>res_id</th>\n",
       "      <th>name</th>\n",
       "      <th>establishment</th>\n",
       "      <th>url</th>\n",
       "      <th>address</th>\n",
       "      <th>city</th>\n",
       "      <th>city_id</th>\n",
       "      <th>locality</th>\n",
       "      <th>latitude</th>\n",
       "      <th>longitude</th>\n",
       "      <th>...</th>\n",
       "      <th>price_range</th>\n",
       "      <th>currency</th>\n",
       "      <th>highlights</th>\n",
       "      <th>aggregate_rating</th>\n",
       "      <th>rating_text</th>\n",
       "      <th>votes</th>\n",
       "      <th>photo_count</th>\n",
       "      <th>opentable_support</th>\n",
       "      <th>delivery</th>\n",
       "      <th>takeaway</th>\n",
       "    </tr>\n",
       "  </thead>\n",
       "  <tbody>\n",
       "    <tr>\n",
       "      <th>0</th>\n",
       "      <td>3400299</td>\n",
       "      <td>Bikanervala</td>\n",
       "      <td>['Quick Bites']</td>\n",
       "      <td>https://www.zomato.com/agra/bikanervala-khanda...</td>\n",
       "      <td>Kalyani Point, Near Tulsi Cinema, Bypass Road,...</td>\n",
       "      <td>Agra</td>\n",
       "      <td>34</td>\n",
       "      <td>Khandari</td>\n",
       "      <td>27.211450</td>\n",
       "      <td>78.002381</td>\n",
       "      <td>...</td>\n",
       "      <td>2</td>\n",
       "      <td>Rs.</td>\n",
       "      <td>['Lunch', 'Takeaway Available', 'Credit Card',...</td>\n",
       "      <td>4.4</td>\n",
       "      <td>Very Good</td>\n",
       "      <td>814</td>\n",
       "      <td>154</td>\n",
       "      <td>0.0</td>\n",
       "      <td>-1</td>\n",
       "      <td>-1</td>\n",
       "    </tr>\n",
       "    <tr>\n",
       "      <th>1</th>\n",
       "      <td>3400005</td>\n",
       "      <td>Mama Chicken Mama Franky House</td>\n",
       "      <td>['Quick Bites']</td>\n",
       "      <td>https://www.zomato.com/agra/mama-chicken-mama-...</td>\n",
       "      <td>Main Market, Sadar Bazaar, Agra Cantt, Agra</td>\n",
       "      <td>Agra</td>\n",
       "      <td>34</td>\n",
       "      <td>Agra Cantt</td>\n",
       "      <td>27.160569</td>\n",
       "      <td>78.011583</td>\n",
       "      <td>...</td>\n",
       "      <td>2</td>\n",
       "      <td>Rs.</td>\n",
       "      <td>['Delivery', 'No Alcohol Available', 'Dinner',...</td>\n",
       "      <td>4.4</td>\n",
       "      <td>Very Good</td>\n",
       "      <td>1203</td>\n",
       "      <td>161</td>\n",
       "      <td>0.0</td>\n",
       "      <td>-1</td>\n",
       "      <td>-1</td>\n",
       "    </tr>\n",
       "    <tr>\n",
       "      <th>2</th>\n",
       "      <td>3401013</td>\n",
       "      <td>Bhagat Halwai</td>\n",
       "      <td>['Quick Bites']</td>\n",
       "      <td>https://www.zomato.com/agra/bhagat-halwai-2-sh...</td>\n",
       "      <td>62/1, Near Easy Day, West Shivaji Nagar, Goalp...</td>\n",
       "      <td>Agra</td>\n",
       "      <td>34</td>\n",
       "      <td>Shahganj</td>\n",
       "      <td>27.182938</td>\n",
       "      <td>77.979684</td>\n",
       "      <td>...</td>\n",
       "      <td>1</td>\n",
       "      <td>Rs.</td>\n",
       "      <td>['No Alcohol Available', 'Dinner', 'Takeaway A...</td>\n",
       "      <td>4.2</td>\n",
       "      <td>Very Good</td>\n",
       "      <td>801</td>\n",
       "      <td>107</td>\n",
       "      <td>0.0</td>\n",
       "      <td>1</td>\n",
       "      <td>-1</td>\n",
       "    </tr>\n",
       "  </tbody>\n",
       "</table>\n",
       "<p>3 rows × 26 columns</p>\n",
       "</div>"
      ],
      "text/plain": [
       "    res_id                            name    establishment  \\\n",
       "0  3400299                     Bikanervala  ['Quick Bites']   \n",
       "1  3400005  Mama Chicken Mama Franky House  ['Quick Bites']   \n",
       "2  3401013                   Bhagat Halwai  ['Quick Bites']   \n",
       "\n",
       "                                                 url  \\\n",
       "0  https://www.zomato.com/agra/bikanervala-khanda...   \n",
       "1  https://www.zomato.com/agra/mama-chicken-mama-...   \n",
       "2  https://www.zomato.com/agra/bhagat-halwai-2-sh...   \n",
       "\n",
       "                                             address  city  city_id  \\\n",
       "0  Kalyani Point, Near Tulsi Cinema, Bypass Road,...  Agra       34   \n",
       "1        Main Market, Sadar Bazaar, Agra Cantt, Agra  Agra       34   \n",
       "2  62/1, Near Easy Day, West Shivaji Nagar, Goalp...  Agra       34   \n",
       "\n",
       "     locality   latitude  longitude  ... price_range  currency  \\\n",
       "0    Khandari  27.211450  78.002381  ...           2       Rs.   \n",
       "1  Agra Cantt  27.160569  78.011583  ...           2       Rs.   \n",
       "2    Shahganj  27.182938  77.979684  ...           1       Rs.   \n",
       "\n",
       "                                          highlights aggregate_rating  \\\n",
       "0  ['Lunch', 'Takeaway Available', 'Credit Card',...              4.4   \n",
       "1  ['Delivery', 'No Alcohol Available', 'Dinner',...              4.4   \n",
       "2  ['No Alcohol Available', 'Dinner', 'Takeaway A...              4.2   \n",
       "\n",
       "  rating_text  votes  photo_count opentable_support delivery  takeaway  \n",
       "0   Very Good    814          154               0.0       -1        -1  \n",
       "1   Very Good   1203          161               0.0       -1        -1  \n",
       "2   Very Good    801          107               0.0        1        -1  \n",
       "\n",
       "[3 rows x 26 columns]"
      ]
     },
     "execution_count": 3,
     "metadata": {},
     "output_type": "execute_result"
    }
   ],
   "source": [
    "df.head(3)"
   ]
  },
  {
   "cell_type": "code",
   "execution_count": 4,
   "id": "f381046e",
   "metadata": {},
   "outputs": [
    {
     "data": {
      "text/html": [
       "<div>\n",
       "<style scoped>\n",
       "    .dataframe tbody tr th:only-of-type {\n",
       "        vertical-align: middle;\n",
       "    }\n",
       "\n",
       "    .dataframe tbody tr th {\n",
       "        vertical-align: top;\n",
       "    }\n",
       "\n",
       "    .dataframe thead th {\n",
       "        text-align: right;\n",
       "    }\n",
       "</style>\n",
       "<table border=\"1\" class=\"dataframe\">\n",
       "  <thead>\n",
       "    <tr style=\"text-align: right;\">\n",
       "      <th></th>\n",
       "      <th>res_id</th>\n",
       "      <th>name</th>\n",
       "      <th>establishment</th>\n",
       "      <th>url</th>\n",
       "      <th>address</th>\n",
       "      <th>city</th>\n",
       "      <th>city_id</th>\n",
       "      <th>locality</th>\n",
       "      <th>latitude</th>\n",
       "      <th>longitude</th>\n",
       "      <th>...</th>\n",
       "      <th>price_range</th>\n",
       "      <th>currency</th>\n",
       "      <th>highlights</th>\n",
       "      <th>aggregate_rating</th>\n",
       "      <th>rating_text</th>\n",
       "      <th>votes</th>\n",
       "      <th>photo_count</th>\n",
       "      <th>opentable_support</th>\n",
       "      <th>delivery</th>\n",
       "      <th>takeaway</th>\n",
       "    </tr>\n",
       "  </thead>\n",
       "  <tbody>\n",
       "    <tr>\n",
       "      <th>211939</th>\n",
       "      <td>3202251</td>\n",
       "      <td>Kali Mirch Cafe And Restaurant</td>\n",
       "      <td>['Casual Dining']</td>\n",
       "      <td>https://www.zomato.com/vadodara/kali-mirch-caf...</td>\n",
       "      <td>Manu Smriti Complex, Near Navrachna School, GI...</td>\n",
       "      <td>Vadodara</td>\n",
       "      <td>32</td>\n",
       "      <td>Fatehgunj</td>\n",
       "      <td>22.336931</td>\n",
       "      <td>73.192356</td>\n",
       "      <td>...</td>\n",
       "      <td>2</td>\n",
       "      <td>Rs.</td>\n",
       "      <td>['Dinner', 'Cash', 'Lunch', 'Delivery', 'Indoo...</td>\n",
       "      <td>4.1</td>\n",
       "      <td>Very Good</td>\n",
       "      <td>243</td>\n",
       "      <td>40</td>\n",
       "      <td>0.0</td>\n",
       "      <td>-1</td>\n",
       "      <td>-1</td>\n",
       "    </tr>\n",
       "    <tr>\n",
       "      <th>211940</th>\n",
       "      <td>3200996</td>\n",
       "      <td>Raju Omlet</td>\n",
       "      <td>['Quick Bites']</td>\n",
       "      <td>https://www.zomato.com/vadodara/raju-omlet-kar...</td>\n",
       "      <td>Mahalaxmi Apartment, Opposite B O B, Karoli Ba...</td>\n",
       "      <td>Vadodara</td>\n",
       "      <td>32</td>\n",
       "      <td>Karelibaug</td>\n",
       "      <td>22.322455</td>\n",
       "      <td>73.197203</td>\n",
       "      <td>...</td>\n",
       "      <td>1</td>\n",
       "      <td>Rs.</td>\n",
       "      <td>['Dinner', 'Cash', 'Takeaway Available', 'Debi...</td>\n",
       "      <td>4.1</td>\n",
       "      <td>Very Good</td>\n",
       "      <td>187</td>\n",
       "      <td>40</td>\n",
       "      <td>0.0</td>\n",
       "      <td>1</td>\n",
       "      <td>-1</td>\n",
       "    </tr>\n",
       "    <tr>\n",
       "      <th>211941</th>\n",
       "      <td>18984164</td>\n",
       "      <td>The Grand Thakar</td>\n",
       "      <td>['Casual Dining']</td>\n",
       "      <td>https://www.zomato.com/vadodara/the-grand-thak...</td>\n",
       "      <td>3rd Floor, Shreem Shalini Mall, Opposite Conqu...</td>\n",
       "      <td>Vadodara</td>\n",
       "      <td>32</td>\n",
       "      <td>Alkapuri</td>\n",
       "      <td>22.310563</td>\n",
       "      <td>73.171163</td>\n",
       "      <td>...</td>\n",
       "      <td>2</td>\n",
       "      <td>Rs.</td>\n",
       "      <td>['Dinner', 'Cash', 'Debit Card', 'Lunch', 'Tak...</td>\n",
       "      <td>4.0</td>\n",
       "      <td>Very Good</td>\n",
       "      <td>111</td>\n",
       "      <td>38</td>\n",
       "      <td>0.0</td>\n",
       "      <td>-1</td>\n",
       "      <td>-1</td>\n",
       "    </tr>\n",
       "    <tr>\n",
       "      <th>211942</th>\n",
       "      <td>3201138</td>\n",
       "      <td>Subway</td>\n",
       "      <td>['Quick Bites']</td>\n",
       "      <td>https://www.zomato.com/vadodara/subway-1-akota...</td>\n",
       "      <td>G-2, Vedant Platina, Near Cosmos, Akota, Vadodara</td>\n",
       "      <td>Vadodara</td>\n",
       "      <td>32</td>\n",
       "      <td>Akota</td>\n",
       "      <td>22.270027</td>\n",
       "      <td>73.143068</td>\n",
       "      <td>...</td>\n",
       "      <td>2</td>\n",
       "      <td>Rs.</td>\n",
       "      <td>['Dinner', 'Delivery', 'Credit Card', 'Lunch',...</td>\n",
       "      <td>3.7</td>\n",
       "      <td>Good</td>\n",
       "      <td>128</td>\n",
       "      <td>34</td>\n",
       "      <td>0.0</td>\n",
       "      <td>1</td>\n",
       "      <td>-1</td>\n",
       "    </tr>\n",
       "    <tr>\n",
       "      <th>211943</th>\n",
       "      <td>18879846</td>\n",
       "      <td>Freshco's - The Health Cafe</td>\n",
       "      <td>['Café']</td>\n",
       "      <td>https://www.zomato.com/vadodara/freshcos-the-h...</td>\n",
       "      <td>Shop 7, Ground Floor, Opposite Natubhai Circle...</td>\n",
       "      <td>Vadodara</td>\n",
       "      <td>32</td>\n",
       "      <td>Vadiwadi</td>\n",
       "      <td>22.309935</td>\n",
       "      <td>73.158768</td>\n",
       "      <td>...</td>\n",
       "      <td>2</td>\n",
       "      <td>Rs.</td>\n",
       "      <td>['Dinner', 'Cash', 'Takeaway Available', 'Debi...</td>\n",
       "      <td>4.0</td>\n",
       "      <td>Very Good</td>\n",
       "      <td>93</td>\n",
       "      <td>53</td>\n",
       "      <td>0.0</td>\n",
       "      <td>1</td>\n",
       "      <td>-1</td>\n",
       "    </tr>\n",
       "  </tbody>\n",
       "</table>\n",
       "<p>5 rows × 26 columns</p>\n",
       "</div>"
      ],
      "text/plain": [
       "          res_id                            name      establishment  \\\n",
       "211939   3202251  Kali Mirch Cafe And Restaurant  ['Casual Dining']   \n",
       "211940   3200996                      Raju Omlet    ['Quick Bites']   \n",
       "211941  18984164                The Grand Thakar  ['Casual Dining']   \n",
       "211942   3201138                          Subway    ['Quick Bites']   \n",
       "211943  18879846     Freshco's - The Health Cafe           ['Café']   \n",
       "\n",
       "                                                      url  \\\n",
       "211939  https://www.zomato.com/vadodara/kali-mirch-caf...   \n",
       "211940  https://www.zomato.com/vadodara/raju-omlet-kar...   \n",
       "211941  https://www.zomato.com/vadodara/the-grand-thak...   \n",
       "211942  https://www.zomato.com/vadodara/subway-1-akota...   \n",
       "211943  https://www.zomato.com/vadodara/freshcos-the-h...   \n",
       "\n",
       "                                                  address      city  city_id  \\\n",
       "211939  Manu Smriti Complex, Near Navrachna School, GI...  Vadodara       32   \n",
       "211940  Mahalaxmi Apartment, Opposite B O B, Karoli Ba...  Vadodara       32   \n",
       "211941  3rd Floor, Shreem Shalini Mall, Opposite Conqu...  Vadodara       32   \n",
       "211942  G-2, Vedant Platina, Near Cosmos, Akota, Vadodara  Vadodara       32   \n",
       "211943  Shop 7, Ground Floor, Opposite Natubhai Circle...  Vadodara       32   \n",
       "\n",
       "          locality   latitude  longitude  ... price_range  currency  \\\n",
       "211939   Fatehgunj  22.336931  73.192356  ...           2       Rs.   \n",
       "211940  Karelibaug  22.322455  73.197203  ...           1       Rs.   \n",
       "211941    Alkapuri  22.310563  73.171163  ...           2       Rs.   \n",
       "211942       Akota  22.270027  73.143068  ...           2       Rs.   \n",
       "211943    Vadiwadi  22.309935  73.158768  ...           2       Rs.   \n",
       "\n",
       "                                               highlights aggregate_rating  \\\n",
       "211939  ['Dinner', 'Cash', 'Lunch', 'Delivery', 'Indoo...              4.1   \n",
       "211940  ['Dinner', 'Cash', 'Takeaway Available', 'Debi...              4.1   \n",
       "211941  ['Dinner', 'Cash', 'Debit Card', 'Lunch', 'Tak...              4.0   \n",
       "211942  ['Dinner', 'Delivery', 'Credit Card', 'Lunch',...              3.7   \n",
       "211943  ['Dinner', 'Cash', 'Takeaway Available', 'Debi...              4.0   \n",
       "\n",
       "       rating_text  votes  photo_count opentable_support delivery  takeaway  \n",
       "211939   Very Good    243           40               0.0       -1        -1  \n",
       "211940   Very Good    187           40               0.0        1        -1  \n",
       "211941   Very Good    111           38               0.0       -1        -1  \n",
       "211942        Good    128           34               0.0        1        -1  \n",
       "211943   Very Good     93           53               0.0        1        -1  \n",
       "\n",
       "[5 rows x 26 columns]"
      ]
     },
     "execution_count": 4,
     "metadata": {},
     "output_type": "execute_result"
    }
   ],
   "source": [
    "df.tail()"
   ]
  },
  {
   "cell_type": "code",
   "execution_count": 5,
   "id": "415994a7",
   "metadata": {},
   "outputs": [
    {
     "data": {
      "text/html": [
       "<div>\n",
       "<style scoped>\n",
       "    .dataframe tbody tr th:only-of-type {\n",
       "        vertical-align: middle;\n",
       "    }\n",
       "\n",
       "    .dataframe tbody tr th {\n",
       "        vertical-align: top;\n",
       "    }\n",
       "\n",
       "    .dataframe thead th {\n",
       "        text-align: right;\n",
       "    }\n",
       "</style>\n",
       "<table border=\"1\" class=\"dataframe\">\n",
       "  <thead>\n",
       "    <tr style=\"text-align: right;\">\n",
       "      <th></th>\n",
       "      <th>res_id</th>\n",
       "      <th>name</th>\n",
       "      <th>establishment</th>\n",
       "      <th>url</th>\n",
       "      <th>address</th>\n",
       "      <th>city</th>\n",
       "      <th>city_id</th>\n",
       "      <th>locality</th>\n",
       "      <th>latitude</th>\n",
       "      <th>longitude</th>\n",
       "      <th>...</th>\n",
       "      <th>price_range</th>\n",
       "      <th>currency</th>\n",
       "      <th>highlights</th>\n",
       "      <th>aggregate_rating</th>\n",
       "      <th>rating_text</th>\n",
       "      <th>votes</th>\n",
       "      <th>photo_count</th>\n",
       "      <th>opentable_support</th>\n",
       "      <th>delivery</th>\n",
       "      <th>takeaway</th>\n",
       "    </tr>\n",
       "  </thead>\n",
       "  <tbody>\n",
       "    <tr>\n",
       "      <th>164447</th>\n",
       "      <td>11283</td>\n",
       "      <td>Harajuku - The O Hotel</td>\n",
       "      <td>['Fine Dining']</td>\n",
       "      <td>https://www.zomato.com/pune/harajuku-the-o-hot...</td>\n",
       "      <td>The O Hotel, North Main Road, Koregaon Park, Pune</td>\n",
       "      <td>Pune</td>\n",
       "      <td>5</td>\n",
       "      <td>The O Hotel, Koregaon Park</td>\n",
       "      <td>18.540239</td>\n",
       "      <td>73.887518</td>\n",
       "      <td>...</td>\n",
       "      <td>4</td>\n",
       "      <td>Rs.</td>\n",
       "      <td>['Cash', 'Debit Card', 'Lunch', 'Credit Card',...</td>\n",
       "      <td>3.7</td>\n",
       "      <td>Good</td>\n",
       "      <td>96</td>\n",
       "      <td>38</td>\n",
       "      <td>0.0</td>\n",
       "      <td>-1</td>\n",
       "      <td>-1</td>\n",
       "    </tr>\n",
       "    <tr>\n",
       "      <th>164448</th>\n",
       "      <td>10663</td>\n",
       "      <td>Mix@36 - The Westin</td>\n",
       "      <td>['Lounge']</td>\n",
       "      <td>https://www.zomato.com/pune/mix@36-the-westin-...</td>\n",
       "      <td>The Westin, Survey 36/3B, KP Annexe Mundhwa Ro...</td>\n",
       "      <td>Pune</td>\n",
       "      <td>5</td>\n",
       "      <td>The Westin, Mundhwa</td>\n",
       "      <td>18.540040</td>\n",
       "      <td>73.905910</td>\n",
       "      <td>...</td>\n",
       "      <td>4</td>\n",
       "      <td>Rs.</td>\n",
       "      <td>['Cash', 'Debit Card', 'Serves Alcohol', 'Take...</td>\n",
       "      <td>4.0</td>\n",
       "      <td>Very Good</td>\n",
       "      <td>682</td>\n",
       "      <td>78</td>\n",
       "      <td>0.0</td>\n",
       "      <td>-1</td>\n",
       "      <td>-1</td>\n",
       "    </tr>\n",
       "    <tr>\n",
       "      <th>164449</th>\n",
       "      <td>10743</td>\n",
       "      <td>Kangan - The Westin</td>\n",
       "      <td>['Fine Dining']</td>\n",
       "      <td>https://www.zomato.com/pune/kangan-the-westin-...</td>\n",
       "      <td>The Westin, 36/3B, KP Annexe, Mundhwa Road, Mu...</td>\n",
       "      <td>Pune</td>\n",
       "      <td>5</td>\n",
       "      <td>The Westin, Mundhwa</td>\n",
       "      <td>18.539455</td>\n",
       "      <td>73.906040</td>\n",
       "      <td>...</td>\n",
       "      <td>4</td>\n",
       "      <td>Rs.</td>\n",
       "      <td>['Serves Alcohol', 'Cash', 'Debit Card', 'Take...</td>\n",
       "      <td>4.0</td>\n",
       "      <td>Very Good</td>\n",
       "      <td>310</td>\n",
       "      <td>285</td>\n",
       "      <td>0.0</td>\n",
       "      <td>-1</td>\n",
       "      <td>-1</td>\n",
       "    </tr>\n",
       "    <tr>\n",
       "      <th>164450</th>\n",
       "      <td>18938162</td>\n",
       "      <td>Palette - The Westin</td>\n",
       "      <td>['Fine Dining']</td>\n",
       "      <td>https://www.zomato.com/pune/palette-the-westin...</td>\n",
       "      <td>The Westin, 36/3B, KP Annexe, Mundhwa Road, Mu...</td>\n",
       "      <td>Pune</td>\n",
       "      <td>5</td>\n",
       "      <td>The Westin, Mundhwa</td>\n",
       "      <td>18.539430</td>\n",
       "      <td>73.906009</td>\n",
       "      <td>...</td>\n",
       "      <td>4</td>\n",
       "      <td>Rs.</td>\n",
       "      <td>['Serves Alcohol', 'Credit Card', 'Lunch', 'Ca...</td>\n",
       "      <td>3.3</td>\n",
       "      <td>Average</td>\n",
       "      <td>9</td>\n",
       "      <td>31</td>\n",
       "      <td>0.0</td>\n",
       "      <td>-1</td>\n",
       "      <td>-1</td>\n",
       "    </tr>\n",
       "    <tr>\n",
       "      <th>164451</th>\n",
       "      <td>18310167</td>\n",
       "      <td>Coriander Kitchen - Conrad Pune</td>\n",
       "      <td>['Fine Dining']</td>\n",
       "      <td>https://www.zomato.com/pune/coriander-kitchen-...</td>\n",
       "      <td>Conrad, Mangaldas Road, Bund Garden Road, Pune</td>\n",
       "      <td>Pune</td>\n",
       "      <td>5</td>\n",
       "      <td>Conrad Pune, Bund Garden Road</td>\n",
       "      <td>18.535409</td>\n",
       "      <td>73.883592</td>\n",
       "      <td>...</td>\n",
       "      <td>4</td>\n",
       "      <td>Rs.</td>\n",
       "      <td>['Lunch', 'Serves Alcohol', 'Takeaway Availabl...</td>\n",
       "      <td>4.4</td>\n",
       "      <td>Very Good</td>\n",
       "      <td>500</td>\n",
       "      <td>1116</td>\n",
       "      <td>0.0</td>\n",
       "      <td>-1</td>\n",
       "      <td>-1</td>\n",
       "    </tr>\n",
       "    <tr>\n",
       "      <th>...</th>\n",
       "      <td>...</td>\n",
       "      <td>...</td>\n",
       "      <td>...</td>\n",
       "      <td>...</td>\n",
       "      <td>...</td>\n",
       "      <td>...</td>\n",
       "      <td>...</td>\n",
       "      <td>...</td>\n",
       "      <td>...</td>\n",
       "      <td>...</td>\n",
       "      <td>...</td>\n",
       "      <td>...</td>\n",
       "      <td>...</td>\n",
       "      <td>...</td>\n",
       "      <td>...</td>\n",
       "      <td>...</td>\n",
       "      <td>...</td>\n",
       "      <td>...</td>\n",
       "      <td>...</td>\n",
       "      <td>...</td>\n",
       "      <td>...</td>\n",
       "    </tr>\n",
       "    <tr>\n",
       "      <th>168659</th>\n",
       "      <td>13061</td>\n",
       "      <td>Lonavla Restaurant &amp; Bar- Hotel Lonavla</td>\n",
       "      <td>['Casual Dining']</td>\n",
       "      <td>https://www.zomato.com/pune/lonavla-restaurant...</td>\n",
       "      <td>Gawlinaka, Mumbai-Pune Highway, Lonavala, Pune</td>\n",
       "      <td>Pune</td>\n",
       "      <td>5</td>\n",
       "      <td>Lonavala</td>\n",
       "      <td>18.754747</td>\n",
       "      <td>73.405682</td>\n",
       "      <td>...</td>\n",
       "      <td>3</td>\n",
       "      <td>Rs.</td>\n",
       "      <td>['Dinner', 'Cash', 'Takeaway Available', 'Debi...</td>\n",
       "      <td>4.3</td>\n",
       "      <td>Very Good</td>\n",
       "      <td>474</td>\n",
       "      <td>81</td>\n",
       "      <td>0.0</td>\n",
       "      <td>-1</td>\n",
       "      <td>-1</td>\n",
       "    </tr>\n",
       "    <tr>\n",
       "      <th>168660</th>\n",
       "      <td>18555341</td>\n",
       "      <td>Utopia</td>\n",
       "      <td>['Casual Dining']</td>\n",
       "      <td>https://www.zomato.com/pune/utopia-lonavala?ut...</td>\n",
       "      <td>CTS 159, Old Mumbai-Pune Road, Lonavala, Pune</td>\n",
       "      <td>Pune</td>\n",
       "      <td>5</td>\n",
       "      <td>Lonavala</td>\n",
       "      <td>18.754342</td>\n",
       "      <td>73.402737</td>\n",
       "      <td>...</td>\n",
       "      <td>3</td>\n",
       "      <td>Rs.</td>\n",
       "      <td>['Dinner', 'Cash', 'Takeaway Available', 'Debi...</td>\n",
       "      <td>3.9</td>\n",
       "      <td>Good</td>\n",
       "      <td>336</td>\n",
       "      <td>204</td>\n",
       "      <td>0.0</td>\n",
       "      <td>-1</td>\n",
       "      <td>-1</td>\n",
       "    </tr>\n",
       "    <tr>\n",
       "      <th>168661</th>\n",
       "      <td>18767059</td>\n",
       "      <td>Mapro Garden</td>\n",
       "      <td>['Casual Dining']</td>\n",
       "      <td>https://www.zomato.com/pune/mapro-garden-lonav...</td>\n",
       "      <td>3 &amp; 4, Old Mumbai - Pune Highway, Valvan, Lona...</td>\n",
       "      <td>Pune</td>\n",
       "      <td>5</td>\n",
       "      <td>Lonavala</td>\n",
       "      <td>18.760234</td>\n",
       "      <td>73.419775</td>\n",
       "      <td>...</td>\n",
       "      <td>2</td>\n",
       "      <td>Rs.</td>\n",
       "      <td>['Dinner', 'Takeaway Available', 'No Alcohol A...</td>\n",
       "      <td>4.3</td>\n",
       "      <td>Very Good</td>\n",
       "      <td>143</td>\n",
       "      <td>227</td>\n",
       "      <td>0.0</td>\n",
       "      <td>-1</td>\n",
       "      <td>-1</td>\n",
       "    </tr>\n",
       "    <tr>\n",
       "      <th>168662</th>\n",
       "      <td>6503906</td>\n",
       "      <td>Hotel Chandralok</td>\n",
       "      <td>['Casual Dining']</td>\n",
       "      <td>https://www.zomato.com/pune/hotel-chandralok-l...</td>\n",
       "      <td>Near Bus Stand &amp; Post Office, Opposite Mumbai-...</td>\n",
       "      <td>Pune</td>\n",
       "      <td>5</td>\n",
       "      <td>Lonavala</td>\n",
       "      <td>18.753223</td>\n",
       "      <td>73.405655</td>\n",
       "      <td>...</td>\n",
       "      <td>2</td>\n",
       "      <td>Rs.</td>\n",
       "      <td>['No Alcohol Available', 'Dinner', 'Takeaway A...</td>\n",
       "      <td>4.3</td>\n",
       "      <td>Very Good</td>\n",
       "      <td>317</td>\n",
       "      <td>86</td>\n",
       "      <td>0.0</td>\n",
       "      <td>-1</td>\n",
       "      <td>-1</td>\n",
       "    </tr>\n",
       "    <tr>\n",
       "      <th>168663</th>\n",
       "      <td>18711838</td>\n",
       "      <td>Lion's Dhaaba</td>\n",
       "      <td>['Casual Dining']</td>\n",
       "      <td>https://www.zomato.com/pune/lions-dhaaba-6-lon...</td>\n",
       "      <td>Besides Lion's Point, Ambey Valley, Atvan, Lon...</td>\n",
       "      <td>Pune</td>\n",
       "      <td>5</td>\n",
       "      <td>Lonavala</td>\n",
       "      <td>18.687172</td>\n",
       "      <td>73.393627</td>\n",
       "      <td>...</td>\n",
       "      <td>3</td>\n",
       "      <td>Rs.</td>\n",
       "      <td>['Lunch', 'Takeaway Available', 'Dinner', 'Cas...</td>\n",
       "      <td>3.9</td>\n",
       "      <td>Good</td>\n",
       "      <td>67</td>\n",
       "      <td>171</td>\n",
       "      <td>0.0</td>\n",
       "      <td>-1</td>\n",
       "      <td>-1</td>\n",
       "    </tr>\n",
       "  </tbody>\n",
       "</table>\n",
       "<p>4217 rows × 26 columns</p>\n",
       "</div>"
      ],
      "text/plain": [
       "          res_id                                     name      establishment  \\\n",
       "164447     11283                   Harajuku - The O Hotel    ['Fine Dining']   \n",
       "164448     10663                      Mix@36 - The Westin         ['Lounge']   \n",
       "164449     10743                      Kangan - The Westin    ['Fine Dining']   \n",
       "164450  18938162                     Palette - The Westin    ['Fine Dining']   \n",
       "164451  18310167          Coriander Kitchen - Conrad Pune    ['Fine Dining']   \n",
       "...          ...                                      ...                ...   \n",
       "168659     13061  Lonavla Restaurant & Bar- Hotel Lonavla  ['Casual Dining']   \n",
       "168660  18555341                                   Utopia  ['Casual Dining']   \n",
       "168661  18767059                             Mapro Garden  ['Casual Dining']   \n",
       "168662   6503906                         Hotel Chandralok  ['Casual Dining']   \n",
       "168663  18711838                            Lion's Dhaaba  ['Casual Dining']   \n",
       "\n",
       "                                                      url  \\\n",
       "164447  https://www.zomato.com/pune/harajuku-the-o-hot...   \n",
       "164448  https://www.zomato.com/pune/mix@36-the-westin-...   \n",
       "164449  https://www.zomato.com/pune/kangan-the-westin-...   \n",
       "164450  https://www.zomato.com/pune/palette-the-westin...   \n",
       "164451  https://www.zomato.com/pune/coriander-kitchen-...   \n",
       "...                                                   ...   \n",
       "168659  https://www.zomato.com/pune/lonavla-restaurant...   \n",
       "168660  https://www.zomato.com/pune/utopia-lonavala?ut...   \n",
       "168661  https://www.zomato.com/pune/mapro-garden-lonav...   \n",
       "168662  https://www.zomato.com/pune/hotel-chandralok-l...   \n",
       "168663  https://www.zomato.com/pune/lions-dhaaba-6-lon...   \n",
       "\n",
       "                                                  address  city  city_id  \\\n",
       "164447  The O Hotel, North Main Road, Koregaon Park, Pune  Pune        5   \n",
       "164448  The Westin, Survey 36/3B, KP Annexe Mundhwa Ro...  Pune        5   \n",
       "164449  The Westin, 36/3B, KP Annexe, Mundhwa Road, Mu...  Pune        5   \n",
       "164450  The Westin, 36/3B, KP Annexe, Mundhwa Road, Mu...  Pune        5   \n",
       "164451     Conrad, Mangaldas Road, Bund Garden Road, Pune  Pune        5   \n",
       "...                                                   ...   ...      ...   \n",
       "168659     Gawlinaka, Mumbai-Pune Highway, Lonavala, Pune  Pune        5   \n",
       "168660      CTS 159, Old Mumbai-Pune Road, Lonavala, Pune  Pune        5   \n",
       "168661  3 & 4, Old Mumbai - Pune Highway, Valvan, Lona...  Pune        5   \n",
       "168662  Near Bus Stand & Post Office, Opposite Mumbai-...  Pune        5   \n",
       "168663  Besides Lion's Point, Ambey Valley, Atvan, Lon...  Pune        5   \n",
       "\n",
       "                             locality   latitude  longitude  ... price_range  \\\n",
       "164447     The O Hotel, Koregaon Park  18.540239  73.887518  ...           4   \n",
       "164448            The Westin, Mundhwa  18.540040  73.905910  ...           4   \n",
       "164449            The Westin, Mundhwa  18.539455  73.906040  ...           4   \n",
       "164450            The Westin, Mundhwa  18.539430  73.906009  ...           4   \n",
       "164451  Conrad Pune, Bund Garden Road  18.535409  73.883592  ...           4   \n",
       "...                               ...        ...        ...  ...         ...   \n",
       "168659                       Lonavala  18.754747  73.405682  ...           3   \n",
       "168660                       Lonavala  18.754342  73.402737  ...           3   \n",
       "168661                       Lonavala  18.760234  73.419775  ...           2   \n",
       "168662                       Lonavala  18.753223  73.405655  ...           2   \n",
       "168663                       Lonavala  18.687172  73.393627  ...           3   \n",
       "\n",
       "        currency                                         highlights  \\\n",
       "164447       Rs.  ['Cash', 'Debit Card', 'Lunch', 'Credit Card',...   \n",
       "164448       Rs.  ['Cash', 'Debit Card', 'Serves Alcohol', 'Take...   \n",
       "164449       Rs.  ['Serves Alcohol', 'Cash', 'Debit Card', 'Take...   \n",
       "164450       Rs.  ['Serves Alcohol', 'Credit Card', 'Lunch', 'Ca...   \n",
       "164451       Rs.  ['Lunch', 'Serves Alcohol', 'Takeaway Availabl...   \n",
       "...          ...                                                ...   \n",
       "168659       Rs.  ['Dinner', 'Cash', 'Takeaway Available', 'Debi...   \n",
       "168660       Rs.  ['Dinner', 'Cash', 'Takeaway Available', 'Debi...   \n",
       "168661       Rs.  ['Dinner', 'Takeaway Available', 'No Alcohol A...   \n",
       "168662       Rs.  ['No Alcohol Available', 'Dinner', 'Takeaway A...   \n",
       "168663       Rs.  ['Lunch', 'Takeaway Available', 'Dinner', 'Cas...   \n",
       "\n",
       "       aggregate_rating rating_text  votes  photo_count opentable_support  \\\n",
       "164447              3.7        Good     96           38               0.0   \n",
       "164448              4.0   Very Good    682           78               0.0   \n",
       "164449              4.0   Very Good    310          285               0.0   \n",
       "164450              3.3     Average      9           31               0.0   \n",
       "164451              4.4   Very Good    500         1116               0.0   \n",
       "...                 ...         ...    ...          ...               ...   \n",
       "168659              4.3   Very Good    474           81               0.0   \n",
       "168660              3.9        Good    336          204               0.0   \n",
       "168661              4.3   Very Good    143          227               0.0   \n",
       "168662              4.3   Very Good    317           86               0.0   \n",
       "168663              3.9        Good     67          171               0.0   \n",
       "\n",
       "       delivery  takeaway  \n",
       "164447       -1        -1  \n",
       "164448       -1        -1  \n",
       "164449       -1        -1  \n",
       "164450       -1        -1  \n",
       "164451       -1        -1  \n",
       "...         ...       ...  \n",
       "168659       -1        -1  \n",
       "168660       -1        -1  \n",
       "168661       -1        -1  \n",
       "168662       -1        -1  \n",
       "168663       -1        -1  \n",
       "\n",
       "[4217 rows x 26 columns]"
      ]
     },
     "execution_count": 5,
     "metadata": {},
     "output_type": "execute_result"
    }
   ],
   "source": [
    "df[df['city']=='Pune']"
   ]
  },
  {
   "cell_type": "code",
   "execution_count": 6,
   "id": "b67b66a5",
   "metadata": {},
   "outputs": [
    {
     "data": {
      "text/plain": [
       "(211944, 26)"
      ]
     },
     "execution_count": 6,
     "metadata": {},
     "output_type": "execute_result"
    }
   ],
   "source": [
    "df.shape"
   ]
  },
  {
   "cell_type": "code",
   "execution_count": 7,
   "id": "b53ec18f",
   "metadata": {},
   "outputs": [
    {
     "name": "stdout",
     "output_type": "stream",
     "text": [
      "<class 'pandas.core.frame.DataFrame'>\n",
      "RangeIndex: 211944 entries, 0 to 211943\n",
      "Data columns (total 26 columns):\n",
      " #   Column                Non-Null Count   Dtype  \n",
      "---  ------                --------------   -----  \n",
      " 0   res_id                211944 non-null  int64  \n",
      " 1   name                  211944 non-null  object \n",
      " 2   establishment         211944 non-null  object \n",
      " 3   url                   211944 non-null  object \n",
      " 4   address               211810 non-null  object \n",
      " 5   city                  211944 non-null  object \n",
      " 6   city_id               211944 non-null  int64  \n",
      " 7   locality              211944 non-null  object \n",
      " 8   latitude              211944 non-null  float64\n",
      " 9   longitude             211944 non-null  float64\n",
      " 10  zipcode               48757 non-null   object \n",
      " 11  country_id            211944 non-null  int64  \n",
      " 12  locality_verbose      211944 non-null  object \n",
      " 13  cuisines              210553 non-null  object \n",
      " 14  timings               208070 non-null  object \n",
      " 15  average_cost_for_two  211944 non-null  int64  \n",
      " 16  price_range           211944 non-null  int64  \n",
      " 17  currency              211944 non-null  object \n",
      " 18  highlights            211944 non-null  object \n",
      " 19  aggregate_rating      211944 non-null  float64\n",
      " 20  rating_text           211944 non-null  object \n",
      " 21  votes                 211944 non-null  int64  \n",
      " 22  photo_count           211944 non-null  int64  \n",
      " 23  opentable_support     211896 non-null  float64\n",
      " 24  delivery              211944 non-null  int64  \n",
      " 25  takeaway              211944 non-null  int64  \n",
      "dtypes: float64(4), int64(9), object(13)\n",
      "memory usage: 42.0+ MB\n"
     ]
    }
   ],
   "source": [
    "df.info()"
   ]
  },
  {
   "cell_type": "code",
   "execution_count": 8,
   "id": "4df3dda1",
   "metadata": {},
   "outputs": [
    {
     "data": {
      "text/html": [
       "<div>\n",
       "<style scoped>\n",
       "    .dataframe tbody tr th:only-of-type {\n",
       "        vertical-align: middle;\n",
       "    }\n",
       "\n",
       "    .dataframe tbody tr th {\n",
       "        vertical-align: top;\n",
       "    }\n",
       "\n",
       "    .dataframe thead th {\n",
       "        text-align: right;\n",
       "    }\n",
       "</style>\n",
       "<table border=\"1\" class=\"dataframe\">\n",
       "  <thead>\n",
       "    <tr style=\"text-align: right;\">\n",
       "      <th></th>\n",
       "      <th>count</th>\n",
       "      <th>mean</th>\n",
       "      <th>std</th>\n",
       "      <th>min</th>\n",
       "      <th>25%</th>\n",
       "      <th>50%</th>\n",
       "      <th>75%</th>\n",
       "      <th>max</th>\n",
       "    </tr>\n",
       "  </thead>\n",
       "  <tbody>\n",
       "    <tr>\n",
       "      <th>res_id</th>\n",
       "      <td>211944.0</td>\n",
       "      <td>1.349411e+07</td>\n",
       "      <td>7.883722e+06</td>\n",
       "      <td>50.0</td>\n",
       "      <td>3.301027e+06</td>\n",
       "      <td>1.869573e+07</td>\n",
       "      <td>1.881297e+07</td>\n",
       "      <td>1.915979e+07</td>\n",
       "    </tr>\n",
       "    <tr>\n",
       "      <th>city_id</th>\n",
       "      <td>211944.0</td>\n",
       "      <td>4.746785e+03</td>\n",
       "      <td>5.568766e+03</td>\n",
       "      <td>1.0</td>\n",
       "      <td>1.100000e+01</td>\n",
       "      <td>3.400000e+01</td>\n",
       "      <td>1.130600e+04</td>\n",
       "      <td>1.135400e+04</td>\n",
       "    </tr>\n",
       "    <tr>\n",
       "      <th>latitude</th>\n",
       "      <td>211944.0</td>\n",
       "      <td>2.149976e+01</td>\n",
       "      <td>2.278133e+01</td>\n",
       "      <td>0.0</td>\n",
       "      <td>1.549607e+01</td>\n",
       "      <td>2.251449e+01</td>\n",
       "      <td>2.684167e+01</td>\n",
       "      <td>1.000000e+04</td>\n",
       "    </tr>\n",
       "    <tr>\n",
       "      <th>longitude</th>\n",
       "      <td>211944.0</td>\n",
       "      <td>7.761528e+01</td>\n",
       "      <td>7.500104e+00</td>\n",
       "      <td>0.0</td>\n",
       "      <td>7.487796e+01</td>\n",
       "      <td>7.742597e+01</td>\n",
       "      <td>8.021932e+01</td>\n",
       "      <td>9.183277e+01</td>\n",
       "    </tr>\n",
       "    <tr>\n",
       "      <th>country_id</th>\n",
       "      <td>211944.0</td>\n",
       "      <td>1.000000e+00</td>\n",
       "      <td>0.000000e+00</td>\n",
       "      <td>1.0</td>\n",
       "      <td>1.000000e+00</td>\n",
       "      <td>1.000000e+00</td>\n",
       "      <td>1.000000e+00</td>\n",
       "      <td>1.000000e+00</td>\n",
       "    </tr>\n",
       "    <tr>\n",
       "      <th>average_cost_for_two</th>\n",
       "      <td>211944.0</td>\n",
       "      <td>5.958122e+02</td>\n",
       "      <td>6.062394e+02</td>\n",
       "      <td>0.0</td>\n",
       "      <td>2.500000e+02</td>\n",
       "      <td>4.000000e+02</td>\n",
       "      <td>7.000000e+02</td>\n",
       "      <td>3.000000e+04</td>\n",
       "    </tr>\n",
       "    <tr>\n",
       "      <th>price_range</th>\n",
       "      <td>211944.0</td>\n",
       "      <td>1.882535e+00</td>\n",
       "      <td>8.929891e-01</td>\n",
       "      <td>1.0</td>\n",
       "      <td>1.000000e+00</td>\n",
       "      <td>2.000000e+00</td>\n",
       "      <td>2.000000e+00</td>\n",
       "      <td>4.000000e+00</td>\n",
       "    </tr>\n",
       "    <tr>\n",
       "      <th>aggregate_rating</th>\n",
       "      <td>211944.0</td>\n",
       "      <td>3.395937e+00</td>\n",
       "      <td>1.283642e+00</td>\n",
       "      <td>0.0</td>\n",
       "      <td>3.300000e+00</td>\n",
       "      <td>3.800000e+00</td>\n",
       "      <td>4.100000e+00</td>\n",
       "      <td>4.900000e+00</td>\n",
       "    </tr>\n",
       "    <tr>\n",
       "      <th>votes</th>\n",
       "      <td>211944.0</td>\n",
       "      <td>3.780019e+02</td>\n",
       "      <td>9.253334e+02</td>\n",
       "      <td>-18.0</td>\n",
       "      <td>1.600000e+01</td>\n",
       "      <td>1.000000e+02</td>\n",
       "      <td>3.620000e+02</td>\n",
       "      <td>4.253900e+04</td>\n",
       "    </tr>\n",
       "    <tr>\n",
       "      <th>photo_count</th>\n",
       "      <td>211944.0</td>\n",
       "      <td>2.569712e+02</td>\n",
       "      <td>8.676689e+02</td>\n",
       "      <td>0.0</td>\n",
       "      <td>3.000000e+00</td>\n",
       "      <td>1.800000e+01</td>\n",
       "      <td>1.280000e+02</td>\n",
       "      <td>1.770200e+04</td>\n",
       "    </tr>\n",
       "    <tr>\n",
       "      <th>opentable_support</th>\n",
       "      <td>211896.0</td>\n",
       "      <td>0.000000e+00</td>\n",
       "      <td>0.000000e+00</td>\n",
       "      <td>0.0</td>\n",
       "      <td>0.000000e+00</td>\n",
       "      <td>0.000000e+00</td>\n",
       "      <td>0.000000e+00</td>\n",
       "      <td>0.000000e+00</td>\n",
       "    </tr>\n",
       "    <tr>\n",
       "      <th>delivery</th>\n",
       "      <td>211944.0</td>\n",
       "      <td>-2.559072e-01</td>\n",
       "      <td>9.641721e-01</td>\n",
       "      <td>-1.0</td>\n",
       "      <td>-1.000000e+00</td>\n",
       "      <td>-1.000000e+00</td>\n",
       "      <td>1.000000e+00</td>\n",
       "      <td>1.000000e+00</td>\n",
       "    </tr>\n",
       "    <tr>\n",
       "      <th>takeaway</th>\n",
       "      <td>211944.0</td>\n",
       "      <td>-1.000000e+00</td>\n",
       "      <td>0.000000e+00</td>\n",
       "      <td>-1.0</td>\n",
       "      <td>-1.000000e+00</td>\n",
       "      <td>-1.000000e+00</td>\n",
       "      <td>-1.000000e+00</td>\n",
       "      <td>-1.000000e+00</td>\n",
       "    </tr>\n",
       "  </tbody>\n",
       "</table>\n",
       "</div>"
      ],
      "text/plain": [
       "                         count          mean           std   min  \\\n",
       "res_id                211944.0  1.349411e+07  7.883722e+06  50.0   \n",
       "city_id               211944.0  4.746785e+03  5.568766e+03   1.0   \n",
       "latitude              211944.0  2.149976e+01  2.278133e+01   0.0   \n",
       "longitude             211944.0  7.761528e+01  7.500104e+00   0.0   \n",
       "country_id            211944.0  1.000000e+00  0.000000e+00   1.0   \n",
       "average_cost_for_two  211944.0  5.958122e+02  6.062394e+02   0.0   \n",
       "price_range           211944.0  1.882535e+00  8.929891e-01   1.0   \n",
       "aggregate_rating      211944.0  3.395937e+00  1.283642e+00   0.0   \n",
       "votes                 211944.0  3.780019e+02  9.253334e+02 -18.0   \n",
       "photo_count           211944.0  2.569712e+02  8.676689e+02   0.0   \n",
       "opentable_support     211896.0  0.000000e+00  0.000000e+00   0.0   \n",
       "delivery              211944.0 -2.559072e-01  9.641721e-01  -1.0   \n",
       "takeaway              211944.0 -1.000000e+00  0.000000e+00  -1.0   \n",
       "\n",
       "                               25%           50%           75%           max  \n",
       "res_id                3.301027e+06  1.869573e+07  1.881297e+07  1.915979e+07  \n",
       "city_id               1.100000e+01  3.400000e+01  1.130600e+04  1.135400e+04  \n",
       "latitude              1.549607e+01  2.251449e+01  2.684167e+01  1.000000e+04  \n",
       "longitude             7.487796e+01  7.742597e+01  8.021932e+01  9.183277e+01  \n",
       "country_id            1.000000e+00  1.000000e+00  1.000000e+00  1.000000e+00  \n",
       "average_cost_for_two  2.500000e+02  4.000000e+02  7.000000e+02  3.000000e+04  \n",
       "price_range           1.000000e+00  2.000000e+00  2.000000e+00  4.000000e+00  \n",
       "aggregate_rating      3.300000e+00  3.800000e+00  4.100000e+00  4.900000e+00  \n",
       "votes                 1.600000e+01  1.000000e+02  3.620000e+02  4.253900e+04  \n",
       "photo_count           3.000000e+00  1.800000e+01  1.280000e+02  1.770200e+04  \n",
       "opentable_support     0.000000e+00  0.000000e+00  0.000000e+00  0.000000e+00  \n",
       "delivery             -1.000000e+00 -1.000000e+00  1.000000e+00  1.000000e+00  \n",
       "takeaway             -1.000000e+00 -1.000000e+00 -1.000000e+00 -1.000000e+00  "
      ]
     },
     "execution_count": 8,
     "metadata": {},
     "output_type": "execute_result"
    }
   ],
   "source": [
    "df.describe().T"
   ]
  },
  {
   "cell_type": "markdown",
   "id": "9e74f774",
   "metadata": {},
   "source": [
    "### 🥫Preprocessing :"
   ]
  },
  {
   "cell_type": "markdown",
   "id": "8ce6aba3",
   "metadata": {},
   "source": [
    "#### * Remove Dupliactes :"
   ]
  },
  {
   "cell_type": "code",
   "execution_count": 9,
   "id": "8154c0d5",
   "metadata": {},
   "outputs": [
    {
     "data": {
      "text/plain": [
       "151527"
      ]
     },
     "execution_count": 9,
     "metadata": {},
     "output_type": "execute_result"
    }
   ],
   "source": [
    "df.duplicated().sum()"
   ]
  },
  {
   "cell_type": "code",
   "execution_count": 10,
   "id": "8aa4ddab",
   "metadata": {},
   "outputs": [
    {
     "data": {
      "text/html": [
       "<div>\n",
       "<style scoped>\n",
       "    .dataframe tbody tr th:only-of-type {\n",
       "        vertical-align: middle;\n",
       "    }\n",
       "\n",
       "    .dataframe tbody tr th {\n",
       "        vertical-align: top;\n",
       "    }\n",
       "\n",
       "    .dataframe thead th {\n",
       "        text-align: right;\n",
       "    }\n",
       "</style>\n",
       "<table border=\"1\" class=\"dataframe\">\n",
       "  <thead>\n",
       "    <tr style=\"text-align: right;\">\n",
       "      <th></th>\n",
       "      <th>res_id</th>\n",
       "      <th>name</th>\n",
       "      <th>establishment</th>\n",
       "      <th>url</th>\n",
       "      <th>address</th>\n",
       "      <th>city</th>\n",
       "      <th>city_id</th>\n",
       "      <th>locality</th>\n",
       "      <th>latitude</th>\n",
       "      <th>longitude</th>\n",
       "      <th>...</th>\n",
       "      <th>price_range</th>\n",
       "      <th>currency</th>\n",
       "      <th>highlights</th>\n",
       "      <th>aggregate_rating</th>\n",
       "      <th>rating_text</th>\n",
       "      <th>votes</th>\n",
       "      <th>photo_count</th>\n",
       "      <th>opentable_support</th>\n",
       "      <th>delivery</th>\n",
       "      <th>takeaway</th>\n",
       "    </tr>\n",
       "  </thead>\n",
       "  <tbody>\n",
       "    <tr>\n",
       "      <th>101</th>\n",
       "      <td>3400059</td>\n",
       "      <td>Peshawri - ITC Mughal</td>\n",
       "      <td>['Fine Dining']</td>\n",
       "      <td>https://www.zomato.com/agra/peshawri-itc-mugha...</td>\n",
       "      <td>ITC Mughal, Fatehabad Road, Tajganj, Agra</td>\n",
       "      <td>Agra</td>\n",
       "      <td>34</td>\n",
       "      <td>ITC Mughal, Tajganj</td>\n",
       "      <td>27.161150</td>\n",
       "      <td>78.043993</td>\n",
       "      <td>...</td>\n",
       "      <td>4</td>\n",
       "      <td>Rs.</td>\n",
       "      <td>['Lunch', 'Cash', 'Credit Card', 'Dinner', 'De...</td>\n",
       "      <td>4.4</td>\n",
       "      <td>Very Good</td>\n",
       "      <td>353</td>\n",
       "      <td>154</td>\n",
       "      <td>0.0</td>\n",
       "      <td>-1</td>\n",
       "      <td>-1</td>\n",
       "    </tr>\n",
       "    <tr>\n",
       "      <th>116</th>\n",
       "      <td>3400060</td>\n",
       "      <td>Taj Bano - ITC Mughal</td>\n",
       "      <td>['Fine Dining']</td>\n",
       "      <td>https://www.zomato.com/agra/taj-bano-itc-mugha...</td>\n",
       "      <td>ITC Mughal, Fatehabad Road, Tajganj, Agra</td>\n",
       "      <td>Agra</td>\n",
       "      <td>34</td>\n",
       "      <td>ITC Mughal, Tajganj</td>\n",
       "      <td>27.161132</td>\n",
       "      <td>78.044022</td>\n",
       "      <td>...</td>\n",
       "      <td>4</td>\n",
       "      <td>Rs.</td>\n",
       "      <td>['Credit Card', 'Lunch', 'Cash', 'Debit Card',...</td>\n",
       "      <td>4.3</td>\n",
       "      <td>Very Good</td>\n",
       "      <td>96</td>\n",
       "      <td>205</td>\n",
       "      <td>0.0</td>\n",
       "      <td>-1</td>\n",
       "      <td>-1</td>\n",
       "    </tr>\n",
       "    <tr>\n",
       "      <th>140</th>\n",
       "      <td>3400017</td>\n",
       "      <td>Pinch Of Spice</td>\n",
       "      <td>['Casual Dining']</td>\n",
       "      <td>https://www.zomato.com/agra/pinch-of-spice-civ...</td>\n",
       "      <td>23/453, Opposite Sanjay Cinema, Wazipura Road,...</td>\n",
       "      <td>Agra</td>\n",
       "      <td>34</td>\n",
       "      <td>Civil Lines</td>\n",
       "      <td>27.201735</td>\n",
       "      <td>78.007625</td>\n",
       "      <td>...</td>\n",
       "      <td>4</td>\n",
       "      <td>Rs.</td>\n",
       "      <td>['Lunch', 'Delivery', 'Credit Card', 'Dinner',...</td>\n",
       "      <td>4.6</td>\n",
       "      <td>Excellent</td>\n",
       "      <td>915</td>\n",
       "      <td>105</td>\n",
       "      <td>0.0</td>\n",
       "      <td>1</td>\n",
       "      <td>-1</td>\n",
       "    </tr>\n",
       "    <tr>\n",
       "      <th>141</th>\n",
       "      <td>3400018</td>\n",
       "      <td>Pinch Of Spice</td>\n",
       "      <td>['Casual Dining']</td>\n",
       "      <td>https://www.zomato.com/agra/pinch-of-spice-taj...</td>\n",
       "      <td>1076/2, Fatehabad Road, Tajganj, Agra</td>\n",
       "      <td>Agra</td>\n",
       "      <td>34</td>\n",
       "      <td>Tajganj</td>\n",
       "      <td>27.159649</td>\n",
       "      <td>78.043304</td>\n",
       "      <td>...</td>\n",
       "      <td>4</td>\n",
       "      <td>Rs.</td>\n",
       "      <td>['Delivery', 'Dinner', 'Cash', 'Credit Card', ...</td>\n",
       "      <td>4.6</td>\n",
       "      <td>Excellent</td>\n",
       "      <td>965</td>\n",
       "      <td>690</td>\n",
       "      <td>0.0</td>\n",
       "      <td>1</td>\n",
       "      <td>-1</td>\n",
       "    </tr>\n",
       "    <tr>\n",
       "      <th>142</th>\n",
       "      <td>3400850</td>\n",
       "      <td>Urban Deck</td>\n",
       "      <td>['Casual Dining']</td>\n",
       "      <td>https://www.zomato.com/agra/urban-deck-2-civil...</td>\n",
       "      <td>5th Floor, The P L Palace Hotel, MG Road, Sanj...</td>\n",
       "      <td>Agra</td>\n",
       "      <td>34</td>\n",
       "      <td>Civil Lines</td>\n",
       "      <td>27.199573</td>\n",
       "      <td>78.003699</td>\n",
       "      <td>...</td>\n",
       "      <td>4</td>\n",
       "      <td>Rs.</td>\n",
       "      <td>['Dinner', 'Cash', 'Debit Card', 'Takeaway Ava...</td>\n",
       "      <td>4.3</td>\n",
       "      <td>Very Good</td>\n",
       "      <td>672</td>\n",
       "      <td>192</td>\n",
       "      <td>0.0</td>\n",
       "      <td>1</td>\n",
       "      <td>-1</td>\n",
       "    </tr>\n",
       "    <tr>\n",
       "      <th>...</th>\n",
       "      <td>...</td>\n",
       "      <td>...</td>\n",
       "      <td>...</td>\n",
       "      <td>...</td>\n",
       "      <td>...</td>\n",
       "      <td>...</td>\n",
       "      <td>...</td>\n",
       "      <td>...</td>\n",
       "      <td>...</td>\n",
       "      <td>...</td>\n",
       "      <td>...</td>\n",
       "      <td>...</td>\n",
       "      <td>...</td>\n",
       "      <td>...</td>\n",
       "      <td>...</td>\n",
       "      <td>...</td>\n",
       "      <td>...</td>\n",
       "      <td>...</td>\n",
       "      <td>...</td>\n",
       "      <td>...</td>\n",
       "      <td>...</td>\n",
       "    </tr>\n",
       "    <tr>\n",
       "      <th>211937</th>\n",
       "      <td>18855810</td>\n",
       "      <td>Biryani aur Baatein</td>\n",
       "      <td>['Casual Dining']</td>\n",
       "      <td>https://www.zomato.com/vadodara/biryani-aur-ba...</td>\n",
       "      <td>Shop 14, Atlantis K-10, A Wing, Genda Circle R...</td>\n",
       "      <td>Vadodara</td>\n",
       "      <td>32</td>\n",
       "      <td>Alkapuri</td>\n",
       "      <td>22.317746</td>\n",
       "      <td>73.168043</td>\n",
       "      <td>...</td>\n",
       "      <td>2</td>\n",
       "      <td>Rs.</td>\n",
       "      <td>['Dinner', 'Cash', 'Takeaway Available', 'Debi...</td>\n",
       "      <td>4.1</td>\n",
       "      <td>Very Good</td>\n",
       "      <td>154</td>\n",
       "      <td>96</td>\n",
       "      <td>0.0</td>\n",
       "      <td>-1</td>\n",
       "      <td>-1</td>\n",
       "    </tr>\n",
       "    <tr>\n",
       "      <th>211938</th>\n",
       "      <td>18662583</td>\n",
       "      <td>Wok On Fire</td>\n",
       "      <td>['Casual Dining']</td>\n",
       "      <td>https://www.zomato.com/vadodara/wok-on-fire-fa...</td>\n",
       "      <td>Ground Floor 1, Rossette Building, Opposite Se...</td>\n",
       "      <td>Vadodara</td>\n",
       "      <td>32</td>\n",
       "      <td>Fatehgunj</td>\n",
       "      <td>22.323357</td>\n",
       "      <td>73.187461</td>\n",
       "      <td>...</td>\n",
       "      <td>3</td>\n",
       "      <td>Rs.</td>\n",
       "      <td>['Dinner', 'Cash', 'Debit Card', 'Lunch', 'Tak...</td>\n",
       "      <td>4.0</td>\n",
       "      <td>Very Good</td>\n",
       "      <td>301</td>\n",
       "      <td>126</td>\n",
       "      <td>0.0</td>\n",
       "      <td>1</td>\n",
       "      <td>-1</td>\n",
       "    </tr>\n",
       "    <tr>\n",
       "      <th>211939</th>\n",
       "      <td>3202251</td>\n",
       "      <td>Kali Mirch Cafe And Restaurant</td>\n",
       "      <td>['Casual Dining']</td>\n",
       "      <td>https://www.zomato.com/vadodara/kali-mirch-caf...</td>\n",
       "      <td>Manu Smriti Complex, Near Navrachna School, GI...</td>\n",
       "      <td>Vadodara</td>\n",
       "      <td>32</td>\n",
       "      <td>Fatehgunj</td>\n",
       "      <td>22.336931</td>\n",
       "      <td>73.192356</td>\n",
       "      <td>...</td>\n",
       "      <td>2</td>\n",
       "      <td>Rs.</td>\n",
       "      <td>['Dinner', 'Cash', 'Lunch', 'Delivery', 'Indoo...</td>\n",
       "      <td>4.1</td>\n",
       "      <td>Very Good</td>\n",
       "      <td>243</td>\n",
       "      <td>40</td>\n",
       "      <td>0.0</td>\n",
       "      <td>-1</td>\n",
       "      <td>-1</td>\n",
       "    </tr>\n",
       "    <tr>\n",
       "      <th>211941</th>\n",
       "      <td>18984164</td>\n",
       "      <td>The Grand Thakar</td>\n",
       "      <td>['Casual Dining']</td>\n",
       "      <td>https://www.zomato.com/vadodara/the-grand-thak...</td>\n",
       "      <td>3rd Floor, Shreem Shalini Mall, Opposite Conqu...</td>\n",
       "      <td>Vadodara</td>\n",
       "      <td>32</td>\n",
       "      <td>Alkapuri</td>\n",
       "      <td>22.310563</td>\n",
       "      <td>73.171163</td>\n",
       "      <td>...</td>\n",
       "      <td>2</td>\n",
       "      <td>Rs.</td>\n",
       "      <td>['Dinner', 'Cash', 'Debit Card', 'Lunch', 'Tak...</td>\n",
       "      <td>4.0</td>\n",
       "      <td>Very Good</td>\n",
       "      <td>111</td>\n",
       "      <td>38</td>\n",
       "      <td>0.0</td>\n",
       "      <td>-1</td>\n",
       "      <td>-1</td>\n",
       "    </tr>\n",
       "    <tr>\n",
       "      <th>211943</th>\n",
       "      <td>18879846</td>\n",
       "      <td>Freshco's - The Health Cafe</td>\n",
       "      <td>['Café']</td>\n",
       "      <td>https://www.zomato.com/vadodara/freshcos-the-h...</td>\n",
       "      <td>Shop 7, Ground Floor, Opposite Natubhai Circle...</td>\n",
       "      <td>Vadodara</td>\n",
       "      <td>32</td>\n",
       "      <td>Vadiwadi</td>\n",
       "      <td>22.309935</td>\n",
       "      <td>73.158768</td>\n",
       "      <td>...</td>\n",
       "      <td>2</td>\n",
       "      <td>Rs.</td>\n",
       "      <td>['Dinner', 'Cash', 'Takeaway Available', 'Debi...</td>\n",
       "      <td>4.0</td>\n",
       "      <td>Very Good</td>\n",
       "      <td>93</td>\n",
       "      <td>53</td>\n",
       "      <td>0.0</td>\n",
       "      <td>1</td>\n",
       "      <td>-1</td>\n",
       "    </tr>\n",
       "  </tbody>\n",
       "</table>\n",
       "<p>151527 rows × 26 columns</p>\n",
       "</div>"
      ],
      "text/plain": [
       "          res_id                            name      establishment  \\\n",
       "101      3400059           Peshawri - ITC Mughal    ['Fine Dining']   \n",
       "116      3400060           Taj Bano - ITC Mughal    ['Fine Dining']   \n",
       "140      3400017                  Pinch Of Spice  ['Casual Dining']   \n",
       "141      3400018                  Pinch Of Spice  ['Casual Dining']   \n",
       "142      3400850                      Urban Deck  ['Casual Dining']   \n",
       "...          ...                             ...                ...   \n",
       "211937  18855810             Biryani aur Baatein  ['Casual Dining']   \n",
       "211938  18662583                     Wok On Fire  ['Casual Dining']   \n",
       "211939   3202251  Kali Mirch Cafe And Restaurant  ['Casual Dining']   \n",
       "211941  18984164                The Grand Thakar  ['Casual Dining']   \n",
       "211943  18879846     Freshco's - The Health Cafe           ['Café']   \n",
       "\n",
       "                                                      url  \\\n",
       "101     https://www.zomato.com/agra/peshawri-itc-mugha...   \n",
       "116     https://www.zomato.com/agra/taj-bano-itc-mugha...   \n",
       "140     https://www.zomato.com/agra/pinch-of-spice-civ...   \n",
       "141     https://www.zomato.com/agra/pinch-of-spice-taj...   \n",
       "142     https://www.zomato.com/agra/urban-deck-2-civil...   \n",
       "...                                                   ...   \n",
       "211937  https://www.zomato.com/vadodara/biryani-aur-ba...   \n",
       "211938  https://www.zomato.com/vadodara/wok-on-fire-fa...   \n",
       "211939  https://www.zomato.com/vadodara/kali-mirch-caf...   \n",
       "211941  https://www.zomato.com/vadodara/the-grand-thak...   \n",
       "211943  https://www.zomato.com/vadodara/freshcos-the-h...   \n",
       "\n",
       "                                                  address      city  city_id  \\\n",
       "101             ITC Mughal, Fatehabad Road, Tajganj, Agra      Agra       34   \n",
       "116             ITC Mughal, Fatehabad Road, Tajganj, Agra      Agra       34   \n",
       "140     23/453, Opposite Sanjay Cinema, Wazipura Road,...      Agra       34   \n",
       "141                 1076/2, Fatehabad Road, Tajganj, Agra      Agra       34   \n",
       "142     5th Floor, The P L Palace Hotel, MG Road, Sanj...      Agra       34   \n",
       "...                                                   ...       ...      ...   \n",
       "211937  Shop 14, Atlantis K-10, A Wing, Genda Circle R...  Vadodara       32   \n",
       "211938  Ground Floor 1, Rossette Building, Opposite Se...  Vadodara       32   \n",
       "211939  Manu Smriti Complex, Near Navrachna School, GI...  Vadodara       32   \n",
       "211941  3rd Floor, Shreem Shalini Mall, Opposite Conqu...  Vadodara       32   \n",
       "211943  Shop 7, Ground Floor, Opposite Natubhai Circle...  Vadodara       32   \n",
       "\n",
       "                   locality   latitude  longitude  ... price_range  currency  \\\n",
       "101     ITC Mughal, Tajganj  27.161150  78.043993  ...           4       Rs.   \n",
       "116     ITC Mughal, Tajganj  27.161132  78.044022  ...           4       Rs.   \n",
       "140             Civil Lines  27.201735  78.007625  ...           4       Rs.   \n",
       "141                 Tajganj  27.159649  78.043304  ...           4       Rs.   \n",
       "142             Civil Lines  27.199573  78.003699  ...           4       Rs.   \n",
       "...                     ...        ...        ...  ...         ...       ...   \n",
       "211937             Alkapuri  22.317746  73.168043  ...           2       Rs.   \n",
       "211938            Fatehgunj  22.323357  73.187461  ...           3       Rs.   \n",
       "211939            Fatehgunj  22.336931  73.192356  ...           2       Rs.   \n",
       "211941             Alkapuri  22.310563  73.171163  ...           2       Rs.   \n",
       "211943             Vadiwadi  22.309935  73.158768  ...           2       Rs.   \n",
       "\n",
       "                                               highlights aggregate_rating  \\\n",
       "101     ['Lunch', 'Cash', 'Credit Card', 'Dinner', 'De...              4.4   \n",
       "116     ['Credit Card', 'Lunch', 'Cash', 'Debit Card',...              4.3   \n",
       "140     ['Lunch', 'Delivery', 'Credit Card', 'Dinner',...              4.6   \n",
       "141     ['Delivery', 'Dinner', 'Cash', 'Credit Card', ...              4.6   \n",
       "142     ['Dinner', 'Cash', 'Debit Card', 'Takeaway Ava...              4.3   \n",
       "...                                                   ...              ...   \n",
       "211937  ['Dinner', 'Cash', 'Takeaway Available', 'Debi...              4.1   \n",
       "211938  ['Dinner', 'Cash', 'Debit Card', 'Lunch', 'Tak...              4.0   \n",
       "211939  ['Dinner', 'Cash', 'Lunch', 'Delivery', 'Indoo...              4.1   \n",
       "211941  ['Dinner', 'Cash', 'Debit Card', 'Lunch', 'Tak...              4.0   \n",
       "211943  ['Dinner', 'Cash', 'Takeaway Available', 'Debi...              4.0   \n",
       "\n",
       "       rating_text  votes  photo_count opentable_support delivery  takeaway  \n",
       "101      Very Good    353          154               0.0       -1        -1  \n",
       "116      Very Good     96          205               0.0       -1        -1  \n",
       "140      Excellent    915          105               0.0        1        -1  \n",
       "141      Excellent    965          690               0.0        1        -1  \n",
       "142      Very Good    672          192               0.0        1        -1  \n",
       "...            ...    ...          ...               ...      ...       ...  \n",
       "211937   Very Good    154           96               0.0       -1        -1  \n",
       "211938   Very Good    301          126               0.0        1        -1  \n",
       "211939   Very Good    243           40               0.0       -1        -1  \n",
       "211941   Very Good    111           38               0.0       -1        -1  \n",
       "211943   Very Good     93           53               0.0        1        -1  \n",
       "\n",
       "[151527 rows x 26 columns]"
      ]
     },
     "execution_count": 10,
     "metadata": {},
     "output_type": "execute_result"
    }
   ],
   "source": [
    "df[df.duplicated()]"
   ]
  },
  {
   "cell_type": "code",
   "execution_count": 11,
   "id": "86b89c61",
   "metadata": {},
   "outputs": [
    {
     "data": {
      "text/html": [
       "<div>\n",
       "<style scoped>\n",
       "    .dataframe tbody tr th:only-of-type {\n",
       "        vertical-align: middle;\n",
       "    }\n",
       "\n",
       "    .dataframe tbody tr th {\n",
       "        vertical-align: top;\n",
       "    }\n",
       "\n",
       "    .dataframe thead th {\n",
       "        text-align: right;\n",
       "    }\n",
       "</style>\n",
       "<table border=\"1\" class=\"dataframe\">\n",
       "  <thead>\n",
       "    <tr style=\"text-align: right;\">\n",
       "      <th></th>\n",
       "      <th>res_id</th>\n",
       "      <th>name</th>\n",
       "      <th>establishment</th>\n",
       "      <th>url</th>\n",
       "      <th>address</th>\n",
       "      <th>city</th>\n",
       "      <th>city_id</th>\n",
       "      <th>locality</th>\n",
       "      <th>latitude</th>\n",
       "      <th>longitude</th>\n",
       "      <th>...</th>\n",
       "      <th>price_range</th>\n",
       "      <th>currency</th>\n",
       "      <th>highlights</th>\n",
       "      <th>aggregate_rating</th>\n",
       "      <th>rating_text</th>\n",
       "      <th>votes</th>\n",
       "      <th>photo_count</th>\n",
       "      <th>opentable_support</th>\n",
       "      <th>delivery</th>\n",
       "      <th>takeaway</th>\n",
       "    </tr>\n",
       "  </thead>\n",
       "  <tbody>\n",
       "    <tr>\n",
       "      <th>57</th>\n",
       "      <td>3400059</td>\n",
       "      <td>Peshawri - ITC Mughal</td>\n",
       "      <td>['Fine Dining']</td>\n",
       "      <td>https://www.zomato.com/agra/peshawri-itc-mugha...</td>\n",
       "      <td>ITC Mughal, Fatehabad Road, Tajganj, Agra</td>\n",
       "      <td>Agra</td>\n",
       "      <td>34</td>\n",
       "      <td>ITC Mughal, Tajganj</td>\n",
       "      <td>27.16115</td>\n",
       "      <td>78.043993</td>\n",
       "      <td>...</td>\n",
       "      <td>4</td>\n",
       "      <td>Rs.</td>\n",
       "      <td>['Lunch', 'Cash', 'Credit Card', 'Dinner', 'De...</td>\n",
       "      <td>4.4</td>\n",
       "      <td>Very Good</td>\n",
       "      <td>353</td>\n",
       "      <td>154</td>\n",
       "      <td>0.0</td>\n",
       "      <td>-1</td>\n",
       "      <td>-1</td>\n",
       "    </tr>\n",
       "    <tr>\n",
       "      <th>101</th>\n",
       "      <td>3400059</td>\n",
       "      <td>Peshawri - ITC Mughal</td>\n",
       "      <td>['Fine Dining']</td>\n",
       "      <td>https://www.zomato.com/agra/peshawri-itc-mugha...</td>\n",
       "      <td>ITC Mughal, Fatehabad Road, Tajganj, Agra</td>\n",
       "      <td>Agra</td>\n",
       "      <td>34</td>\n",
       "      <td>ITC Mughal, Tajganj</td>\n",
       "      <td>27.16115</td>\n",
       "      <td>78.043993</td>\n",
       "      <td>...</td>\n",
       "      <td>4</td>\n",
       "      <td>Rs.</td>\n",
       "      <td>['Lunch', 'Cash', 'Credit Card', 'Dinner', 'De...</td>\n",
       "      <td>4.4</td>\n",
       "      <td>Very Good</td>\n",
       "      <td>353</td>\n",
       "      <td>154</td>\n",
       "      <td>0.0</td>\n",
       "      <td>-1</td>\n",
       "      <td>-1</td>\n",
       "    </tr>\n",
       "    <tr>\n",
       "      <th>317</th>\n",
       "      <td>3400059</td>\n",
       "      <td>Peshawri - ITC Mughal</td>\n",
       "      <td>['Fine Dining']</td>\n",
       "      <td>https://www.zomato.com/agra/peshawri-itc-mugha...</td>\n",
       "      <td>ITC Mughal, Fatehabad Road, Tajganj, Agra</td>\n",
       "      <td>Agra</td>\n",
       "      <td>34</td>\n",
       "      <td>ITC Mughal, Tajganj</td>\n",
       "      <td>27.16115</td>\n",
       "      <td>78.043993</td>\n",
       "      <td>...</td>\n",
       "      <td>4</td>\n",
       "      <td>Rs.</td>\n",
       "      <td>['Lunch', 'Cash', 'Credit Card', 'Dinner', 'De...</td>\n",
       "      <td>4.4</td>\n",
       "      <td>Very Good</td>\n",
       "      <td>353</td>\n",
       "      <td>154</td>\n",
       "      <td>0.0</td>\n",
       "      <td>-1</td>\n",
       "      <td>-1</td>\n",
       "    </tr>\n",
       "    <tr>\n",
       "      <th>532</th>\n",
       "      <td>3400059</td>\n",
       "      <td>Peshawri - ITC Mughal</td>\n",
       "      <td>['Fine Dining']</td>\n",
       "      <td>https://www.zomato.com/agra/peshawri-itc-mugha...</td>\n",
       "      <td>ITC Mughal, Fatehabad Road, Tajganj, Agra</td>\n",
       "      <td>Agra</td>\n",
       "      <td>34</td>\n",
       "      <td>ITC Mughal, Tajganj</td>\n",
       "      <td>27.16115</td>\n",
       "      <td>78.043993</td>\n",
       "      <td>...</td>\n",
       "      <td>4</td>\n",
       "      <td>Rs.</td>\n",
       "      <td>['Lunch', 'Cash', 'Credit Card', 'Dinner', 'De...</td>\n",
       "      <td>4.4</td>\n",
       "      <td>Very Good</td>\n",
       "      <td>353</td>\n",
       "      <td>154</td>\n",
       "      <td>0.0</td>\n",
       "      <td>-1</td>\n",
       "      <td>-1</td>\n",
       "    </tr>\n",
       "    <tr>\n",
       "      <th>847</th>\n",
       "      <td>3400059</td>\n",
       "      <td>Peshawri - ITC Mughal</td>\n",
       "      <td>['Fine Dining']</td>\n",
       "      <td>https://www.zomato.com/agra/peshawri-itc-mugha...</td>\n",
       "      <td>ITC Mughal, Fatehabad Road, Tajganj, Agra</td>\n",
       "      <td>Agra</td>\n",
       "      <td>34</td>\n",
       "      <td>ITC Mughal, Tajganj</td>\n",
       "      <td>27.16115</td>\n",
       "      <td>78.043993</td>\n",
       "      <td>...</td>\n",
       "      <td>4</td>\n",
       "      <td>Rs.</td>\n",
       "      <td>['Lunch', 'Cash', 'Credit Card', 'Dinner', 'De...</td>\n",
       "      <td>4.4</td>\n",
       "      <td>Very Good</td>\n",
       "      <td>353</td>\n",
       "      <td>154</td>\n",
       "      <td>0.0</td>\n",
       "      <td>-1</td>\n",
       "      <td>-1</td>\n",
       "    </tr>\n",
       "    <tr>\n",
       "      <th>1443</th>\n",
       "      <td>3400059</td>\n",
       "      <td>Peshawri - ITC Mughal</td>\n",
       "      <td>['Fine Dining']</td>\n",
       "      <td>https://www.zomato.com/agra/peshawri-itc-mugha...</td>\n",
       "      <td>ITC Mughal, Fatehabad Road, Tajganj, Agra</td>\n",
       "      <td>Agra</td>\n",
       "      <td>34</td>\n",
       "      <td>ITC Mughal, Tajganj</td>\n",
       "      <td>27.16115</td>\n",
       "      <td>78.043993</td>\n",
       "      <td>...</td>\n",
       "      <td>4</td>\n",
       "      <td>Rs.</td>\n",
       "      <td>['Lunch', 'Cash', 'Credit Card', 'Dinner', 'De...</td>\n",
       "      <td>4.4</td>\n",
       "      <td>Very Good</td>\n",
       "      <td>353</td>\n",
       "      <td>154</td>\n",
       "      <td>0.0</td>\n",
       "      <td>-1</td>\n",
       "      <td>-1</td>\n",
       "    </tr>\n",
       "    <tr>\n",
       "      <th>1827</th>\n",
       "      <td>3400059</td>\n",
       "      <td>Peshawri - ITC Mughal</td>\n",
       "      <td>['Fine Dining']</td>\n",
       "      <td>https://www.zomato.com/agra/peshawri-itc-mugha...</td>\n",
       "      <td>ITC Mughal, Fatehabad Road, Tajganj, Agra</td>\n",
       "      <td>Agra</td>\n",
       "      <td>34</td>\n",
       "      <td>ITC Mughal, Tajganj</td>\n",
       "      <td>27.16115</td>\n",
       "      <td>78.043993</td>\n",
       "      <td>...</td>\n",
       "      <td>4</td>\n",
       "      <td>Rs.</td>\n",
       "      <td>['Lunch', 'Cash', 'Credit Card', 'Dinner', 'De...</td>\n",
       "      <td>4.4</td>\n",
       "      <td>Very Good</td>\n",
       "      <td>353</td>\n",
       "      <td>154</td>\n",
       "      <td>0.0</td>\n",
       "      <td>-1</td>\n",
       "      <td>-1</td>\n",
       "    </tr>\n",
       "    <tr>\n",
       "      <th>1946</th>\n",
       "      <td>3400059</td>\n",
       "      <td>Peshawri - ITC Mughal</td>\n",
       "      <td>['Fine Dining']</td>\n",
       "      <td>https://www.zomato.com/agra/peshawri-itc-mugha...</td>\n",
       "      <td>ITC Mughal, Fatehabad Road, Tajganj, Agra</td>\n",
       "      <td>Agra</td>\n",
       "      <td>34</td>\n",
       "      <td>ITC Mughal, Tajganj</td>\n",
       "      <td>27.16115</td>\n",
       "      <td>78.043993</td>\n",
       "      <td>...</td>\n",
       "      <td>4</td>\n",
       "      <td>Rs.</td>\n",
       "      <td>['Lunch', 'Cash', 'Credit Card', 'Dinner', 'De...</td>\n",
       "      <td>4.4</td>\n",
       "      <td>Very Good</td>\n",
       "      <td>353</td>\n",
       "      <td>154</td>\n",
       "      <td>0.0</td>\n",
       "      <td>-1</td>\n",
       "      <td>-1</td>\n",
       "    </tr>\n",
       "    <tr>\n",
       "      <th>2049</th>\n",
       "      <td>3400059</td>\n",
       "      <td>Peshawri - ITC Mughal</td>\n",
       "      <td>['Fine Dining']</td>\n",
       "      <td>https://www.zomato.com/agra/peshawri-itc-mugha...</td>\n",
       "      <td>ITC Mughal, Fatehabad Road, Tajganj, Agra</td>\n",
       "      <td>Agra</td>\n",
       "      <td>34</td>\n",
       "      <td>ITC Mughal, Tajganj</td>\n",
       "      <td>27.16115</td>\n",
       "      <td>78.043993</td>\n",
       "      <td>...</td>\n",
       "      <td>4</td>\n",
       "      <td>Rs.</td>\n",
       "      <td>['Lunch', 'Cash', 'Credit Card', 'Dinner', 'De...</td>\n",
       "      <td>4.4</td>\n",
       "      <td>Very Good</td>\n",
       "      <td>353</td>\n",
       "      <td>154</td>\n",
       "      <td>0.0</td>\n",
       "      <td>-1</td>\n",
       "      <td>-1</td>\n",
       "    </tr>\n",
       "    <tr>\n",
       "      <th>2149</th>\n",
       "      <td>3400059</td>\n",
       "      <td>Peshawri - ITC Mughal</td>\n",
       "      <td>['Fine Dining']</td>\n",
       "      <td>https://www.zomato.com/agra/peshawri-itc-mugha...</td>\n",
       "      <td>ITC Mughal, Fatehabad Road, Tajganj, Agra</td>\n",
       "      <td>Agra</td>\n",
       "      <td>34</td>\n",
       "      <td>ITC Mughal, Tajganj</td>\n",
       "      <td>27.16115</td>\n",
       "      <td>78.043993</td>\n",
       "      <td>...</td>\n",
       "      <td>4</td>\n",
       "      <td>Rs.</td>\n",
       "      <td>['Lunch', 'Cash', 'Credit Card', 'Dinner', 'De...</td>\n",
       "      <td>4.4</td>\n",
       "      <td>Very Good</td>\n",
       "      <td>353</td>\n",
       "      <td>154</td>\n",
       "      <td>0.0</td>\n",
       "      <td>-1</td>\n",
       "      <td>-1</td>\n",
       "    </tr>\n",
       "    <tr>\n",
       "      <th>2249</th>\n",
       "      <td>3400059</td>\n",
       "      <td>Peshawri - ITC Mughal</td>\n",
       "      <td>['Fine Dining']</td>\n",
       "      <td>https://www.zomato.com/agra/peshawri-itc-mugha...</td>\n",
       "      <td>ITC Mughal, Fatehabad Road, Tajganj, Agra</td>\n",
       "      <td>Agra</td>\n",
       "      <td>34</td>\n",
       "      <td>ITC Mughal, Tajganj</td>\n",
       "      <td>27.16115</td>\n",
       "      <td>78.043993</td>\n",
       "      <td>...</td>\n",
       "      <td>4</td>\n",
       "      <td>Rs.</td>\n",
       "      <td>['Lunch', 'Cash', 'Credit Card', 'Dinner', 'De...</td>\n",
       "      <td>4.4</td>\n",
       "      <td>Very Good</td>\n",
       "      <td>353</td>\n",
       "      <td>154</td>\n",
       "      <td>0.0</td>\n",
       "      <td>-1</td>\n",
       "      <td>-1</td>\n",
       "    </tr>\n",
       "    <tr>\n",
       "      <th>2349</th>\n",
       "      <td>3400059</td>\n",
       "      <td>Peshawri - ITC Mughal</td>\n",
       "      <td>['Fine Dining']</td>\n",
       "      <td>https://www.zomato.com/agra/peshawri-itc-mugha...</td>\n",
       "      <td>ITC Mughal, Fatehabad Road, Tajganj, Agra</td>\n",
       "      <td>Agra</td>\n",
       "      <td>34</td>\n",
       "      <td>ITC Mughal, Tajganj</td>\n",
       "      <td>27.16115</td>\n",
       "      <td>78.043993</td>\n",
       "      <td>...</td>\n",
       "      <td>4</td>\n",
       "      <td>Rs.</td>\n",
       "      <td>['Lunch', 'Cash', 'Credit Card', 'Dinner', 'De...</td>\n",
       "      <td>4.4</td>\n",
       "      <td>Very Good</td>\n",
       "      <td>353</td>\n",
       "      <td>154</td>\n",
       "      <td>0.0</td>\n",
       "      <td>-1</td>\n",
       "      <td>-1</td>\n",
       "    </tr>\n",
       "    <tr>\n",
       "      <th>2395</th>\n",
       "      <td>3400059</td>\n",
       "      <td>Peshawri - ITC Mughal</td>\n",
       "      <td>['Fine Dining']</td>\n",
       "      <td>https://www.zomato.com/agra/peshawri-itc-mugha...</td>\n",
       "      <td>ITC Mughal, Fatehabad Road, Tajganj, Agra</td>\n",
       "      <td>Agra</td>\n",
       "      <td>34</td>\n",
       "      <td>ITC Mughal, Tajganj</td>\n",
       "      <td>27.16115</td>\n",
       "      <td>78.043993</td>\n",
       "      <td>...</td>\n",
       "      <td>4</td>\n",
       "      <td>Rs.</td>\n",
       "      <td>['Lunch', 'Cash', 'Credit Card', 'Dinner', 'De...</td>\n",
       "      <td>4.4</td>\n",
       "      <td>Very Good</td>\n",
       "      <td>353</td>\n",
       "      <td>154</td>\n",
       "      <td>0.0</td>\n",
       "      <td>-1</td>\n",
       "      <td>-1</td>\n",
       "    </tr>\n",
       "    <tr>\n",
       "      <th>2402</th>\n",
       "      <td>3400059</td>\n",
       "      <td>Peshawri - ITC Mughal</td>\n",
       "      <td>['Fine Dining']</td>\n",
       "      <td>https://www.zomato.com/agra/peshawri-itc-mugha...</td>\n",
       "      <td>ITC Mughal, Fatehabad Road, Tajganj, Agra</td>\n",
       "      <td>Agra</td>\n",
       "      <td>34</td>\n",
       "      <td>ITC Mughal, Tajganj</td>\n",
       "      <td>27.16115</td>\n",
       "      <td>78.043993</td>\n",
       "      <td>...</td>\n",
       "      <td>4</td>\n",
       "      <td>Rs.</td>\n",
       "      <td>['Lunch', 'Cash', 'Credit Card', 'Dinner', 'De...</td>\n",
       "      <td>4.4</td>\n",
       "      <td>Very Good</td>\n",
       "      <td>353</td>\n",
       "      <td>154</td>\n",
       "      <td>0.0</td>\n",
       "      <td>-1</td>\n",
       "      <td>-1</td>\n",
       "    </tr>\n",
       "    <tr>\n",
       "      <th>2413</th>\n",
       "      <td>3400059</td>\n",
       "      <td>Peshawri - ITC Mughal</td>\n",
       "      <td>['Fine Dining']</td>\n",
       "      <td>https://www.zomato.com/agra/peshawri-itc-mugha...</td>\n",
       "      <td>ITC Mughal, Fatehabad Road, Tajganj, Agra</td>\n",
       "      <td>Agra</td>\n",
       "      <td>34</td>\n",
       "      <td>ITC Mughal, Tajganj</td>\n",
       "      <td>27.16115</td>\n",
       "      <td>78.043993</td>\n",
       "      <td>...</td>\n",
       "      <td>4</td>\n",
       "      <td>Rs.</td>\n",
       "      <td>['Lunch', 'Cash', 'Credit Card', 'Dinner', 'De...</td>\n",
       "      <td>4.4</td>\n",
       "      <td>Very Good</td>\n",
       "      <td>353</td>\n",
       "      <td>154</td>\n",
       "      <td>0.0</td>\n",
       "      <td>-1</td>\n",
       "      <td>-1</td>\n",
       "    </tr>\n",
       "  </tbody>\n",
       "</table>\n",
       "<p>15 rows × 26 columns</p>\n",
       "</div>"
      ],
      "text/plain": [
       "       res_id                   name    establishment  \\\n",
       "57    3400059  Peshawri - ITC Mughal  ['Fine Dining']   \n",
       "101   3400059  Peshawri - ITC Mughal  ['Fine Dining']   \n",
       "317   3400059  Peshawri - ITC Mughal  ['Fine Dining']   \n",
       "532   3400059  Peshawri - ITC Mughal  ['Fine Dining']   \n",
       "847   3400059  Peshawri - ITC Mughal  ['Fine Dining']   \n",
       "1443  3400059  Peshawri - ITC Mughal  ['Fine Dining']   \n",
       "1827  3400059  Peshawri - ITC Mughal  ['Fine Dining']   \n",
       "1946  3400059  Peshawri - ITC Mughal  ['Fine Dining']   \n",
       "2049  3400059  Peshawri - ITC Mughal  ['Fine Dining']   \n",
       "2149  3400059  Peshawri - ITC Mughal  ['Fine Dining']   \n",
       "2249  3400059  Peshawri - ITC Mughal  ['Fine Dining']   \n",
       "2349  3400059  Peshawri - ITC Mughal  ['Fine Dining']   \n",
       "2395  3400059  Peshawri - ITC Mughal  ['Fine Dining']   \n",
       "2402  3400059  Peshawri - ITC Mughal  ['Fine Dining']   \n",
       "2413  3400059  Peshawri - ITC Mughal  ['Fine Dining']   \n",
       "\n",
       "                                                    url  \\\n",
       "57    https://www.zomato.com/agra/peshawri-itc-mugha...   \n",
       "101   https://www.zomato.com/agra/peshawri-itc-mugha...   \n",
       "317   https://www.zomato.com/agra/peshawri-itc-mugha...   \n",
       "532   https://www.zomato.com/agra/peshawri-itc-mugha...   \n",
       "847   https://www.zomato.com/agra/peshawri-itc-mugha...   \n",
       "1443  https://www.zomato.com/agra/peshawri-itc-mugha...   \n",
       "1827  https://www.zomato.com/agra/peshawri-itc-mugha...   \n",
       "1946  https://www.zomato.com/agra/peshawri-itc-mugha...   \n",
       "2049  https://www.zomato.com/agra/peshawri-itc-mugha...   \n",
       "2149  https://www.zomato.com/agra/peshawri-itc-mugha...   \n",
       "2249  https://www.zomato.com/agra/peshawri-itc-mugha...   \n",
       "2349  https://www.zomato.com/agra/peshawri-itc-mugha...   \n",
       "2395  https://www.zomato.com/agra/peshawri-itc-mugha...   \n",
       "2402  https://www.zomato.com/agra/peshawri-itc-mugha...   \n",
       "2413  https://www.zomato.com/agra/peshawri-itc-mugha...   \n",
       "\n",
       "                                        address  city  city_id  \\\n",
       "57    ITC Mughal, Fatehabad Road, Tajganj, Agra  Agra       34   \n",
       "101   ITC Mughal, Fatehabad Road, Tajganj, Agra  Agra       34   \n",
       "317   ITC Mughal, Fatehabad Road, Tajganj, Agra  Agra       34   \n",
       "532   ITC Mughal, Fatehabad Road, Tajganj, Agra  Agra       34   \n",
       "847   ITC Mughal, Fatehabad Road, Tajganj, Agra  Agra       34   \n",
       "1443  ITC Mughal, Fatehabad Road, Tajganj, Agra  Agra       34   \n",
       "1827  ITC Mughal, Fatehabad Road, Tajganj, Agra  Agra       34   \n",
       "1946  ITC Mughal, Fatehabad Road, Tajganj, Agra  Agra       34   \n",
       "2049  ITC Mughal, Fatehabad Road, Tajganj, Agra  Agra       34   \n",
       "2149  ITC Mughal, Fatehabad Road, Tajganj, Agra  Agra       34   \n",
       "2249  ITC Mughal, Fatehabad Road, Tajganj, Agra  Agra       34   \n",
       "2349  ITC Mughal, Fatehabad Road, Tajganj, Agra  Agra       34   \n",
       "2395  ITC Mughal, Fatehabad Road, Tajganj, Agra  Agra       34   \n",
       "2402  ITC Mughal, Fatehabad Road, Tajganj, Agra  Agra       34   \n",
       "2413  ITC Mughal, Fatehabad Road, Tajganj, Agra  Agra       34   \n",
       "\n",
       "                 locality  latitude  longitude  ... price_range  currency  \\\n",
       "57    ITC Mughal, Tajganj  27.16115  78.043993  ...           4       Rs.   \n",
       "101   ITC Mughal, Tajganj  27.16115  78.043993  ...           4       Rs.   \n",
       "317   ITC Mughal, Tajganj  27.16115  78.043993  ...           4       Rs.   \n",
       "532   ITC Mughal, Tajganj  27.16115  78.043993  ...           4       Rs.   \n",
       "847   ITC Mughal, Tajganj  27.16115  78.043993  ...           4       Rs.   \n",
       "1443  ITC Mughal, Tajganj  27.16115  78.043993  ...           4       Rs.   \n",
       "1827  ITC Mughal, Tajganj  27.16115  78.043993  ...           4       Rs.   \n",
       "1946  ITC Mughal, Tajganj  27.16115  78.043993  ...           4       Rs.   \n",
       "2049  ITC Mughal, Tajganj  27.16115  78.043993  ...           4       Rs.   \n",
       "2149  ITC Mughal, Tajganj  27.16115  78.043993  ...           4       Rs.   \n",
       "2249  ITC Mughal, Tajganj  27.16115  78.043993  ...           4       Rs.   \n",
       "2349  ITC Mughal, Tajganj  27.16115  78.043993  ...           4       Rs.   \n",
       "2395  ITC Mughal, Tajganj  27.16115  78.043993  ...           4       Rs.   \n",
       "2402  ITC Mughal, Tajganj  27.16115  78.043993  ...           4       Rs.   \n",
       "2413  ITC Mughal, Tajganj  27.16115  78.043993  ...           4       Rs.   \n",
       "\n",
       "                                             highlights aggregate_rating  \\\n",
       "57    ['Lunch', 'Cash', 'Credit Card', 'Dinner', 'De...              4.4   \n",
       "101   ['Lunch', 'Cash', 'Credit Card', 'Dinner', 'De...              4.4   \n",
       "317   ['Lunch', 'Cash', 'Credit Card', 'Dinner', 'De...              4.4   \n",
       "532   ['Lunch', 'Cash', 'Credit Card', 'Dinner', 'De...              4.4   \n",
       "847   ['Lunch', 'Cash', 'Credit Card', 'Dinner', 'De...              4.4   \n",
       "1443  ['Lunch', 'Cash', 'Credit Card', 'Dinner', 'De...              4.4   \n",
       "1827  ['Lunch', 'Cash', 'Credit Card', 'Dinner', 'De...              4.4   \n",
       "1946  ['Lunch', 'Cash', 'Credit Card', 'Dinner', 'De...              4.4   \n",
       "2049  ['Lunch', 'Cash', 'Credit Card', 'Dinner', 'De...              4.4   \n",
       "2149  ['Lunch', 'Cash', 'Credit Card', 'Dinner', 'De...              4.4   \n",
       "2249  ['Lunch', 'Cash', 'Credit Card', 'Dinner', 'De...              4.4   \n",
       "2349  ['Lunch', 'Cash', 'Credit Card', 'Dinner', 'De...              4.4   \n",
       "2395  ['Lunch', 'Cash', 'Credit Card', 'Dinner', 'De...              4.4   \n",
       "2402  ['Lunch', 'Cash', 'Credit Card', 'Dinner', 'De...              4.4   \n",
       "2413  ['Lunch', 'Cash', 'Credit Card', 'Dinner', 'De...              4.4   \n",
       "\n",
       "     rating_text  votes  photo_count opentable_support delivery  takeaway  \n",
       "57     Very Good    353          154               0.0       -1        -1  \n",
       "101    Very Good    353          154               0.0       -1        -1  \n",
       "317    Very Good    353          154               0.0       -1        -1  \n",
       "532    Very Good    353          154               0.0       -1        -1  \n",
       "847    Very Good    353          154               0.0       -1        -1  \n",
       "1443   Very Good    353          154               0.0       -1        -1  \n",
       "1827   Very Good    353          154               0.0       -1        -1  \n",
       "1946   Very Good    353          154               0.0       -1        -1  \n",
       "2049   Very Good    353          154               0.0       -1        -1  \n",
       "2149   Very Good    353          154               0.0       -1        -1  \n",
       "2249   Very Good    353          154               0.0       -1        -1  \n",
       "2349   Very Good    353          154               0.0       -1        -1  \n",
       "2395   Very Good    353          154               0.0       -1        -1  \n",
       "2402   Very Good    353          154               0.0       -1        -1  \n",
       "2413   Very Good    353          154               0.0       -1        -1  \n",
       "\n",
       "[15 rows x 26 columns]"
      ]
     },
     "execution_count": 11,
     "metadata": {},
     "output_type": "execute_result"
    }
   ],
   "source": [
    "df[df['res_id']==3400059]"
   ]
  },
  {
   "cell_type": "code",
   "execution_count": 12,
   "id": "6529fc58",
   "metadata": {},
   "outputs": [
    {
     "data": {
      "text/plain": [
       "71.49388517721663"
      ]
     },
     "execution_count": 12,
     "metadata": {},
     "output_type": "execute_result"
    }
   ],
   "source": [
    "(df.duplicated().sum()/df.shape[0])*100"
   ]
  },
  {
   "cell_type": "markdown",
   "id": "7994a80c",
   "metadata": {},
   "source": [
    "* 71 % data is duplicate"
   ]
  },
  {
   "cell_type": "code",
   "execution_count": 13,
   "id": "91492bb5",
   "metadata": {},
   "outputs": [],
   "source": [
    "df.drop_duplicates(['res_id'], keep='first', inplace=True)"
   ]
  },
  {
   "cell_type": "markdown",
   "id": "1c681f2d",
   "metadata": {},
   "source": [
    "#### * Check missing values"
   ]
  },
  {
   "cell_type": "code",
   "execution_count": 14,
   "id": "54e078fc",
   "metadata": {},
   "outputs": [
    {
     "data": {
      "text/plain": [
       "zipcode                 44623\n",
       "timings                  1003\n",
       "cuisines                  470\n",
       "address                    18\n",
       "opentable_support          12\n",
       "delivery                    0\n",
       "photo_count                 0\n",
       "votes                       0\n",
       "rating_text                 0\n",
       "aggregate_rating            0\n",
       "highlights                  0\n",
       "currency                    0\n",
       "price_range                 0\n",
       "average_cost_for_two        0\n",
       "res_id                      0\n",
       "name                        0\n",
       "locality_verbose            0\n",
       "country_id                  0\n",
       "longitude                   0\n",
       "latitude                    0\n",
       "locality                    0\n",
       "city_id                     0\n",
       "city                        0\n",
       "url                         0\n",
       "establishment               0\n",
       "takeaway                    0\n",
       "dtype: int64"
      ]
     },
     "execution_count": 14,
     "metadata": {},
     "output_type": "execute_result"
    }
   ],
   "source": [
    "df.isnull().sum().sort_values(ascending=False)"
   ]
  },
  {
   "cell_type": "code",
   "execution_count": 15,
   "id": "c30a925e",
   "metadata": {},
   "outputs": [
    {
     "data": {
      "text/plain": [
       "zipcode              44623\n",
       "timings               1003\n",
       "cuisines               470\n",
       "address                 18\n",
       "opentable_support       12\n",
       "dtype: int64"
      ]
     },
     "execution_count": 15,
     "metadata": {},
     "output_type": "execute_result"
    }
   ],
   "source": [
    "missing_var = df.isnull().sum().sort_values(ascending=False)[:5]\n",
    "missing_var"
   ]
  },
  {
   "cell_type": "code",
   "execution_count": 34,
   "id": "bd5a8c23",
   "metadata": {},
   "outputs": [
    {
     "data": {
      "text/plain": [
       "zipcode              80.303412\n",
       "timings               1.804996\n",
       "cuisines              0.845811\n",
       "address               0.032393\n",
       "opentable_support     0.021595\n",
       "dtype: float64"
      ]
     },
     "execution_count": 34,
     "metadata": {},
     "output_type": "execute_result"
    }
   ],
   "source": [
    "(missing_var/df.shape[0])*100"
   ]
  },
  {
   "cell_type": "markdown",
   "id": "d309fa7d",
   "metadata": {},
   "source": [
    "* Zipcode has 80% missing values so we better can drop it"
   ]
  },
  {
   "cell_type": "markdown",
   "id": "2ef15f1d",
   "metadata": {},
   "source": [
    "#### * Ommiting not useful features"
   ]
  },
  {
   "cell_type": "code",
   "execution_count": 17,
   "id": "e66c5883",
   "metadata": {},
   "outputs": [
    {
     "data": {
      "text/plain": [
       "55568"
      ]
     },
     "execution_count": 17,
     "metadata": {},
     "output_type": "execute_result"
    }
   ],
   "source": [
    "df['res_id'].nunique()"
   ]
  },
  {
   "cell_type": "markdown",
   "id": "7d10f86a",
   "metadata": {},
   "source": [
    "* res_id : unique ID for each restaurant"
   ]
  },
  {
   "cell_type": "code",
   "execution_count": 18,
   "id": "4f2b7a1e",
   "metadata": {},
   "outputs": [
    {
     "data": {
      "text/plain": [
       "array([\"['Quick Bites']\", \"['Casual Dining']\", \"['Bakery']\", \"['Café']\",\n",
       "       \"['Dhaba']\", \"['Bhojanalya']\", \"['Bar']\", \"['Sweet Shop']\",\n",
       "       \"['Fine Dining']\", \"['Food Truck']\", \"['Dessert Parlour']\",\n",
       "       \"['Lounge']\", \"['Pub']\", \"['Beverage Shop']\", \"['Kiosk']\",\n",
       "       \"['Paan Shop']\", \"['Confectionery']\", '[]', \"['Shack']\",\n",
       "       \"['Club']\", \"['Food Court']\", \"['Mess']\", \"['Butcher Shop']\",\n",
       "       \"['Microbrewery']\", \"['Cocktail Bar']\", \"['Pop up']\",\n",
       "       \"['Irani Cafe']\"], dtype=object)"
      ]
     },
     "execution_count": 18,
     "metadata": {},
     "output_type": "execute_result"
    }
   ],
   "source": [
    "df['establishment'].unique()"
   ]
  },
  {
   "cell_type": "markdown",
   "id": "bf8db681",
   "metadata": {},
   "source": [
    "* establishment looks useful feature to categories resturants\n",
    "* we need to remove unecessary brackets and quotes from the feature"
   ]
  },
  {
   "cell_type": "code",
   "execution_count": 19,
   "id": "4a9bc727",
   "metadata": {},
   "outputs": [],
   "source": [
    "df['establishment'] = df['establishment'].apply(lambda x : x[2:-2])"
   ]
  },
  {
   "cell_type": "markdown",
   "id": "d0f58179",
   "metadata": {},
   "source": [
    "* we have one empty value lets replace it with Na"
   ]
  },
  {
   "cell_type": "code",
   "execution_count": 20,
   "id": "7c5c8d56",
   "metadata": {},
   "outputs": [
    {
     "data": {
      "text/plain": [
       "array(['Quick Bites', 'Casual Dining', 'Bakery', 'Café', 'Dhaba',\n",
       "       'Bhojanalya', 'Bar', 'Sweet Shop', 'Fine Dining', 'Food Truck',\n",
       "       'Dessert Parlour', 'Lounge', 'Pub', 'Beverage Shop', 'Kiosk',\n",
       "       'Paan Shop', 'Confectionery', '', 'Shack', 'Club', 'Food Court',\n",
       "       'Mess', 'Butcher Shop', 'Microbrewery', 'Cocktail Bar', 'Pop up',\n",
       "       'Irani Cafe'], dtype=object)"
      ]
     },
     "execution_count": 20,
     "metadata": {},
     "output_type": "execute_result"
    }
   ],
   "source": [
    "df['establishment'].unique()"
   ]
  },
  {
   "cell_type": "code",
   "execution_count": 21,
   "id": "ff1bcc66",
   "metadata": {},
   "outputs": [
    {
     "data": {
      "text/html": [
       "<div>\n",
       "<style scoped>\n",
       "    .dataframe tbody tr th:only-of-type {\n",
       "        vertical-align: middle;\n",
       "    }\n",
       "\n",
       "    .dataframe tbody tr th {\n",
       "        vertical-align: top;\n",
       "    }\n",
       "\n",
       "    .dataframe thead th {\n",
       "        text-align: right;\n",
       "    }\n",
       "</style>\n",
       "<table border=\"1\" class=\"dataframe\">\n",
       "  <thead>\n",
       "    <tr style=\"text-align: right;\">\n",
       "      <th></th>\n",
       "      <th>res_id</th>\n",
       "      <th>name</th>\n",
       "      <th>establishment</th>\n",
       "      <th>url</th>\n",
       "      <th>address</th>\n",
       "      <th>city</th>\n",
       "      <th>city_id</th>\n",
       "      <th>locality</th>\n",
       "      <th>latitude</th>\n",
       "      <th>longitude</th>\n",
       "      <th>...</th>\n",
       "      <th>price_range</th>\n",
       "      <th>currency</th>\n",
       "      <th>highlights</th>\n",
       "      <th>aggregate_rating</th>\n",
       "      <th>rating_text</th>\n",
       "      <th>votes</th>\n",
       "      <th>photo_count</th>\n",
       "      <th>opentable_support</th>\n",
       "      <th>delivery</th>\n",
       "      <th>takeaway</th>\n",
       "    </tr>\n",
       "  </thead>\n",
       "  <tbody>\n",
       "    <tr>\n",
       "      <th>208</th>\n",
       "      <td>18691949</td>\n",
       "      <td>Sadar Wala</td>\n",
       "      <td></td>\n",
       "      <td>https://www.zomato.com/agra/sadar-wala-shahgan...</td>\n",
       "      <td>100 Feet Road, Maruti Estate, Near Simpkins Sc...</td>\n",
       "      <td>Agra</td>\n",
       "      <td>34</td>\n",
       "      <td>Shahganj</td>\n",
       "      <td>27.182653</td>\n",
       "      <td>77.966487</td>\n",
       "      <td>...</td>\n",
       "      <td>1</td>\n",
       "      <td>Rs.</td>\n",
       "      <td>['Cash', 'Takeaway Available']</td>\n",
       "      <td>3.8</td>\n",
       "      <td>Good</td>\n",
       "      <td>156</td>\n",
       "      <td>11</td>\n",
       "      <td>0.0</td>\n",
       "      <td>-1</td>\n",
       "      <td>-1</td>\n",
       "    </tr>\n",
       "    <tr>\n",
       "      <th>230</th>\n",
       "      <td>18998759</td>\n",
       "      <td>Agra Puri Bhandar</td>\n",
       "      <td></td>\n",
       "      <td>https://www.zomato.com/agra/agra-puri-bhandar-...</td>\n",
       "      <td>Purani Mandi Circle, Tajganj, Agra</td>\n",
       "      <td>Agra</td>\n",
       "      <td>34</td>\n",
       "      <td>Tajganj</td>\n",
       "      <td>27.167421</td>\n",
       "      <td>78.036395</td>\n",
       "      <td>...</td>\n",
       "      <td>1</td>\n",
       "      <td>Rs.</td>\n",
       "      <td>['Dinner', 'Takeaway Available', 'Lunch', 'Cas...</td>\n",
       "      <td>3.1</td>\n",
       "      <td>Average</td>\n",
       "      <td>8</td>\n",
       "      <td>2</td>\n",
       "      <td>0.0</td>\n",
       "      <td>-1</td>\n",
       "      <td>-1</td>\n",
       "    </tr>\n",
       "    <tr>\n",
       "      <th>233</th>\n",
       "      <td>18965086</td>\n",
       "      <td>Sagar Chowmein</td>\n",
       "      <td></td>\n",
       "      <td>https://www.zomato.com/agra/sagar-chowmein-kam...</td>\n",
       "      <td>In Front Of Balkeshwar Park, Kamla Nagar, Agra</td>\n",
       "      <td>Agra</td>\n",
       "      <td>34</td>\n",
       "      <td>Kamla Nagar</td>\n",
       "      <td>27.212712</td>\n",
       "      <td>78.030463</td>\n",
       "      <td>...</td>\n",
       "      <td>1</td>\n",
       "      <td>Rs.</td>\n",
       "      <td>['Dinner', 'Cash', 'Standing Tables', 'Takeawa...</td>\n",
       "      <td>3.4</td>\n",
       "      <td>Average</td>\n",
       "      <td>14</td>\n",
       "      <td>1</td>\n",
       "      <td>0.0</td>\n",
       "      <td>1</td>\n",
       "      <td>-1</td>\n",
       "    </tr>\n",
       "  </tbody>\n",
       "</table>\n",
       "<p>3 rows × 26 columns</p>\n",
       "</div>"
      ],
      "text/plain": [
       "       res_id               name establishment  \\\n",
       "208  18691949         Sadar Wala                 \n",
       "230  18998759  Agra Puri Bhandar                 \n",
       "233  18965086     Sagar Chowmein                 \n",
       "\n",
       "                                                   url  \\\n",
       "208  https://www.zomato.com/agra/sadar-wala-shahgan...   \n",
       "230  https://www.zomato.com/agra/agra-puri-bhandar-...   \n",
       "233  https://www.zomato.com/agra/sagar-chowmein-kam...   \n",
       "\n",
       "                                               address  city  city_id  \\\n",
       "208  100 Feet Road, Maruti Estate, Near Simpkins Sc...  Agra       34   \n",
       "230                 Purani Mandi Circle, Tajganj, Agra  Agra       34   \n",
       "233     In Front Of Balkeshwar Park, Kamla Nagar, Agra  Agra       34   \n",
       "\n",
       "        locality   latitude  longitude  ... price_range  currency  \\\n",
       "208     Shahganj  27.182653  77.966487  ...           1       Rs.   \n",
       "230      Tajganj  27.167421  78.036395  ...           1       Rs.   \n",
       "233  Kamla Nagar  27.212712  78.030463  ...           1       Rs.   \n",
       "\n",
       "                                            highlights aggregate_rating  \\\n",
       "208                     ['Cash', 'Takeaway Available']              3.8   \n",
       "230  ['Dinner', 'Takeaway Available', 'Lunch', 'Cas...              3.1   \n",
       "233  ['Dinner', 'Cash', 'Standing Tables', 'Takeawa...              3.4   \n",
       "\n",
       "    rating_text  votes  photo_count opentable_support delivery  takeaway  \n",
       "208        Good    156           11               0.0       -1        -1  \n",
       "230     Average      8            2               0.0       -1        -1  \n",
       "233     Average     14            1               0.0        1        -1  \n",
       "\n",
       "[3 rows x 26 columns]"
      ]
     },
     "execution_count": 21,
     "metadata": {},
     "output_type": "execute_result"
    }
   ],
   "source": [
    "df[df['establishment']==''].head(3)"
   ]
  },
  {
   "cell_type": "markdown",
   "id": "a258f5ce",
   "metadata": {},
   "source": [
    "* 1830 entries have empty string\n",
    "* lets treat them as missing values"
   ]
  },
  {
   "cell_type": "code",
   "execution_count": 22,
   "id": "40ae8e44",
   "metadata": {},
   "outputs": [],
   "source": [
    "df['establishment'].replace({'':np.NaN},inplace=True)"
   ]
  },
  {
   "cell_type": "code",
   "execution_count": 23,
   "id": "09dcfe72",
   "metadata": {},
   "outputs": [
    {
     "data": {
      "text/plain": [
       "1830"
      ]
     },
     "execution_count": 23,
     "metadata": {},
     "output_type": "execute_result"
    }
   ],
   "source": [
    "df['establishment'].isnull().sum()"
   ]
  },
  {
   "cell_type": "markdown",
   "id": "b3fe9e28",
   "metadata": {},
   "source": [
    "* url : not useful for us\n",
    "* address : contains a long string and difficult to classify so not much useful\n"
   ]
  },
  {
   "cell_type": "code",
   "execution_count": 24,
   "id": "5091290d",
   "metadata": {},
   "outputs": [
    {
     "data": {
      "text/plain": [
       "array(['Agra', 'Ahmedabad', 'Gandhinagar', 'Ajmer', 'Alappuzha',\n",
       "       'Allahabad', 'Amravati', 'Amritsar', 'Aurangabad', 'Bangalore',\n",
       "       'Bhopal', 'Bhubaneshwar', 'Chandigarh', 'Mohali', 'Panchkula',\n",
       "       'Zirakpur', 'Nayagaon', 'Chennai', 'Coimbatore', 'Cuttack',\n",
       "       'Darjeeling', 'Dehradun', 'New Delhi', 'Gurgaon', 'Noida',\n",
       "       'Faridabad', 'Ghaziabad', 'Greater Noida', 'Dharamshala',\n",
       "       'Gangtok', 'Goa', 'Gorakhpur', 'Guntur', 'Guwahati', 'Gwalior',\n",
       "       'Haridwar', 'Hyderabad', 'Secunderabad', 'Indore', 'Jabalpur',\n",
       "       'Jaipur', 'Jalandhar', 'Jammu', 'Jamnagar', 'Jamshedpur', 'Jhansi',\n",
       "       'Jodhpur', 'Junagadh', 'Kanpur', 'Kharagpur', 'Kochi', 'Kolhapur',\n",
       "       'Kolkata', 'Howrah', 'Kota', 'Lucknow', 'Ludhiana', 'Madurai',\n",
       "       'Manali', 'Mangalore', 'Manipal', 'Udupi', 'Meerut', 'Mumbai',\n",
       "       'Thane', 'Navi Mumbai', 'Mussoorie', 'Mysore', 'Nagpur',\n",
       "       'Nainital', 'Nasik', 'Nashik', 'Neemrana', 'Ooty', 'Palakkad',\n",
       "       'Patiala', 'Patna', 'Puducherry', 'Pune', 'Pushkar', 'Raipur',\n",
       "       'Rajkot', 'Ranchi', 'Rishikesh', 'Salem', 'Shimla', 'Siliguri',\n",
       "       'Srinagar', 'Surat', 'Thrissur', 'Tirupati', 'Trichy',\n",
       "       'Trivandrum', 'Udaipur', 'Varanasi', 'Vellore', 'Vijayawada',\n",
       "       'Vizag', 'Vadodara'], dtype=object)"
      ]
     },
     "execution_count": 24,
     "metadata": {},
     "output_type": "execute_result"
    }
   ],
   "source": [
    "df['city'].unique()"
   ]
  },
  {
   "cell_type": "code",
   "execution_count": 25,
   "id": "065d0f4e",
   "metadata": {},
   "outputs": [
    {
     "data": {
      "text/plain": [
       "99"
      ]
     },
     "execution_count": 25,
     "metadata": {},
     "output_type": "execute_result"
    }
   ],
   "source": [
    "df['city'].nunique()"
   ]
  },
  {
   "cell_type": "markdown",
   "id": "b47da57c",
   "metadata": {},
   "source": [
    "* city : feature is useful\n",
    "* city_id : we can uniquely use city name or id. so one feature is enough"
   ]
  },
  {
   "cell_type": "code",
   "execution_count": 26,
   "id": "295edde8",
   "metadata": {},
   "outputs": [
    {
     "data": {
      "text/plain": [
       "array(['Khandari', 'Agra Cantt', 'Shahganj', ..., 'Navapura',\n",
       "       'L&T Knowledge City', 'Danteshwar'], dtype=object)"
      ]
     },
     "execution_count": 26,
     "metadata": {},
     "output_type": "execute_result"
    }
   ],
   "source": [
    "df['locality'].unique()"
   ]
  },
  {
   "cell_type": "code",
   "execution_count": 27,
   "id": "15ed268f",
   "metadata": {},
   "outputs": [
    {
     "data": {
      "text/plain": [
       "3731"
      ]
     },
     "execution_count": 27,
     "metadata": {},
     "output_type": "execute_result"
    }
   ],
   "source": [
    "df['locality'].nunique()"
   ]
  },
  {
   "cell_type": "code",
   "execution_count": 28,
   "id": "05e95e6e",
   "metadata": {},
   "outputs": [
    {
     "data": {
      "text/plain": [
       "168"
      ]
     },
     "execution_count": 28,
     "metadata": {},
     "output_type": "execute_result"
    }
   ],
   "source": [
    "df[df['city']=='Pune']['locality'].nunique()"
   ]
  },
  {
   "cell_type": "markdown",
   "id": "e6d78df3",
   "metadata": {},
   "source": [
    "* locality : is intresting feature but has wide range so will avoid using it\n",
    "* longitude : useful to plot geographic location but we are not doing it here\n",
    "* latitude : same as above\n",
    "* country_id : as current data is of Indian restaurants only so country id will be same for all"
   ]
  },
  {
   "cell_type": "code",
   "execution_count": 29,
   "id": "584d6c73",
   "metadata": {},
   "outputs": [
    {
     "data": {
      "text/plain": [
       "array([1], dtype=int64)"
      ]
     },
     "execution_count": 29,
     "metadata": {},
     "output_type": "execute_result"
    }
   ],
   "source": [
    "df['country_id'].unique()"
   ]
  },
  {
   "cell_type": "code",
   "execution_count": 31,
   "id": "5de4632e",
   "metadata": {},
   "outputs": [
    {
     "data": {
      "text/html": [
       "<div>\n",
       "<style scoped>\n",
       "    .dataframe tbody tr th:only-of-type {\n",
       "        vertical-align: middle;\n",
       "    }\n",
       "\n",
       "    .dataframe tbody tr th {\n",
       "        vertical-align: top;\n",
       "    }\n",
       "\n",
       "    .dataframe thead th {\n",
       "        text-align: right;\n",
       "    }\n",
       "</style>\n",
       "<table border=\"1\" class=\"dataframe\">\n",
       "  <thead>\n",
       "    <tr style=\"text-align: right;\">\n",
       "      <th></th>\n",
       "      <th>locality_verbose</th>\n",
       "      <th>locality</th>\n",
       "    </tr>\n",
       "  </thead>\n",
       "  <tbody>\n",
       "    <tr>\n",
       "      <th>0</th>\n",
       "      <td>Khandari, Agra</td>\n",
       "      <td>Khandari</td>\n",
       "    </tr>\n",
       "    <tr>\n",
       "      <th>1</th>\n",
       "      <td>Agra Cantt, Agra</td>\n",
       "      <td>Agra Cantt</td>\n",
       "    </tr>\n",
       "    <tr>\n",
       "      <th>2</th>\n",
       "      <td>Shahganj, Agra</td>\n",
       "      <td>Shahganj</td>\n",
       "    </tr>\n",
       "    <tr>\n",
       "      <th>3</th>\n",
       "      <td>Civil Lines, Agra</td>\n",
       "      <td>Civil Lines</td>\n",
       "    </tr>\n",
       "    <tr>\n",
       "      <th>4</th>\n",
       "      <td>Tajganj, Agra</td>\n",
       "      <td>Tajganj</td>\n",
       "    </tr>\n",
       "    <tr>\n",
       "      <th>...</th>\n",
       "      <td>...</td>\n",
       "      <td>...</td>\n",
       "    </tr>\n",
       "    <tr>\n",
       "      <th>211882</th>\n",
       "      <td>Manjalpur, Vadodara</td>\n",
       "      <td>Manjalpur</td>\n",
       "    </tr>\n",
       "    <tr>\n",
       "      <th>211925</th>\n",
       "      <td>Alkapuri, Vadodara</td>\n",
       "      <td>Alkapuri</td>\n",
       "    </tr>\n",
       "    <tr>\n",
       "      <th>211926</th>\n",
       "      <td>Alkapuri, Vadodara</td>\n",
       "      <td>Alkapuri</td>\n",
       "    </tr>\n",
       "    <tr>\n",
       "      <th>211940</th>\n",
       "      <td>Karelibaug, Vadodara</td>\n",
       "      <td>Karelibaug</td>\n",
       "    </tr>\n",
       "    <tr>\n",
       "      <th>211942</th>\n",
       "      <td>Akota, Vadodara</td>\n",
       "      <td>Akota</td>\n",
       "    </tr>\n",
       "  </tbody>\n",
       "</table>\n",
       "<p>55568 rows × 2 columns</p>\n",
       "</div>"
      ],
      "text/plain": [
       "            locality_verbose     locality\n",
       "0             Khandari, Agra     Khandari\n",
       "1           Agra Cantt, Agra   Agra Cantt\n",
       "2             Shahganj, Agra     Shahganj\n",
       "3          Civil Lines, Agra  Civil Lines\n",
       "4              Tajganj, Agra      Tajganj\n",
       "...                      ...          ...\n",
       "211882   Manjalpur, Vadodara    Manjalpur\n",
       "211925    Alkapuri, Vadodara     Alkapuri\n",
       "211926    Alkapuri, Vadodara     Alkapuri\n",
       "211940  Karelibaug, Vadodara   Karelibaug\n",
       "211942       Akota, Vadodara        Akota\n",
       "\n",
       "[55568 rows x 2 columns]"
      ]
     },
     "execution_count": 31,
     "metadata": {},
     "output_type": "execute_result"
    }
   ],
   "source": [
    "df[['locality_verbose','locality']]"
   ]
  },
  {
   "cell_type": "markdown",
   "id": "c1d6e3d9",
   "metadata": {},
   "source": [
    "* locality verbose : looks very similar to locality"
   ]
  },
  {
   "cell_type": "code",
   "execution_count": 32,
   "id": "572c98bb",
   "metadata": {},
   "outputs": [
    {
     "data": {
      "text/plain": [
       "9382"
      ]
     },
     "execution_count": 32,
     "metadata": {},
     "output_type": "execute_result"
    }
   ],
   "source": [
    "df['cuisines'].nunique()"
   ]
  },
  {
   "cell_type": "code",
   "execution_count": 33,
   "id": "71cf2716",
   "metadata": {},
   "outputs": [
    {
     "data": {
      "text/plain": [
       "array(['North Indian, South Indian, Mithai, Street Food, Desserts',\n",
       "       'North Indian, Mughlai, Rolls, Chinese, Fast Food, Street Food',\n",
       "       'Fast Food, Mithai', ...,\n",
       "       'Street Food, Biryani, Chinese, Fast Food, North Indian, Mughlai',\n",
       "       'North Indian, Chinese, Mexican, Italian, Thai, Continental',\n",
       "       'North Indian, Lucknowi, Chinese'], dtype=object)"
      ]
     },
     "execution_count": 33,
     "metadata": {},
     "output_type": "execute_result"
    }
   ],
   "source": [
    "df['cuisines'].unique()"
   ]
  },
  {
   "cell_type": "code",
   "execution_count": 37,
   "id": "9a87c762",
   "metadata": {},
   "outputs": [
    {
     "data": {
      "text/plain": [
       "470"
      ]
     },
     "execution_count": 37,
     "metadata": {},
     "output_type": "execute_result"
    }
   ],
   "source": [
    "df['cuisines'].isnull().sum()"
   ]
  },
  {
   "cell_type": "code",
   "execution_count": 38,
   "id": "7aa3db3b",
   "metadata": {},
   "outputs": [],
   "source": [
    "df['cuisines'].fillna('No cuisines',inplace=True)"
   ]
  },
  {
   "cell_type": "code",
   "execution_count": 39,
   "id": "541105d2",
   "metadata": {},
   "outputs": [
    {
     "data": {
      "text/plain": [
       "0"
      ]
     },
     "execution_count": 39,
     "metadata": {},
     "output_type": "execute_result"
    }
   ],
   "source": [
    "df['cuisines'].isnull().sum()"
   ]
  },
  {
   "cell_type": "code",
   "execution_count": 41,
   "id": "0364b062",
   "metadata": {},
   "outputs": [
    {
     "name": "stdout",
     "output_type": "stream",
     "text": [
      "Total unique cuisins: 134\n"
     ]
    }
   ],
   "source": [
    "cuisines = []\n",
    "df['cuisines'].apply(lambda x : cuisines.extend(x.split(\", \")))\n",
    "cuisines = pd.Series(cuisines)\n",
    "print(\"Total unique cuisins:\", cuisines.nunique())"
   ]
  },
  {
   "cell_type": "code",
   "execution_count": 42,
   "id": "da603462",
   "metadata": {},
   "outputs": [
    {
     "data": {
      "text/plain": [
       "array(['8:30am – 10:30pm (Mon-Sun)',\n",
       "       '12:30PM to 12Midnight (Mon, Wed, Thu, Fri, Sat, Sun), 1PM to 12Midnight (Tue)',\n",
       "       '9:30 AM to 11 PM', ..., '8am – 2:30pm, 5pm – 10pm (Mon-Sun)',\n",
       "       '8am – 3pm, 6:30pm – 11pm (Mon-Sun)',\n",
       "       '4pm – 11pm (Mon, Tue, Wed, Fri, Sat, Sun), 4pm – 11:30pm (Thu)'],\n",
       "      dtype=object)"
      ]
     },
     "execution_count": 42,
     "metadata": {},
     "output_type": "execute_result"
    }
   ],
   "source": [
    "df['timings'].unique()"
   ]
  },
  {
   "cell_type": "code",
   "execution_count": 43,
   "id": "5b9d0530",
   "metadata": {},
   "outputs": [
    {
     "data": {
      "text/plain": [
       "7740"
      ]
     },
     "execution_count": 43,
     "metadata": {},
     "output_type": "execute_result"
    }
   ],
   "source": [
    "df['timings'].nunique()"
   ]
  },
  {
   "cell_type": "markdown",
   "id": "95981405",
   "metadata": {},
   "source": [
    "* timings - This also has missing data, however it has 7740 unique classes. Also, it is not structured even if we try to reduce the number classes like we did in cuisines. Its better to omit it altogether."
   ]
  },
  {
   "cell_type": "code",
   "execution_count": 44,
   "id": "be61f27d",
   "metadata": {
    "scrolled": true
   },
   "outputs": [
    {
     "data": {
      "text/plain": [
       "array([  700,   600,   300,  1000,   400,   500,  1200,  1600,   250,\n",
       "         200,   150,  1500,   800,   450,   850,   350,   900,  6000,\n",
       "         650,   550,  2500,  6500,  5500,  4300,  3600,  3500,  3200,\n",
       "        3000,  2800,  2000,  1800,  1400,  1300,  1250,  1150,  1100,\n",
       "        1050,    50,    60,   100,   750,     0,   220,   260,   950,\n",
       "        1900,  2400,  2300,  2200,  1700,  1230,    70,   140,   120,\n",
       "         470,    20,    40,   110,    80,    90,   440,  2100, 14000,\n",
       "        5000,  4500,  4100,  4000,  3700,  3400,  2700,  2600,  1650,\n",
       "        1350,   180,  1260,     2,   197,   312,   170,   240,   330,\n",
       "        3100,  4200,  1850,  3300,  4800,  3800,  3250,  2900,  1750,\n",
       "         282,    35,   149,  1550,  5100,  6600,  1450,   160,  2250,\n",
       "        8000,  7000,  3900,  3650,  1020,   320,   360,   280,   130,\n",
       "       15000,  2501,    30,  1950,  1875,  1190,   309, 12000,   380,\n",
       "         299,    45,   190,  4600,   880,    75,   620,   999, 10000,\n",
       "         505, 30000,  4050,   175,   404,   445,   640,    15,   420,\n",
       "         115,   444,   592,  1499,   208,   940,   125,  7500,   520,\n",
       "         294], dtype=int64)"
      ]
     },
     "execution_count": 44,
     "metadata": {},
     "output_type": "execute_result"
    }
   ],
   "source": [
    "df['average_cost_for_two'].unique()"
   ]
  },
  {
   "cell_type": "code",
   "execution_count": 45,
   "id": "65c06904",
   "metadata": {},
   "outputs": [
    {
     "data": {
      "text/plain": [
       "145"
      ]
     },
     "execution_count": 45,
     "metadata": {},
     "output_type": "execute_result"
    }
   ],
   "source": [
    "df['average_cost_for_two'].nunique()"
   ]
  },
  {
   "cell_type": "markdown",
   "id": "c693cac9",
   "metadata": {},
   "source": [
    "* average_cost_for_two : good feature for analysis but need to handle outliers like value 0,2"
   ]
  },
  {
   "cell_type": "code",
   "execution_count": 47,
   "id": "988347d9",
   "metadata": {},
   "outputs": [
    {
     "data": {
      "text/plain": [
       "array([2, 1, 3, 4], dtype=int64)"
      ]
     },
     "execution_count": 47,
     "metadata": {},
     "output_type": "execute_result"
    }
   ],
   "source": [
    "df['price_range'].unique()"
   ]
  },
  {
   "cell_type": "markdown",
   "id": "71ccd8bc",
   "metadata": {},
   "source": [
    "* price_range : categorised feature"
   ]
  },
  {
   "cell_type": "code",
   "execution_count": 49,
   "id": "9085bad1",
   "metadata": {},
   "outputs": [
    {
     "data": {
      "text/plain": [
       "array(['Rs.'], dtype=object)"
      ]
     },
     "execution_count": 49,
     "metadata": {},
     "output_type": "execute_result"
    }
   ],
   "source": [
    "df['currency'].unique()"
   ]
  },
  {
   "cell_type": "markdown",
   "id": "ebe9abb5",
   "metadata": {},
   "source": [
    "* currency has only one class so not useful"
   ]
  },
  {
   "cell_type": "code",
   "execution_count": 50,
   "id": "f5b170e8",
   "metadata": {},
   "outputs": [
    {
     "data": {
      "text/plain": [
       "array([\"['Lunch', 'Takeaway Available', 'Credit Card', 'Dinner', 'Cash', 'Air Conditioned', 'Indoor Seating', 'Pure Veg']\",\n",
       "       \"['Delivery', 'No Alcohol Available', 'Dinner', 'Takeaway Available', 'Lunch', 'Cash', 'Indoor Seating']\",\n",
       "       \"['No Alcohol Available', 'Dinner', 'Takeaway Available', 'Breakfast', 'Lunch', 'Cash', 'Delivery', 'Outdoor Seating', 'Air Conditioned', 'Self Service', 'Indoor Seating', 'Digital Payments Accepted', 'Pure Veg', 'Desserts and Bakes']\",\n",
       "       ...,\n",
       "       \"['Dinner', 'Delivery', 'Cash', 'Takeaway Available', 'Free Parking', 'Digital Payments Accepted', 'Pure Veg', 'Indoor Seating']\",\n",
       "       \"['Dinner', 'Cash', 'Takeaway Available', 'Lunch', 'Delivery', 'Free Parking', 'Indoor Seating', 'Air Conditioned', 'Outdoor Seating', 'Digital Payments Accepted', 'Catering Available', 'Pure Veg']\",\n",
       "       \"['Dinner', 'Cash', 'Takeaway Available', 'Debit Card', 'Delivery', 'Credit Card', 'Free Parking', 'Outdoor Seating']\"],\n",
       "      dtype=object)"
      ]
     },
     "execution_count": 50,
     "metadata": {},
     "output_type": "execute_result"
    }
   ],
   "source": [
    "df['highlights'].unique()"
   ]
  },
  {
   "cell_type": "code",
   "execution_count": 51,
   "id": "ba16a316",
   "metadata": {},
   "outputs": [
    {
     "data": {
      "text/plain": [
       "31228"
      ]
     },
     "execution_count": 51,
     "metadata": {},
     "output_type": "execute_result"
    }
   ],
   "source": [
    "df['highlights'].nunique()"
   ]
  },
  {
   "cell_type": "code",
   "execution_count": 53,
   "id": "a569b3a4",
   "metadata": {},
   "outputs": [
    {
     "name": "stdout",
     "output_type": "stream",
     "text": [
      "total unique highlights : 104\n"
     ]
    }
   ],
   "source": [
    "hl = []\n",
    "df['highlights'].apply(lambda x : hl.extend(x[2:-2].split(\"', '\")))\n",
    "hl = pd.Series(hl)\n",
    "print(\"total unique highlights :\", hl.nunique())"
   ]
  },
  {
   "cell_type": "code",
   "execution_count": 54,
   "id": "c0c74815",
   "metadata": {},
   "outputs": [
    {
     "data": {
      "text/plain": [
       "array([4.4, 4.2, 4.3, 4.9, 4. , 3.8, 3.4, 4.1, 3.5, 4.6, 3.9, 3.6, 4.5,\n",
       "       4.7, 3.7, 4.8, 3.2, 0. , 3.3, 2.8, 3.1, 2.6, 3. , 2.7, 2.9, 2.2,\n",
       "       2.3, 2.4, 2.5, 2.1, 1.8, 2. , 1.9])"
      ]
     },
     "execution_count": 54,
     "metadata": {},
     "output_type": "execute_result"
    }
   ],
   "source": [
    "df['aggregate_rating'].unique()"
   ]
  },
  {
   "cell_type": "code",
   "execution_count": 55,
   "id": "7a679530",
   "metadata": {},
   "outputs": [
    {
     "data": {
      "text/plain": [
       "33"
      ]
     },
     "execution_count": 55,
     "metadata": {},
     "output_type": "execute_result"
    }
   ],
   "source": [
    "df['aggregate_rating'].nunique()"
   ]
  },
  {
   "cell_type": "code",
   "execution_count": 56,
   "id": "b91b671c",
   "metadata": {},
   "outputs": [
    {
     "data": {
      "text/plain": [
       "array(['Very Good', 'Excellent', 'Good', 'Average', 'Not rated', 'Poor',\n",
       "       'Bardzo dobrze', 'Muito Bom', 'İyi', 'Çok iyi', 'Baik',\n",
       "       'Sangat Baik', 'Skvělé', 'Muy Bueno', 'Průměr', 'Ortalama',\n",
       "       'Skvělá volba', 'Muito bom', 'Velmi dobré', 'Excelente', 'Bom',\n",
       "       'Scarso', 'Promedio', 'Vynikajúce', 'Bueno', 'Dobré', 'Terbaik',\n",
       "       'Harika', 'Veľmi dobré', 'Eccellente', 'Buono', 'Média', 'Dobrze'],\n",
       "      dtype=object)"
      ]
     },
     "execution_count": 56,
     "metadata": {},
     "output_type": "execute_result"
    }
   ],
   "source": [
    "df['rating_text'].unique()"
   ]
  },
  {
   "cell_type": "code",
   "execution_count": 57,
   "id": "28e1ab21",
   "metadata": {},
   "outputs": [
    {
     "data": {
      "text/plain": [
       "33"
      ]
     },
     "execution_count": 57,
     "metadata": {},
     "output_type": "execute_result"
    }
   ],
   "source": [
    "df['rating_text'].nunique()"
   ]
  },
  {
   "cell_type": "markdown",
   "id": "39756075",
   "metadata": {},
   "source": [
    "* rating_text : nothing but the characterization of average_rating. we need to use only single feature"
   ]
  },
  {
   "cell_type": "code",
   "execution_count": 58,
   "id": "c5afc380",
   "metadata": {},
   "outputs": [
    {
     "data": {
      "text/plain": [
       "array([ 814, 1203,  801, ..., 2001, 1191, 1583], dtype=int64)"
      ]
     },
     "execution_count": 58,
     "metadata": {},
     "output_type": "execute_result"
    }
   ],
   "source": [
    "df['votes'].unique()"
   ]
  },
  {
   "cell_type": "markdown",
   "id": "38d85fbc",
   "metadata": {},
   "source": [
    "* votes : number of votes contributed to the rating"
   ]
  },
  {
   "cell_type": "code",
   "execution_count": 60,
   "id": "4bcdd631",
   "metadata": {},
   "outputs": [
    {
     "data": {
      "text/plain": [
       "array([154, 161, 107, ..., 987, 678, 828], dtype=int64)"
      ]
     },
     "execution_count": 60,
     "metadata": {},
     "output_type": "execute_result"
    }
   ],
   "source": [
    "df['photo_count'].unique()"
   ]
  },
  {
   "cell_type": "markdown",
   "id": "33457e6d",
   "metadata": {},
   "source": [
    "* photo_count : photo uploaded in reviews"
   ]
  },
  {
   "cell_type": "code",
   "execution_count": 63,
   "id": "1512e58e",
   "metadata": {},
   "outputs": [
    {
     "data": {
      "text/html": [
       "<div>\n",
       "<style scoped>\n",
       "    .dataframe tbody tr th:only-of-type {\n",
       "        vertical-align: middle;\n",
       "    }\n",
       "\n",
       "    .dataframe tbody tr th {\n",
       "        vertical-align: top;\n",
       "    }\n",
       "\n",
       "    .dataframe thead th {\n",
       "        text-align: right;\n",
       "    }\n",
       "</style>\n",
       "<table border=\"1\" class=\"dataframe\">\n",
       "  <thead>\n",
       "    <tr style=\"text-align: right;\">\n",
       "      <th></th>\n",
       "      <th>aggregate_rating</th>\n",
       "      <th>votes</th>\n",
       "      <th>photo_count</th>\n",
       "    </tr>\n",
       "  </thead>\n",
       "  <tbody>\n",
       "    <tr>\n",
       "      <th>count</th>\n",
       "      <td>55568.000000</td>\n",
       "      <td>55568.000000</td>\n",
       "      <td>55568.000000</td>\n",
       "    </tr>\n",
       "    <tr>\n",
       "      <th>mean</th>\n",
       "      <td>2.958593</td>\n",
       "      <td>223.330352</td>\n",
       "      <td>160.974770</td>\n",
       "    </tr>\n",
       "    <tr>\n",
       "      <th>std</th>\n",
       "      <td>1.464576</td>\n",
       "      <td>618.224019</td>\n",
       "      <td>586.975382</td>\n",
       "    </tr>\n",
       "    <tr>\n",
       "      <th>min</th>\n",
       "      <td>0.000000</td>\n",
       "      <td>-18.000000</td>\n",
       "      <td>0.000000</td>\n",
       "    </tr>\n",
       "    <tr>\n",
       "      <th>25%</th>\n",
       "      <td>2.900000</td>\n",
       "      <td>6.000000</td>\n",
       "      <td>1.000000</td>\n",
       "    </tr>\n",
       "    <tr>\n",
       "      <th>50%</th>\n",
       "      <td>3.500000</td>\n",
       "      <td>35.000000</td>\n",
       "      <td>10.000000</td>\n",
       "    </tr>\n",
       "    <tr>\n",
       "      <th>75%</th>\n",
       "      <td>3.900000</td>\n",
       "      <td>175.000000</td>\n",
       "      <td>69.000000</td>\n",
       "    </tr>\n",
       "    <tr>\n",
       "      <th>max</th>\n",
       "      <td>4.900000</td>\n",
       "      <td>42539.000000</td>\n",
       "      <td>17702.000000</td>\n",
       "    </tr>\n",
       "  </tbody>\n",
       "</table>\n",
       "</div>"
      ],
      "text/plain": [
       "       aggregate_rating         votes   photo_count\n",
       "count      55568.000000  55568.000000  55568.000000\n",
       "mean           2.958593    223.330352    160.974770\n",
       "std            1.464576    618.224019    586.975382\n",
       "min            0.000000    -18.000000      0.000000\n",
       "25%            2.900000      6.000000      1.000000\n",
       "50%            3.500000     35.000000     10.000000\n",
       "75%            3.900000    175.000000     69.000000\n",
       "max            4.900000  42539.000000  17702.000000"
      ]
     },
     "execution_count": 63,
     "metadata": {},
     "output_type": "execute_result"
    }
   ],
   "source": [
    "df[['aggregate_rating','votes','photo_count']].describe()"
   ]
  },
  {
   "cell_type": "markdown",
   "id": "0ffb7179",
   "metadata": {},
   "source": [
    "* rating ranges between 0 to 5\n",
    "* negative votes might be outliers"
   ]
  },
  {
   "cell_type": "code",
   "execution_count": 64,
   "id": "f20f75f3",
   "metadata": {},
   "outputs": [
    {
     "data": {
      "text/plain": [
       "array([ 0., nan])"
      ]
     },
     "execution_count": 64,
     "metadata": {},
     "output_type": "execute_result"
    }
   ],
   "source": [
    "df['opentable_support'].unique()"
   ]
  },
  {
   "cell_type": "markdown",
   "id": "cc8d1e2f",
   "metadata": {},
   "source": [
    "* opentable_support : no restaurant have positive value for this. we can drop this feature"
   ]
  },
  {
   "cell_type": "code",
   "execution_count": 66,
   "id": "aea3cd05",
   "metadata": {},
   "outputs": [
    {
     "data": {
      "text/plain": [
       "array([-1,  1,  0], dtype=int64)"
      ]
     },
     "execution_count": 66,
     "metadata": {},
     "output_type": "execute_result"
    }
   ],
   "source": [
    "df['delivery'].unique()"
   ]
  },
  {
   "cell_type": "code",
   "execution_count": 67,
   "id": "7d438595",
   "metadata": {},
   "outputs": [
    {
     "data": {
      "text/plain": [
       "-1    37346\n",
       " 1    17907\n",
       " 0      315\n",
       "Name: delivery, dtype: int64"
      ]
     },
     "execution_count": 67,
     "metadata": {},
     "output_type": "execute_result"
    }
   ],
   "source": [
    "df['delivery'].value_counts()"
   ]
  },
  {
   "cell_type": "markdown",
   "id": "3550fffe",
   "metadata": {},
   "source": [
    "* delivery : delivery should have two classes only. -1 can be considered as 0 as providing no delivery"
   ]
  },
  {
   "cell_type": "code",
   "execution_count": 68,
   "id": "4bfce5a3",
   "metadata": {},
   "outputs": [
    {
     "data": {
      "text/plain": [
       "array([-1], dtype=int64)"
      ]
     },
     "execution_count": 68,
     "metadata": {},
     "output_type": "execute_result"
    }
   ],
   "source": [
    "df['takeaway'].unique()"
   ]
  },
  {
   "cell_type": "markdown",
   "id": "ca6c37c5",
   "metadata": {},
   "source": [
    "* takeaway : has only 1 class so this feature is not useful"
   ]
  },
  {
   "cell_type": "markdown",
   "id": "4344a880",
   "metadata": {},
   "source": [
    "### 🥫Exploratory Data Analysis (EDA) :"
   ]
  },
  {
   "cell_type": "code",
   "execution_count": 69,
   "id": "a3a9e47e",
   "metadata": {},
   "outputs": [
    {
     "data": {
      "text/plain": [
       "Domino's Pizza                           399\n",
       "Cafe Coffee Day                          315\n",
       "KFC                                      204\n",
       "Baskin Robbins                           202\n",
       "Keventers                                189\n",
       "                                        ... \n",
       "Boulevard 69                               1\n",
       "7-Eleven Restaurant                        1\n",
       "Food station                               1\n",
       "Silver Saloon - Taj Usha Kiran Palace      1\n",
       "Geeta lodge                                1\n",
       "Name: name, Length: 41100, dtype: int64"
      ]
     },
     "execution_count": 69,
     "metadata": {},
     "output_type": "execute_result"
    }
   ],
   "source": [
    "df['name'].value_counts()"
   ]
  },
  {
   "cell_type": "code",
   "execution_count": 70,
   "id": "a5b716c1",
   "metadata": {},
   "outputs": [],
   "source": [
    "outlets = df['name'].value_counts()\n",
    "chains = outlets[outlets >= 2]\n",
    "single = outlets[outlets == 1]"
   ]
  },
  {
   "cell_type": "code",
   "execution_count": 71,
   "id": "3aeec267",
   "metadata": {},
   "outputs": [
    {
     "name": "stdout",
     "output_type": "stream",
     "text": [
      "Total restaurants : 55568\n",
      "Total restaurants that are part of some chain : 19358\n",
      "% of restaurants that are part of some chain : 34.83659660236107 %\n"
     ]
    }
   ],
   "source": [
    "print(\"Total restaurants :\", df.shape[0])\n",
    "print(\"Total restaurants that are part of some chain :\", df.shape[0] - single.shape[0])\n",
    "print(\"% of restaurants that are part of some chain :\",((df.shape[0] - single.shape[0])/df.shape[0])*100,'%' )"
   ]
  },
  {
   "cell_type": "markdown",
   "id": "37a0a393",
   "metadata": {},
   "source": [
    "* Top 10 resturant chains"
   ]
  },
  {
   "cell_type": "code",
   "execution_count": 72,
   "id": "da233e07",
   "metadata": {},
   "outputs": [
    {
     "data": {
      "text/plain": [
       "Domino's Pizza     399\n",
       "Cafe Coffee Day    315\n",
       "KFC                204\n",
       "Baskin Robbins     202\n",
       "Keventers          189\n",
       "Subway             178\n",
       "McDonald's         130\n",
       "Pizza Hut          125\n",
       "Barbeque Nation    112\n",
       "Burger King        110\n",
       "Name: name, dtype: int64"
      ]
     },
     "execution_count": 72,
     "metadata": {},
     "output_type": "execute_result"
    }
   ],
   "source": [
    "chains.head(10)"
   ]
  },
  {
   "cell_type": "code",
   "execution_count": 73,
   "id": "6f99ff37",
   "metadata": {},
   "outputs": [],
   "source": [
    "top10_chains = df['name'].value_counts()[:10].sort_values(ascending=True)"
   ]
  },
  {
   "cell_type": "code",
   "execution_count": 76,
   "id": "0be0fc67",
   "metadata": {},
   "outputs": [
    {
     "data": {
      "image/png": "[encoded data removed]",
      "text/plain": [
       "<Figure size 792x504 with 1 Axes>"
      ]
     },
     "metadata": {
      "needs_background": "light"
     },
     "output_type": "display_data"
    }
   ],
   "source": [
    "height = top10_chains.values\n",
    "bars = top10_chains.index\n",
    "y_pos = np.arange(len(bars))\n",
    "\n",
    "fig = plt.figure(figsize=(11,7), frameon=False)\n",
    "ax = fig.gca()\n",
    "ax.spines['top'].set_visible('#424242')\n",
    "ax.spines['right'].set_visible(False)\n",
    "ax.spines['left'].set_visible('#424242')\n",
    "ax.spines['bottom'].set_visible('#424242')\n",
    "\n",
    "colors = ['#f9cdac','#f2a49f','#ec7c92','#e65586','#bc438b','#933291','#622398','#551c7b','#41155e','#2d0f41']\n",
    "\n",
    "plt.barh(y_pos, height, color=colors)\n",
    "plt.xticks(color='#424242')\n",
    "plt.yticks(y_pos, bars, color='#424242')\n",
    "plt.xlabel(\"Number of outlets in India\")\n",
    "\n",
    "for i, v in enumerate(height):\n",
    "    ax.text(v+3,i,str(v),color='#424242')\n",
    "    \n",
    "plt.title(\"Top 10 restaurant chains in India\")\n",
    "plt.show()"
   ]
  },
  {
   "cell_type": "code",
   "execution_count": null,
   "id": "73efebfa",
   "metadata": {},
   "outputs": [],
   "source": []
  }
 ],
 "metadata": {
  "kernelspec": {
   "display_name": "Python 3 (ipykernel)",
   "language": "python",
   "name": "python3"
  },
  "language_info": {
   "codemirror_mode": {
    "name": "ipython",
    "version": 3
   },
   "file_extension": ".py",
   "mimetype": "text/x-python",
   "name": "python",
   "nbconvert_exporter": "python",
   "pygments_lexer": "ipython3",
   "version": "3.9.7"
  }
 },
 "nbformat": 4,
 "nbformat_minor": 5
}
