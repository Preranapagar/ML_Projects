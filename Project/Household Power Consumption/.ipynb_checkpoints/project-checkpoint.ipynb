{
 "cells": [
  {
   "cell_type": "markdown",
   "id": "87e874b9",
   "metadata": {},
   "source": [
    "# <center><span style='color:green'> Household Electricity Consumption </span></center>"
   ]
  },
  {
   "cell_type": "markdown",
   "id": "6e539bd3",
   "metadata": {},
   "source": [
    "## Problem Statement"
   ]
  },
  {
   "cell_type": "markdown",
   "id": "1a223679",
   "metadata": {},
   "source": [
    "* Predict the household electricity consumption\n",
    "* Regression problem"
   ]
  },
  {
   "cell_type": "markdown",
   "id": "ed179a6a",
   "metadata": {},
   "source": [
    "## 1 <span style='color:red'>|</span> Import Libraries"
   ]
  },
  {
   "cell_type": "code",
   "execution_count": 1,
   "id": "6ea4f906",
   "metadata": {},
   "outputs": [],
   "source": [
    "import pandas as pd\n",
    "import numpy as np\n",
    "\n",
    "import matplotlib.pyplot as plt\n",
    "%matplotlib inline\n",
    "import seaborn as sns\n",
    "import warnings\n",
    "warnings.filterwarnings('ignore')\n",
    "\n",
    "#for modeling\n",
    "from sklearn.linear_model import LinearRegression, Ridge, Lasso\n",
    "from sklearn.svm import SVR\n",
    "from sklearn.metrics import accuracy_score , r2_score, mean_squared_error, mean_absolute_error\n",
    "from sklearn.model_selection import train_test_split\n",
    "from sklearn.preprocessing import StandardScaler\n",
    "from sklearn.ensemble import BaggingRegressor , RandomForestRegressor\n",
    "from sklearn.model_selection import RandomizedSearchCV\n",
    "from sklearn.tree import DecisionTreeRegressor\n",
    "\n",
    "#database\n",
    "import pymongo\n",
    "\n",
    "#save the model\n",
    "import pickle\n",
    "\n",
    "#to read data\n",
    "import zipfile"
   ]
  },
  {
   "cell_type": "markdown",
   "id": "4981076e",
   "metadata": {},
   "source": [
    "## 2 <span style='color:red'>|</span> Load Dataset"
   ]
  },
  {
   "cell_type": "code",
   "execution_count": 2,
   "id": "6a5750f2",
   "metadata": {},
   "outputs": [],
   "source": [
    "zip_file_path = \"cosumption_data.zip\"\n",
    "file_name = \"household_power_consumption.txt\"\n",
    "\n",
    "with zipfile.ZipFile(zip_file_path, 'r') as zip_file:\n",
    "    file_list = zip_file.namelist()\n",
    "    for file in file_list:\n",
    "        if file == file_name:\n",
    "            with zip_file.open(file_name) as csv_file:\n",
    "                df = pd.read_csv(csv_file, delimiter=';')"
   ]
  },
  {
   "cell_type": "code",
   "execution_count": 3,
   "id": "fc5f7e46",
   "metadata": {},
   "outputs": [
    {
     "data": {
      "text/html": [
       "<div>\n",
       "<style scoped>\n",
       "    .dataframe tbody tr th:only-of-type {\n",
       "        vertical-align: middle;\n",
       "    }\n",
       "\n",
       "    .dataframe tbody tr th {\n",
       "        vertical-align: top;\n",
       "    }\n",
       "\n",
       "    .dataframe thead th {\n",
       "        text-align: right;\n",
       "    }\n",
       "</style>\n",
       "<table border=\"1\" class=\"dataframe\">\n",
       "  <thead>\n",
       "    <tr style=\"text-align: right;\">\n",
       "      <th></th>\n",
       "      <th>Date</th>\n",
       "      <th>Time</th>\n",
       "      <th>Global_active_power</th>\n",
       "      <th>Global_reactive_power</th>\n",
       "      <th>Voltage</th>\n",
       "      <th>Global_intensity</th>\n",
       "      <th>Sub_metering_1</th>\n",
       "      <th>Sub_metering_2</th>\n",
       "      <th>Sub_metering_3</th>\n",
       "    </tr>\n",
       "  </thead>\n",
       "  <tbody>\n",
       "    <tr>\n",
       "      <th>0</th>\n",
       "      <td>16/12/2006</td>\n",
       "      <td>17:24:00</td>\n",
       "      <td>4.216</td>\n",
       "      <td>0.418</td>\n",
       "      <td>234.840</td>\n",
       "      <td>18.400</td>\n",
       "      <td>0.000</td>\n",
       "      <td>1.000</td>\n",
       "      <td>17.0</td>\n",
       "    </tr>\n",
       "    <tr>\n",
       "      <th>1</th>\n",
       "      <td>16/12/2006</td>\n",
       "      <td>17:25:00</td>\n",
       "      <td>5.360</td>\n",
       "      <td>0.436</td>\n",
       "      <td>233.630</td>\n",
       "      <td>23.000</td>\n",
       "      <td>0.000</td>\n",
       "      <td>1.000</td>\n",
       "      <td>16.0</td>\n",
       "    </tr>\n",
       "    <tr>\n",
       "      <th>2</th>\n",
       "      <td>16/12/2006</td>\n",
       "      <td>17:26:00</td>\n",
       "      <td>5.374</td>\n",
       "      <td>0.498</td>\n",
       "      <td>233.290</td>\n",
       "      <td>23.000</td>\n",
       "      <td>0.000</td>\n",
       "      <td>2.000</td>\n",
       "      <td>17.0</td>\n",
       "    </tr>\n",
       "    <tr>\n",
       "      <th>3</th>\n",
       "      <td>16/12/2006</td>\n",
       "      <td>17:27:00</td>\n",
       "      <td>5.388</td>\n",
       "      <td>0.502</td>\n",
       "      <td>233.740</td>\n",
       "      <td>23.000</td>\n",
       "      <td>0.000</td>\n",
       "      <td>1.000</td>\n",
       "      <td>17.0</td>\n",
       "    </tr>\n",
       "    <tr>\n",
       "      <th>4</th>\n",
       "      <td>16/12/2006</td>\n",
       "      <td>17:28:00</td>\n",
       "      <td>3.666</td>\n",
       "      <td>0.528</td>\n",
       "      <td>235.680</td>\n",
       "      <td>15.800</td>\n",
       "      <td>0.000</td>\n",
       "      <td>1.000</td>\n",
       "      <td>17.0</td>\n",
       "    </tr>\n",
       "  </tbody>\n",
       "</table>\n",
       "</div>"
      ],
      "text/plain": [
       "         Date      Time Global_active_power Global_reactive_power  Voltage  \\\n",
       "0  16/12/2006  17:24:00               4.216                 0.418  234.840   \n",
       "1  16/12/2006  17:25:00               5.360                 0.436  233.630   \n",
       "2  16/12/2006  17:26:00               5.374                 0.498  233.290   \n",
       "3  16/12/2006  17:27:00               5.388                 0.502  233.740   \n",
       "4  16/12/2006  17:28:00               3.666                 0.528  235.680   \n",
       "\n",
       "  Global_intensity Sub_metering_1 Sub_metering_2  Sub_metering_3  \n",
       "0           18.400          0.000          1.000            17.0  \n",
       "1           23.000          0.000          1.000            16.0  \n",
       "2           23.000          0.000          2.000            17.0  \n",
       "3           23.000          0.000          1.000            17.0  \n",
       "4           15.800          0.000          1.000            17.0  "
      ]
     },
     "execution_count": 3,
     "metadata": {},
     "output_type": "execute_result"
    }
   ],
   "source": [
    "df.head()"
   ]
  },
  {
   "cell_type": "code",
   "execution_count": 4,
   "id": "ce68b6b4",
   "metadata": {},
   "outputs": [
    {
     "data": {
      "text/plain": [
       "(2075259, 9)"
      ]
     },
     "execution_count": 4,
     "metadata": {},
     "output_type": "execute_result"
    }
   ],
   "source": [
    "df.shape"
   ]
  },
  {
   "cell_type": "markdown",
   "id": "bb2a2592",
   "metadata": {},
   "source": [
    "* Taking a sample of 60000 as data is too large "
   ]
  },
  {
   "cell_type": "code",
   "execution_count": 5,
   "id": "efd1b914",
   "metadata": {},
   "outputs": [
    {
     "data": {
      "text/plain": [
       "(60000, 9)"
      ]
     },
     "execution_count": 5,
     "metadata": {},
     "output_type": "execute_result"
    }
   ],
   "source": [
    "df_sample = df.sample(60000)\n",
    "df_sample.shape"
   ]
  },
  {
   "cell_type": "markdown",
   "id": "30cace60",
   "metadata": {},
   "source": [
    "## 3 <span style='color:red'>|</span> Exploratory Data Analysis"
   ]
  },
  {
   "cell_type": "code",
   "execution_count": 6,
   "id": "2639a6f8",
   "metadata": {},
   "outputs": [
    {
     "data": {
      "text/plain": [
       "Index(['Date', 'Time', 'Global_active_power', 'Global_reactive_power',\n",
       "       'Voltage', 'Global_intensity', 'Sub_metering_1', 'Sub_metering_2',\n",
       "       'Sub_metering_3'],\n",
       "      dtype='object')"
      ]
     },
     "execution_count": 6,
     "metadata": {},
     "output_type": "execute_result"
    }
   ],
   "source": [
    "df_sample.columns"
   ]
  },
  {
   "cell_type": "code",
   "execution_count": 7,
   "id": "47278feb",
   "metadata": {},
   "outputs": [],
   "source": [
    "df_sample.drop(['Date','Time'], axis=1, inplace=True)"
   ]
  },
  {
   "cell_type": "code",
   "execution_count": 8,
   "id": "98afa781",
   "metadata": {},
   "outputs": [
    {
     "data": {
      "text/html": [
       "<div>\n",
       "<style scoped>\n",
       "    .dataframe tbody tr th:only-of-type {\n",
       "        vertical-align: middle;\n",
       "    }\n",
       "\n",
       "    .dataframe tbody tr th {\n",
       "        vertical-align: top;\n",
       "    }\n",
       "\n",
       "    .dataframe thead th {\n",
       "        text-align: right;\n",
       "    }\n",
       "</style>\n",
       "<table border=\"1\" class=\"dataframe\">\n",
       "  <thead>\n",
       "    <tr style=\"text-align: right;\">\n",
       "      <th></th>\n",
       "      <th>Global_active_power</th>\n",
       "      <th>Global_reactive_power</th>\n",
       "      <th>Voltage</th>\n",
       "      <th>Global_intensity</th>\n",
       "      <th>Sub_metering_1</th>\n",
       "      <th>Sub_metering_2</th>\n",
       "      <th>Sub_metering_3</th>\n",
       "    </tr>\n",
       "  </thead>\n",
       "  <tbody>\n",
       "    <tr>\n",
       "      <th>421561</th>\n",
       "      <td>1.420</td>\n",
       "      <td>0.142</td>\n",
       "      <td>235.840</td>\n",
       "      <td>6.000</td>\n",
       "      <td>0.000</td>\n",
       "      <td>2.000</td>\n",
       "      <td>17.0</td>\n",
       "    </tr>\n",
       "    <tr>\n",
       "      <th>409263</th>\n",
       "      <td>0.892</td>\n",
       "      <td>0.000</td>\n",
       "      <td>242.200</td>\n",
       "      <td>3.600</td>\n",
       "      <td>0.000</td>\n",
       "      <td>0.000</td>\n",
       "      <td>0.0</td>\n",
       "    </tr>\n",
       "    <tr>\n",
       "      <th>1668482</th>\n",
       "      <td>1.806</td>\n",
       "      <td>0.068</td>\n",
       "      <td>239.900</td>\n",
       "      <td>7.400</td>\n",
       "      <td>1.000</td>\n",
       "      <td>0.000</td>\n",
       "      <td>18.0</td>\n",
       "    </tr>\n",
       "    <tr>\n",
       "      <th>1022146</th>\n",
       "      <td>2.382</td>\n",
       "      <td>0.000</td>\n",
       "      <td>238.960</td>\n",
       "      <td>9.800</td>\n",
       "      <td>0.000</td>\n",
       "      <td>0.000</td>\n",
       "      <td>17.0</td>\n",
       "    </tr>\n",
       "    <tr>\n",
       "      <th>1230037</th>\n",
       "      <td>0.506</td>\n",
       "      <td>0.086</td>\n",
       "      <td>241.500</td>\n",
       "      <td>2.200</td>\n",
       "      <td>0.000</td>\n",
       "      <td>0.000</td>\n",
       "      <td>0.0</td>\n",
       "    </tr>\n",
       "  </tbody>\n",
       "</table>\n",
       "</div>"
      ],
      "text/plain": [
       "        Global_active_power Global_reactive_power  Voltage Global_intensity  \\\n",
       "421561                1.420                 0.142  235.840            6.000   \n",
       "409263                0.892                 0.000  242.200            3.600   \n",
       "1668482               1.806                 0.068  239.900            7.400   \n",
       "1022146               2.382                 0.000  238.960            9.800   \n",
       "1230037               0.506                 0.086  241.500            2.200   \n",
       "\n",
       "        Sub_metering_1 Sub_metering_2  Sub_metering_3  \n",
       "421561           0.000          2.000            17.0  \n",
       "409263           0.000          0.000             0.0  \n",
       "1668482          1.000          0.000            18.0  \n",
       "1022146          0.000          0.000            17.0  \n",
       "1230037          0.000          0.000             0.0  "
      ]
     },
     "execution_count": 8,
     "metadata": {},
     "output_type": "execute_result"
    }
   ],
   "source": [
    "df_sample.head()"
   ]
  },
  {
   "cell_type": "code",
   "execution_count": 9,
   "id": "631c88b5",
   "metadata": {},
   "outputs": [
    {
     "data": {
      "text/html": [
       "<div>\n",
       "<style scoped>\n",
       "    .dataframe tbody tr th:only-of-type {\n",
       "        vertical-align: middle;\n",
       "    }\n",
       "\n",
       "    .dataframe tbody tr th {\n",
       "        vertical-align: top;\n",
       "    }\n",
       "\n",
       "    .dataframe thead th {\n",
       "        text-align: right;\n",
       "    }\n",
       "</style>\n",
       "<table border=\"1\" class=\"dataframe\">\n",
       "  <thead>\n",
       "    <tr style=\"text-align: right;\">\n",
       "      <th></th>\n",
       "      <th>Global_active_power</th>\n",
       "      <th>Global_reactive_power</th>\n",
       "      <th>Voltage</th>\n",
       "      <th>Global_intensity</th>\n",
       "      <th>Sub_metering_1</th>\n",
       "      <th>Sub_metering_2</th>\n",
       "      <th>Sub_metering_3</th>\n",
       "    </tr>\n",
       "  </thead>\n",
       "  <tbody>\n",
       "    <tr>\n",
       "      <th>2018040</th>\n",
       "      <td>0.350</td>\n",
       "      <td>0.100</td>\n",
       "      <td>243.430</td>\n",
       "      <td>1.400</td>\n",
       "      <td>0.000</td>\n",
       "      <td>0.000</td>\n",
       "      <td>1.0</td>\n",
       "    </tr>\n",
       "    <tr>\n",
       "      <th>1809754</th>\n",
       "      <td>0.528</td>\n",
       "      <td>0.164</td>\n",
       "      <td>239.790</td>\n",
       "      <td>2.200</td>\n",
       "      <td>0.000</td>\n",
       "      <td>1.000</td>\n",
       "      <td>0.0</td>\n",
       "    </tr>\n",
       "    <tr>\n",
       "      <th>2057826</th>\n",
       "      <td>2.51</td>\n",
       "      <td>0.196</td>\n",
       "      <td>232.32</td>\n",
       "      <td>10.8</td>\n",
       "      <td>0.0</td>\n",
       "      <td>1.0</td>\n",
       "      <td>17.0</td>\n",
       "    </tr>\n",
       "    <tr>\n",
       "      <th>976138</th>\n",
       "      <td>0.334</td>\n",
       "      <td>0.092</td>\n",
       "      <td>245.030</td>\n",
       "      <td>1.400</td>\n",
       "      <td>0.000</td>\n",
       "      <td>1.000</td>\n",
       "      <td>0.0</td>\n",
       "    </tr>\n",
       "    <tr>\n",
       "      <th>483074</th>\n",
       "      <td>0.262</td>\n",
       "      <td>0.000</td>\n",
       "      <td>244.880</td>\n",
       "      <td>1.200</td>\n",
       "      <td>0.000</td>\n",
       "      <td>0.000</td>\n",
       "      <td>0.0</td>\n",
       "    </tr>\n",
       "    <tr>\n",
       "      <th>1983392</th>\n",
       "      <td>0.382</td>\n",
       "      <td>0.294</td>\n",
       "      <td>238.600</td>\n",
       "      <td>2.000</td>\n",
       "      <td>0.000</td>\n",
       "      <td>1.000</td>\n",
       "      <td>1.0</td>\n",
       "    </tr>\n",
       "    <tr>\n",
       "      <th>709766</th>\n",
       "      <td>5.312</td>\n",
       "      <td>0.116</td>\n",
       "      <td>234.610</td>\n",
       "      <td>22.800</td>\n",
       "      <td>0.000</td>\n",
       "      <td>37.000</td>\n",
       "      <td>17.0</td>\n",
       "    </tr>\n",
       "    <tr>\n",
       "      <th>1048077</th>\n",
       "      <td>0.854</td>\n",
       "      <td>0.140</td>\n",
       "      <td>243.720</td>\n",
       "      <td>3.600</td>\n",
       "      <td>0.000</td>\n",
       "      <td>0.000</td>\n",
       "      <td>0.0</td>\n",
       "    </tr>\n",
       "    <tr>\n",
       "      <th>264184</th>\n",
       "      <td>0.168</td>\n",
       "      <td>0.086</td>\n",
       "      <td>239.960</td>\n",
       "      <td>0.800</td>\n",
       "      <td>0.000</td>\n",
       "      <td>0.000</td>\n",
       "      <td>0.0</td>\n",
       "    </tr>\n",
       "    <tr>\n",
       "      <th>1731035</th>\n",
       "      <td>1.662</td>\n",
       "      <td>0.050</td>\n",
       "      <td>240.370</td>\n",
       "      <td>6.800</td>\n",
       "      <td>0.000</td>\n",
       "      <td>0.000</td>\n",
       "      <td>18.0</td>\n",
       "    </tr>\n",
       "  </tbody>\n",
       "</table>\n",
       "</div>"
      ],
      "text/plain": [
       "        Global_active_power Global_reactive_power  Voltage Global_intensity  \\\n",
       "2018040               0.350                 0.100  243.430            1.400   \n",
       "1809754               0.528                 0.164  239.790            2.200   \n",
       "2057826                2.51                 0.196   232.32             10.8   \n",
       "976138                0.334                 0.092  245.030            1.400   \n",
       "483074                0.262                 0.000  244.880            1.200   \n",
       "1983392               0.382                 0.294  238.600            2.000   \n",
       "709766                5.312                 0.116  234.610           22.800   \n",
       "1048077               0.854                 0.140  243.720            3.600   \n",
       "264184                0.168                 0.086  239.960            0.800   \n",
       "1731035               1.662                 0.050  240.370            6.800   \n",
       "\n",
       "        Sub_metering_1 Sub_metering_2  Sub_metering_3  \n",
       "2018040          0.000          0.000             1.0  \n",
       "1809754          0.000          1.000             0.0  \n",
       "2057826            0.0            1.0            17.0  \n",
       "976138           0.000          1.000             0.0  \n",
       "483074           0.000          0.000             0.0  \n",
       "1983392          0.000          1.000             1.0  \n",
       "709766           0.000         37.000            17.0  \n",
       "1048077          0.000          0.000             0.0  \n",
       "264184           0.000          0.000             0.0  \n",
       "1731035          0.000          0.000            18.0  "
      ]
     },
     "execution_count": 9,
     "metadata": {},
     "output_type": "execute_result"
    }
   ],
   "source": [
    "df_sample.sample(10)"
   ]
  },
  {
   "cell_type": "code",
   "execution_count": 10,
   "id": "5103927f",
   "metadata": {},
   "outputs": [
    {
     "data": {
      "text/plain": [
       "Global_active_power       object\n",
       "Global_reactive_power     object\n",
       "Voltage                   object\n",
       "Global_intensity          object\n",
       "Sub_metering_1            object\n",
       "Sub_metering_2            object\n",
       "Sub_metering_3           float64\n",
       "dtype: object"
      ]
     },
     "execution_count": 10,
     "metadata": {},
     "output_type": "execute_result"
    }
   ],
   "source": [
    "df_sample.dtypes"
   ]
  },
  {
   "cell_type": "markdown",
   "id": "9b9a822b",
   "metadata": {},
   "source": [
    "#### 3.1 <span style='color:red'>|</span> Check any special character and handle them "
   ]
  },
  {
   "cell_type": "code",
   "execution_count": 11,
   "id": "bd11d0ee",
   "metadata": {},
   "outputs": [
    {
     "data": {
      "text/plain": [
       "True"
      ]
     },
     "execution_count": 11,
     "metadata": {},
     "output_type": "execute_result"
    }
   ],
   "source": [
    "character_check = any(not value.isnumeric() for value in df_sample['Global_active_power'])\n",
    "character_check"
   ]
  },
  {
   "cell_type": "code",
   "execution_count": 12,
   "id": "d30f1163",
   "metadata": {},
   "outputs": [
    {
     "data": {
      "text/plain": [
       "{'?'}"
      ]
     },
     "execution_count": 12,
     "metadata": {},
     "output_type": "execute_result"
    }
   ],
   "source": [
    "character = [value for value in df_sample['Global_active_power'] if not str(value).replace('.','',1).isnumeric()]\n",
    "set(character)"
   ]
  },
  {
   "cell_type": "code",
   "execution_count": 13,
   "id": "c6213b96",
   "metadata": {},
   "outputs": [
    {
     "data": {
      "text/html": [
       "<div>\n",
       "<style scoped>\n",
       "    .dataframe tbody tr th:only-of-type {\n",
       "        vertical-align: middle;\n",
       "    }\n",
       "\n",
       "    .dataframe tbody tr th {\n",
       "        vertical-align: top;\n",
       "    }\n",
       "\n",
       "    .dataframe thead th {\n",
       "        text-align: right;\n",
       "    }\n",
       "</style>\n",
       "<table border=\"1\" class=\"dataframe\">\n",
       "  <thead>\n",
       "    <tr style=\"text-align: right;\">\n",
       "      <th></th>\n",
       "      <th>Global_active_power</th>\n",
       "      <th>Global_reactive_power</th>\n",
       "      <th>Voltage</th>\n",
       "      <th>Global_intensity</th>\n",
       "      <th>Sub_metering_1</th>\n",
       "      <th>Sub_metering_2</th>\n",
       "      <th>Sub_metering_3</th>\n",
       "    </tr>\n",
       "  </thead>\n",
       "  <tbody>\n",
       "    <tr>\n",
       "      <th>1713604</th>\n",
       "      <td>?</td>\n",
       "      <td>?</td>\n",
       "      <td>?</td>\n",
       "      <td>?</td>\n",
       "      <td>?</td>\n",
       "      <td>?</td>\n",
       "      <td>NaN</td>\n",
       "    </tr>\n",
       "    <tr>\n",
       "      <th>1936217</th>\n",
       "      <td>?</td>\n",
       "      <td>?</td>\n",
       "      <td>?</td>\n",
       "      <td>?</td>\n",
       "      <td>?</td>\n",
       "      <td>?</td>\n",
       "      <td>NaN</td>\n",
       "    </tr>\n",
       "    <tr>\n",
       "      <th>1619482</th>\n",
       "      <td>?</td>\n",
       "      <td>?</td>\n",
       "      <td>?</td>\n",
       "      <td>?</td>\n",
       "      <td>?</td>\n",
       "      <td>?</td>\n",
       "      <td>NaN</td>\n",
       "    </tr>\n",
       "    <tr>\n",
       "      <th>191498</th>\n",
       "      <td>?</td>\n",
       "      <td>?</td>\n",
       "      <td>?</td>\n",
       "      <td>?</td>\n",
       "      <td>?</td>\n",
       "      <td>?</td>\n",
       "      <td>NaN</td>\n",
       "    </tr>\n",
       "    <tr>\n",
       "      <th>1936625</th>\n",
       "      <td>?</td>\n",
       "      <td>?</td>\n",
       "      <td>?</td>\n",
       "      <td>?</td>\n",
       "      <td>?</td>\n",
       "      <td>?</td>\n",
       "      <td>NaN</td>\n",
       "    </tr>\n",
       "    <tr>\n",
       "      <th>...</th>\n",
       "      <td>...</td>\n",
       "      <td>...</td>\n",
       "      <td>...</td>\n",
       "      <td>...</td>\n",
       "      <td>...</td>\n",
       "      <td>...</td>\n",
       "      <td>...</td>\n",
       "    </tr>\n",
       "    <tr>\n",
       "      <th>1933985</th>\n",
       "      <td>?</td>\n",
       "      <td>?</td>\n",
       "      <td>?</td>\n",
       "      <td>?</td>\n",
       "      <td>?</td>\n",
       "      <td>?</td>\n",
       "      <td>NaN</td>\n",
       "    </tr>\n",
       "    <tr>\n",
       "      <th>1930619</th>\n",
       "      <td>?</td>\n",
       "      <td>?</td>\n",
       "      <td>?</td>\n",
       "      <td>?</td>\n",
       "      <td>?</td>\n",
       "      <td>?</td>\n",
       "      <td>NaN</td>\n",
       "    </tr>\n",
       "    <tr>\n",
       "      <th>1310481</th>\n",
       "      <td>?</td>\n",
       "      <td>?</td>\n",
       "      <td>?</td>\n",
       "      <td>?</td>\n",
       "      <td>?</td>\n",
       "      <td>?</td>\n",
       "      <td>NaN</td>\n",
       "    </tr>\n",
       "    <tr>\n",
       "      <th>1936749</th>\n",
       "      <td>?</td>\n",
       "      <td>?</td>\n",
       "      <td>?</td>\n",
       "      <td>?</td>\n",
       "      <td>?</td>\n",
       "      <td>?</td>\n",
       "      <td>NaN</td>\n",
       "    </tr>\n",
       "    <tr>\n",
       "      <th>1617918</th>\n",
       "      <td>?</td>\n",
       "      <td>?</td>\n",
       "      <td>?</td>\n",
       "      <td>?</td>\n",
       "      <td>?</td>\n",
       "      <td>?</td>\n",
       "      <td>NaN</td>\n",
       "    </tr>\n",
       "  </tbody>\n",
       "</table>\n",
       "<p>742 rows × 7 columns</p>\n",
       "</div>"
      ],
      "text/plain": [
       "        Global_active_power Global_reactive_power Voltage Global_intensity  \\\n",
       "1713604                   ?                     ?       ?                ?   \n",
       "1936217                   ?                     ?       ?                ?   \n",
       "1619482                   ?                     ?       ?                ?   \n",
       "191498                    ?                     ?       ?                ?   \n",
       "1936625                   ?                     ?       ?                ?   \n",
       "...                     ...                   ...     ...              ...   \n",
       "1933985                   ?                     ?       ?                ?   \n",
       "1930619                   ?                     ?       ?                ?   \n",
       "1310481                   ?                     ?       ?                ?   \n",
       "1936749                   ?                     ?       ?                ?   \n",
       "1617918                   ?                     ?       ?                ?   \n",
       "\n",
       "        Sub_metering_1 Sub_metering_2  Sub_metering_3  \n",
       "1713604              ?              ?             NaN  \n",
       "1936217              ?              ?             NaN  \n",
       "1619482              ?              ?             NaN  \n",
       "191498               ?              ?             NaN  \n",
       "1936625              ?              ?             NaN  \n",
       "...                ...            ...             ...  \n",
       "1933985              ?              ?             NaN  \n",
       "1930619              ?              ?             NaN  \n",
       "1310481              ?              ?             NaN  \n",
       "1936749              ?              ?             NaN  \n",
       "1617918              ?              ?             NaN  \n",
       "\n",
       "[742 rows x 7 columns]"
      ]
     },
     "execution_count": 13,
     "metadata": {},
     "output_type": "execute_result"
    }
   ],
   "source": [
    "#Check character in dataframe\n",
    "special_char = df_sample[df_sample['Global_active_power']=='?']\n",
    "special_char"
   ]
  },
  {
   "cell_type": "markdown",
   "id": "54fdb823",
   "metadata": {},
   "source": [
    "* 737/60000 rows and 7/7 columns has special character in it"
   ]
  },
  {
   "cell_type": "code",
   "execution_count": 14,
   "id": "d04b4311",
   "metadata": {},
   "outputs": [
    {
     "data": {
      "text/plain": [
       "1.2283333333333333"
      ]
     },
     "execution_count": 14,
     "metadata": {},
     "output_type": "execute_result"
    }
   ],
   "source": [
    "(737/60000)*100"
   ]
  },
  {
   "cell_type": "code",
   "execution_count": 15,
   "id": "67c20f48",
   "metadata": {},
   "outputs": [
    {
     "name": "stdout",
     "output_type": "stream",
     "text": [
      "Data before removal of special character : (60000, 7)\n",
      "Data after removal of special character : (59258, 7)\n"
     ]
    }
   ],
   "source": [
    "#drop the data having special character\n",
    "print(\"Data before removal of special character :\", df_sample.shape)\n",
    "df_sample.drop(special_char.index, axis=0, inplace=True)\n",
    "print(\"Data after removal of special character :\", df_sample.shape)"
   ]
  },
  {
   "cell_type": "markdown",
   "id": "c666ea3c",
   "metadata": {},
   "source": [
    "#### 3.2 <span style='color:red'>|</span> Check duplicates"
   ]
  },
  {
   "cell_type": "code",
   "execution_count": 16,
   "id": "753c7243",
   "metadata": {},
   "outputs": [
    {
     "data": {
      "text/plain": [
       "284"
      ]
     },
     "execution_count": 16,
     "metadata": {},
     "output_type": "execute_result"
    }
   ],
   "source": [
    "df_sample.duplicated().sum()"
   ]
  },
  {
   "cell_type": "markdown",
   "id": "6b9d7de4",
   "metadata": {},
   "source": [
    "* 265 duplicates record found"
   ]
  },
  {
   "cell_type": "code",
   "execution_count": 17,
   "id": "21139b4b",
   "metadata": {},
   "outputs": [
    {
     "name": "stdout",
     "output_type": "stream",
     "text": [
      "Data with duplicate records : (59258, 7)\n",
      "Data withour duplicate records : (58974, 7)\n"
     ]
    }
   ],
   "source": [
    "print(\"Data with duplicate records :\", df_sample.shape)\n",
    "df_sample.drop_duplicates(inplace=True)\n",
    "print(\"Data withour duplicate records :\", df_sample.shape)"
   ]
  },
  {
   "cell_type": "markdown",
   "id": "a38924ac",
   "metadata": {},
   "source": [
    "#### 3.3 <span style='color:red'>|</span> Check null values"
   ]
  },
  {
   "cell_type": "code",
   "execution_count": 18,
   "id": "dd1d150b",
   "metadata": {},
   "outputs": [
    {
     "data": {
      "text/plain": [
       "Global_active_power      0\n",
       "Global_reactive_power    0\n",
       "Voltage                  0\n",
       "Global_intensity         0\n",
       "Sub_metering_1           0\n",
       "Sub_metering_2           0\n",
       "Sub_metering_3           0\n",
       "dtype: int64"
      ]
     },
     "execution_count": 18,
     "metadata": {},
     "output_type": "execute_result"
    }
   ],
   "source": [
    "df_sample.isnull().sum()"
   ]
  },
  {
   "cell_type": "markdown",
   "id": "ab012825",
   "metadata": {},
   "source": [
    "* No null values in dataset"
   ]
  },
  {
   "cell_type": "markdown",
   "id": "20cfa709",
   "metadata": {},
   "source": [
    "#### 3.4 <span style='color:red'>|</span> Convert dtype of columns"
   ]
  },
  {
   "cell_type": "code",
   "execution_count": 19,
   "id": "c1d6834e",
   "metadata": {},
   "outputs": [],
   "source": [
    "df_sample = df_sample.astype(float)"
   ]
  },
  {
   "cell_type": "code",
   "execution_count": 20,
   "id": "5aaf2252",
   "metadata": {},
   "outputs": [
    {
     "data": {
      "text/plain": [
       "Global_active_power      float64\n",
       "Global_reactive_power    float64\n",
       "Voltage                  float64\n",
       "Global_intensity         float64\n",
       "Sub_metering_1           float64\n",
       "Sub_metering_2           float64\n",
       "Sub_metering_3           float64\n",
       "dtype: object"
      ]
     },
     "execution_count": 20,
     "metadata": {},
     "output_type": "execute_result"
    }
   ],
   "source": [
    "df_sample.dtypes"
   ]
  },
  {
   "cell_type": "markdown",
   "id": "cd68e3a4",
   "metadata": {},
   "source": [
    "#### 3.5 <span style='color:red'>|</span> Combining Features"
   ]
  },
  {
   "cell_type": "code",
   "execution_count": 21,
   "id": "f875a0a2",
   "metadata": {},
   "outputs": [],
   "source": [
    "df_sample['meter'] = df_sample['Sub_metering_1'] + df_sample['Sub_metering_2'] + df_sample['Sub_metering_2']"
   ]
  },
  {
   "cell_type": "code",
   "execution_count": 22,
   "id": "8e0cfbb4",
   "metadata": {},
   "outputs": [],
   "source": [
    "df_sample.drop(['Sub_metering_1','Sub_metering_2','Sub_metering_3'], axis=1, inplace=True)"
   ]
  },
  {
   "cell_type": "code",
   "execution_count": 23,
   "id": "4b852ec5",
   "metadata": {},
   "outputs": [
    {
     "data": {
      "text/plain": [
       "Index(['Global_active_power', 'Global_reactive_power', 'Voltage',\n",
       "       'Global_intensity', 'meter'],\n",
       "      dtype='object')"
      ]
     },
     "execution_count": 23,
     "metadata": {},
     "output_type": "execute_result"
    }
   ],
   "source": [
    "df_sample.columns"
   ]
  },
  {
   "cell_type": "code",
   "execution_count": 24,
   "id": "357c6ecd",
   "metadata": {},
   "outputs": [
    {
     "data": {
      "text/html": [
       "<div>\n",
       "<style scoped>\n",
       "    .dataframe tbody tr th:only-of-type {\n",
       "        vertical-align: middle;\n",
       "    }\n",
       "\n",
       "    .dataframe tbody tr th {\n",
       "        vertical-align: top;\n",
       "    }\n",
       "\n",
       "    .dataframe thead th {\n",
       "        text-align: right;\n",
       "    }\n",
       "</style>\n",
       "<table border=\"1\" class=\"dataframe\">\n",
       "  <thead>\n",
       "    <tr style=\"text-align: right;\">\n",
       "      <th></th>\n",
       "      <th>Global_active_power</th>\n",
       "      <th>Global_reactive_power</th>\n",
       "      <th>Voltage</th>\n",
       "      <th>Global_intensity</th>\n",
       "      <th>meter</th>\n",
       "    </tr>\n",
       "  </thead>\n",
       "  <tbody>\n",
       "    <tr>\n",
       "      <th>421561</th>\n",
       "      <td>1.420</td>\n",
       "      <td>0.142</td>\n",
       "      <td>235.84</td>\n",
       "      <td>6.0</td>\n",
       "      <td>4.0</td>\n",
       "    </tr>\n",
       "    <tr>\n",
       "      <th>409263</th>\n",
       "      <td>0.892</td>\n",
       "      <td>0.000</td>\n",
       "      <td>242.20</td>\n",
       "      <td>3.6</td>\n",
       "      <td>0.0</td>\n",
       "    </tr>\n",
       "    <tr>\n",
       "      <th>1668482</th>\n",
       "      <td>1.806</td>\n",
       "      <td>0.068</td>\n",
       "      <td>239.90</td>\n",
       "      <td>7.4</td>\n",
       "      <td>1.0</td>\n",
       "    </tr>\n",
       "    <tr>\n",
       "      <th>1022146</th>\n",
       "      <td>2.382</td>\n",
       "      <td>0.000</td>\n",
       "      <td>238.96</td>\n",
       "      <td>9.8</td>\n",
       "      <td>0.0</td>\n",
       "    </tr>\n",
       "    <tr>\n",
       "      <th>1230037</th>\n",
       "      <td>0.506</td>\n",
       "      <td>0.086</td>\n",
       "      <td>241.50</td>\n",
       "      <td>2.2</td>\n",
       "      <td>0.0</td>\n",
       "    </tr>\n",
       "  </tbody>\n",
       "</table>\n",
       "</div>"
      ],
      "text/plain": [
       "         Global_active_power  Global_reactive_power  Voltage  \\\n",
       "421561                 1.420                  0.142   235.84   \n",
       "409263                 0.892                  0.000   242.20   \n",
       "1668482                1.806                  0.068   239.90   \n",
       "1022146                2.382                  0.000   238.96   \n",
       "1230037                0.506                  0.086   241.50   \n",
       "\n",
       "         Global_intensity  meter  \n",
       "421561                6.0    4.0  \n",
       "409263                3.6    0.0  \n",
       "1668482               7.4    1.0  \n",
       "1022146               9.8    0.0  \n",
       "1230037               2.2    0.0  "
      ]
     },
     "execution_count": 24,
     "metadata": {},
     "output_type": "execute_result"
    }
   ],
   "source": [
    "df_sample.head()"
   ]
  },
  {
   "cell_type": "code",
   "execution_count": 25,
   "id": "0197d0d0",
   "metadata": {},
   "outputs": [
    {
     "data": {
      "text/html": [
       "<div>\n",
       "<style scoped>\n",
       "    .dataframe tbody tr th:only-of-type {\n",
       "        vertical-align: middle;\n",
       "    }\n",
       "\n",
       "    .dataframe tbody tr th {\n",
       "        vertical-align: top;\n",
       "    }\n",
       "\n",
       "    .dataframe thead th {\n",
       "        text-align: right;\n",
       "    }\n",
       "</style>\n",
       "<table border=\"1\" class=\"dataframe\">\n",
       "  <thead>\n",
       "    <tr style=\"text-align: right;\">\n",
       "      <th></th>\n",
       "      <th>count</th>\n",
       "      <th>mean</th>\n",
       "      <th>std</th>\n",
       "      <th>min</th>\n",
       "      <th>25%</th>\n",
       "      <th>50%</th>\n",
       "      <th>75%</th>\n",
       "      <th>max</th>\n",
       "    </tr>\n",
       "  </thead>\n",
       "  <tbody>\n",
       "    <tr>\n",
       "      <th>Global_active_power</th>\n",
       "      <td>58974.0</td>\n",
       "      <td>1.089418</td>\n",
       "      <td>1.051640</td>\n",
       "      <td>0.078</td>\n",
       "      <td>0.310</td>\n",
       "      <td>0.602</td>\n",
       "      <td>1.522</td>\n",
       "      <td>9.21</td>\n",
       "    </tr>\n",
       "    <tr>\n",
       "      <th>Global_reactive_power</th>\n",
       "      <td>58974.0</td>\n",
       "      <td>0.123866</td>\n",
       "      <td>0.113106</td>\n",
       "      <td>0.000</td>\n",
       "      <td>0.048</td>\n",
       "      <td>0.100</td>\n",
       "      <td>0.194</td>\n",
       "      <td>1.10</td>\n",
       "    </tr>\n",
       "    <tr>\n",
       "      <th>Voltage</th>\n",
       "      <td>58974.0</td>\n",
       "      <td>240.851230</td>\n",
       "      <td>3.228350</td>\n",
       "      <td>224.540</td>\n",
       "      <td>239.010</td>\n",
       "      <td>241.010</td>\n",
       "      <td>242.890</td>\n",
       "      <td>253.35</td>\n",
       "    </tr>\n",
       "    <tr>\n",
       "      <th>Global_intensity</th>\n",
       "      <td>58974.0</td>\n",
       "      <td>4.618822</td>\n",
       "      <td>4.417903</td>\n",
       "      <td>0.200</td>\n",
       "      <td>1.400</td>\n",
       "      <td>2.600</td>\n",
       "      <td>6.400</td>\n",
       "      <td>39.60</td>\n",
       "    </tr>\n",
       "    <tr>\n",
       "      <th>meter</th>\n",
       "      <td>58974.0</td>\n",
       "      <td>3.668600</td>\n",
       "      <td>13.390616</td>\n",
       "      <td>0.000</td>\n",
       "      <td>0.000</td>\n",
       "      <td>0.000</td>\n",
       "      <td>2.000</td>\n",
       "      <td>182.00</td>\n",
       "    </tr>\n",
       "  </tbody>\n",
       "</table>\n",
       "</div>"
      ],
      "text/plain": [
       "                         count        mean        std      min      25%  \\\n",
       "Global_active_power    58974.0    1.089418   1.051640    0.078    0.310   \n",
       "Global_reactive_power  58974.0    0.123866   0.113106    0.000    0.048   \n",
       "Voltage                58974.0  240.851230   3.228350  224.540  239.010   \n",
       "Global_intensity       58974.0    4.618822   4.417903    0.200    1.400   \n",
       "meter                  58974.0    3.668600  13.390616    0.000    0.000   \n",
       "\n",
       "                           50%      75%     max  \n",
       "Global_active_power      0.602    1.522    9.21  \n",
       "Global_reactive_power    0.100    0.194    1.10  \n",
       "Voltage                241.010  242.890  253.35  \n",
       "Global_intensity         2.600    6.400   39.60  \n",
       "meter                    0.000    2.000  182.00  "
      ]
     },
     "execution_count": 25,
     "metadata": {},
     "output_type": "execute_result"
    }
   ],
   "source": [
    "df_sample.describe().T"
   ]
  },
  {
   "cell_type": "markdown",
   "id": "aa0126ca",
   "metadata": {},
   "source": [
    "#### 3.6 <span style='color:red'>|</span> Data Distribution"
   ]
  },
  {
   "cell_type": "code",
   "execution_count": 26,
   "id": "926863f8",
   "metadata": {},
   "outputs": [
    {
     "data": {
      "image/png": "[encoded data removed]",
      "text/plain": [
       "<Figure size 1440x1440 with 5 Axes>"
      ]
     },
     "metadata": {},
     "output_type": "display_data"
    }
   ],
   "source": [
    "#Data Distribution in each column\n",
    "plt.figure(figsize=(20,20), facecolor='white')\n",
    "plotnum =1\n",
    "\n",
    "for col in df_sample.columns:\n",
    "    if plotnum <= 5:\n",
    "        ax = plt.subplot(3,2,plotnum)\n",
    "        sns.distplot(df_sample[col], bins=30)\n",
    "        plt.xlabel(col, fontsize=16)\n",
    "    plotnum += 1\n",
    "plt.show()"
   ]
  },
  {
   "cell_type": "markdown",
   "id": "a30374f6",
   "metadata": {},
   "source": [
    "#### 3.7 <span style='color:red'>|</span> Check & Handle outliers"
   ]
  },
  {
   "cell_type": "code",
   "execution_count": 27,
   "id": "b1715f58",
   "metadata": {},
   "outputs": [
    {
     "data": {
      "image/png": "[encoded data removed]",
      "text/plain": [
       "<Figure size 1440x720 with 5 Axes>"
      ]
     },
     "metadata": {
      "needs_background": "light"
     },
     "output_type": "display_data"
    }
   ],
   "source": [
    "plt.figure(figsize=(20,10))\n",
    "plotnum = 1\n",
    "\n",
    "for col in df_sample.columns:\n",
    "    if plotnum <= 5:\n",
    "        ax = plt.subplot(2,3,plotnum)\n",
    "        sns.boxplot(df_sample[col])\n",
    "        plt.xlabel(col, fontsize=16)\n",
    "    plotnum += 1\n",
    "plt.show()"
   ]
  },
  {
   "cell_type": "code",
   "execution_count": 28,
   "id": "6871ac52",
   "metadata": {},
   "outputs": [],
   "source": [
    "#Handling Outlier\n",
    "\n",
    "df1 = df_sample.copy()\n",
    "\n",
    "for col in df1.columns:\n",
    "    iqr = df1[col].quantile(0.75) - df1[col].quantile(0.25)\n",
    "    lower_limit = df1[col].quantile(0.25) - (1.5*iqr)\n",
    "    upper_limit = df1[col].quantile(0.75) + (1.5*iqr)\n",
    "    \n",
    "    df1[col] = np.where(df1[col]>upper_limit,upper_limit,np.where(df1[col]<lower_limit,lower_limit,df1[col]))"
   ]
  },
  {
   "cell_type": "code",
   "execution_count": 29,
   "id": "04204cad",
   "metadata": {},
   "outputs": [
    {
     "data": {
      "image/png": "[encoded data removed]",
      "text/plain": [
       "<Figure size 1152x288 with 2 Axes>"
      ]
     },
     "metadata": {
      "needs_background": "light"
     },
     "output_type": "display_data"
    },
    {
     "data": {
      "image/png": "[encoded data removed]",
      "text/plain": [
       "<Figure size 1152x288 with 2 Axes>"
      ]
     },
     "metadata": {
      "needs_background": "light"
     },
     "output_type": "display_data"
    },
    {
     "data": {
      "image/png": "[encoded data removed]",
      "text/plain": [
       "<Figure size 1152x288 with 2 Axes>"
      ]
     },
     "metadata": {
      "needs_background": "light"
     },
     "output_type": "display_data"
    },
    {
     "data": {
      "image/png": "[encoded data removed]",
      "text/plain": [
       "<Figure size 1152x288 with 2 Axes>"
      ]
     },
     "metadata": {
      "needs_background": "light"
     },
     "output_type": "display_data"
    },
    {
     "data": {
      "image/png": "[encoded data removed]",
      "text/plain": [
       "<Figure size 1152x288 with 2 Axes>"
      ]
     },
     "metadata": {
      "needs_background": "light"
     },
     "output_type": "display_data"
    }
   ],
   "source": [
    "#compare the distribution across quantile\n",
    "\n",
    "for col in df1.columns:\n",
    "    \n",
    "    plt.figure(figsize=(16,4))\n",
    "    plt.subplot(121)\n",
    "    sns.boxplot(df_sample[col])\n",
    "    plt.xlabel(f\"Boxplot of {col} before outliers handling\", fontsize=14, fontweight='bold')\n",
    "    \n",
    "    plt.subplot(122)\n",
    "    sns.boxplot(df1[col])\n",
    "    plt.xlabel(f\"Boxplot of {col} after outliers handling\", fontsize=14, fontweight='bold')"
   ]
  },
  {
   "cell_type": "markdown",
   "id": "8abbeb4d",
   "metadata": {},
   "source": [
    "## 4 <span style='color:red'>|</span> Model Building"
   ]
  },
  {
   "cell_type": "code",
   "execution_count": 30,
   "id": "b6f9b5bf",
   "metadata": {},
   "outputs": [],
   "source": [
    "x= df1.drop('meter', axis=1)\n",
    "y = df1['meter']"
   ]
  },
  {
   "cell_type": "code",
   "execution_count": 31,
   "id": "a03a8c2c",
   "metadata": {},
   "outputs": [
    {
     "data": {
      "text/plain": [
       "((58974, 4), (58974,))"
      ]
     },
     "execution_count": 31,
     "metadata": {},
     "output_type": "execute_result"
    }
   ],
   "source": [
    "x.shape,y.shape"
   ]
  },
  {
   "cell_type": "markdown",
   "id": "723b5da6",
   "metadata": {},
   "source": [
    "#### 4.1 <span style='color:red'>|</span> Train Test Split Dataset"
   ]
  },
  {
   "cell_type": "code",
   "execution_count": 32,
   "id": "42b37a02",
   "metadata": {},
   "outputs": [],
   "source": [
    "x_train, x_test, y_train, y_test = train_test_split(x,y, random_state=42, test_size=0.20)"
   ]
  },
  {
   "cell_type": "markdown",
   "id": "3d7dfd99",
   "metadata": {},
   "source": [
    "#### 4.1 <span style='color:red'>|</span> Standardization"
   ]
  },
  {
   "cell_type": "code",
   "execution_count": 33,
   "id": "54f868e4",
   "metadata": {},
   "outputs": [],
   "source": [
    "scaler = StandardScaler()\n",
    "x_train = scaler.fit_transform(x_train)\n",
    "x_test = scaler.fit_transform(x_test)"
   ]
  },
  {
   "cell_type": "markdown",
   "id": "08067e08",
   "metadata": {},
   "source": [
    "#### 4.3 <span style='color:red'>|</span> Modeling"
   ]
  },
  {
   "cell_type": "code",
   "execution_count": 34,
   "id": "1c6a67bc",
   "metadata": {},
   "outputs": [],
   "source": [
    "report = []"
   ]
  },
  {
   "cell_type": "code",
   "execution_count": 35,
   "id": "487b917e",
   "metadata": {},
   "outputs": [],
   "source": [
    "models = {\n",
    "    \"Linear Regression\" : LinearRegression(),\n",
    "    \"Ridge Regression\" : Ridge(),\n",
    "    \"Lasso Regression\" : Lasso(),\n",
    "    \"Support Vector Regression\" : SVR(),\n",
    "    \"Decision Tree Regressor\" : DecisionTreeRegressor(),\n",
    "    \"Random Forest Regressor\" : RandomForestRegressor()\n",
    "}\n"
   ]
  },
  {
   "cell_type": "code",
   "execution_count": 36,
   "id": "67191d25",
   "metadata": {},
   "outputs": [],
   "source": [
    "for i in range(len(models)):\n",
    "    model = list(models.values())[i] \n",
    "    model.fit(x_train,y_train)\n",
    "    \n",
    "    #prediction\n",
    "    y_train_pred = model.predict(x_train)\n",
    "    y_test_pred = model.predict(x_test)\n",
    "    \n",
    "    #Training data performance\n",
    "    n = len(y_train)\n",
    "    k = x_train.shape[1]\n",
    "    train_mse = mean_squared_error(y_train, y_train_pred)\n",
    "    train_mae = mean_absolute_error(y_train, y_train_pred)\n",
    "    train_r2 = r2_score(y_train, y_train_pred)\n",
    "    train_adj_r2 = 1-(((1-train_r2)*(n-1))/(n-k-1))\n",
    "    \n",
    "    #Test data performance\n",
    "    n2 = len(y_test)\n",
    "    k2 = x_test.shape[1]\n",
    "    test_mse = mean_squared_error(y_test, y_test_pred)\n",
    "    test_mae = mean_absolute_error(y_test, y_test_pred)\n",
    "    test_r2 = r2_score(y_test, y_test_pred)\n",
    "    test_adj_r2 = 1-(((1-test_r2)*(n2-1))/(n2-k2-1))\n",
    "    \n",
    "    report.append({\"Model\": list(models.keys())[i],\n",
    "                 \"Train_mse\" : train_mse,\n",
    "                 \"Test_mse\" : test_mse,\n",
    "                 \"Train_mae\" : train_mae,\n",
    "                 \"Test_mae\" : test_mae,\n",
    "                 \"Train_r2\" : train_r2,\n",
    "                 \"Test_r2\" : test_r2,\n",
    "                 \"Train_ad_r2\" : train_adj_r2,\n",
    "                 \"Test_ad_r2\" : test_adj_r2})"
   ]
  },
  {
   "cell_type": "code",
   "execution_count": 37,
   "id": "d28103fb",
   "metadata": {},
   "outputs": [
    {
     "data": {
      "text/html": [
       "<div>\n",
       "<style scoped>\n",
       "    .dataframe tbody tr th:only-of-type {\n",
       "        vertical-align: middle;\n",
       "    }\n",
       "\n",
       "    .dataframe tbody tr th {\n",
       "        vertical-align: top;\n",
       "    }\n",
       "\n",
       "    .dataframe thead th {\n",
       "        text-align: right;\n",
       "    }\n",
       "</style>\n",
       "<table border=\"1\" class=\"dataframe\">\n",
       "  <thead>\n",
       "    <tr style=\"text-align: right;\">\n",
       "      <th></th>\n",
       "      <th>Model</th>\n",
       "      <th>Train_mse</th>\n",
       "      <th>Test_mse</th>\n",
       "      <th>Train_mae</th>\n",
       "      <th>Test_mae</th>\n",
       "      <th>Train_r2</th>\n",
       "      <th>Test_r2</th>\n",
       "      <th>Train_ad_r2</th>\n",
       "      <th>Test_ad_r2</th>\n",
       "    </tr>\n",
       "  </thead>\n",
       "  <tbody>\n",
       "    <tr>\n",
       "      <th>0</th>\n",
       "      <td>Linear Regression</td>\n",
       "      <td>1.902099</td>\n",
       "      <td>1.944789</td>\n",
       "      <td>1.043212</td>\n",
       "      <td>1.060864</td>\n",
       "      <td>0.266086</td>\n",
       "      <td>0.256360</td>\n",
       "      <td>0.266024</td>\n",
       "      <td>0.256108</td>\n",
       "    </tr>\n",
       "    <tr>\n",
       "      <th>1</th>\n",
       "      <td>Ridge Regression</td>\n",
       "      <td>1.902106</td>\n",
       "      <td>1.944733</td>\n",
       "      <td>1.043217</td>\n",
       "      <td>1.060837</td>\n",
       "      <td>0.266084</td>\n",
       "      <td>0.256382</td>\n",
       "      <td>0.266021</td>\n",
       "      <td>0.256129</td>\n",
       "    </tr>\n",
       "    <tr>\n",
       "      <th>2</th>\n",
       "      <td>Lasso Regression</td>\n",
       "      <td>2.591720</td>\n",
       "      <td>2.615372</td>\n",
       "      <td>1.339251</td>\n",
       "      <td>1.347378</td>\n",
       "      <td>0.000000</td>\n",
       "      <td>-0.000054</td>\n",
       "      <td>-0.000085</td>\n",
       "      <td>-0.000394</td>\n",
       "    </tr>\n",
       "    <tr>\n",
       "      <th>3</th>\n",
       "      <td>Support Vector Regression</td>\n",
       "      <td>2.019725</td>\n",
       "      <td>2.074524</td>\n",
       "      <td>0.827254</td>\n",
       "      <td>0.841805</td>\n",
       "      <td>0.220701</td>\n",
       "      <td>0.206753</td>\n",
       "      <td>0.220635</td>\n",
       "      <td>0.206484</td>\n",
       "    </tr>\n",
       "    <tr>\n",
       "      <th>4</th>\n",
       "      <td>Decision Tree Regressor</td>\n",
       "      <td>0.012250</td>\n",
       "      <td>3.390486</td>\n",
       "      <td>0.005954</td>\n",
       "      <td>1.078903</td>\n",
       "      <td>0.995273</td>\n",
       "      <td>-0.296439</td>\n",
       "      <td>0.995273</td>\n",
       "      <td>-0.296879</td>\n",
       "    </tr>\n",
       "    <tr>\n",
       "      <th>5</th>\n",
       "      <td>Random Forest Regressor</td>\n",
       "      <td>0.265499</td>\n",
       "      <td>1.908562</td>\n",
       "      <td>0.348236</td>\n",
       "      <td>0.971874</td>\n",
       "      <td>0.897559</td>\n",
       "      <td>0.270213</td>\n",
       "      <td>0.897550</td>\n",
       "      <td>0.269965</td>\n",
       "    </tr>\n",
       "  </tbody>\n",
       "</table>\n",
       "</div>"
      ],
      "text/plain": [
       "                       Model  Train_mse  Test_mse  Train_mae  Test_mae  \\\n",
       "0          Linear Regression   1.902099  1.944789   1.043212  1.060864   \n",
       "1           Ridge Regression   1.902106  1.944733   1.043217  1.060837   \n",
       "2           Lasso Regression   2.591720  2.615372   1.339251  1.347378   \n",
       "3  Support Vector Regression   2.019725  2.074524   0.827254  0.841805   \n",
       "4    Decision Tree Regressor   0.012250  3.390486   0.005954  1.078903   \n",
       "5    Random Forest Regressor   0.265499  1.908562   0.348236  0.971874   \n",
       "\n",
       "   Train_r2   Test_r2  Train_ad_r2  Test_ad_r2  \n",
       "0  0.266086  0.256360     0.266024    0.256108  \n",
       "1  0.266084  0.256382     0.266021    0.256129  \n",
       "2  0.000000 -0.000054    -0.000085   -0.000394  \n",
       "3  0.220701  0.206753     0.220635    0.206484  \n",
       "4  0.995273 -0.296439     0.995273   -0.296879  \n",
       "5  0.897559  0.270213     0.897550    0.269965  "
      ]
     },
     "execution_count": 37,
     "metadata": {},
     "output_type": "execute_result"
    }
   ],
   "source": [
    "all_models = pd.DataFrame(report)\n",
    "all_models"
   ]
  },
  {
   "cell_type": "markdown",
   "id": "020ed749",
   "metadata": {},
   "source": [
    "#### 4.4 <span style='color:red'>|</span> Hyperparameter Tunning"
   ]
  },
  {
   "cell_type": "code",
   "execution_count": 38,
   "id": "b4d28064",
   "metadata": {},
   "outputs": [],
   "source": [
    "rf_record = []"
   ]
  },
  {
   "cell_type": "code",
   "execution_count": 39,
   "id": "49fb14e6",
   "metadata": {},
   "outputs": [],
   "source": [
    "ran_params = {'max_depth':[5,8,10,15,None],\n",
    "              'max_features':[3,'auto'],\n",
    "              'min_samples_split':[2,8,15,20],\n",
    "              'n_estimators':[50,100,200,500]}"
   ]
  },
  {
   "cell_type": "code",
   "execution_count": 40,
   "id": "b49597ec",
   "metadata": {},
   "outputs": [],
   "source": [
    "random = RandomizedSearchCV(estimator=RandomForestRegressor(),\n",
    "                           param_distributions=ran_params,\n",
    "                           n_iter=100,\n",
    "                           cv=3,\n",
    "                           verbose=2,\n",
    "                           n_jobs=-1)"
   ]
  },
  {
   "cell_type": "code",
   "execution_count": 41,
   "id": "c99c7733",
   "metadata": {},
   "outputs": [
    {
     "name": "stdout",
     "output_type": "stream",
     "text": [
      "Fitting 3 folds for each of 100 candidates, totalling 300 fits\n"
     ]
    },
    {
     "data": {
      "text/html": [
       "<style>#sk-container-id-1 {color: black;background-color: white;}#sk-container-id-1 pre{padding: 0;}#sk-container-id-1 div.sk-toggleable {background-color: white;}#sk-container-id-1 label.sk-toggleable__label {cursor: pointer;display: block;width: 100%;margin-bottom: 0;padding: 0.3em;box-sizing: border-box;text-align: center;}#sk-container-id-1 label.sk-toggleable__label-arrow:before {content: \"▸\";float: left;margin-right: 0.25em;color: #696969;}#sk-container-id-1 label.sk-toggleable__label-arrow:hover:before {color: black;}#sk-container-id-1 div.sk-estimator:hover label.sk-toggleable__label-arrow:before {color: black;}#sk-container-id-1 div.sk-toggleable__content {max-height: 0;max-width: 0;overflow: hidden;text-align: left;background-color: #f0f8ff;}#sk-container-id-1 div.sk-toggleable__content pre {margin: 0.2em;color: black;border-radius: 0.25em;background-color: #f0f8ff;}#sk-container-id-1 input.sk-toggleable__control:checked~div.sk-toggleable__content {max-height: 200px;max-width: 100%;overflow: auto;}#sk-container-id-1 input.sk-toggleable__control:checked~label.sk-toggleable__label-arrow:before {content: \"▾\";}#sk-container-id-1 div.sk-estimator input.sk-toggleable__control:checked~label.sk-toggleable__label {background-color: #d4ebff;}#sk-container-id-1 div.sk-label input.sk-toggleable__control:checked~label.sk-toggleable__label {background-color: #d4ebff;}#sk-container-id-1 input.sk-hidden--visually {border: 0;clip: rect(1px 1px 1px 1px);clip: rect(1px, 1px, 1px, 1px);height: 1px;margin: -1px;overflow: hidden;padding: 0;position: absolute;width: 1px;}#sk-container-id-1 div.sk-estimator {font-family: monospace;background-color: #f0f8ff;border: 1px dotted black;border-radius: 0.25em;box-sizing: border-box;margin-bottom: 0.5em;}#sk-container-id-1 div.sk-estimator:hover {background-color: #d4ebff;}#sk-container-id-1 div.sk-parallel-item::after {content: \"\";width: 100%;border-bottom: 1px solid gray;flex-grow: 1;}#sk-container-id-1 div.sk-label:hover label.sk-toggleable__label {background-color: #d4ebff;}#sk-container-id-1 div.sk-serial::before {content: \"\";position: absolute;border-left: 1px solid gray;box-sizing: border-box;top: 0;bottom: 0;left: 50%;z-index: 0;}#sk-container-id-1 div.sk-serial {display: flex;flex-direction: column;align-items: center;background-color: white;padding-right: 0.2em;padding-left: 0.2em;position: relative;}#sk-container-id-1 div.sk-item {position: relative;z-index: 1;}#sk-container-id-1 div.sk-parallel {display: flex;align-items: stretch;justify-content: center;background-color: white;position: relative;}#sk-container-id-1 div.sk-item::before, #sk-container-id-1 div.sk-parallel-item::before {content: \"\";position: absolute;border-left: 1px solid gray;box-sizing: border-box;top: 0;bottom: 0;left: 50%;z-index: -1;}#sk-container-id-1 div.sk-parallel-item {display: flex;flex-direction: column;z-index: 1;position: relative;background-color: white;}#sk-container-id-1 div.sk-parallel-item:first-child::after {align-self: flex-end;width: 50%;}#sk-container-id-1 div.sk-parallel-item:last-child::after {align-self: flex-start;width: 50%;}#sk-container-id-1 div.sk-parallel-item:only-child::after {width: 0;}#sk-container-id-1 div.sk-dashed-wrapped {border: 1px dashed gray;margin: 0 0.4em 0.5em 0.4em;box-sizing: border-box;padding-bottom: 0.4em;background-color: white;}#sk-container-id-1 div.sk-label label {font-family: monospace;font-weight: bold;display: inline-block;line-height: 1.2em;}#sk-container-id-1 div.sk-label-container {text-align: center;}#sk-container-id-1 div.sk-container {/* jupyter's `normalize.less` sets `[hidden] { display: none; }` but bootstrap.min.css set `[hidden] { display: none !important; }` so we also need the `!important` here to be able to override the default hidden behavior on the sphinx rendered scikit-learn.org. See: https://github.com/scikit-learn/scikit-learn/issues/21755 */display: inline-block !important;position: relative;}#sk-container-id-1 div.sk-text-repr-fallback {display: none;}</style><div id=\"sk-container-id-1\" class=\"sk-top-container\"><div class=\"sk-text-repr-fallback\"><pre>RandomizedSearchCV(cv=3, estimator=RandomForestRegressor(), n_iter=100,\n",
       "                   n_jobs=-1,\n",
       "                   param_distributions={&#x27;max_depth&#x27;: [5, 8, 10, 15, None],\n",
       "                                        &#x27;max_features&#x27;: [3, &#x27;auto&#x27;],\n",
       "                                        &#x27;min_samples_split&#x27;: [2, 8, 15, 20],\n",
       "                                        &#x27;n_estimators&#x27;: [50, 100, 200, 500]},\n",
       "                   verbose=2)</pre><b>In a Jupyter environment, please rerun this cell to show the HTML representation or trust the notebook. <br />On GitHub, the HTML representation is unable to render, please try loading this page with nbviewer.org.</b></div><div class=\"sk-container\" hidden><div class=\"sk-item sk-dashed-wrapped\"><div class=\"sk-label-container\"><div class=\"sk-label sk-toggleable\"><input class=\"sk-toggleable__control sk-hidden--visually\" id=\"sk-estimator-id-1\" type=\"checkbox\" ><label for=\"sk-estimator-id-1\" class=\"sk-toggleable__label sk-toggleable__label-arrow\">RandomizedSearchCV</label><div class=\"sk-toggleable__content\"><pre>RandomizedSearchCV(cv=3, estimator=RandomForestRegressor(), n_iter=100,\n",
       "                   n_jobs=-1,\n",
       "                   param_distributions={&#x27;max_depth&#x27;: [5, 8, 10, 15, None],\n",
       "                                        &#x27;max_features&#x27;: [3, &#x27;auto&#x27;],\n",
       "                                        &#x27;min_samples_split&#x27;: [2, 8, 15, 20],\n",
       "                                        &#x27;n_estimators&#x27;: [50, 100, 200, 500]},\n",
       "                   verbose=2)</pre></div></div></div><div class=\"sk-parallel\"><div class=\"sk-parallel-item\"><div class=\"sk-item\"><div class=\"sk-label-container\"><div class=\"sk-label sk-toggleable\"><input class=\"sk-toggleable__control sk-hidden--visually\" id=\"sk-estimator-id-2\" type=\"checkbox\" ><label for=\"sk-estimator-id-2\" class=\"sk-toggleable__label sk-toggleable__label-arrow\">estimator: RandomForestRegressor</label><div class=\"sk-toggleable__content\"><pre>RandomForestRegressor()</pre></div></div></div><div class=\"sk-serial\"><div class=\"sk-item\"><div class=\"sk-estimator sk-toggleable\"><input class=\"sk-toggleable__control sk-hidden--visually\" id=\"sk-estimator-id-3\" type=\"checkbox\" ><label for=\"sk-estimator-id-3\" class=\"sk-toggleable__label sk-toggleable__label-arrow\">RandomForestRegressor</label><div class=\"sk-toggleable__content\"><pre>RandomForestRegressor()</pre></div></div></div></div></div></div></div></div></div></div>"
      ],
      "text/plain": [
       "RandomizedSearchCV(cv=3, estimator=RandomForestRegressor(), n_iter=100,\n",
       "                   n_jobs=-1,\n",
       "                   param_distributions={'max_depth': [5, 8, 10, 15, None],\n",
       "                                        'max_features': [3, 'auto'],\n",
       "                                        'min_samples_split': [2, 8, 15, 20],\n",
       "                                        'n_estimators': [50, 100, 200, 500]},\n",
       "                   verbose=2)"
      ]
     },
     "execution_count": 41,
     "metadata": {},
     "output_type": "execute_result"
    }
   ],
   "source": [
    "random.fit(x_train,y_train)"
   ]
  },
  {
   "cell_type": "code",
   "execution_count": 42,
   "id": "d8767fea",
   "metadata": {},
   "outputs": [
    {
     "data": {
      "text/plain": [
       "({'n_estimators': 500,\n",
       "  'min_samples_split': 20,\n",
       "  'max_features': 3,\n",
       "  'max_depth': 10},\n",
       " RandomForestRegressor(max_depth=10, max_features=3, min_samples_split=20,\n",
       "                       n_estimators=500))"
      ]
     },
     "execution_count": 42,
     "metadata": {},
     "output_type": "execute_result"
    }
   ],
   "source": [
    "random.best_params_, random.best_estimator_"
   ]
  },
  {
   "cell_type": "code",
   "execution_count": 43,
   "id": "8da8cb29",
   "metadata": {},
   "outputs": [],
   "source": [
    "rf_best = RandomForestRegressor(max_depth=15, max_features=3, min_samples_split=20, n_estimators=500)\n",
    "rf_best.fit(x_train, y_train)\n",
    "\n",
    "#prefiction\n",
    "rf_pred_train = rf_best.predict(x_train)\n",
    "rf_pred_test = rf_best.predict(x_test)\n",
    "\n",
    "#training data performance\n",
    "rf_train_mse = mean_squared_error(y_train, rf_pred_train)\n",
    "rf_train_mae = mean_absolute_error(y_train, rf_pred_train)\n",
    "rf_train_r2 = r2_score(y_train, rf_pred_train)\n",
    "rf_train_adj_r2 = 1-(((1-rf_train_r2)*(len(y_train)-1))/(len(y_train)-(x_train.shape[1])-1))\n",
    "\n",
    "# #testing data performance\n",
    "rf_test_mse = mean_squared_error(y_test, rf_pred_test)\n",
    "rf_test_mae = mean_absolute_error(y_test, rf_pred_test)\n",
    "rf_test_r2 = r2_score(y_train, rf_pred_train)\n",
    "rf_test_adj_r2 = 1-(((1-rf_test_r2)*(len(y_test)-1))/(len(y_test)-(x_test.shape[1])-1))"
   ]
  },
  {
   "cell_type": "code",
   "execution_count": 44,
   "id": "155e3995",
   "metadata": {},
   "outputs": [
    {
     "data": {
      "text/html": [
       "<div>\n",
       "<style scoped>\n",
       "    .dataframe tbody tr th:only-of-type {\n",
       "        vertical-align: middle;\n",
       "    }\n",
       "\n",
       "    .dataframe tbody tr th {\n",
       "        vertical-align: top;\n",
       "    }\n",
       "\n",
       "    .dataframe thead th {\n",
       "        text-align: right;\n",
       "    }\n",
       "</style>\n",
       "<table border=\"1\" class=\"dataframe\">\n",
       "  <thead>\n",
       "    <tr style=\"text-align: right;\">\n",
       "      <th></th>\n",
       "      <th>Model</th>\n",
       "      <th>Train_mse</th>\n",
       "      <th>Train_mae</th>\n",
       "      <th>Train_r2</th>\n",
       "      <th>Train_ad_r2</th>\n",
       "      <th>Test_mse</th>\n",
       "      <th>Test_mae</th>\n",
       "      <th>Test_r2</th>\n",
       "      <th>Test_ad_r2</th>\n",
       "    </tr>\n",
       "  </thead>\n",
       "  <tbody>\n",
       "    <tr>\n",
       "      <th>0</th>\n",
       "      <td>Hyperparamter tunned RF</td>\n",
       "      <td>1.286786</td>\n",
       "      <td>0.817498</td>\n",
       "      <td>0.503501</td>\n",
       "      <td>0.503459</td>\n",
       "      <td>1.755501</td>\n",
       "      <td>0.958735</td>\n",
       "      <td>0.503501</td>\n",
       "      <td>0.503332</td>\n",
       "    </tr>\n",
       "  </tbody>\n",
       "</table>\n",
       "</div>"
      ],
      "text/plain": [
       "                     Model  Train_mse  Train_mae  Train_r2  Train_ad_r2  \\\n",
       "0  Hyperparamter tunned RF   1.286786   0.817498  0.503501     0.503459   \n",
       "\n",
       "   Test_mse  Test_mae   Test_r2  Test_ad_r2  \n",
       "0  1.755501  0.958735  0.503501    0.503332  "
      ]
     },
     "execution_count": 44,
     "metadata": {},
     "output_type": "execute_result"
    }
   ],
   "source": [
    "rf_record.append({'Model':'Hyperparamter tunned RF',\n",
    "                 'Train_mse':rf_train_mse,\n",
    "                 'Train_mae':rf_train_mae,\n",
    "                 'Train_r2': rf_train_r2,\n",
    "                 'Train_ad_r2':rf_train_adj_r2,\n",
    "                 'Test_mse':rf_test_mse,\n",
    "                 'Test_mae':rf_test_mae,\n",
    "                 'Test_r2':rf_test_r2,\n",
    "                 'Test_ad_r2':rf_test_adj_r2})\n",
    "hyp_model = pd.DataFrame(rf_record)\n",
    "hyp_model"
   ]
  },
  {
   "cell_type": "markdown",
   "id": "4653b679",
   "metadata": {},
   "source": [
    "#### 4.5 <span style='color:red'>|</span> Bagging Regressor"
   ]
  },
  {
   "cell_type": "code",
   "execution_count": 45,
   "id": "04f722a9",
   "metadata": {},
   "outputs": [
    {
     "data": {
      "text/html": [
       "<div>\n",
       "<style scoped>\n",
       "    .dataframe tbody tr th:only-of-type {\n",
       "        vertical-align: middle;\n",
       "    }\n",
       "\n",
       "    .dataframe tbody tr th {\n",
       "        vertical-align: top;\n",
       "    }\n",
       "\n",
       "    .dataframe thead th {\n",
       "        text-align: right;\n",
       "    }\n",
       "</style>\n",
       "<table border=\"1\" class=\"dataframe\">\n",
       "  <thead>\n",
       "    <tr style=\"text-align: right;\">\n",
       "      <th></th>\n",
       "      <th>Model</th>\n",
       "      <th>Train_mse</th>\n",
       "      <th>Train_mae</th>\n",
       "      <th>Train_r2</th>\n",
       "      <th>Train_ad_r2</th>\n",
       "      <th>Test_mse</th>\n",
       "      <th>Test_mae</th>\n",
       "      <th>Test_r2</th>\n",
       "      <th>Test_ad_r2</th>\n",
       "    </tr>\n",
       "  </thead>\n",
       "  <tbody>\n",
       "    <tr>\n",
       "      <th>0</th>\n",
       "      <td>Bagging Regressor</td>\n",
       "      <td>0.266256</td>\n",
       "      <td>0.348901</td>\n",
       "      <td>0.897267</td>\n",
       "      <td>0.897258</td>\n",
       "      <td>1.90868</td>\n",
       "      <td>0.972463</td>\n",
       "      <td>0.270167</td>\n",
       "      <td>0.26992</td>\n",
       "    </tr>\n",
       "  </tbody>\n",
       "</table>\n",
       "</div>"
      ],
      "text/plain": [
       "               Model  Train_mse  Train_mae  Train_r2  Train_ad_r2  Test_mse  \\\n",
       "0  Bagging Regressor   0.266256   0.348901  0.897267     0.897258   1.90868   \n",
       "\n",
       "   Test_mae   Test_r2  Test_ad_r2  \n",
       "0  0.972463  0.270167     0.26992  "
      ]
     },
     "execution_count": 45,
     "metadata": {},
     "output_type": "execute_result"
    }
   ],
   "source": [
    "report2 = []\n",
    "\n",
    "#baggin using decision tree regressor\n",
    "dt_bag = BaggingRegressor(n_estimators=100)\n",
    "dt_bag.fit(x_train,y_train)\n",
    "\n",
    "train_pred_bag = dt_bag.predict(x_train)\n",
    "test_pred_bag = dt_bag.predict(x_test)\n",
    "\n",
    "#Training data performance\n",
    "bag_train_mse = mean_squared_error(y_train, train_pred_bag)\n",
    "bag_train_mae = mean_absolute_error(y_train, train_pred_bag)\n",
    "bag_train_r2 = r2_score(y_train, train_pred_bag)\n",
    "bag_train_ad_r2 = 1-(((1-bag_train_r2)*(len(y_train)-1))/(len(y_train)-(x_train.shape[1])-1))\n",
    "\n",
    "#testing data performance\n",
    "bag_test_mse = mean_squared_error(y_test, test_pred_bag)\n",
    "bag_test_mae = mean_absolute_error(y_test, test_pred_bag)\n",
    "bag_test_r2 = r2_score(y_test, test_pred_bag)\n",
    "bag_test_ad_r2 = 1-(((1-bag_test_r2)*(len(y_test)-1))/(len(y_test)-(x_test.shape[1])-1))\n",
    "\n",
    "report2.append({'Model':'Bagging Regressor',\n",
    "                'Train_mse':bag_train_mse,\n",
    "                'Train_mae':bag_train_mae,\n",
    "                'Train_r2': bag_train_r2,\n",
    "                'Train_ad_r2':bag_train_ad_r2,\n",
    "                'Test_mse':bag_test_mse,\n",
    "                'Test_mae':bag_test_mae,\n",
    "                'Test_r2':bag_test_r2,\n",
    "                'Test_ad_r2':bag_test_ad_r2})\n",
    "bagging_report = pd.DataFrame(report2)\n",
    "bagging_report"
   ]
  },
  {
   "cell_type": "code",
   "execution_count": 46,
   "id": "af591818",
   "metadata": {},
   "outputs": [],
   "source": [
    "#Hyper parameter tunning\n",
    "bag_params = {'n_estimators':[50,100,200,500],\n",
    "             'max_samples':range(2,5,1),\n",
    "             'max_features':[2,3]}"
   ]
  },
  {
   "cell_type": "code",
   "execution_count": 47,
   "id": "7a2b6e28",
   "metadata": {},
   "outputs": [
    {
     "name": "stdout",
     "output_type": "stream",
     "text": [
      "Fitting 3 folds for each of 24 candidates, totalling 72 fits\n"
     ]
    },
    {
     "data": {
      "text/html": [
       "<style>#sk-container-id-2 {color: black;background-color: white;}#sk-container-id-2 pre{padding: 0;}#sk-container-id-2 div.sk-toggleable {background-color: white;}#sk-container-id-2 label.sk-toggleable__label {cursor: pointer;display: block;width: 100%;margin-bottom: 0;padding: 0.3em;box-sizing: border-box;text-align: center;}#sk-container-id-2 label.sk-toggleable__label-arrow:before {content: \"▸\";float: left;margin-right: 0.25em;color: #696969;}#sk-container-id-2 label.sk-toggleable__label-arrow:hover:before {color: black;}#sk-container-id-2 div.sk-estimator:hover label.sk-toggleable__label-arrow:before {color: black;}#sk-container-id-2 div.sk-toggleable__content {max-height: 0;max-width: 0;overflow: hidden;text-align: left;background-color: #f0f8ff;}#sk-container-id-2 div.sk-toggleable__content pre {margin: 0.2em;color: black;border-radius: 0.25em;background-color: #f0f8ff;}#sk-container-id-2 input.sk-toggleable__control:checked~div.sk-toggleable__content {max-height: 200px;max-width: 100%;overflow: auto;}#sk-container-id-2 input.sk-toggleable__control:checked~label.sk-toggleable__label-arrow:before {content: \"▾\";}#sk-container-id-2 div.sk-estimator input.sk-toggleable__control:checked~label.sk-toggleable__label {background-color: #d4ebff;}#sk-container-id-2 div.sk-label input.sk-toggleable__control:checked~label.sk-toggleable__label {background-color: #d4ebff;}#sk-container-id-2 input.sk-hidden--visually {border: 0;clip: rect(1px 1px 1px 1px);clip: rect(1px, 1px, 1px, 1px);height: 1px;margin: -1px;overflow: hidden;padding: 0;position: absolute;width: 1px;}#sk-container-id-2 div.sk-estimator {font-family: monospace;background-color: #f0f8ff;border: 1px dotted black;border-radius: 0.25em;box-sizing: border-box;margin-bottom: 0.5em;}#sk-container-id-2 div.sk-estimator:hover {background-color: #d4ebff;}#sk-container-id-2 div.sk-parallel-item::after {content: \"\";width: 100%;border-bottom: 1px solid gray;flex-grow: 1;}#sk-container-id-2 div.sk-label:hover label.sk-toggleable__label {background-color: #d4ebff;}#sk-container-id-2 div.sk-serial::before {content: \"\";position: absolute;border-left: 1px solid gray;box-sizing: border-box;top: 0;bottom: 0;left: 50%;z-index: 0;}#sk-container-id-2 div.sk-serial {display: flex;flex-direction: column;align-items: center;background-color: white;padding-right: 0.2em;padding-left: 0.2em;position: relative;}#sk-container-id-2 div.sk-item {position: relative;z-index: 1;}#sk-container-id-2 div.sk-parallel {display: flex;align-items: stretch;justify-content: center;background-color: white;position: relative;}#sk-container-id-2 div.sk-item::before, #sk-container-id-2 div.sk-parallel-item::before {content: \"\";position: absolute;border-left: 1px solid gray;box-sizing: border-box;top: 0;bottom: 0;left: 50%;z-index: -1;}#sk-container-id-2 div.sk-parallel-item {display: flex;flex-direction: column;z-index: 1;position: relative;background-color: white;}#sk-container-id-2 div.sk-parallel-item:first-child::after {align-self: flex-end;width: 50%;}#sk-container-id-2 div.sk-parallel-item:last-child::after {align-self: flex-start;width: 50%;}#sk-container-id-2 div.sk-parallel-item:only-child::after {width: 0;}#sk-container-id-2 div.sk-dashed-wrapped {border: 1px dashed gray;margin: 0 0.4em 0.5em 0.4em;box-sizing: border-box;padding-bottom: 0.4em;background-color: white;}#sk-container-id-2 div.sk-label label {font-family: monospace;font-weight: bold;display: inline-block;line-height: 1.2em;}#sk-container-id-2 div.sk-label-container {text-align: center;}#sk-container-id-2 div.sk-container {/* jupyter's `normalize.less` sets `[hidden] { display: none; }` but bootstrap.min.css set `[hidden] { display: none !important; }` so we also need the `!important` here to be able to override the default hidden behavior on the sphinx rendered scikit-learn.org. See: https://github.com/scikit-learn/scikit-learn/issues/21755 */display: inline-block !important;position: relative;}#sk-container-id-2 div.sk-text-repr-fallback {display: none;}</style><div id=\"sk-container-id-2\" class=\"sk-top-container\"><div class=\"sk-text-repr-fallback\"><pre>RandomizedSearchCV(cv=3, estimator=BaggingRegressor(), n_iter=100, n_jobs=-1,\n",
       "                   param_distributions={&#x27;max_features&#x27;: [2, 3],\n",
       "                                        &#x27;max_samples&#x27;: range(2, 5),\n",
       "                                        &#x27;n_estimators&#x27;: [50, 100, 200, 500]},\n",
       "                   verbose=2)</pre><b>In a Jupyter environment, please rerun this cell to show the HTML representation or trust the notebook. <br />On GitHub, the HTML representation is unable to render, please try loading this page with nbviewer.org.</b></div><div class=\"sk-container\" hidden><div class=\"sk-item sk-dashed-wrapped\"><div class=\"sk-label-container\"><div class=\"sk-label sk-toggleable\"><input class=\"sk-toggleable__control sk-hidden--visually\" id=\"sk-estimator-id-4\" type=\"checkbox\" ><label for=\"sk-estimator-id-4\" class=\"sk-toggleable__label sk-toggleable__label-arrow\">RandomizedSearchCV</label><div class=\"sk-toggleable__content\"><pre>RandomizedSearchCV(cv=3, estimator=BaggingRegressor(), n_iter=100, n_jobs=-1,\n",
       "                   param_distributions={&#x27;max_features&#x27;: [2, 3],\n",
       "                                        &#x27;max_samples&#x27;: range(2, 5),\n",
       "                                        &#x27;n_estimators&#x27;: [50, 100, 200, 500]},\n",
       "                   verbose=2)</pre></div></div></div><div class=\"sk-parallel\"><div class=\"sk-parallel-item\"><div class=\"sk-item\"><div class=\"sk-label-container\"><div class=\"sk-label sk-toggleable\"><input class=\"sk-toggleable__control sk-hidden--visually\" id=\"sk-estimator-id-5\" type=\"checkbox\" ><label for=\"sk-estimator-id-5\" class=\"sk-toggleable__label sk-toggleable__label-arrow\">estimator: BaggingRegressor</label><div class=\"sk-toggleable__content\"><pre>BaggingRegressor()</pre></div></div></div><div class=\"sk-serial\"><div class=\"sk-item\"><div class=\"sk-estimator sk-toggleable\"><input class=\"sk-toggleable__control sk-hidden--visually\" id=\"sk-estimator-id-6\" type=\"checkbox\" ><label for=\"sk-estimator-id-6\" class=\"sk-toggleable__label sk-toggleable__label-arrow\">BaggingRegressor</label><div class=\"sk-toggleable__content\"><pre>BaggingRegressor()</pre></div></div></div></div></div></div></div></div></div></div>"
      ],
      "text/plain": [
       "RandomizedSearchCV(cv=3, estimator=BaggingRegressor(), n_iter=100, n_jobs=-1,\n",
       "                   param_distributions={'max_features': [2, 3],\n",
       "                                        'max_samples': range(2, 5),\n",
       "                                        'n_estimators': [50, 100, 200, 500]},\n",
       "                   verbose=2)"
      ]
     },
     "execution_count": 47,
     "metadata": {},
     "output_type": "execute_result"
    }
   ],
   "source": [
    "bag_ran_search = RandomizedSearchCV(estimator=BaggingRegressor(), param_distributions=bag_params, n_iter=100, n_jobs=-1, cv=3, \n",
    "                                    verbose=2)\n",
    "bag_ran_search.fit(x_train,y_train)"
   ]
  },
  {
   "cell_type": "code",
   "execution_count": 48,
   "id": "bfedf1bd",
   "metadata": {},
   "outputs": [
    {
     "data": {
      "text/plain": [
       "({'n_estimators': 200, 'max_samples': 4, 'max_features': 3},\n",
       " BaggingRegressor(max_features=3, max_samples=4, n_estimators=200))"
      ]
     },
     "execution_count": 48,
     "metadata": {},
     "output_type": "execute_result"
    }
   ],
   "source": [
    "bag_ran_search.best_params_,bag_ran_search.best_estimator_"
   ]
  },
  {
   "cell_type": "code",
   "execution_count": 49,
   "id": "61a20904",
   "metadata": {},
   "outputs": [
    {
     "data": {
      "text/html": [
       "<div>\n",
       "<style scoped>\n",
       "    .dataframe tbody tr th:only-of-type {\n",
       "        vertical-align: middle;\n",
       "    }\n",
       "\n",
       "    .dataframe tbody tr th {\n",
       "        vertical-align: top;\n",
       "    }\n",
       "\n",
       "    .dataframe thead th {\n",
       "        text-align: right;\n",
       "    }\n",
       "</style>\n",
       "<table border=\"1\" class=\"dataframe\">\n",
       "  <thead>\n",
       "    <tr style=\"text-align: right;\">\n",
       "      <th></th>\n",
       "      <th>Model</th>\n",
       "      <th>Train_mse</th>\n",
       "      <th>Train_mae</th>\n",
       "      <th>Train_r2</th>\n",
       "      <th>Train_ad_r2</th>\n",
       "      <th>Test_mse</th>\n",
       "      <th>Test_mae</th>\n",
       "      <th>Test_r2</th>\n",
       "      <th>Test_ad_r2</th>\n",
       "    </tr>\n",
       "  </thead>\n",
       "  <tbody>\n",
       "    <tr>\n",
       "      <th>0</th>\n",
       "      <td>Hyper-parameter tunned Bagging Regressor</td>\n",
       "      <td>2.155259</td>\n",
       "      <td>1.200778</td>\n",
       "      <td>0.168406</td>\n",
       "      <td>0.168335</td>\n",
       "      <td>2.185864</td>\n",
       "      <td>1.211427</td>\n",
       "      <td>0.164179</td>\n",
       "      <td>0.163895</td>\n",
       "    </tr>\n",
       "  </tbody>\n",
       "</table>\n",
       "</div>"
      ],
      "text/plain": [
       "                                      Model  Train_mse  Train_mae  Train_r2  \\\n",
       "0  Hyper-parameter tunned Bagging Regressor   2.155259   1.200778  0.168406   \n",
       "\n",
       "   Train_ad_r2  Test_mse  Test_mae   Test_r2  Test_ad_r2  \n",
       "0     0.168335  2.185864  1.211427  0.164179    0.163895  "
      ]
     },
     "execution_count": 49,
     "metadata": {},
     "output_type": "execute_result"
    }
   ],
   "source": [
    "bag_hype_model = BaggingRegressor(max_features=3, max_samples=4, n_estimators=500)\n",
    "bag_hype_model.fit(x_train,y_train)\n",
    "\n",
    "#predictions\n",
    "train_pred_bag_hype = bag_hype_model.predict(x_train)\n",
    "test_pred_bag_hype = bag_hype_model.predict(x_test)\n",
    "\n",
    "#performance on training data\n",
    "bag_hype_train_mse = mean_squared_error(y_train, train_pred_bag_hype)\n",
    "bag_hype_train_mae = mean_absolute_error(y_train, train_pred_bag_hype)\n",
    "bag_hype_train_r2 = r2_score(y_train, train_pred_bag_hype)\n",
    "bag_hype_train_ad_r2 = 1-(((1-bag_hype_train_r2)*(len(y_train)-1))/(len(y_train)-(x_train.shape[1])-1))\n",
    "\n",
    "#performance on testing data\n",
    "bag_hype_test_mse = mean_squared_error(y_test, test_pred_bag_hype)\n",
    "bag_hype_test_mae = mean_absolute_error(y_test, test_pred_bag_hype)\n",
    "bag_hype_test_r2 = r2_score(y_test, test_pred_bag_hype)\n",
    "bag_hype_test_ad_r2 = 1-(((1-bag_hype_test_r2)*(len(y_test)-1))/(len(y_test)-(x_test.shape[1])-1))\n",
    "\n",
    "bag_records = []\n",
    "bag_records.append({'Model':'Hyper-parameter tunned Bagging Regressor',\n",
    "                'Train_mse':bag_hype_train_mse,\n",
    "                'Train_mae':bag_hype_train_mae,\n",
    "                'Train_r2': bag_hype_train_r2,\n",
    "                'Train_ad_r2':bag_hype_train_ad_r2,\n",
    "                'Test_mse':bag_hype_test_mse,\n",
    "                'Test_mae':bag_hype_test_mae,\n",
    "                'Test_r2':bag_hype_test_r2,\n",
    "                'Test_ad_r2':bag_hype_test_ad_r2})\n",
    "\n",
    "hypertunned_bag = pd.DataFrame(bag_records)\n",
    "hypertunned_bag"
   ]
  },
  {
   "cell_type": "markdown",
   "id": "3edf2de3",
   "metadata": {},
   "source": [
    "#### 4.6 <span style='color:red'>|</span> Summary"
   ]
  },
  {
   "cell_type": "markdown",
   "id": "00bfcec4",
   "metadata": {},
   "source": [
    "* Accuracy report of all"
   ]
  },
  {
   "cell_type": "code",
   "execution_count": 50,
   "id": "120d1712",
   "metadata": {
    "scrolled": true
   },
   "outputs": [
    {
     "data": {
      "text/html": [
       "<div>\n",
       "<style scoped>\n",
       "    .dataframe tbody tr th:only-of-type {\n",
       "        vertical-align: middle;\n",
       "    }\n",
       "\n",
       "    .dataframe tbody tr th {\n",
       "        vertical-align: top;\n",
       "    }\n",
       "\n",
       "    .dataframe thead th {\n",
       "        text-align: right;\n",
       "    }\n",
       "</style>\n",
       "<table border=\"1\" class=\"dataframe\">\n",
       "  <thead>\n",
       "    <tr style=\"text-align: right;\">\n",
       "      <th></th>\n",
       "      <th>Model</th>\n",
       "      <th>Train_mse</th>\n",
       "      <th>Test_mse</th>\n",
       "      <th>Train_mae</th>\n",
       "      <th>Test_mae</th>\n",
       "      <th>Train_r2</th>\n",
       "      <th>Test_r2</th>\n",
       "      <th>Train_ad_r2</th>\n",
       "      <th>Test_ad_r2</th>\n",
       "    </tr>\n",
       "  </thead>\n",
       "  <tbody>\n",
       "    <tr>\n",
       "      <th>6</th>\n",
       "      <td>Hyperparamter tunned RF</td>\n",
       "      <td>1.286786</td>\n",
       "      <td>1.755501</td>\n",
       "      <td>0.817498</td>\n",
       "      <td>0.958735</td>\n",
       "      <td>0.503501</td>\n",
       "      <td>0.503501</td>\n",
       "      <td>0.503459</td>\n",
       "      <td>0.503332</td>\n",
       "    </tr>\n",
       "    <tr>\n",
       "      <th>5</th>\n",
       "      <td>Random Forest Regressor</td>\n",
       "      <td>0.265499</td>\n",
       "      <td>1.908562</td>\n",
       "      <td>0.348236</td>\n",
       "      <td>0.971874</td>\n",
       "      <td>0.897559</td>\n",
       "      <td>0.270213</td>\n",
       "      <td>0.897550</td>\n",
       "      <td>0.269965</td>\n",
       "    </tr>\n",
       "    <tr>\n",
       "      <th>7</th>\n",
       "      <td>Bagging Regressor</td>\n",
       "      <td>0.266256</td>\n",
       "      <td>1.908680</td>\n",
       "      <td>0.348901</td>\n",
       "      <td>0.972463</td>\n",
       "      <td>0.897267</td>\n",
       "      <td>0.270167</td>\n",
       "      <td>0.897258</td>\n",
       "      <td>0.269920</td>\n",
       "    </tr>\n",
       "    <tr>\n",
       "      <th>1</th>\n",
       "      <td>Ridge Regression</td>\n",
       "      <td>1.902106</td>\n",
       "      <td>1.944733</td>\n",
       "      <td>1.043217</td>\n",
       "      <td>1.060837</td>\n",
       "      <td>0.266084</td>\n",
       "      <td>0.256382</td>\n",
       "      <td>0.266021</td>\n",
       "      <td>0.256129</td>\n",
       "    </tr>\n",
       "    <tr>\n",
       "      <th>0</th>\n",
       "      <td>Linear Regression</td>\n",
       "      <td>1.902099</td>\n",
       "      <td>1.944789</td>\n",
       "      <td>1.043212</td>\n",
       "      <td>1.060864</td>\n",
       "      <td>0.266086</td>\n",
       "      <td>0.256360</td>\n",
       "      <td>0.266024</td>\n",
       "      <td>0.256108</td>\n",
       "    </tr>\n",
       "    <tr>\n",
       "      <th>3</th>\n",
       "      <td>Support Vector Regression</td>\n",
       "      <td>2.019725</td>\n",
       "      <td>2.074524</td>\n",
       "      <td>0.827254</td>\n",
       "      <td>0.841805</td>\n",
       "      <td>0.220701</td>\n",
       "      <td>0.206753</td>\n",
       "      <td>0.220635</td>\n",
       "      <td>0.206484</td>\n",
       "    </tr>\n",
       "    <tr>\n",
       "      <th>8</th>\n",
       "      <td>Hyper-parameter tunned Bagging Regressor</td>\n",
       "      <td>2.155259</td>\n",
       "      <td>2.185864</td>\n",
       "      <td>1.200778</td>\n",
       "      <td>1.211427</td>\n",
       "      <td>0.168406</td>\n",
       "      <td>0.164179</td>\n",
       "      <td>0.168335</td>\n",
       "      <td>0.163895</td>\n",
       "    </tr>\n",
       "    <tr>\n",
       "      <th>2</th>\n",
       "      <td>Lasso Regression</td>\n",
       "      <td>2.591720</td>\n",
       "      <td>2.615372</td>\n",
       "      <td>1.339251</td>\n",
       "      <td>1.347378</td>\n",
       "      <td>0.000000</td>\n",
       "      <td>-0.000054</td>\n",
       "      <td>-0.000085</td>\n",
       "      <td>-0.000394</td>\n",
       "    </tr>\n",
       "    <tr>\n",
       "      <th>4</th>\n",
       "      <td>Decision Tree Regressor</td>\n",
       "      <td>0.012250</td>\n",
       "      <td>3.390486</td>\n",
       "      <td>0.005954</td>\n",
       "      <td>1.078903</td>\n",
       "      <td>0.995273</td>\n",
       "      <td>-0.296439</td>\n",
       "      <td>0.995273</td>\n",
       "      <td>-0.296879</td>\n",
       "    </tr>\n",
       "  </tbody>\n",
       "</table>\n",
       "</div>"
      ],
      "text/plain": [
       "                                      Model  Train_mse  Test_mse  Train_mae  \\\n",
       "6                   Hyperparamter tunned RF   1.286786  1.755501   0.817498   \n",
       "5                   Random Forest Regressor   0.265499  1.908562   0.348236   \n",
       "7                         Bagging Regressor   0.266256  1.908680   0.348901   \n",
       "1                          Ridge Regression   1.902106  1.944733   1.043217   \n",
       "0                         Linear Regression   1.902099  1.944789   1.043212   \n",
       "3                 Support Vector Regression   2.019725  2.074524   0.827254   \n",
       "8  Hyper-parameter tunned Bagging Regressor   2.155259  2.185864   1.200778   \n",
       "2                          Lasso Regression   2.591720  2.615372   1.339251   \n",
       "4                   Decision Tree Regressor   0.012250  3.390486   0.005954   \n",
       "\n",
       "   Test_mae  Train_r2   Test_r2  Train_ad_r2  Test_ad_r2  \n",
       "6  0.958735  0.503501  0.503501     0.503459    0.503332  \n",
       "5  0.971874  0.897559  0.270213     0.897550    0.269965  \n",
       "7  0.972463  0.897267  0.270167     0.897258    0.269920  \n",
       "1  1.060837  0.266084  0.256382     0.266021    0.256129  \n",
       "0  1.060864  0.266086  0.256360     0.266024    0.256108  \n",
       "3  0.841805  0.220701  0.206753     0.220635    0.206484  \n",
       "8  1.211427  0.168406  0.164179     0.168335    0.163895  \n",
       "2  1.347378  0.000000 -0.000054    -0.000085   -0.000394  \n",
       "4  1.078903  0.995273 -0.296439     0.995273   -0.296879  "
      ]
     },
     "execution_count": 50,
     "metadata": {},
     "output_type": "execute_result"
    }
   ],
   "source": [
    "records = [all_models,hyp_model,bagging_report,hypertunned_bag]\n",
    "summary = pd.concat(records)\n",
    "summary.reset_index(inplace=True)\n",
    "summary.drop('index',axis=1,inplace=True)\n",
    "summary.sort_values(by='Test_r2', ascending=False)"
   ]
  },
  {
   "cell_type": "markdown",
   "id": "5ce909e7",
   "metadata": {},
   "source": [
    "**END**"
   ]
  }
 ],
 "metadata": {
  "kernelspec": {
   "display_name": "Python 3 (ipykernel)",
   "language": "python",
   "name": "python3"
  },
  "language_info": {
   "codemirror_mode": {
    "name": "ipython",
    "version": 3
   },
   "file_extension": ".py",
   "mimetype": "text/x-python",
   "name": "python",
   "nbconvert_exporter": "python",
   "pygments_lexer": "ipython3",
   "version": "3.9.7"
  }
 },
 "nbformat": 4,
 "nbformat_minor": 5
}
