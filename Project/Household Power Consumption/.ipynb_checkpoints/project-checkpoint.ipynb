{
 "cells": [
  {
   "cell_type": "markdown",
   "id": "87e874b9",
   "metadata": {},
   "source": [
    "# <center><span style='color:green'> Household Electricity Consumption </span></center>"
   ]
  },
  {
   "cell_type": "markdown",
   "id": "6e539bd3",
   "metadata": {},
   "source": [
    "## Problem Statement"
   ]
  },
  {
   "cell_type": "markdown",
   "id": "1a223679",
   "metadata": {},
   "source": [
    "* Predict the household electricity consumption\n",
    "* Regression problem"
   ]
  },
  {
   "cell_type": "markdown",
   "id": "ed179a6a",
   "metadata": {},
   "source": [
    "## 1 <span style='color:red'>|</span> Import Libraries"
   ]
  },
  {
   "cell_type": "code",
   "execution_count": 1,
   "id": "6ea4f906",
   "metadata": {},
   "outputs": [],
   "source": [
    "import pandas as pd\n",
    "import numpy as np\n",
    "\n",
    "import matplotlib.pyplot as plt\n",
    "%matplotlib inline\n",
    "import seaborn as sns\n",
    "import warnings\n",
    "warnings.filterwarnings('ignore')\n",
    "\n",
    "#for modeling\n",
    "from sklearn.linear_model import LinearRegression, Ridge, Lasso\n",
    "from sklearn.svm import SVR\n",
    "from sklearn.metrics import accuracy_score , r2_score, mean_squared_error, mean_absolute_error\n",
    "from sklearn.model_selection import train_test_split\n",
    "from sklearn.preprocessing import StandardScaler\n",
    "from sklearn.ensemble import BaggingRegressor , RandomForestRegressor\n",
    "from sklearn.model_selection import RandomizedSearchCV\n",
    "from sklearn.tree import DecisionTreeRegressor\n",
    "\n",
    "#database\n",
    "import pymongo\n",
    "\n",
    "#save the model\n",
    "import pickle\n",
    "\n",
    "#to read data\n",
    "import zipfile"
   ]
  },
  {
   "cell_type": "markdown",
   "id": "4981076e",
   "metadata": {},
   "source": [
    "## 2 <span style='color:red'>|</span> Load Dataset"
   ]
  },
  {
   "cell_type": "code",
   "execution_count": null,
   "id": "6a5750f2",
   "metadata": {},
   "outputs": [],
   "source": [
    "zip_file_path = \"cosumption_data.zip\"\n",
    "file_name = \"household_power_consumption.txt\"\n",
    "\n",
    "with zipfile.ZipFile(zip_file_path, 'r') as zip_file:\n",
    "    file_list = zip_file.namelist()\n",
    "    for file in file_list:\n",
    "        if file == file_name:\n",
    "            with zip_file.open(file_name) as csv_file:\n",
    "                df = pd.read_csv(csv_file, delimiter=';')"
   ]
  },
  {
   "cell_type": "code",
   "execution_count": null,
   "id": "fc5f7e46",
   "metadata": {},
   "outputs": [],
   "source": [
    "df.head()"
   ]
  },
  {
   "cell_type": "code",
   "execution_count": null,
   "id": "ce68b6b4",
   "metadata": {},
   "outputs": [],
   "source": [
    "df.shape"
   ]
  },
  {
   "cell_type": "markdown",
   "id": "bb2a2592",
   "metadata": {},
   "source": [
    "* Taking a sample of 60000 as data is too large "
   ]
  },
  {
   "cell_type": "code",
   "execution_count": null,
   "id": "efd1b914",
   "metadata": {},
   "outputs": [],
   "source": [
    "df_sample = df.sample(60000)\n",
    "df_sample.shape"
   ]
  },
  {
   "cell_type": "markdown",
   "id": "30cace60",
   "metadata": {},
   "source": [
    "## 3 <span style='color:red'>|</span> Exploratory Data Analysis"
   ]
  },
  {
   "cell_type": "code",
   "execution_count": null,
   "id": "2639a6f8",
   "metadata": {},
   "outputs": [],
   "source": [
    "df_sample.columns"
   ]
  },
  {
   "cell_type": "code",
   "execution_count": null,
   "id": "47278feb",
   "metadata": {},
   "outputs": [],
   "source": [
    "df_sample.drop(['Date','Time'], axis=1, inplace=True)"
   ]
  },
  {
   "cell_type": "code",
   "execution_count": null,
   "id": "98afa781",
   "metadata": {},
   "outputs": [],
   "source": [
    "df_sample.head()"
   ]
  },
  {
   "cell_type": "code",
   "execution_count": null,
   "id": "631c88b5",
   "metadata": {},
   "outputs": [],
   "source": [
    "df_sample.sample(10)"
   ]
  },
  {
   "cell_type": "code",
   "execution_count": null,
   "id": "5103927f",
   "metadata": {},
   "outputs": [],
   "source": [
    "df_sample.dtypes"
   ]
  },
  {
   "cell_type": "markdown",
   "id": "9b9a822b",
   "metadata": {},
   "source": [
    "#### 3.1 <span style='color:red'>|</span> Check any special character and handle them "
   ]
  },
  {
   "cell_type": "code",
   "execution_count": null,
   "id": "bd11d0ee",
   "metadata": {},
   "outputs": [],
   "source": [
    "character_check = any(not value.isnumeric() for value in df_sample['Global_active_power'])\n",
    "character_check"
   ]
  },
  {
   "cell_type": "code",
   "execution_count": null,
   "id": "d30f1163",
   "metadata": {},
   "outputs": [],
   "source": [
    "character = [value for value in df_sample['Global_active_power'] if not str(value).replace('.','',1).isnumeric()]\n",
    "set(character)"
   ]
  },
  {
   "cell_type": "code",
   "execution_count": null,
   "id": "c6213b96",
   "metadata": {},
   "outputs": [],
   "source": [
    "#Check character in dataframe\n",
    "special_char = df_sample[df_sample['Global_active_power']=='?']\n",
    "special_char"
   ]
  },
  {
   "cell_type": "markdown",
   "id": "54fdb823",
   "metadata": {},
   "source": [
    "* 737/60000 rows and 7/7 columns has special character in it"
   ]
  },
  {
   "cell_type": "code",
   "execution_count": null,
   "id": "d04b4311",
   "metadata": {},
   "outputs": [],
   "source": [
    "(737/60000)*100"
   ]
  },
  {
   "cell_type": "code",
   "execution_count": null,
   "id": "67c20f48",
   "metadata": {},
   "outputs": [],
   "source": [
    "#drop the data having special character\n",
    "print(\"Data before removal of special character :\", df_sample.shape)\n",
    "df_sample.drop(special_char.index, axis=0, inplace=True)\n",
    "print(\"Data after removal of special character :\", df_sample.shape)"
   ]
  },
  {
   "cell_type": "markdown",
   "id": "c666ea3c",
   "metadata": {},
   "source": [
    "#### 3.2 <span style='color:red'>|</span> Check duplicates"
   ]
  },
  {
   "cell_type": "code",
   "execution_count": null,
   "id": "753c7243",
   "metadata": {},
   "outputs": [],
   "source": [
    "df_sample.duplicated().sum()"
   ]
  },
  {
   "cell_type": "markdown",
   "id": "6b9d7de4",
   "metadata": {},
   "source": [
    "* 265 duplicates record found"
   ]
  },
  {
   "cell_type": "code",
   "execution_count": null,
   "id": "21139b4b",
   "metadata": {},
   "outputs": [],
   "source": [
    "print(\"Data with duplicate records :\", df_sample.shape)\n",
    "df_sample.drop_duplicates(inplace=True)\n",
    "print(\"Data withour duplicate records :\", df_sample.shape)"
   ]
  },
  {
   "cell_type": "markdown",
   "id": "a38924ac",
   "metadata": {},
   "source": [
    "#### 3.3 <span style='color:red'>|</span> Check null values"
   ]
  },
  {
   "cell_type": "code",
   "execution_count": null,
   "id": "dd1d150b",
   "metadata": {},
   "outputs": [],
   "source": [
    "df_sample.isnull().sum()"
   ]
  },
  {
   "cell_type": "markdown",
   "id": "ab012825",
   "metadata": {},
   "source": [
    "* No null values in dataset"
   ]
  },
  {
   "cell_type": "markdown",
   "id": "20cfa709",
   "metadata": {},
   "source": [
    "#### 3.4 <span style='color:red'>|</span> Convert dtype of columns"
   ]
  },
  {
   "cell_type": "code",
   "execution_count": null,
   "id": "c1d6834e",
   "metadata": {},
   "outputs": [],
   "source": [
    "df_sample = df_sample.astype(float)"
   ]
  },
  {
   "cell_type": "code",
   "execution_count": null,
   "id": "5aaf2252",
   "metadata": {},
   "outputs": [],
   "source": [
    "df_sample.dtypes"
   ]
  },
  {
   "cell_type": "markdown",
   "id": "cd68e3a4",
   "metadata": {},
   "source": [
    "#### 3.5 <span style='color:red'>|</span> Combining Features"
   ]
  },
  {
   "cell_type": "code",
   "execution_count": null,
   "id": "f875a0a2",
   "metadata": {},
   "outputs": [],
   "source": [
    "df_sample['meter'] = df_sample['Sub_metering_1'] + df_sample['Sub_metering_2'] + df_sample['Sub_metering_2']"
   ]
  },
  {
   "cell_type": "code",
   "execution_count": null,
   "id": "8e0cfbb4",
   "metadata": {},
   "outputs": [],
   "source": [
    "df_sample.drop(['Sub_metering_1','Sub_metering_2','Sub_metering_3'], axis=1, inplace=True)"
   ]
  },
  {
   "cell_type": "code",
   "execution_count": null,
   "id": "4b852ec5",
   "metadata": {},
   "outputs": [],
   "source": [
    "df_sample.columns"
   ]
  },
  {
   "cell_type": "code",
   "execution_count": null,
   "id": "357c6ecd",
   "metadata": {},
   "outputs": [],
   "source": [
    "df_sample.head()"
   ]
  },
  {
   "cell_type": "code",
   "execution_count": null,
   "id": "0197d0d0",
   "metadata": {},
   "outputs": [],
   "source": [
    "df_sample.describe().T"
   ]
  },
  {
   "cell_type": "markdown",
   "id": "aa0126ca",
   "metadata": {},
   "source": [
    "#### 3.6 <span style='color:red'>|</span> Data Distribution"
   ]
  },
  {
   "cell_type": "code",
   "execution_count": null,
   "id": "926863f8",
   "metadata": {},
   "outputs": [],
   "source": [
    "#Data Distribution in each column\n",
    "plt.figure(figsize=(20,20), facecolor='white')\n",
    "plotnum =1\n",
    "\n",
    "for col in df_sample.columns:\n",
    "    if plotnum <= 5:\n",
    "        ax = plt.subplot(3,2,plotnum)\n",
    "        sns.distplot(df_sample[col], bins=30)\n",
    "        plt.xlabel(col, fontsize=16)\n",
    "    plotnum += 1\n",
    "plt.show()"
   ]
  },
  {
   "cell_type": "markdown",
   "id": "a30374f6",
   "metadata": {},
   "source": [
    "#### 3.7 <span style='color:red'>|</span> Check & Handle outliers"
   ]
  },
  {
   "cell_type": "code",
   "execution_count": null,
   "id": "b1715f58",
   "metadata": {},
   "outputs": [],
   "source": [
    "plt.figure(figsize=(20,10))\n",
    "plotnum = 1\n",
    "\n",
    "for col in df_sample.columns:\n",
    "    if plotnum <= 5:\n",
    "        ax = plt.subplot(2,3,plotnum)\n",
    "        sns.boxplot(df_sample[col])\n",
    "        plt.xlabel(col, fontsize=16)\n",
    "    plotnum += 1\n",
    "plt.show()"
   ]
  },
  {
   "cell_type": "code",
   "execution_count": null,
   "id": "6871ac52",
   "metadata": {},
   "outputs": [],
   "source": [
    "#Handling Outlier\n",
    "\n",
    "df1 = df_sample.copy()\n",
    "\n",
    "for col in df1.columns:\n",
    "    iqr = df1[col].quantile(0.75) - df1[col].quantile(0.25)\n",
    "    lower_limit = df1[col].quantile(0.25) - (1.5*iqr)\n",
    "    upper_limit = df1[col].quantile(0.75) + (1.5*iqr)\n",
    "    \n",
    "    df1[col] = np.where(df1[col]>upper_limit,upper_limit,np.where(df1[col]<lower_limit,lower_limit,df1[col]))"
   ]
  },
  {
   "cell_type": "code",
   "execution_count": null,
   "id": "04204cad",
   "metadata": {},
   "outputs": [],
   "source": [
    "#compare the distribution across quantile\n",
    "\n",
    "for col in df1.columns:\n",
    "    \n",
    "    plt.figure(figsize=(16,4))\n",
    "    plt.subplot(121)\n",
    "    sns.boxplot(df_sample[col])\n",
    "    plt.xlabel(f\"Boxplot of {col} before outliers handling\", fontsize=14, fontweight='bold')\n",
    "    \n",
    "    plt.subplot(122)\n",
    "    sns.boxplot(df1[col])\n",
    "    plt.xlabel(f\"Boxplot of {col} after outliers handling\", fontsize=14, fontweight='bold')"
   ]
  },
  {
   "cell_type": "markdown",
   "id": "8abbeb4d",
   "metadata": {},
   "source": [
    "## 4 <span style='color:red'>|</span> Model Building"
   ]
  },
  {
   "cell_type": "code",
   "execution_count": null,
   "id": "b6f9b5bf",
   "metadata": {},
   "outputs": [],
   "source": [
    "x= df1.drop('meter', axis=1)\n",
    "y = df1['meter']"
   ]
  },
  {
   "cell_type": "code",
   "execution_count": null,
   "id": "a03a8c2c",
   "metadata": {},
   "outputs": [],
   "source": [
    "x.shape,y.shape"
   ]
  },
  {
   "cell_type": "markdown",
   "id": "723b5da6",
   "metadata": {},
   "source": [
    "#### 4.1 <span style='color:red'>|</span> Train Test Split Dataset"
   ]
  },
  {
   "cell_type": "code",
   "execution_count": null,
   "id": "42b37a02",
   "metadata": {},
   "outputs": [],
   "source": [
    "x_train, x_test, y_train, y_test = train_test_split(x,y, random_state=42, test_size=0.20)"
   ]
  },
  {
   "cell_type": "markdown",
   "id": "3d7dfd99",
   "metadata": {},
   "source": [
    "#### 4.1 <span style='color:red'>|</span> Standardization"
   ]
  },
  {
   "cell_type": "code",
   "execution_count": null,
   "id": "54f868e4",
   "metadata": {},
   "outputs": [],
   "source": [
    "scaler = StandardScaler()\n",
    "x_train = scaler.fit_transform(x_train)\n",
    "x_test = scaler.fit_transform(x_test)"
   ]
  },
  {
   "cell_type": "markdown",
   "id": "08067e08",
   "metadata": {},
   "source": [
    "#### 4.3 <span style='color:red'>|</span> Modeling"
   ]
  },
  {
   "cell_type": "code",
   "execution_count": null,
   "id": "1c6a67bc",
   "metadata": {},
   "outputs": [],
   "source": [
    "report = []"
   ]
  },
  {
   "cell_type": "code",
   "execution_count": null,
   "id": "487b917e",
   "metadata": {},
   "outputs": [],
   "source": [
    "models = {\n",
    "    \"Linear Regression\" : LinearRegression(),\n",
    "    \"Ridge Regression\" : Ridge(),\n",
    "    \"Lasso Regression\" : Lasso(),\n",
    "    \"Support Vector Regression\" : SVR(),\n",
    "    \"Decision Tree Regressor\" : DecisionTreeRegressor(),\n",
    "    \"Random Forest Regressor\" : RandomForestRegressor()\n",
    "}\n"
   ]
  },
  {
   "cell_type": "code",
   "execution_count": null,
   "id": "67191d25",
   "metadata": {},
   "outputs": [],
   "source": [
    "for i in range(len(models)):\n",
    "    model = list(models.values())[i] \n",
    "    model.fit(x_train,y_train)\n",
    "    \n",
    "    #prediction\n",
    "    y_train_pred = model.predict(x_train)\n",
    "    y_test_pred = model.predict(x_test)\n",
    "    \n",
    "    #Training data performance\n",
    "    n = len(y_train)\n",
    "    k = x_train.shape[1]\n",
    "    train_mse = mean_squared_error(y_train, y_train_pred)\n",
    "    train_mae = mean_absolute_error(y_train, y_train_pred)\n",
    "    train_r2 = r2_score(y_train, y_train_pred)\n",
    "    train_adj_r2 = 1-(((1-train_r2)*(n-1))/(n-k-1))\n",
    "    \n",
    "    #Test data performance\n",
    "    n2 = len(y_test)\n",
    "    k2 = x_test.shape[1]\n",
    "    test_mse = mean_squared_error(y_test, y_test_pred)\n",
    "    test_mae = mean_absolute_error(y_test, y_test_pred)\n",
    "    test_r2 = r2_score(y_test, y_test_pred)\n",
    "    test_adj_r2 = 1-(((1-test_r2)*(n2-1))/(n2-k2-1))\n",
    "    \n",
    "    report.append({\"Model\": list(models.keys())[i],\n",
    "                 \"Train MSE\" : train_mse,\n",
    "                 \"Test MSE\" : test_mse,\n",
    "                 \"Train MAE\" : train_mae,\n",
    "                 \"Test MAE\" : test_mae,\n",
    "                 \"Train R2\" : train_r2,\n",
    "                 \"Test R2\" : test_r2,\n",
    "                 \"Train Adj R2\" : train_adj_r2,\n",
    "                 \"Test Adj R2\" : test_adj_r2})"
   ]
  },
  {
   "cell_type": "code",
   "execution_count": null,
   "id": "d28103fb",
   "metadata": {},
   "outputs": [],
   "source": [
    "all_models = pd.DataFrame(report)\n",
    "all_models"
   ]
  },
  {
   "cell_type": "markdown",
   "id": "020ed749",
   "metadata": {},
   "source": [
    "#### 4.4 <span style='color:red'>|</span> Hyperparameter Tunning"
   ]
  },
  {
   "cell_type": "code",
   "execution_count": null,
   "id": "49fb14e6",
   "metadata": {},
   "outputs": [],
   "source": [
    "rand_params = {'max_depth':[5,8,10,15,None],\n",
    "              'max_features':[3,'auto'],\n",
    "              'min_samples_split':[2,8,15,20],\n",
    "              'n_estimators':[50,100,200,500]}"
   ]
  }
 ],
 "metadata": {
  "kernelspec": {
   "display_name": "Python 3 (ipykernel)",
   "language": "python",
   "name": "python3"
  },
  "language_info": {
   "codemirror_mode": {
    "name": "ipython",
    "version": 3
   },
   "file_extension": ".py",
   "mimetype": "text/x-python",
   "name": "python",
   "nbconvert_exporter": "python",
   "pygments_lexer": "ipython3",
   "version": "3.9.7"
  }
 },
 "nbformat": 4,
 "nbformat_minor": 5
}
