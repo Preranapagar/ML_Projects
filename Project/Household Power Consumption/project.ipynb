{
 "cells": [
  {
   "cell_type": "markdown",
   "id": "87e874b9",
   "metadata": {},
   "source": [
    "# <center><span style='color:green'> Household Electricity Consumption </span></center>"
   ]
  },
  {
   "cell_type": "markdown",
   "id": "6e539bd3",
   "metadata": {},
   "source": [
    "## Problem Statement"
   ]
  },
  {
   "cell_type": "markdown",
   "id": "1a223679",
   "metadata": {},
   "source": [
    "* Predict the household electricity consumption\n",
    "* Regression problem"
   ]
  },
  {
   "cell_type": "markdown",
   "id": "ed179a6a",
   "metadata": {},
   "source": [
    "## 1 <span style='color:red'>|</span> Import Libraries"
   ]
  },
  {
   "cell_type": "code",
   "execution_count": 1,
   "id": "6ea4f906",
   "metadata": {},
   "outputs": [],
   "source": [
    "import pandas as pd\n",
    "import numpy as np\n",
    "\n",
    "import matplotlib.pyplot as plt\n",
    "%matplotlib inline\n",
    "import seaborn as sns\n",
    "import warnings\n",
    "warnings.filterwarnings('ignore')\n",
    "\n",
    "#for modeling\n",
    "from sklearn.linear_model import LinearRegression, Ridge, Lasso\n",
    "from sklearn.svm import SVR\n",
    "from sklearn.metrics import accuracy_score , r2_score, mean_squared_error, mean_absolute_error\n",
    "from sklearn.model_selection import train_test_split\n",
    "from sklearn.preprocessing import StandardScaler\n",
    "from sklearn.ensemble import BaggingRegressor , RandomForestRegressor\n",
    "from sklearn.model_selection import RandomizedSearchCV\n",
    "from sklearn.tree import DecisionTreeRegressor\n",
    "\n",
    "#database\n",
    "import pymongo\n",
    "\n",
    "#save the model\n",
    "import pickle\n",
    "\n",
    "#to read data\n",
    "import zipfile"
   ]
  },
  {
   "cell_type": "markdown",
   "id": "4981076e",
   "metadata": {},
   "source": [
    "## 2 <span style='color:red'>|</span> Load Dataset"
   ]
  },
  {
   "cell_type": "code",
   "execution_count": 2,
   "id": "6a5750f2",
   "metadata": {},
   "outputs": [],
   "source": [
    "zip_file_path = \"cosumption_data.zip\"\n",
    "file_name = \"household_power_consumption.txt\"\n",
    "\n",
    "with zipfile.ZipFile(zip_file_path, 'r') as zip_file:\n",
    "    file_list = zip_file.namelist()\n",
    "    for file in file_list:\n",
    "        if file == file_name:\n",
    "            with zip_file.open(file_name) as csv_file:\n",
    "                df = pd.read_csv(csv_file, delimiter=';')"
   ]
  },
  {
   "cell_type": "code",
   "execution_count": 3,
   "id": "fc5f7e46",
   "metadata": {},
   "outputs": [
    {
     "data": {
      "text/html": [
       "<div>\n",
       "<style scoped>\n",
       "    .dataframe tbody tr th:only-of-type {\n",
       "        vertical-align: middle;\n",
       "    }\n",
       "\n",
       "    .dataframe tbody tr th {\n",
       "        vertical-align: top;\n",
       "    }\n",
       "\n",
       "    .dataframe thead th {\n",
       "        text-align: right;\n",
       "    }\n",
       "</style>\n",
       "<table border=\"1\" class=\"dataframe\">\n",
       "  <thead>\n",
       "    <tr style=\"text-align: right;\">\n",
       "      <th></th>\n",
       "      <th>Date</th>\n",
       "      <th>Time</th>\n",
       "      <th>Global_active_power</th>\n",
       "      <th>Global_reactive_power</th>\n",
       "      <th>Voltage</th>\n",
       "      <th>Global_intensity</th>\n",
       "      <th>Sub_metering_1</th>\n",
       "      <th>Sub_metering_2</th>\n",
       "      <th>Sub_metering_3</th>\n",
       "    </tr>\n",
       "  </thead>\n",
       "  <tbody>\n",
       "    <tr>\n",
       "      <th>0</th>\n",
       "      <td>16/12/2006</td>\n",
       "      <td>17:24:00</td>\n",
       "      <td>4.216</td>\n",
       "      <td>0.418</td>\n",
       "      <td>234.840</td>\n",
       "      <td>18.400</td>\n",
       "      <td>0.000</td>\n",
       "      <td>1.000</td>\n",
       "      <td>17.0</td>\n",
       "    </tr>\n",
       "    <tr>\n",
       "      <th>1</th>\n",
       "      <td>16/12/2006</td>\n",
       "      <td>17:25:00</td>\n",
       "      <td>5.360</td>\n",
       "      <td>0.436</td>\n",
       "      <td>233.630</td>\n",
       "      <td>23.000</td>\n",
       "      <td>0.000</td>\n",
       "      <td>1.000</td>\n",
       "      <td>16.0</td>\n",
       "    </tr>\n",
       "    <tr>\n",
       "      <th>2</th>\n",
       "      <td>16/12/2006</td>\n",
       "      <td>17:26:00</td>\n",
       "      <td>5.374</td>\n",
       "      <td>0.498</td>\n",
       "      <td>233.290</td>\n",
       "      <td>23.000</td>\n",
       "      <td>0.000</td>\n",
       "      <td>2.000</td>\n",
       "      <td>17.0</td>\n",
       "    </tr>\n",
       "    <tr>\n",
       "      <th>3</th>\n",
       "      <td>16/12/2006</td>\n",
       "      <td>17:27:00</td>\n",
       "      <td>5.388</td>\n",
       "      <td>0.502</td>\n",
       "      <td>233.740</td>\n",
       "      <td>23.000</td>\n",
       "      <td>0.000</td>\n",
       "      <td>1.000</td>\n",
       "      <td>17.0</td>\n",
       "    </tr>\n",
       "    <tr>\n",
       "      <th>4</th>\n",
       "      <td>16/12/2006</td>\n",
       "      <td>17:28:00</td>\n",
       "      <td>3.666</td>\n",
       "      <td>0.528</td>\n",
       "      <td>235.680</td>\n",
       "      <td>15.800</td>\n",
       "      <td>0.000</td>\n",
       "      <td>1.000</td>\n",
       "      <td>17.0</td>\n",
       "    </tr>\n",
       "  </tbody>\n",
       "</table>\n",
       "</div>"
      ],
      "text/plain": [
       "         Date      Time Global_active_power Global_reactive_power  Voltage  \\\n",
       "0  16/12/2006  17:24:00               4.216                 0.418  234.840   \n",
       "1  16/12/2006  17:25:00               5.360                 0.436  233.630   \n",
       "2  16/12/2006  17:26:00               5.374                 0.498  233.290   \n",
       "3  16/12/2006  17:27:00               5.388                 0.502  233.740   \n",
       "4  16/12/2006  17:28:00               3.666                 0.528  235.680   \n",
       "\n",
       "  Global_intensity Sub_metering_1 Sub_metering_2  Sub_metering_3  \n",
       "0           18.400          0.000          1.000            17.0  \n",
       "1           23.000          0.000          1.000            16.0  \n",
       "2           23.000          0.000          2.000            17.0  \n",
       "3           23.000          0.000          1.000            17.0  \n",
       "4           15.800          0.000          1.000            17.0  "
      ]
     },
     "execution_count": 3,
     "metadata": {},
     "output_type": "execute_result"
    }
   ],
   "source": [
    "df.head()"
   ]
  },
  {
   "cell_type": "code",
   "execution_count": 4,
   "id": "ce68b6b4",
   "metadata": {},
   "outputs": [
    {
     "data": {
      "text/plain": [
       "(2075259, 9)"
      ]
     },
     "execution_count": 4,
     "metadata": {},
     "output_type": "execute_result"
    }
   ],
   "source": [
    "df.shape"
   ]
  },
  {
   "cell_type": "markdown",
   "id": "bb2a2592",
   "metadata": {},
   "source": [
    "* Taking a sample of 60000 as data is too large "
   ]
  },
  {
   "cell_type": "code",
   "execution_count": 5,
   "id": "efd1b914",
   "metadata": {},
   "outputs": [
    {
     "data": {
      "text/plain": [
       "(60000, 9)"
      ]
     },
     "execution_count": 5,
     "metadata": {},
     "output_type": "execute_result"
    }
   ],
   "source": [
    "df_sample = df.sample(60000)\n",
    "df_sample.shape"
   ]
  },
  {
   "cell_type": "markdown",
   "id": "30cace60",
   "metadata": {},
   "source": [
    "## 3 <span style='color:red'>|</span> Exploratory Data Analysis"
   ]
  },
  {
   "cell_type": "code",
   "execution_count": 6,
   "id": "2639a6f8",
   "metadata": {},
   "outputs": [
    {
     "data": {
      "text/plain": [
       "Index(['Date', 'Time', 'Global_active_power', 'Global_reactive_power',\n",
       "       'Voltage', 'Global_intensity', 'Sub_metering_1', 'Sub_metering_2',\n",
       "       'Sub_metering_3'],\n",
       "      dtype='object')"
      ]
     },
     "execution_count": 6,
     "metadata": {},
     "output_type": "execute_result"
    }
   ],
   "source": [
    "df_sample.columns"
   ]
  },
  {
   "cell_type": "code",
   "execution_count": 7,
   "id": "47278feb",
   "metadata": {},
   "outputs": [],
   "source": [
    "df_sample.drop(['Date','Time'], axis=1, inplace=True)"
   ]
  },
  {
   "cell_type": "code",
   "execution_count": 8,
   "id": "98afa781",
   "metadata": {},
   "outputs": [
    {
     "data": {
      "text/html": [
       "<div>\n",
       "<style scoped>\n",
       "    .dataframe tbody tr th:only-of-type {\n",
       "        vertical-align: middle;\n",
       "    }\n",
       "\n",
       "    .dataframe tbody tr th {\n",
       "        vertical-align: top;\n",
       "    }\n",
       "\n",
       "    .dataframe thead th {\n",
       "        text-align: right;\n",
       "    }\n",
       "</style>\n",
       "<table border=\"1\" class=\"dataframe\">\n",
       "  <thead>\n",
       "    <tr style=\"text-align: right;\">\n",
       "      <th></th>\n",
       "      <th>Global_active_power</th>\n",
       "      <th>Global_reactive_power</th>\n",
       "      <th>Voltage</th>\n",
       "      <th>Global_intensity</th>\n",
       "      <th>Sub_metering_1</th>\n",
       "      <th>Sub_metering_2</th>\n",
       "      <th>Sub_metering_3</th>\n",
       "    </tr>\n",
       "  </thead>\n",
       "  <tbody>\n",
       "    <tr>\n",
       "      <th>909168</th>\n",
       "      <td>0.250</td>\n",
       "      <td>0.084</td>\n",
       "      <td>244.520</td>\n",
       "      <td>1.200</td>\n",
       "      <td>0.000</td>\n",
       "      <td>0.000</td>\n",
       "      <td>1.0</td>\n",
       "    </tr>\n",
       "    <tr>\n",
       "      <th>1215530</th>\n",
       "      <td>3.334</td>\n",
       "      <td>0.368</td>\n",
       "      <td>238.450</td>\n",
       "      <td>14.200</td>\n",
       "      <td>0.000</td>\n",
       "      <td>0.000</td>\n",
       "      <td>1.0</td>\n",
       "    </tr>\n",
       "    <tr>\n",
       "      <th>1284547</th>\n",
       "      <td>0.416</td>\n",
       "      <td>0.180</td>\n",
       "      <td>227.850</td>\n",
       "      <td>2.000</td>\n",
       "      <td>0.000</td>\n",
       "      <td>1.000</td>\n",
       "      <td>1.0</td>\n",
       "    </tr>\n",
       "    <tr>\n",
       "      <th>1980989</th>\n",
       "      <td>1.978</td>\n",
       "      <td>0.260</td>\n",
       "      <td>238.180</td>\n",
       "      <td>8.400</td>\n",
       "      <td>1.000</td>\n",
       "      <td>0.000</td>\n",
       "      <td>28.0</td>\n",
       "    </tr>\n",
       "    <tr>\n",
       "      <th>177257</th>\n",
       "      <td>0.418</td>\n",
       "      <td>0.238</td>\n",
       "      <td>241.090</td>\n",
       "      <td>2.000</td>\n",
       "      <td>0.000</td>\n",
       "      <td>0.000</td>\n",
       "      <td>0.0</td>\n",
       "    </tr>\n",
       "  </tbody>\n",
       "</table>\n",
       "</div>"
      ],
      "text/plain": [
       "        Global_active_power Global_reactive_power  Voltage Global_intensity  \\\n",
       "909168                0.250                 0.084  244.520            1.200   \n",
       "1215530               3.334                 0.368  238.450           14.200   \n",
       "1284547               0.416                 0.180  227.850            2.000   \n",
       "1980989               1.978                 0.260  238.180            8.400   \n",
       "177257                0.418                 0.238  241.090            2.000   \n",
       "\n",
       "        Sub_metering_1 Sub_metering_2  Sub_metering_3  \n",
       "909168           0.000          0.000             1.0  \n",
       "1215530          0.000          0.000             1.0  \n",
       "1284547          0.000          1.000             1.0  \n",
       "1980989          1.000          0.000            28.0  \n",
       "177257           0.000          0.000             0.0  "
      ]
     },
     "execution_count": 8,
     "metadata": {},
     "output_type": "execute_result"
    }
   ],
   "source": [
    "df_sample.head()"
   ]
  },
  {
   "cell_type": "code",
   "execution_count": 9,
   "id": "631c88b5",
   "metadata": {},
   "outputs": [
    {
     "data": {
      "text/html": [
       "<div>\n",
       "<style scoped>\n",
       "    .dataframe tbody tr th:only-of-type {\n",
       "        vertical-align: middle;\n",
       "    }\n",
       "\n",
       "    .dataframe tbody tr th {\n",
       "        vertical-align: top;\n",
       "    }\n",
       "\n",
       "    .dataframe thead th {\n",
       "        text-align: right;\n",
       "    }\n",
       "</style>\n",
       "<table border=\"1\" class=\"dataframe\">\n",
       "  <thead>\n",
       "    <tr style=\"text-align: right;\">\n",
       "      <th></th>\n",
       "      <th>Global_active_power</th>\n",
       "      <th>Global_reactive_power</th>\n",
       "      <th>Voltage</th>\n",
       "      <th>Global_intensity</th>\n",
       "      <th>Sub_metering_1</th>\n",
       "      <th>Sub_metering_2</th>\n",
       "      <th>Sub_metering_3</th>\n",
       "    </tr>\n",
       "  </thead>\n",
       "  <tbody>\n",
       "    <tr>\n",
       "      <th>800950</th>\n",
       "      <td>2.690</td>\n",
       "      <td>0.218</td>\n",
       "      <td>235.480</td>\n",
       "      <td>11.400</td>\n",
       "      <td>2.000</td>\n",
       "      <td>0.000</td>\n",
       "      <td>17.0</td>\n",
       "    </tr>\n",
       "    <tr>\n",
       "      <th>1602249</th>\n",
       "      <td>1.406</td>\n",
       "      <td>0.000</td>\n",
       "      <td>243.660</td>\n",
       "      <td>5.800</td>\n",
       "      <td>0.000</td>\n",
       "      <td>0.000</td>\n",
       "      <td>19.0</td>\n",
       "    </tr>\n",
       "    <tr>\n",
       "      <th>1942877</th>\n",
       "      <td>0.284</td>\n",
       "      <td>0.106</td>\n",
       "      <td>243.520</td>\n",
       "      <td>1.200</td>\n",
       "      <td>0.000</td>\n",
       "      <td>0.000</td>\n",
       "      <td>0.0</td>\n",
       "    </tr>\n",
       "    <tr>\n",
       "      <th>1557119</th>\n",
       "      <td>0.400</td>\n",
       "      <td>0.218</td>\n",
       "      <td>240.670</td>\n",
       "      <td>1.800</td>\n",
       "      <td>0.000</td>\n",
       "      <td>0.000</td>\n",
       "      <td>1.0</td>\n",
       "    </tr>\n",
       "    <tr>\n",
       "      <th>263384</th>\n",
       "      <td>0.746</td>\n",
       "      <td>0.354</td>\n",
       "      <td>240.680</td>\n",
       "      <td>3.400</td>\n",
       "      <td>0.000</td>\n",
       "      <td>2.000</td>\n",
       "      <td>0.0</td>\n",
       "    </tr>\n",
       "    <tr>\n",
       "      <th>618852</th>\n",
       "      <td>4.972</td>\n",
       "      <td>0.374</td>\n",
       "      <td>235.410</td>\n",
       "      <td>21.200</td>\n",
       "      <td>0.000</td>\n",
       "      <td>36.000</td>\n",
       "      <td>18.0</td>\n",
       "    </tr>\n",
       "    <tr>\n",
       "      <th>2037040</th>\n",
       "      <td>0.372</td>\n",
       "      <td>0.136</td>\n",
       "      <td>245.06</td>\n",
       "      <td>1.6</td>\n",
       "      <td>0.0</td>\n",
       "      <td>0.0</td>\n",
       "      <td>0.0</td>\n",
       "    </tr>\n",
       "    <tr>\n",
       "      <th>1936742</th>\n",
       "      <td>?</td>\n",
       "      <td>?</td>\n",
       "      <td>?</td>\n",
       "      <td>?</td>\n",
       "      <td>?</td>\n",
       "      <td>?</td>\n",
       "      <td>NaN</td>\n",
       "    </tr>\n",
       "    <tr>\n",
       "      <th>630070</th>\n",
       "      <td>0.222</td>\n",
       "      <td>0.000</td>\n",
       "      <td>241.780</td>\n",
       "      <td>0.800</td>\n",
       "      <td>0.000</td>\n",
       "      <td>0.000</td>\n",
       "      <td>0.0</td>\n",
       "    </tr>\n",
       "    <tr>\n",
       "      <th>1391088</th>\n",
       "      <td>2.006</td>\n",
       "      <td>0.260</td>\n",
       "      <td>240.090</td>\n",
       "      <td>8.400</td>\n",
       "      <td>0.000</td>\n",
       "      <td>0.000</td>\n",
       "      <td>30.0</td>\n",
       "    </tr>\n",
       "  </tbody>\n",
       "</table>\n",
       "</div>"
      ],
      "text/plain": [
       "        Global_active_power Global_reactive_power  Voltage Global_intensity  \\\n",
       "800950                2.690                 0.218  235.480           11.400   \n",
       "1602249               1.406                 0.000  243.660            5.800   \n",
       "1942877               0.284                 0.106  243.520            1.200   \n",
       "1557119               0.400                 0.218  240.670            1.800   \n",
       "263384                0.746                 0.354  240.680            3.400   \n",
       "618852                4.972                 0.374  235.410           21.200   \n",
       "2037040               0.372                 0.136   245.06              1.6   \n",
       "1936742                   ?                     ?        ?                ?   \n",
       "630070                0.222                 0.000  241.780            0.800   \n",
       "1391088               2.006                 0.260  240.090            8.400   \n",
       "\n",
       "        Sub_metering_1 Sub_metering_2  Sub_metering_3  \n",
       "800950           2.000          0.000            17.0  \n",
       "1602249          0.000          0.000            19.0  \n",
       "1942877          0.000          0.000             0.0  \n",
       "1557119          0.000          0.000             1.0  \n",
       "263384           0.000          2.000             0.0  \n",
       "618852           0.000         36.000            18.0  \n",
       "2037040            0.0            0.0             0.0  \n",
       "1936742              ?              ?             NaN  \n",
       "630070           0.000          0.000             0.0  \n",
       "1391088          0.000          0.000            30.0  "
      ]
     },
     "execution_count": 9,
     "metadata": {},
     "output_type": "execute_result"
    }
   ],
   "source": [
    "df_sample.sample(10)"
   ]
  },
  {
   "cell_type": "code",
   "execution_count": 10,
   "id": "5103927f",
   "metadata": {},
   "outputs": [
    {
     "data": {
      "text/plain": [
       "Global_active_power       object\n",
       "Global_reactive_power     object\n",
       "Voltage                   object\n",
       "Global_intensity          object\n",
       "Sub_metering_1            object\n",
       "Sub_metering_2            object\n",
       "Sub_metering_3           float64\n",
       "dtype: object"
      ]
     },
     "execution_count": 10,
     "metadata": {},
     "output_type": "execute_result"
    }
   ],
   "source": [
    "df_sample.dtypes"
   ]
  },
  {
   "cell_type": "markdown",
   "id": "9b9a822b",
   "metadata": {},
   "source": [
    "#### 3.1 <span style='color:red'>|</span> Check any special character and handle them "
   ]
  },
  {
   "cell_type": "code",
   "execution_count": 11,
   "id": "bd11d0ee",
   "metadata": {},
   "outputs": [
    {
     "data": {
      "text/plain": [
       "True"
      ]
     },
     "execution_count": 11,
     "metadata": {},
     "output_type": "execute_result"
    }
   ],
   "source": [
    "character_check = any(not value.isnumeric() for value in df_sample['Global_active_power'])\n",
    "character_check"
   ]
  },
  {
   "cell_type": "code",
   "execution_count": 12,
   "id": "d30f1163",
   "metadata": {},
   "outputs": [
    {
     "data": {
      "text/plain": [
       "{'?'}"
      ]
     },
     "execution_count": 12,
     "metadata": {},
     "output_type": "execute_result"
    }
   ],
   "source": [
    "character = [value for value in df_sample['Global_active_power'] if not str(value).replace('.','',1).isnumeric()]\n",
    "set(character)"
   ]
  },
  {
   "cell_type": "code",
   "execution_count": 13,
   "id": "c6213b96",
   "metadata": {},
   "outputs": [
    {
     "data": {
      "text/html": [
       "<div>\n",
       "<style scoped>\n",
       "    .dataframe tbody tr th:only-of-type {\n",
       "        vertical-align: middle;\n",
       "    }\n",
       "\n",
       "    .dataframe tbody tr th {\n",
       "        vertical-align: top;\n",
       "    }\n",
       "\n",
       "    .dataframe thead th {\n",
       "        text-align: right;\n",
       "    }\n",
       "</style>\n",
       "<table border=\"1\" class=\"dataframe\">\n",
       "  <thead>\n",
       "    <tr style=\"text-align: right;\">\n",
       "      <th></th>\n",
       "      <th>Global_active_power</th>\n",
       "      <th>Global_reactive_power</th>\n",
       "      <th>Voltage</th>\n",
       "      <th>Global_intensity</th>\n",
       "      <th>Sub_metering_1</th>\n",
       "      <th>Sub_metering_2</th>\n",
       "      <th>Sub_metering_3</th>\n",
       "    </tr>\n",
       "  </thead>\n",
       "  <tbody>\n",
       "    <tr>\n",
       "      <th>191547</th>\n",
       "      <td>?</td>\n",
       "      <td>?</td>\n",
       "      <td>?</td>\n",
       "      <td>?</td>\n",
       "      <td>?</td>\n",
       "      <td>?</td>\n",
       "      <td>NaN</td>\n",
       "    </tr>\n",
       "    <tr>\n",
       "      <th>1619467</th>\n",
       "      <td>?</td>\n",
       "      <td>?</td>\n",
       "      <td>?</td>\n",
       "      <td>?</td>\n",
       "      <td>?</td>\n",
       "      <td>?</td>\n",
       "      <td>NaN</td>\n",
       "    </tr>\n",
       "    <tr>\n",
       "      <th>1935665</th>\n",
       "      <td>?</td>\n",
       "      <td>?</td>\n",
       "      <td>?</td>\n",
       "      <td>?</td>\n",
       "      <td>?</td>\n",
       "      <td>?</td>\n",
       "      <td>NaN</td>\n",
       "    </tr>\n",
       "    <tr>\n",
       "      <th>1937009</th>\n",
       "      <td>?</td>\n",
       "      <td>?</td>\n",
       "      <td>?</td>\n",
       "      <td>?</td>\n",
       "      <td>?</td>\n",
       "      <td>?</td>\n",
       "      <td>NaN</td>\n",
       "    </tr>\n",
       "    <tr>\n",
       "      <th>193493</th>\n",
       "      <td>?</td>\n",
       "      <td>?</td>\n",
       "      <td>?</td>\n",
       "      <td>?</td>\n",
       "      <td>?</td>\n",
       "      <td>?</td>\n",
       "      <td>NaN</td>\n",
       "    </tr>\n",
       "    <tr>\n",
       "      <th>...</th>\n",
       "      <td>...</td>\n",
       "      <td>...</td>\n",
       "      <td>...</td>\n",
       "      <td>...</td>\n",
       "      <td>...</td>\n",
       "      <td>...</td>\n",
       "      <td>...</td>\n",
       "    </tr>\n",
       "    <tr>\n",
       "      <th>1618365</th>\n",
       "      <td>?</td>\n",
       "      <td>?</td>\n",
       "      <td>?</td>\n",
       "      <td>?</td>\n",
       "      <td>?</td>\n",
       "      <td>?</td>\n",
       "      <td>NaN</td>\n",
       "    </tr>\n",
       "    <tr>\n",
       "      <th>1935421</th>\n",
       "      <td>?</td>\n",
       "      <td>?</td>\n",
       "      <td>?</td>\n",
       "      <td>?</td>\n",
       "      <td>?</td>\n",
       "      <td>?</td>\n",
       "      <td>NaN</td>\n",
       "    </tr>\n",
       "    <tr>\n",
       "      <th>1398031</th>\n",
       "      <td>?</td>\n",
       "      <td>?</td>\n",
       "      <td>?</td>\n",
       "      <td>?</td>\n",
       "      <td>?</td>\n",
       "      <td>?</td>\n",
       "      <td>NaN</td>\n",
       "    </tr>\n",
       "    <tr>\n",
       "      <th>1398358</th>\n",
       "      <td>?</td>\n",
       "      <td>?</td>\n",
       "      <td>?</td>\n",
       "      <td>?</td>\n",
       "      <td>?</td>\n",
       "      <td>?</td>\n",
       "      <td>NaN</td>\n",
       "    </tr>\n",
       "    <tr>\n",
       "      <th>1935652</th>\n",
       "      <td>?</td>\n",
       "      <td>?</td>\n",
       "      <td>?</td>\n",
       "      <td>?</td>\n",
       "      <td>?</td>\n",
       "      <td>?</td>\n",
       "      <td>NaN</td>\n",
       "    </tr>\n",
       "  </tbody>\n",
       "</table>\n",
       "<p>790 rows × 7 columns</p>\n",
       "</div>"
      ],
      "text/plain": [
       "        Global_active_power Global_reactive_power Voltage Global_intensity  \\\n",
       "191547                    ?                     ?       ?                ?   \n",
       "1619467                   ?                     ?       ?                ?   \n",
       "1935665                   ?                     ?       ?                ?   \n",
       "1937009                   ?                     ?       ?                ?   \n",
       "193493                    ?                     ?       ?                ?   \n",
       "...                     ...                   ...     ...              ...   \n",
       "1618365                   ?                     ?       ?                ?   \n",
       "1935421                   ?                     ?       ?                ?   \n",
       "1398031                   ?                     ?       ?                ?   \n",
       "1398358                   ?                     ?       ?                ?   \n",
       "1935652                   ?                     ?       ?                ?   \n",
       "\n",
       "        Sub_metering_1 Sub_metering_2  Sub_metering_3  \n",
       "191547               ?              ?             NaN  \n",
       "1619467              ?              ?             NaN  \n",
       "1935665              ?              ?             NaN  \n",
       "1937009              ?              ?             NaN  \n",
       "193493               ?              ?             NaN  \n",
       "...                ...            ...             ...  \n",
       "1618365              ?              ?             NaN  \n",
       "1935421              ?              ?             NaN  \n",
       "1398031              ?              ?             NaN  \n",
       "1398358              ?              ?             NaN  \n",
       "1935652              ?              ?             NaN  \n",
       "\n",
       "[790 rows x 7 columns]"
      ]
     },
     "execution_count": 13,
     "metadata": {},
     "output_type": "execute_result"
    }
   ],
   "source": [
    "#Check character in dataframe\n",
    "special_char = df_sample[df_sample['Global_active_power']=='?']\n",
    "special_char"
   ]
  },
  {
   "cell_type": "markdown",
   "id": "54fdb823",
   "metadata": {},
   "source": [
    "* 737/60000 rows and 7/7 columns has special character in it"
   ]
  },
  {
   "cell_type": "code",
   "execution_count": 14,
   "id": "d04b4311",
   "metadata": {},
   "outputs": [
    {
     "data": {
      "text/plain": [
       "1.2283333333333333"
      ]
     },
     "execution_count": 14,
     "metadata": {},
     "output_type": "execute_result"
    }
   ],
   "source": [
    "(737/60000)*100"
   ]
  },
  {
   "cell_type": "code",
   "execution_count": 15,
   "id": "67c20f48",
   "metadata": {},
   "outputs": [
    {
     "name": "stdout",
     "output_type": "stream",
     "text": [
      "Data before removal of special character : (60000, 7)\n",
      "Data after removal of special character : (59210, 7)\n"
     ]
    }
   ],
   "source": [
    "#drop the data having special character\n",
    "print(\"Data before removal of special character :\", df_sample.shape)\n",
    "df_sample.drop(special_char.index, axis=0, inplace=True)\n",
    "print(\"Data after removal of special character :\", df_sample.shape)"
   ]
  },
  {
   "cell_type": "markdown",
   "id": "c666ea3c",
   "metadata": {},
   "source": [
    "#### 3.2 <span style='color:red'>|</span> Check duplicates"
   ]
  },
  {
   "cell_type": "code",
   "execution_count": 16,
   "id": "753c7243",
   "metadata": {},
   "outputs": [
    {
     "data": {
      "text/plain": [
       "259"
      ]
     },
     "execution_count": 16,
     "metadata": {},
     "output_type": "execute_result"
    }
   ],
   "source": [
    "df_sample.duplicated().sum()"
   ]
  },
  {
   "cell_type": "markdown",
   "id": "6b9d7de4",
   "metadata": {},
   "source": [
    "* 265 duplicates record found"
   ]
  },
  {
   "cell_type": "code",
   "execution_count": 17,
   "id": "21139b4b",
   "metadata": {},
   "outputs": [
    {
     "name": "stdout",
     "output_type": "stream",
     "text": [
      "Data with duplicate records : (59210, 7)\n",
      "Data withour duplicate records : (58951, 7)\n"
     ]
    }
   ],
   "source": [
    "print(\"Data with duplicate records :\", df_sample.shape)\n",
    "df_sample.drop_duplicates(inplace=True)\n",
    "print(\"Data withour duplicate records :\", df_sample.shape)"
   ]
  },
  {
   "cell_type": "markdown",
   "id": "a38924ac",
   "metadata": {},
   "source": [
    "#### 3.3 <span style='color:red'>|</span> Check null values"
   ]
  },
  {
   "cell_type": "code",
   "execution_count": 18,
   "id": "dd1d150b",
   "metadata": {},
   "outputs": [
    {
     "data": {
      "text/plain": [
       "Global_active_power      0\n",
       "Global_reactive_power    0\n",
       "Voltage                  0\n",
       "Global_intensity         0\n",
       "Sub_metering_1           0\n",
       "Sub_metering_2           0\n",
       "Sub_metering_3           0\n",
       "dtype: int64"
      ]
     },
     "execution_count": 18,
     "metadata": {},
     "output_type": "execute_result"
    }
   ],
   "source": [
    "df_sample.isnull().sum()"
   ]
  },
  {
   "cell_type": "markdown",
   "id": "ab012825",
   "metadata": {},
   "source": [
    "* No null values in dataset"
   ]
  },
  {
   "cell_type": "markdown",
   "id": "20cfa709",
   "metadata": {},
   "source": [
    "#### 3.4 <span style='color:red'>|</span> Convert dtype of columns"
   ]
  },
  {
   "cell_type": "code",
   "execution_count": 19,
   "id": "c1d6834e",
   "metadata": {},
   "outputs": [],
   "source": [
    "df_sample = df_sample.astype(float)"
   ]
  },
  {
   "cell_type": "code",
   "execution_count": 20,
   "id": "5aaf2252",
   "metadata": {},
   "outputs": [
    {
     "data": {
      "text/plain": [
       "Global_active_power      float64\n",
       "Global_reactive_power    float64\n",
       "Voltage                  float64\n",
       "Global_intensity         float64\n",
       "Sub_metering_1           float64\n",
       "Sub_metering_2           float64\n",
       "Sub_metering_3           float64\n",
       "dtype: object"
      ]
     },
     "execution_count": 20,
     "metadata": {},
     "output_type": "execute_result"
    }
   ],
   "source": [
    "df_sample.dtypes"
   ]
  },
  {
   "cell_type": "markdown",
   "id": "cd68e3a4",
   "metadata": {},
   "source": [
    "#### 3.5 <span style='color:red'>|</span> Combining Features"
   ]
  },
  {
   "cell_type": "code",
   "execution_count": 21,
   "id": "f875a0a2",
   "metadata": {},
   "outputs": [],
   "source": [
    "df_sample['meter'] = df_sample['Sub_metering_1'] + df_sample['Sub_metering_2'] + df_sample['Sub_metering_2']"
   ]
  },
  {
   "cell_type": "code",
   "execution_count": 22,
   "id": "8e0cfbb4",
   "metadata": {},
   "outputs": [],
   "source": [
    "df_sample.drop(['Sub_metering_1','Sub_metering_2','Sub_metering_3'], axis=1, inplace=True)"
   ]
  },
  {
   "cell_type": "code",
   "execution_count": 23,
   "id": "4b852ec5",
   "metadata": {},
   "outputs": [
    {
     "data": {
      "text/plain": [
       "Index(['Global_active_power', 'Global_reactive_power', 'Voltage',\n",
       "       'Global_intensity', 'meter'],\n",
       "      dtype='object')"
      ]
     },
     "execution_count": 23,
     "metadata": {},
     "output_type": "execute_result"
    }
   ],
   "source": [
    "df_sample.columns"
   ]
  },
  {
   "cell_type": "code",
   "execution_count": 24,
   "id": "357c6ecd",
   "metadata": {},
   "outputs": [
    {
     "data": {
      "text/html": [
       "<div>\n",
       "<style scoped>\n",
       "    .dataframe tbody tr th:only-of-type {\n",
       "        vertical-align: middle;\n",
       "    }\n",
       "\n",
       "    .dataframe tbody tr th {\n",
       "        vertical-align: top;\n",
       "    }\n",
       "\n",
       "    .dataframe thead th {\n",
       "        text-align: right;\n",
       "    }\n",
       "</style>\n",
       "<table border=\"1\" class=\"dataframe\">\n",
       "  <thead>\n",
       "    <tr style=\"text-align: right;\">\n",
       "      <th></th>\n",
       "      <th>Global_active_power</th>\n",
       "      <th>Global_reactive_power</th>\n",
       "      <th>Voltage</th>\n",
       "      <th>Global_intensity</th>\n",
       "      <th>meter</th>\n",
       "    </tr>\n",
       "  </thead>\n",
       "  <tbody>\n",
       "    <tr>\n",
       "      <th>909168</th>\n",
       "      <td>0.250</td>\n",
       "      <td>0.084</td>\n",
       "      <td>244.52</td>\n",
       "      <td>1.2</td>\n",
       "      <td>0.0</td>\n",
       "    </tr>\n",
       "    <tr>\n",
       "      <th>1215530</th>\n",
       "      <td>3.334</td>\n",
       "      <td>0.368</td>\n",
       "      <td>238.45</td>\n",
       "      <td>14.2</td>\n",
       "      <td>0.0</td>\n",
       "    </tr>\n",
       "    <tr>\n",
       "      <th>1284547</th>\n",
       "      <td>0.416</td>\n",
       "      <td>0.180</td>\n",
       "      <td>227.85</td>\n",
       "      <td>2.0</td>\n",
       "      <td>2.0</td>\n",
       "    </tr>\n",
       "    <tr>\n",
       "      <th>1980989</th>\n",
       "      <td>1.978</td>\n",
       "      <td>0.260</td>\n",
       "      <td>238.18</td>\n",
       "      <td>8.4</td>\n",
       "      <td>1.0</td>\n",
       "    </tr>\n",
       "    <tr>\n",
       "      <th>177257</th>\n",
       "      <td>0.418</td>\n",
       "      <td>0.238</td>\n",
       "      <td>241.09</td>\n",
       "      <td>2.0</td>\n",
       "      <td>0.0</td>\n",
       "    </tr>\n",
       "  </tbody>\n",
       "</table>\n",
       "</div>"
      ],
      "text/plain": [
       "         Global_active_power  Global_reactive_power  Voltage  \\\n",
       "909168                 0.250                  0.084   244.52   \n",
       "1215530                3.334                  0.368   238.45   \n",
       "1284547                0.416                  0.180   227.85   \n",
       "1980989                1.978                  0.260   238.18   \n",
       "177257                 0.418                  0.238   241.09   \n",
       "\n",
       "         Global_intensity  meter  \n",
       "909168                1.2    0.0  \n",
       "1215530              14.2    0.0  \n",
       "1284547               2.0    2.0  \n",
       "1980989               8.4    1.0  \n",
       "177257                2.0    0.0  "
      ]
     },
     "execution_count": 24,
     "metadata": {},
     "output_type": "execute_result"
    }
   ],
   "source": [
    "df_sample.head()"
   ]
  },
  {
   "cell_type": "code",
   "execution_count": 25,
   "id": "0197d0d0",
   "metadata": {},
   "outputs": [
    {
     "data": {
      "text/html": [
       "<div>\n",
       "<style scoped>\n",
       "    .dataframe tbody tr th:only-of-type {\n",
       "        vertical-align: middle;\n",
       "    }\n",
       "\n",
       "    .dataframe tbody tr th {\n",
       "        vertical-align: top;\n",
       "    }\n",
       "\n",
       "    .dataframe thead th {\n",
       "        text-align: right;\n",
       "    }\n",
       "</style>\n",
       "<table border=\"1\" class=\"dataframe\">\n",
       "  <thead>\n",
       "    <tr style=\"text-align: right;\">\n",
       "      <th></th>\n",
       "      <th>count</th>\n",
       "      <th>mean</th>\n",
       "      <th>std</th>\n",
       "      <th>min</th>\n",
       "      <th>25%</th>\n",
       "      <th>50%</th>\n",
       "      <th>75%</th>\n",
       "      <th>max</th>\n",
       "    </tr>\n",
       "  </thead>\n",
       "  <tbody>\n",
       "    <tr>\n",
       "      <th>Global_active_power</th>\n",
       "      <td>58951.0</td>\n",
       "      <td>1.091083</td>\n",
       "      <td>1.055131</td>\n",
       "      <td>0.078</td>\n",
       "      <td>0.310</td>\n",
       "      <td>0.604</td>\n",
       "      <td>1.524</td>\n",
       "      <td>9.718</td>\n",
       "    </tr>\n",
       "    <tr>\n",
       "      <th>Global_reactive_power</th>\n",
       "      <td>58951.0</td>\n",
       "      <td>0.124629</td>\n",
       "      <td>0.113125</td>\n",
       "      <td>0.000</td>\n",
       "      <td>0.048</td>\n",
       "      <td>0.102</td>\n",
       "      <td>0.194</td>\n",
       "      <td>1.080</td>\n",
       "    </tr>\n",
       "    <tr>\n",
       "      <th>Voltage</th>\n",
       "      <td>58951.0</td>\n",
       "      <td>240.831017</td>\n",
       "      <td>3.252322</td>\n",
       "      <td>224.540</td>\n",
       "      <td>238.980</td>\n",
       "      <td>241.020</td>\n",
       "      <td>242.870</td>\n",
       "      <td>253.550</td>\n",
       "    </tr>\n",
       "    <tr>\n",
       "      <th>Global_intensity</th>\n",
       "      <td>58951.0</td>\n",
       "      <td>4.626093</td>\n",
       "      <td>4.435599</td>\n",
       "      <td>0.200</td>\n",
       "      <td>1.400</td>\n",
       "      <td>2.600</td>\n",
       "      <td>6.400</td>\n",
       "      <td>41.800</td>\n",
       "    </tr>\n",
       "    <tr>\n",
       "      <th>meter</th>\n",
       "      <td>58951.0</td>\n",
       "      <td>3.741633</td>\n",
       "      <td>13.462485</td>\n",
       "      <td>0.000</td>\n",
       "      <td>0.000</td>\n",
       "      <td>0.000</td>\n",
       "      <td>2.000</td>\n",
       "      <td>183.000</td>\n",
       "    </tr>\n",
       "  </tbody>\n",
       "</table>\n",
       "</div>"
      ],
      "text/plain": [
       "                         count        mean        std      min      25%  \\\n",
       "Global_active_power    58951.0    1.091083   1.055131    0.078    0.310   \n",
       "Global_reactive_power  58951.0    0.124629   0.113125    0.000    0.048   \n",
       "Voltage                58951.0  240.831017   3.252322  224.540  238.980   \n",
       "Global_intensity       58951.0    4.626093   4.435599    0.200    1.400   \n",
       "meter                  58951.0    3.741633  13.462485    0.000    0.000   \n",
       "\n",
       "                           50%      75%      max  \n",
       "Global_active_power      0.604    1.524    9.718  \n",
       "Global_reactive_power    0.102    0.194    1.080  \n",
       "Voltage                241.020  242.870  253.550  \n",
       "Global_intensity         2.600    6.400   41.800  \n",
       "meter                    0.000    2.000  183.000  "
      ]
     },
     "execution_count": 25,
     "metadata": {},
     "output_type": "execute_result"
    }
   ],
   "source": [
    "df_sample.describe().T"
   ]
  },
  {
   "cell_type": "markdown",
   "id": "aa0126ca",
   "metadata": {},
   "source": [
    "#### 3.6 <span style='color:red'>|</span> Data Distribution"
   ]
  },
  {
   "cell_type": "code",
   "execution_count": 26,
   "id": "926863f8",
   "metadata": {},
   "outputs": [
    {
     "data": {
      "image/png": "[encoded data removed]",
      "text/plain": [
       "<Figure size 1440x1440 with 5 Axes>"
      ]
     },
     "metadata": {},
     "output_type": "display_data"
    }
   ],
   "source": [
    "#Data Distribution in each column\n",
    "plt.figure(figsize=(20,20), facecolor='white')\n",
    "plotnum =1\n",
    "\n",
    "for col in df_sample.columns:\n",
    "    if plotnum <= 5:\n",
    "        ax = plt.subplot(3,2,plotnum)\n",
    "        sns.distplot(df_sample[col], bins=30)\n",
    "        plt.xlabel(col, fontsize=16)\n",
    "    plotnum += 1\n",
    "plt.show()"
   ]
  },
  {
   "cell_type": "markdown",
   "id": "a30374f6",
   "metadata": {},
   "source": [
    "#### 3.7 <span style='color:red'>|</span> Check & Handle outliers"
   ]
  },
  {
   "cell_type": "code",
   "execution_count": 27,
   "id": "b1715f58",
   "metadata": {},
   "outputs": [
    {
     "data": {
      "image/png": "[encoded data removed]",
      "text/plain": [
       "<Figure size 1440x720 with 5 Axes>"
      ]
     },
     "metadata": {
      "needs_background": "light"
     },
     "output_type": "display_data"
    }
   ],
   "source": [
    "plt.figure(figsize=(20,10))\n",
    "plotnum = 1\n",
    "\n",
    "for col in df_sample.columns:\n",
    "    if plotnum <= 5:\n",
    "        ax = plt.subplot(2,3,plotnum)\n",
    "        sns.boxplot(df_sample[col])\n",
    "        plt.xlabel(col, fontsize=16)\n",
    "    plotnum += 1\n",
    "plt.show()"
   ]
  },
  {
   "cell_type": "code",
   "execution_count": 28,
   "id": "6871ac52",
   "metadata": {},
   "outputs": [],
   "source": [
    "#Handling Outlier\n",
    "\n",
    "df1 = df_sample.copy()\n",
    "\n",
    "for col in df1.columns:\n",
    "    iqr = df1[col].quantile(0.75) - df1[col].quantile(0.25)\n",
    "    lower_limit = df1[col].quantile(0.25) - (1.5*iqr)\n",
    "    upper_limit = df1[col].quantile(0.75) + (1.5*iqr)\n",
    "    \n",
    "    df1[col] = np.where(df1[col]>upper_limit,upper_limit,np.where(df1[col]<lower_limit,lower_limit,df1[col]))"
   ]
  },
  {
   "cell_type": "code",
   "execution_count": 29,
   "id": "04204cad",
   "metadata": {},
   "outputs": [
    {
     "data": {
      "image/png": "[encoded data removed]",
      "text/plain": [
       "<Figure size 1152x288 with 2 Axes>"
      ]
     },
     "metadata": {
      "needs_background": "light"
     },
     "output_type": "display_data"
    },
    {
     "data": {
      "image/png": "[encoded data removed]",
      "text/plain": [
       "<Figure size 1152x288 with 2 Axes>"
      ]
     },
     "metadata": {
      "needs_background": "light"
     },
     "output_type": "display_data"
    },
    {
     "data": {
      "image/png": "[encoded data removed]",
      "text/plain": [
       "<Figure size 1152x288 with 2 Axes>"
      ]
     },
     "metadata": {
      "needs_background": "light"
     },
     "output_type": "display_data"
    },
    {
     "data": {
      "image/png": "[encoded data removed]",
      "text/plain": [
       "<Figure size 1152x288 with 2 Axes>"
      ]
     },
     "metadata": {
      "needs_background": "light"
     },
     "output_type": "display_data"
    },
    {
     "data": {
      "image/png": "[encoded data removed]",
      "text/plain": [
       "<Figure size 1152x288 with 2 Axes>"
      ]
     },
     "metadata": {
      "needs_background": "light"
     },
     "output_type": "display_data"
    }
   ],
   "source": [
    "#compare the distribution across quantile\n",
    "\n",
    "for col in df1.columns:\n",
    "    \n",
    "    plt.figure(figsize=(16,4))\n",
    "    plt.subplot(121)\n",
    "    sns.boxplot(df_sample[col])\n",
    "    plt.xlabel(f\"Boxplot of {col} before outliers handling\", fontsize=14, fontweight='bold')\n",
    "    \n",
    "    plt.subplot(122)\n",
    "    sns.boxplot(df1[col])\n",
    "    plt.xlabel(f\"Boxplot of {col} after outliers handling\", fontsize=14, fontweight='bold')"
   ]
  },
  {
   "cell_type": "markdown",
   "id": "8abbeb4d",
   "metadata": {},
   "source": [
    "## 4 <span style='color:red'>|</span> Model Building"
   ]
  },
  {
   "cell_type": "code",
   "execution_count": 30,
   "id": "b6f9b5bf",
   "metadata": {},
   "outputs": [],
   "source": [
    "x= df1.drop('meter', axis=1)\n",
    "y = df1['meter']"
   ]
  },
  {
   "cell_type": "code",
   "execution_count": 31,
   "id": "a03a8c2c",
   "metadata": {},
   "outputs": [
    {
     "data": {
      "text/plain": [
       "((58951, 4), (58951,))"
      ]
     },
     "execution_count": 31,
     "metadata": {},
     "output_type": "execute_result"
    }
   ],
   "source": [
    "x.shape,y.shape"
   ]
  },
  {
   "cell_type": "markdown",
   "id": "723b5da6",
   "metadata": {},
   "source": [
    "#### 4.1 <span style='color:red'>|</span> Train Test Split Dataset"
   ]
  },
  {
   "cell_type": "code",
   "execution_count": 32,
   "id": "42b37a02",
   "metadata": {},
   "outputs": [],
   "source": [
    "x_train, x_test, y_train, y_test = train_test_split(x,y, random_state=42, test_size=0.20)"
   ]
  },
  {
   "cell_type": "markdown",
   "id": "3d7dfd99",
   "metadata": {},
   "source": [
    "#### 4.1 <span style='color:red'>|</span> Standardization"
   ]
  },
  {
   "cell_type": "code",
   "execution_count": 33,
   "id": "54f868e4",
   "metadata": {},
   "outputs": [],
   "source": [
    "scaler = StandardScaler()\n",
    "x_train = scaler.fit_transform(x_train)\n",
    "x_test = scaler.fit_transform(x_test)"
   ]
  },
  {
   "cell_type": "markdown",
   "id": "08067e08",
   "metadata": {},
   "source": [
    "#### 4.3 <span style='color:red'>|</span> Modeling"
   ]
  },
  {
   "cell_type": "code",
   "execution_count": 34,
   "id": "1c6a67bc",
   "metadata": {},
   "outputs": [],
   "source": [
    "report = []"
   ]
  },
  {
   "cell_type": "code",
   "execution_count": 35,
   "id": "487b917e",
   "metadata": {},
   "outputs": [],
   "source": [
    "models = {\n",
    "    \"Linear Regression\" : LinearRegression(),\n",
    "    \"Ridge Regression\" : Ridge(),\n",
    "    \"Lasso Regression\" : Lasso(),\n",
    "    \"Support Vector Regression\" : SVR(),\n",
    "    \"Decision Tree Regressor\" : DecisionTreeRegressor(),\n",
    "    \"Random Forest Regressor\" : RandomForestRegressor()\n",
    "}\n"
   ]
  },
  {
   "cell_type": "code",
   "execution_count": 36,
   "id": "67191d25",
   "metadata": {},
   "outputs": [],
   "source": [
    "for i in range(len(models)):\n",
    "    model = list(models.values())[i] \n",
    "    model.fit(x_train,y_train)\n",
    "    \n",
    "    #prediction\n",
    "    y_train_pred = model.predict(x_train)\n",
    "    y_test_pred = model.predict(x_test)\n",
    "    \n",
    "    #Training data performance\n",
    "    n = len(y_train)\n",
    "    k = x_train.shape[1]\n",
    "    train_mse = mean_squared_error(y_train, y_train_pred)\n",
    "    train_mae = mean_absolute_error(y_train, y_train_pred)\n",
    "    train_r2 = r2_score(y_train, y_train_pred)\n",
    "    train_adj_r2 = 1-(((1-train_r2)*(n-1))/(n-k-1))\n",
    "    \n",
    "    #Test data performance\n",
    "    n2 = len(y_test)\n",
    "    k2 = x_test.shape[1]\n",
    "    test_mse = mean_squared_error(y_test, y_test_pred)\n",
    "    test_mae = mean_absolute_error(y_test, y_test_pred)\n",
    "    test_r2 = r2_score(y_test, y_test_pred)\n",
    "    test_adj_r2 = 1-(((1-test_r2)*(n2-1))/(n2-k2-1))\n",
    "    \n",
    "    report.append({\"Model\": list(models.keys())[i],\n",
    "                 \"Train MSE\" : train_mse,\n",
    "                 \"Test MSE\" : test_mse,\n",
    "                 \"Train MAE\" : train_mae,\n",
    "                 \"Test MAE\" : test_mae,\n",
    "                 \"Train R2\" : train_r2,\n",
    "                 \"Test R2\" : test_r2,\n",
    "                 \"Train Adj R2\" : train_adj_r2,\n",
    "                 \"Test Adj R2\" : test_adj_r2})"
   ]
  },
  {
   "cell_type": "code",
   "execution_count": 37,
   "id": "d28103fb",
   "metadata": {},
   "outputs": [
    {
     "data": {
      "text/html": [
       "<div>\n",
       "<style scoped>\n",
       "    .dataframe tbody tr th:only-of-type {\n",
       "        vertical-align: middle;\n",
       "    }\n",
       "\n",
       "    .dataframe tbody tr th {\n",
       "        vertical-align: top;\n",
       "    }\n",
       "\n",
       "    .dataframe thead th {\n",
       "        text-align: right;\n",
       "    }\n",
       "</style>\n",
       "<table border=\"1\" class=\"dataframe\">\n",
       "  <thead>\n",
       "    <tr style=\"text-align: right;\">\n",
       "      <th></th>\n",
       "      <th>Model</th>\n",
       "      <th>Train MSE</th>\n",
       "      <th>Test MSE</th>\n",
       "      <th>Train MAE</th>\n",
       "      <th>Test MAE</th>\n",
       "      <th>Train R2</th>\n",
       "      <th>Test R2</th>\n",
       "      <th>Train Adj R2</th>\n",
       "      <th>Test Adj R2</th>\n",
       "    </tr>\n",
       "  </thead>\n",
       "  <tbody>\n",
       "    <tr>\n",
       "      <th>0</th>\n",
       "      <td>Linear Regression</td>\n",
       "      <td>1.970973</td>\n",
       "      <td>1.953971</td>\n",
       "      <td>1.067391</td>\n",
       "      <td>1.062534</td>\n",
       "      <td>0.260330</td>\n",
       "      <td>0.264920</td>\n",
       "      <td>0.260268</td>\n",
       "      <td>0.264671</td>\n",
       "    </tr>\n",
       "    <tr>\n",
       "      <th>1</th>\n",
       "      <td>Ridge Regression</td>\n",
       "      <td>1.970979</td>\n",
       "      <td>1.954024</td>\n",
       "      <td>1.067370</td>\n",
       "      <td>1.062533</td>\n",
       "      <td>0.260328</td>\n",
       "      <td>0.264900</td>\n",
       "      <td>0.260265</td>\n",
       "      <td>0.264651</td>\n",
       "    </tr>\n",
       "    <tr>\n",
       "      <th>2</th>\n",
       "      <td>Lasso Regression</td>\n",
       "      <td>2.664667</td>\n",
       "      <td>2.658216</td>\n",
       "      <td>1.364178</td>\n",
       "      <td>1.363033</td>\n",
       "      <td>0.000000</td>\n",
       "      <td>-0.000015</td>\n",
       "      <td>-0.000085</td>\n",
       "      <td>-0.000354</td>\n",
       "    </tr>\n",
       "    <tr>\n",
       "      <th>3</th>\n",
       "      <td>Support Vector Regression</td>\n",
       "      <td>2.084567</td>\n",
       "      <td>2.137699</td>\n",
       "      <td>0.844698</td>\n",
       "      <td>0.856770</td>\n",
       "      <td>0.217701</td>\n",
       "      <td>0.195802</td>\n",
       "      <td>0.217634</td>\n",
       "      <td>0.195529</td>\n",
       "    </tr>\n",
       "    <tr>\n",
       "      <th>4</th>\n",
       "      <td>Decision Tree Regressor</td>\n",
       "      <td>0.016069</td>\n",
       "      <td>3.457748</td>\n",
       "      <td>0.007487</td>\n",
       "      <td>1.091054</td>\n",
       "      <td>0.993970</td>\n",
       "      <td>-0.300797</td>\n",
       "      <td>0.993969</td>\n",
       "      <td>-0.301239</td>\n",
       "    </tr>\n",
       "    <tr>\n",
       "      <th>5</th>\n",
       "      <td>Random Forest Regressor</td>\n",
       "      <td>0.277769</td>\n",
       "      <td>1.926532</td>\n",
       "      <td>0.359164</td>\n",
       "      <td>0.974868</td>\n",
       "      <td>0.895758</td>\n",
       "      <td>0.275243</td>\n",
       "      <td>0.895750</td>\n",
       "      <td>0.274997</td>\n",
       "    </tr>\n",
       "  </tbody>\n",
       "</table>\n",
       "</div>"
      ],
      "text/plain": [
       "                       Model  Train MSE  Test MSE  Train MAE  Test MAE  \\\n",
       "0          Linear Regression   1.970973  1.953971   1.067391  1.062534   \n",
       "1           Ridge Regression   1.970979  1.954024   1.067370  1.062533   \n",
       "2           Lasso Regression   2.664667  2.658216   1.364178  1.363033   \n",
       "3  Support Vector Regression   2.084567  2.137699   0.844698  0.856770   \n",
       "4    Decision Tree Regressor   0.016069  3.457748   0.007487  1.091054   \n",
       "5    Random Forest Regressor   0.277769  1.926532   0.359164  0.974868   \n",
       "\n",
       "   Train R2   Test R2  Train Adj R2  Test Adj R2  \n",
       "0  0.260330  0.264920      0.260268     0.264671  \n",
       "1  0.260328  0.264900      0.260265     0.264651  \n",
       "2  0.000000 -0.000015     -0.000085    -0.000354  \n",
       "3  0.217701  0.195802      0.217634     0.195529  \n",
       "4  0.993970 -0.300797      0.993969    -0.301239  \n",
       "5  0.895758  0.275243      0.895750     0.274997  "
      ]
     },
     "execution_count": 37,
     "metadata": {},
     "output_type": "execute_result"
    }
   ],
   "source": [
    "all_models = pd.DataFrame(report)\n",
    "all_models"
   ]
  },
  {
   "cell_type": "markdown",
   "id": "020ed749",
   "metadata": {},
   "source": [
    "#### 4.4 <span style='color:red'>|</span> Hyperparameter Tunning"
   ]
  },
  {
   "cell_type": "code",
   "execution_count": 42,
   "id": "9a6b995a",
   "metadata": {},
   "outputs": [],
   "source": [
    "rf_record = []"
   ]
  },
  {
   "cell_type": "code",
   "execution_count": 38,
   "id": "49fb14e6",
   "metadata": {},
   "outputs": [],
   "source": [
    "ran_params = {'max_depth':[5,8,10,15,None],\n",
    "              'max_features':[3,'auto'],\n",
    "              'min_samples_split':[2,8,15,20],\n",
    "              'n_estimators':[50,100,200,500]}"
   ]
  },
  {
   "cell_type": "code",
   "execution_count": 39,
   "id": "b49597ec",
   "metadata": {},
   "outputs": [],
   "source": [
    "random = RandomizedSearchCV(estimator=RandomForestRegressor(),\n",
    "                           param_distributions=ran_params,\n",
    "                           n_iter=100,\n",
    "                           cv=3,\n",
    "                           verbose=2,\n",
    "                           n_jobs=-1)"
   ]
  },
  {
   "cell_type": "code",
   "execution_count": 40,
   "id": "c99c7733",
   "metadata": {},
   "outputs": [
    {
     "name": "stdout",
     "output_type": "stream",
     "text": [
      "Fitting 3 folds for each of 100 candidates, totalling 300 fits\n"
     ]
    },
    {
     "data": {
      "text/html": [
       "<style>#sk-container-id-1 {color: black;background-color: white;}#sk-container-id-1 pre{padding: 0;}#sk-container-id-1 div.sk-toggleable {background-color: white;}#sk-container-id-1 label.sk-toggleable__label {cursor: pointer;display: block;width: 100%;margin-bottom: 0;padding: 0.3em;box-sizing: border-box;text-align: center;}#sk-container-id-1 label.sk-toggleable__label-arrow:before {content: \"▸\";float: left;margin-right: 0.25em;color: #696969;}#sk-container-id-1 label.sk-toggleable__label-arrow:hover:before {color: black;}#sk-container-id-1 div.sk-estimator:hover label.sk-toggleable__label-arrow:before {color: black;}#sk-container-id-1 div.sk-toggleable__content {max-height: 0;max-width: 0;overflow: hidden;text-align: left;background-color: #f0f8ff;}#sk-container-id-1 div.sk-toggleable__content pre {margin: 0.2em;color: black;border-radius: 0.25em;background-color: #f0f8ff;}#sk-container-id-1 input.sk-toggleable__control:checked~div.sk-toggleable__content {max-height: 200px;max-width: 100%;overflow: auto;}#sk-container-id-1 input.sk-toggleable__control:checked~label.sk-toggleable__label-arrow:before {content: \"▾\";}#sk-container-id-1 div.sk-estimator input.sk-toggleable__control:checked~label.sk-toggleable__label {background-color: #d4ebff;}#sk-container-id-1 div.sk-label input.sk-toggleable__control:checked~label.sk-toggleable__label {background-color: #d4ebff;}#sk-container-id-1 input.sk-hidden--visually {border: 0;clip: rect(1px 1px 1px 1px);clip: rect(1px, 1px, 1px, 1px);height: 1px;margin: -1px;overflow: hidden;padding: 0;position: absolute;width: 1px;}#sk-container-id-1 div.sk-estimator {font-family: monospace;background-color: #f0f8ff;border: 1px dotted black;border-radius: 0.25em;box-sizing: border-box;margin-bottom: 0.5em;}#sk-container-id-1 div.sk-estimator:hover {background-color: #d4ebff;}#sk-container-id-1 div.sk-parallel-item::after {content: \"\";width: 100%;border-bottom: 1px solid gray;flex-grow: 1;}#sk-container-id-1 div.sk-label:hover label.sk-toggleable__label {background-color: #d4ebff;}#sk-container-id-1 div.sk-serial::before {content: \"\";position: absolute;border-left: 1px solid gray;box-sizing: border-box;top: 0;bottom: 0;left: 50%;z-index: 0;}#sk-container-id-1 div.sk-serial {display: flex;flex-direction: column;align-items: center;background-color: white;padding-right: 0.2em;padding-left: 0.2em;position: relative;}#sk-container-id-1 div.sk-item {position: relative;z-index: 1;}#sk-container-id-1 div.sk-parallel {display: flex;align-items: stretch;justify-content: center;background-color: white;position: relative;}#sk-container-id-1 div.sk-item::before, #sk-container-id-1 div.sk-parallel-item::before {content: \"\";position: absolute;border-left: 1px solid gray;box-sizing: border-box;top: 0;bottom: 0;left: 50%;z-index: -1;}#sk-container-id-1 div.sk-parallel-item {display: flex;flex-direction: column;z-index: 1;position: relative;background-color: white;}#sk-container-id-1 div.sk-parallel-item:first-child::after {align-self: flex-end;width: 50%;}#sk-container-id-1 div.sk-parallel-item:last-child::after {align-self: flex-start;width: 50%;}#sk-container-id-1 div.sk-parallel-item:only-child::after {width: 0;}#sk-container-id-1 div.sk-dashed-wrapped {border: 1px dashed gray;margin: 0 0.4em 0.5em 0.4em;box-sizing: border-box;padding-bottom: 0.4em;background-color: white;}#sk-container-id-1 div.sk-label label {font-family: monospace;font-weight: bold;display: inline-block;line-height: 1.2em;}#sk-container-id-1 div.sk-label-container {text-align: center;}#sk-container-id-1 div.sk-container {/* jupyter's `normalize.less` sets `[hidden] { display: none; }` but bootstrap.min.css set `[hidden] { display: none !important; }` so we also need the `!important` here to be able to override the default hidden behavior on the sphinx rendered scikit-learn.org. See: https://github.com/scikit-learn/scikit-learn/issues/21755 */display: inline-block !important;position: relative;}#sk-container-id-1 div.sk-text-repr-fallback {display: none;}</style><div id=\"sk-container-id-1\" class=\"sk-top-container\"><div class=\"sk-text-repr-fallback\"><pre>RandomizedSearchCV(cv=3, estimator=RandomForestRegressor(), n_iter=100,\n",
       "                   n_jobs=-1,\n",
       "                   param_distributions={&#x27;max_depth&#x27;: [5, 8, 10, 15, None],\n",
       "                                        &#x27;max_features&#x27;: [3, &#x27;auto&#x27;],\n",
       "                                        &#x27;min_samples_split&#x27;: [2, 8, 15, 20],\n",
       "                                        &#x27;n_estimators&#x27;: [50, 100, 200, 500]},\n",
       "                   verbose=2)</pre><b>In a Jupyter environment, please rerun this cell to show the HTML representation or trust the notebook. <br />On GitHub, the HTML representation is unable to render, please try loading this page with nbviewer.org.</b></div><div class=\"sk-container\" hidden><div class=\"sk-item sk-dashed-wrapped\"><div class=\"sk-label-container\"><div class=\"sk-label sk-toggleable\"><input class=\"sk-toggleable__control sk-hidden--visually\" id=\"sk-estimator-id-1\" type=\"checkbox\" ><label for=\"sk-estimator-id-1\" class=\"sk-toggleable__label sk-toggleable__label-arrow\">RandomizedSearchCV</label><div class=\"sk-toggleable__content\"><pre>RandomizedSearchCV(cv=3, estimator=RandomForestRegressor(), n_iter=100,\n",
       "                   n_jobs=-1,\n",
       "                   param_distributions={&#x27;max_depth&#x27;: [5, 8, 10, 15, None],\n",
       "                                        &#x27;max_features&#x27;: [3, &#x27;auto&#x27;],\n",
       "                                        &#x27;min_samples_split&#x27;: [2, 8, 15, 20],\n",
       "                                        &#x27;n_estimators&#x27;: [50, 100, 200, 500]},\n",
       "                   verbose=2)</pre></div></div></div><div class=\"sk-parallel\"><div class=\"sk-parallel-item\"><div class=\"sk-item\"><div class=\"sk-label-container\"><div class=\"sk-label sk-toggleable\"><input class=\"sk-toggleable__control sk-hidden--visually\" id=\"sk-estimator-id-2\" type=\"checkbox\" ><label for=\"sk-estimator-id-2\" class=\"sk-toggleable__label sk-toggleable__label-arrow\">estimator: RandomForestRegressor</label><div class=\"sk-toggleable__content\"><pre>RandomForestRegressor()</pre></div></div></div><div class=\"sk-serial\"><div class=\"sk-item\"><div class=\"sk-estimator sk-toggleable\"><input class=\"sk-toggleable__control sk-hidden--visually\" id=\"sk-estimator-id-3\" type=\"checkbox\" ><label for=\"sk-estimator-id-3\" class=\"sk-toggleable__label sk-toggleable__label-arrow\">RandomForestRegressor</label><div class=\"sk-toggleable__content\"><pre>RandomForestRegressor()</pre></div></div></div></div></div></div></div></div></div></div>"
      ],
      "text/plain": [
       "RandomizedSearchCV(cv=3, estimator=RandomForestRegressor(), n_iter=100,\n",
       "                   n_jobs=-1,\n",
       "                   param_distributions={'max_depth': [5, 8, 10, 15, None],\n",
       "                                        'max_features': [3, 'auto'],\n",
       "                                        'min_samples_split': [2, 8, 15, 20],\n",
       "                                        'n_estimators': [50, 100, 200, 500]},\n",
       "                   verbose=2)"
      ]
     },
     "execution_count": 40,
     "metadata": {},
     "output_type": "execute_result"
    }
   ],
   "source": [
    "random.fit(x_train,y_train)"
   ]
  },
  {
   "cell_type": "code",
   "execution_count": 41,
   "id": "d8767fea",
   "metadata": {},
   "outputs": [
    {
     "data": {
      "text/plain": [
       "({'n_estimators': 500,\n",
       "  'min_samples_split': 20,\n",
       "  'max_features': 3,\n",
       "  'max_depth': 15},\n",
       " RandomForestRegressor(max_depth=15, max_features=3, min_samples_split=20,\n",
       "                       n_estimators=500))"
      ]
     },
     "execution_count": 41,
     "metadata": {},
     "output_type": "execute_result"
    }
   ],
   "source": [
    "random.best_params_, random.best_estimator_"
   ]
  },
  {
   "cell_type": "code",
   "execution_count": 48,
   "id": "8da8cb29",
   "metadata": {},
   "outputs": [],
   "source": [
    "rf_best = RandomForestRegressor(max_depth=15, max_features=3, min_samples_split=20, n_estimators=500)\n",
    "rf_best.fit(x_train, y_train)\n",
    "\n",
    "#prefiction\n",
    "rf_pred_train = rf_best.predict(x_train)\n",
    "rf_pred_test = rf_best.predict(x_test)\n",
    "\n",
    "#training data performance\n",
    "rf_train_mse = mean_squared_error(y_train, rf_pred_train)\n",
    "rf_train_mae = mean_absolute_error(y_train, rf_pred_train)\n",
    "rf_train_r2 = r2_score(y_train, rf_pred_train)\n",
    "rf_train_adj_r2 = 1-(((1-rf_train_r2)*(len(y_train)-1))/(len(y_train)-(x_train.shape[1])-1))\n",
    "\n",
    "# #testing data performance\n",
    "rf_test_mse = mean_squared_error(y_test, rf_pred_test)\n",
    "rf_test_mae = mean_absolute_error(y_test, rf_pred_test)\n",
    "rf_test_r2 = r2_score(y_train, rf_pred_train)\n",
    "rf_test_adj_r2 = 1-(((1-rf_test_r2)*(len(y_test)-1))/(len(y_test)-(x_test.shape[1])-1))"
   ]
  },
  {
   "cell_type": "code",
   "execution_count": 49,
   "id": "ff64ec02",
   "metadata": {},
   "outputs": [
    {
     "data": {
      "text/html": [
       "<div>\n",
       "<style scoped>\n",
       "    .dataframe tbody tr th:only-of-type {\n",
       "        vertical-align: middle;\n",
       "    }\n",
       "\n",
       "    .dataframe tbody tr th {\n",
       "        vertical-align: top;\n",
       "    }\n",
       "\n",
       "    .dataframe thead th {\n",
       "        text-align: right;\n",
       "    }\n",
       "</style>\n",
       "<table border=\"1\" class=\"dataframe\">\n",
       "  <thead>\n",
       "    <tr style=\"text-align: right;\">\n",
       "      <th></th>\n",
       "      <th>Model</th>\n",
       "      <th>Train_mse</th>\n",
       "      <th>Train_mae</th>\n",
       "      <th>Train_r2</th>\n",
       "      <th>Train_ad_r2</th>\n",
       "      <th>Test_mse</th>\n",
       "      <th>Test_mae</th>\n",
       "      <th>Test_r2</th>\n",
       "      <th>Test_ad_r2</th>\n",
       "    </tr>\n",
       "  </thead>\n",
       "  <tbody>\n",
       "    <tr>\n",
       "      <th>0</th>\n",
       "      <td>Hyperparamter tunned RF</td>\n",
       "      <td>1.357387</td>\n",
       "      <td>0.846047</td>\n",
       "      <td>0.490598</td>\n",
       "      <td>0.490555</td>\n",
       "      <td>1.768069</td>\n",
       "      <td>0.960408</td>\n",
       "      <td>0.490598</td>\n",
       "      <td>0.490425</td>\n",
       "    </tr>\n",
       "  </tbody>\n",
       "</table>\n",
       "</div>"
      ],
      "text/plain": [
       "                     Model  Train_mse  Train_mae  Train_r2  Train_ad_r2  \\\n",
       "0  Hyperparamter tunned RF   1.357387   0.846047  0.490598     0.490555   \n",
       "\n",
       "   Test_mse  Test_mae   Test_r2  Test_ad_r2  \n",
       "0  1.768069  0.960408  0.490598    0.490425  "
      ]
     },
     "execution_count": 49,
     "metadata": {},
     "output_type": "execute_result"
    }
   ],
   "source": [
    "rf_record.append({'Model':'Hyperparamter tunned RF',\n",
    "                 'Train_mse':rf_train_mse,\n",
    "                 'Train_mae':rf_train_mae,\n",
    "                 'Train_r2': rf_train_r2,\n",
    "                 'Train_ad_r2':rf_train_adj_r2,\n",
    "                 'Test_mse':rf_test_mse,\n",
    "                 'Test_mae':rf_test_mae,\n",
    "                 'Test_r2':rf_test_r2,\n",
    "                 'Test_ad_r2':rf_test_adj_r2})\n",
    "hyp_model = pd.DataFrame(rf_record)\n",
    "hyp_model"
   ]
  },
  {
   "cell_type": "code",
   "execution_count": null,
   "id": "f6e4ea02",
   "metadata": {},
   "outputs": [],
   "source": []
  }
 ],
 "metadata": {
  "kernelspec": {
   "display_name": "Python 3 (ipykernel)",
   "language": "python",
   "name": "python3"
  },
  "language_info": {
   "codemirror_mode": {
    "name": "ipython",
    "version": 3
   },
   "file_extension": ".py",
   "mimetype": "text/x-python",
   "name": "python",
   "nbconvert_exporter": "python",
   "pygments_lexer": "ipython3",
   "version": "3.9.7"
  }
 },
 "nbformat": 4,
 "nbformat_minor": 5
}
