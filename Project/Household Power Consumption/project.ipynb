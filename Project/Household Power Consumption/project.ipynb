{
 "cells": [
  {
   "cell_type": "markdown",
   "id": "87e874b9",
   "metadata": {},
   "source": [
    "# <center><span style='color:green'> Household Electricity Consumption </span></center>"
   ]
  },
  {
   "cell_type": "markdown",
   "id": "6e539bd3",
   "metadata": {},
   "source": [
    "## Problem Statement"
   ]
  },
  {
   "cell_type": "markdown",
   "id": "1a223679",
   "metadata": {},
   "source": [
    "* Predict the household electricity consumption\n",
    "* Regression problem"
   ]
  },
  {
   "cell_type": "markdown",
   "id": "ed179a6a",
   "metadata": {},
   "source": [
    "## 1 <span style='color:red'>|</span> Import Libraries"
   ]
  },
  {
   "cell_type": "code",
   "execution_count": 74,
   "id": "6ea4f906",
   "metadata": {},
   "outputs": [],
   "source": [
    "import pandas as pd\n",
    "import numpy as np\n",
    "\n",
    "import matplotlib.pyplot as plt\n",
    "%matplotlib inline\n",
    "import seaborn as sns\n",
    "import warnings\n",
    "warnings.filterwarnings('ignore')\n",
    "\n",
    "#for modeling\n",
    "from sklearn.linear_model import LinearRegression, Ridge, Lasso\n",
    "from sklearn.svm import SVR\n",
    "from sklearn.metrics import accuracy_score , r2_score, mean_squared_error, mean_absolute_error\n",
    "from sklearn.model_selection import train_test_split\n",
    "from sklearn.preprocessing import StandardScaler\n",
    "from sklearn.ensemble import BaggingRegressor , RandomForestRegressor\n",
    "from sklearn.model_selection import RandomizedSearchCV\n",
    "from sklearn.tree import DecisionTreeRegressor\n",
    "\n",
    "#database\n",
    "import pymongo\n",
    "\n",
    "#save the model\n",
    "import pickle\n",
    "\n",
    "#to read data\n",
    "import zipfile"
   ]
  },
  {
   "cell_type": "markdown",
   "id": "4981076e",
   "metadata": {},
   "source": [
    "## 2 <span style='color:red'>|</span> Load Dataset"
   ]
  },
  {
   "cell_type": "code",
   "execution_count": 25,
   "id": "6a5750f2",
   "metadata": {},
   "outputs": [],
   "source": [
    "zip_file_path = \"cosumption_data.zip\"\n",
    "\n",
    "with zipfile.ZipFile(zip_file_path, 'r') as zip_file:\n",
    "    df = pd.read_csv(\"household_power_consumption.txt\", delimiter=';')"
   ]
  },
  {
   "cell_type": "code",
   "execution_count": 26,
   "id": "fc5f7e46",
   "metadata": {},
   "outputs": [
    {
     "data": {
      "text/html": [
       "<div>\n",
       "<style scoped>\n",
       "    .dataframe tbody tr th:only-of-type {\n",
       "        vertical-align: middle;\n",
       "    }\n",
       "\n",
       "    .dataframe tbody tr th {\n",
       "        vertical-align: top;\n",
       "    }\n",
       "\n",
       "    .dataframe thead th {\n",
       "        text-align: right;\n",
       "    }\n",
       "</style>\n",
       "<table border=\"1\" class=\"dataframe\">\n",
       "  <thead>\n",
       "    <tr style=\"text-align: right;\">\n",
       "      <th></th>\n",
       "      <th>Date</th>\n",
       "      <th>Time</th>\n",
       "      <th>Global_active_power</th>\n",
       "      <th>Global_reactive_power</th>\n",
       "      <th>Voltage</th>\n",
       "      <th>Global_intensity</th>\n",
       "      <th>Sub_metering_1</th>\n",
       "      <th>Sub_metering_2</th>\n",
       "      <th>Sub_metering_3</th>\n",
       "    </tr>\n",
       "  </thead>\n",
       "  <tbody>\n",
       "    <tr>\n",
       "      <th>0</th>\n",
       "      <td>16/12/2006</td>\n",
       "      <td>17:24:00</td>\n",
       "      <td>4.216</td>\n",
       "      <td>0.418</td>\n",
       "      <td>234.840</td>\n",
       "      <td>18.400</td>\n",
       "      <td>0.000</td>\n",
       "      <td>1.000</td>\n",
       "      <td>17.0</td>\n",
       "    </tr>\n",
       "    <tr>\n",
       "      <th>1</th>\n",
       "      <td>16/12/2006</td>\n",
       "      <td>17:25:00</td>\n",
       "      <td>5.360</td>\n",
       "      <td>0.436</td>\n",
       "      <td>233.630</td>\n",
       "      <td>23.000</td>\n",
       "      <td>0.000</td>\n",
       "      <td>1.000</td>\n",
       "      <td>16.0</td>\n",
       "    </tr>\n",
       "    <tr>\n",
       "      <th>2</th>\n",
       "      <td>16/12/2006</td>\n",
       "      <td>17:26:00</td>\n",
       "      <td>5.374</td>\n",
       "      <td>0.498</td>\n",
       "      <td>233.290</td>\n",
       "      <td>23.000</td>\n",
       "      <td>0.000</td>\n",
       "      <td>2.000</td>\n",
       "      <td>17.0</td>\n",
       "    </tr>\n",
       "    <tr>\n",
       "      <th>3</th>\n",
       "      <td>16/12/2006</td>\n",
       "      <td>17:27:00</td>\n",
       "      <td>5.388</td>\n",
       "      <td>0.502</td>\n",
       "      <td>233.740</td>\n",
       "      <td>23.000</td>\n",
       "      <td>0.000</td>\n",
       "      <td>1.000</td>\n",
       "      <td>17.0</td>\n",
       "    </tr>\n",
       "    <tr>\n",
       "      <th>4</th>\n",
       "      <td>16/12/2006</td>\n",
       "      <td>17:28:00</td>\n",
       "      <td>3.666</td>\n",
       "      <td>0.528</td>\n",
       "      <td>235.680</td>\n",
       "      <td>15.800</td>\n",
       "      <td>0.000</td>\n",
       "      <td>1.000</td>\n",
       "      <td>17.0</td>\n",
       "    </tr>\n",
       "  </tbody>\n",
       "</table>\n",
       "</div>"
      ],
      "text/plain": [
       "         Date      Time Global_active_power Global_reactive_power  Voltage  \\\n",
       "0  16/12/2006  17:24:00               4.216                 0.418  234.840   \n",
       "1  16/12/2006  17:25:00               5.360                 0.436  233.630   \n",
       "2  16/12/2006  17:26:00               5.374                 0.498  233.290   \n",
       "3  16/12/2006  17:27:00               5.388                 0.502  233.740   \n",
       "4  16/12/2006  17:28:00               3.666                 0.528  235.680   \n",
       "\n",
       "  Global_intensity Sub_metering_1 Sub_metering_2  Sub_metering_3  \n",
       "0           18.400          0.000          1.000            17.0  \n",
       "1           23.000          0.000          1.000            16.0  \n",
       "2           23.000          0.000          2.000            17.0  \n",
       "3           23.000          0.000          1.000            17.0  \n",
       "4           15.800          0.000          1.000            17.0  "
      ]
     },
     "execution_count": 26,
     "metadata": {},
     "output_type": "execute_result"
    }
   ],
   "source": [
    "df.head()"
   ]
  },
  {
   "cell_type": "code",
   "execution_count": 27,
   "id": "ce68b6b4",
   "metadata": {},
   "outputs": [
    {
     "data": {
      "text/plain": [
       "(2075259, 9)"
      ]
     },
     "execution_count": 27,
     "metadata": {},
     "output_type": "execute_result"
    }
   ],
   "source": [
    "df.shape"
   ]
  },
  {
   "cell_type": "markdown",
   "id": "bb2a2592",
   "metadata": {},
   "source": [
    "* Taking a sample of 60000 as data is too large "
   ]
  },
  {
   "cell_type": "code",
   "execution_count": 4,
   "id": "efd1b914",
   "metadata": {},
   "outputs": [
    {
     "data": {
      "text/plain": [
       "(60000, 9)"
      ]
     },
     "execution_count": 4,
     "metadata": {},
     "output_type": "execute_result"
    }
   ],
   "source": [
    "df_sample = df.sample(60000)\n",
    "df_sample.shape"
   ]
  },
  {
   "cell_type": "markdown",
   "id": "30cace60",
   "metadata": {},
   "source": [
    "## 3 <span style='color:red'>|</span> Exploratory Data Analysis"
   ]
  },
  {
   "cell_type": "code",
   "execution_count": 5,
   "id": "2639a6f8",
   "metadata": {},
   "outputs": [
    {
     "data": {
      "text/plain": [
       "Index(['Date', 'Time', 'Global_active_power', 'Global_reactive_power',\n",
       "       'Voltage', 'Global_intensity', 'Sub_metering_1', 'Sub_metering_2',\n",
       "       'Sub_metering_3'],\n",
       "      dtype='object')"
      ]
     },
     "execution_count": 5,
     "metadata": {},
     "output_type": "execute_result"
    }
   ],
   "source": [
    "df_sample.columns"
   ]
  },
  {
   "cell_type": "code",
   "execution_count": 6,
   "id": "47278feb",
   "metadata": {},
   "outputs": [],
   "source": [
    "df_sample.drop(['Date','Time'], axis=1, inplace=True)"
   ]
  },
  {
   "cell_type": "code",
   "execution_count": 7,
   "id": "98afa781",
   "metadata": {},
   "outputs": [
    {
     "data": {
      "text/html": [
       "<div>\n",
       "<style scoped>\n",
       "    .dataframe tbody tr th:only-of-type {\n",
       "        vertical-align: middle;\n",
       "    }\n",
       "\n",
       "    .dataframe tbody tr th {\n",
       "        vertical-align: top;\n",
       "    }\n",
       "\n",
       "    .dataframe thead th {\n",
       "        text-align: right;\n",
       "    }\n",
       "</style>\n",
       "<table border=\"1\" class=\"dataframe\">\n",
       "  <thead>\n",
       "    <tr style=\"text-align: right;\">\n",
       "      <th></th>\n",
       "      <th>Global_active_power</th>\n",
       "      <th>Global_reactive_power</th>\n",
       "      <th>Voltage</th>\n",
       "      <th>Global_intensity</th>\n",
       "      <th>Sub_metering_1</th>\n",
       "      <th>Sub_metering_2</th>\n",
       "      <th>Sub_metering_3</th>\n",
       "    </tr>\n",
       "  </thead>\n",
       "  <tbody>\n",
       "    <tr>\n",
       "      <th>1233438</th>\n",
       "      <td>2.632</td>\n",
       "      <td>0.104</td>\n",
       "      <td>240.230</td>\n",
       "      <td>10.800</td>\n",
       "      <td>1.000</td>\n",
       "      <td>0.000</td>\n",
       "      <td>18.0</td>\n",
       "    </tr>\n",
       "    <tr>\n",
       "      <th>1309607</th>\n",
       "      <td>?</td>\n",
       "      <td>?</td>\n",
       "      <td>?</td>\n",
       "      <td>?</td>\n",
       "      <td>?</td>\n",
       "      <td>?</td>\n",
       "      <td>NaN</td>\n",
       "    </tr>\n",
       "    <tr>\n",
       "      <th>817152</th>\n",
       "      <td>0.728</td>\n",
       "      <td>0.188</td>\n",
       "      <td>241.320</td>\n",
       "      <td>3.000</td>\n",
       "      <td>0.000</td>\n",
       "      <td>0.000</td>\n",
       "      <td>1.0</td>\n",
       "    </tr>\n",
       "    <tr>\n",
       "      <th>1623532</th>\n",
       "      <td>0.250</td>\n",
       "      <td>0.000</td>\n",
       "      <td>247.450</td>\n",
       "      <td>1.000</td>\n",
       "      <td>0.000</td>\n",
       "      <td>0.000</td>\n",
       "      <td>0.0</td>\n",
       "    </tr>\n",
       "    <tr>\n",
       "      <th>1193085</th>\n",
       "      <td>0.446</td>\n",
       "      <td>0.178</td>\n",
       "      <td>243.280</td>\n",
       "      <td>2.000</td>\n",
       "      <td>0.000</td>\n",
       "      <td>1.000</td>\n",
       "      <td>0.0</td>\n",
       "    </tr>\n",
       "  </tbody>\n",
       "</table>\n",
       "</div>"
      ],
      "text/plain": [
       "        Global_active_power Global_reactive_power  Voltage Global_intensity  \\\n",
       "1233438               2.632                 0.104  240.230           10.800   \n",
       "1309607                   ?                     ?        ?                ?   \n",
       "817152                0.728                 0.188  241.320            3.000   \n",
       "1623532               0.250                 0.000  247.450            1.000   \n",
       "1193085               0.446                 0.178  243.280            2.000   \n",
       "\n",
       "        Sub_metering_1 Sub_metering_2  Sub_metering_3  \n",
       "1233438          1.000          0.000            18.0  \n",
       "1309607              ?              ?             NaN  \n",
       "817152           0.000          0.000             1.0  \n",
       "1623532          0.000          0.000             0.0  \n",
       "1193085          0.000          1.000             0.0  "
      ]
     },
     "execution_count": 7,
     "metadata": {},
     "output_type": "execute_result"
    }
   ],
   "source": [
    "df_sample.head()"
   ]
  },
  {
   "cell_type": "code",
   "execution_count": 8,
   "id": "631c88b5",
   "metadata": {},
   "outputs": [
    {
     "data": {
      "text/html": [
       "<div>\n",
       "<style scoped>\n",
       "    .dataframe tbody tr th:only-of-type {\n",
       "        vertical-align: middle;\n",
       "    }\n",
       "\n",
       "    .dataframe tbody tr th {\n",
       "        vertical-align: top;\n",
       "    }\n",
       "\n",
       "    .dataframe thead th {\n",
       "        text-align: right;\n",
       "    }\n",
       "</style>\n",
       "<table border=\"1\" class=\"dataframe\">\n",
       "  <thead>\n",
       "    <tr style=\"text-align: right;\">\n",
       "      <th></th>\n",
       "      <th>Global_active_power</th>\n",
       "      <th>Global_reactive_power</th>\n",
       "      <th>Voltage</th>\n",
       "      <th>Global_intensity</th>\n",
       "      <th>Sub_metering_1</th>\n",
       "      <th>Sub_metering_2</th>\n",
       "      <th>Sub_metering_3</th>\n",
       "    </tr>\n",
       "  </thead>\n",
       "  <tbody>\n",
       "    <tr>\n",
       "      <th>1831087</th>\n",
       "      <td>1.348</td>\n",
       "      <td>0.000</td>\n",
       "      <td>240.750</td>\n",
       "      <td>5.600</td>\n",
       "      <td>0.000</td>\n",
       "      <td>0.000</td>\n",
       "      <td>19.0</td>\n",
       "    </tr>\n",
       "    <tr>\n",
       "      <th>1003692</th>\n",
       "      <td>1.396</td>\n",
       "      <td>0.152</td>\n",
       "      <td>235.610</td>\n",
       "      <td>6.000</td>\n",
       "      <td>0.000</td>\n",
       "      <td>0.000</td>\n",
       "      <td>0.0</td>\n",
       "    </tr>\n",
       "    <tr>\n",
       "      <th>81923</th>\n",
       "      <td>1.526</td>\n",
       "      <td>0.096</td>\n",
       "      <td>240.390</td>\n",
       "      <td>6.200</td>\n",
       "      <td>1.000</td>\n",
       "      <td>1.000</td>\n",
       "      <td>17.0</td>\n",
       "    </tr>\n",
       "    <tr>\n",
       "      <th>491388</th>\n",
       "      <td>0.544</td>\n",
       "      <td>0.264</td>\n",
       "      <td>247.820</td>\n",
       "      <td>2.400</td>\n",
       "      <td>1.000</td>\n",
       "      <td>0.000</td>\n",
       "      <td>0.0</td>\n",
       "    </tr>\n",
       "    <tr>\n",
       "      <th>1968</th>\n",
       "      <td>0.304</td>\n",
       "      <td>0.142</td>\n",
       "      <td>246.490</td>\n",
       "      <td>1.400</td>\n",
       "      <td>0.000</td>\n",
       "      <td>0.000</td>\n",
       "      <td>0.0</td>\n",
       "    </tr>\n",
       "    <tr>\n",
       "      <th>376741</th>\n",
       "      <td>3.448</td>\n",
       "      <td>0.068</td>\n",
       "      <td>235.970</td>\n",
       "      <td>14.600</td>\n",
       "      <td>37.000</td>\n",
       "      <td>0.000</td>\n",
       "      <td>18.0</td>\n",
       "    </tr>\n",
       "    <tr>\n",
       "      <th>1799605</th>\n",
       "      <td>1.446</td>\n",
       "      <td>0.084</td>\n",
       "      <td>241.760</td>\n",
       "      <td>6.000</td>\n",
       "      <td>0.000</td>\n",
       "      <td>0.000</td>\n",
       "      <td>19.0</td>\n",
       "    </tr>\n",
       "    <tr>\n",
       "      <th>120650</th>\n",
       "      <td>1.868</td>\n",
       "      <td>0.590</td>\n",
       "      <td>239.640</td>\n",
       "      <td>8.000</td>\n",
       "      <td>0.000</td>\n",
       "      <td>2.000</td>\n",
       "      <td>18.0</td>\n",
       "    </tr>\n",
       "    <tr>\n",
       "      <th>1081550</th>\n",
       "      <td>1.676</td>\n",
       "      <td>0.106</td>\n",
       "      <td>244.660</td>\n",
       "      <td>6.800</td>\n",
       "      <td>0.000</td>\n",
       "      <td>0.000</td>\n",
       "      <td>0.0</td>\n",
       "    </tr>\n",
       "    <tr>\n",
       "      <th>465255</th>\n",
       "      <td>4.692</td>\n",
       "      <td>0.160</td>\n",
       "      <td>234.310</td>\n",
       "      <td>20.000</td>\n",
       "      <td>0.000</td>\n",
       "      <td>37.000</td>\n",
       "      <td>16.0</td>\n",
       "    </tr>\n",
       "  </tbody>\n",
       "</table>\n",
       "</div>"
      ],
      "text/plain": [
       "        Global_active_power Global_reactive_power  Voltage Global_intensity  \\\n",
       "1831087               1.348                 0.000  240.750            5.600   \n",
       "1003692               1.396                 0.152  235.610            6.000   \n",
       "81923                 1.526                 0.096  240.390            6.200   \n",
       "491388                0.544                 0.264  247.820            2.400   \n",
       "1968                  0.304                 0.142  246.490            1.400   \n",
       "376741                3.448                 0.068  235.970           14.600   \n",
       "1799605               1.446                 0.084  241.760            6.000   \n",
       "120650                1.868                 0.590  239.640            8.000   \n",
       "1081550               1.676                 0.106  244.660            6.800   \n",
       "465255                4.692                 0.160  234.310           20.000   \n",
       "\n",
       "        Sub_metering_1 Sub_metering_2  Sub_metering_3  \n",
       "1831087          0.000          0.000            19.0  \n",
       "1003692          0.000          0.000             0.0  \n",
       "81923            1.000          1.000            17.0  \n",
       "491388           1.000          0.000             0.0  \n",
       "1968             0.000          0.000             0.0  \n",
       "376741          37.000          0.000            18.0  \n",
       "1799605          0.000          0.000            19.0  \n",
       "120650           0.000          2.000            18.0  \n",
       "1081550          0.000          0.000             0.0  \n",
       "465255           0.000         37.000            16.0  "
      ]
     },
     "execution_count": 8,
     "metadata": {},
     "output_type": "execute_result"
    }
   ],
   "source": [
    "df_sample.sample(10)"
   ]
  },
  {
   "cell_type": "code",
   "execution_count": 9,
   "id": "5103927f",
   "metadata": {},
   "outputs": [
    {
     "data": {
      "text/plain": [
       "Global_active_power       object\n",
       "Global_reactive_power     object\n",
       "Voltage                   object\n",
       "Global_intensity          object\n",
       "Sub_metering_1            object\n",
       "Sub_metering_2            object\n",
       "Sub_metering_3           float64\n",
       "dtype: object"
      ]
     },
     "execution_count": 9,
     "metadata": {},
     "output_type": "execute_result"
    }
   ],
   "source": [
    "df_sample.dtypes"
   ]
  },
  {
   "cell_type": "markdown",
   "id": "9b9a822b",
   "metadata": {},
   "source": [
    "#### 3.1 <span style='color:red'>|</span> Check any special character and handle them "
   ]
  },
  {
   "cell_type": "code",
   "execution_count": 10,
   "id": "bd11d0ee",
   "metadata": {},
   "outputs": [
    {
     "data": {
      "text/plain": [
       "True"
      ]
     },
     "execution_count": 10,
     "metadata": {},
     "output_type": "execute_result"
    }
   ],
   "source": [
    "character_check = any(not value.isnumeric() for value in df_sample['Global_active_power'])\n",
    "character_check"
   ]
  },
  {
   "cell_type": "code",
   "execution_count": 11,
   "id": "d30f1163",
   "metadata": {},
   "outputs": [
    {
     "data": {
      "text/plain": [
       "{'?'}"
      ]
     },
     "execution_count": 11,
     "metadata": {},
     "output_type": "execute_result"
    }
   ],
   "source": [
    "character = [value for value in df_sample['Global_active_power'] if not str(value).replace('.','',1).isnumeric()]\n",
    "set(character)"
   ]
  },
  {
   "cell_type": "code",
   "execution_count": 12,
   "id": "c6213b96",
   "metadata": {},
   "outputs": [
    {
     "data": {
      "text/html": [
       "<div>\n",
       "<style scoped>\n",
       "    .dataframe tbody tr th:only-of-type {\n",
       "        vertical-align: middle;\n",
       "    }\n",
       "\n",
       "    .dataframe tbody tr th {\n",
       "        vertical-align: top;\n",
       "    }\n",
       "\n",
       "    .dataframe thead th {\n",
       "        text-align: right;\n",
       "    }\n",
       "</style>\n",
       "<table border=\"1\" class=\"dataframe\">\n",
       "  <thead>\n",
       "    <tr style=\"text-align: right;\">\n",
       "      <th></th>\n",
       "      <th>Global_active_power</th>\n",
       "      <th>Global_reactive_power</th>\n",
       "      <th>Voltage</th>\n",
       "      <th>Global_intensity</th>\n",
       "      <th>Sub_metering_1</th>\n",
       "      <th>Sub_metering_2</th>\n",
       "      <th>Sub_metering_3</th>\n",
       "    </tr>\n",
       "  </thead>\n",
       "  <tbody>\n",
       "    <tr>\n",
       "      <th>1309607</th>\n",
       "      <td>?</td>\n",
       "      <td>?</td>\n",
       "      <td>?</td>\n",
       "      <td>?</td>\n",
       "      <td>?</td>\n",
       "      <td>?</td>\n",
       "      <td>NaN</td>\n",
       "    </tr>\n",
       "    <tr>\n",
       "      <th>1619197</th>\n",
       "      <td>?</td>\n",
       "      <td>?</td>\n",
       "      <td>?</td>\n",
       "      <td>?</td>\n",
       "      <td>?</td>\n",
       "      <td>?</td>\n",
       "      <td>NaN</td>\n",
       "    </tr>\n",
       "    <tr>\n",
       "      <th>1986212</th>\n",
       "      <td>?</td>\n",
       "      <td>?</td>\n",
       "      <td>?</td>\n",
       "      <td>?</td>\n",
       "      <td>?</td>\n",
       "      <td>?</td>\n",
       "      <td>NaN</td>\n",
       "    </tr>\n",
       "    <tr>\n",
       "      <th>1310951</th>\n",
       "      <td>?</td>\n",
       "      <td>?</td>\n",
       "      <td>?</td>\n",
       "      <td>?</td>\n",
       "      <td>?</td>\n",
       "      <td>?</td>\n",
       "      <td>NaN</td>\n",
       "    </tr>\n",
       "    <tr>\n",
       "      <th>1397743</th>\n",
       "      <td>?</td>\n",
       "      <td>?</td>\n",
       "      <td>?</td>\n",
       "      <td>?</td>\n",
       "      <td>?</td>\n",
       "      <td>?</td>\n",
       "      <td>NaN</td>\n",
       "    </tr>\n",
       "    <tr>\n",
       "      <th>...</th>\n",
       "      <td>...</td>\n",
       "      <td>...</td>\n",
       "      <td>...</td>\n",
       "      <td>...</td>\n",
       "      <td>...</td>\n",
       "      <td>...</td>\n",
       "      <td>...</td>\n",
       "    </tr>\n",
       "    <tr>\n",
       "      <th>1984992</th>\n",
       "      <td>?</td>\n",
       "      <td>?</td>\n",
       "      <td>?</td>\n",
       "      <td>?</td>\n",
       "      <td>?</td>\n",
       "      <td>?</td>\n",
       "      <td>NaN</td>\n",
       "    </tr>\n",
       "    <tr>\n",
       "      <th>1930857</th>\n",
       "      <td>?</td>\n",
       "      <td>?</td>\n",
       "      <td>?</td>\n",
       "      <td>?</td>\n",
       "      <td>?</td>\n",
       "      <td>?</td>\n",
       "      <td>NaN</td>\n",
       "    </tr>\n",
       "    <tr>\n",
       "      <th>1934797</th>\n",
       "      <td>?</td>\n",
       "      <td>?</td>\n",
       "      <td>?</td>\n",
       "      <td>?</td>\n",
       "      <td>?</td>\n",
       "      <td>?</td>\n",
       "      <td>NaN</td>\n",
       "    </tr>\n",
       "    <tr>\n",
       "      <th>1619919</th>\n",
       "      <td>?</td>\n",
       "      <td>?</td>\n",
       "      <td>?</td>\n",
       "      <td>?</td>\n",
       "      <td>?</td>\n",
       "      <td>?</td>\n",
       "      <td>NaN</td>\n",
       "    </tr>\n",
       "    <tr>\n",
       "      <th>1312655</th>\n",
       "      <td>?</td>\n",
       "      <td>?</td>\n",
       "      <td>?</td>\n",
       "      <td>?</td>\n",
       "      <td>?</td>\n",
       "      <td>?</td>\n",
       "      <td>NaN</td>\n",
       "    </tr>\n",
       "  </tbody>\n",
       "</table>\n",
       "<p>743 rows × 7 columns</p>\n",
       "</div>"
      ],
      "text/plain": [
       "        Global_active_power Global_reactive_power Voltage Global_intensity  \\\n",
       "1309607                   ?                     ?       ?                ?   \n",
       "1619197                   ?                     ?       ?                ?   \n",
       "1986212                   ?                     ?       ?                ?   \n",
       "1310951                   ?                     ?       ?                ?   \n",
       "1397743                   ?                     ?       ?                ?   \n",
       "...                     ...                   ...     ...              ...   \n",
       "1984992                   ?                     ?       ?                ?   \n",
       "1930857                   ?                     ?       ?                ?   \n",
       "1934797                   ?                     ?       ?                ?   \n",
       "1619919                   ?                     ?       ?                ?   \n",
       "1312655                   ?                     ?       ?                ?   \n",
       "\n",
       "        Sub_metering_1 Sub_metering_2  Sub_metering_3  \n",
       "1309607              ?              ?             NaN  \n",
       "1619197              ?              ?             NaN  \n",
       "1986212              ?              ?             NaN  \n",
       "1310951              ?              ?             NaN  \n",
       "1397743              ?              ?             NaN  \n",
       "...                ...            ...             ...  \n",
       "1984992              ?              ?             NaN  \n",
       "1930857              ?              ?             NaN  \n",
       "1934797              ?              ?             NaN  \n",
       "1619919              ?              ?             NaN  \n",
       "1312655              ?              ?             NaN  \n",
       "\n",
       "[743 rows x 7 columns]"
      ]
     },
     "execution_count": 12,
     "metadata": {},
     "output_type": "execute_result"
    }
   ],
   "source": [
    "#Check character in dataframe\n",
    "special_char = df_sample[df_sample['Global_active_power']=='?']\n",
    "special_char"
   ]
  },
  {
   "cell_type": "markdown",
   "id": "54fdb823",
   "metadata": {},
   "source": [
    "* 737/60000 rows and 7/7 columns has special character in it"
   ]
  },
  {
   "cell_type": "code",
   "execution_count": 13,
   "id": "d04b4311",
   "metadata": {},
   "outputs": [
    {
     "data": {
      "text/plain": [
       "1.2283333333333333"
      ]
     },
     "execution_count": 13,
     "metadata": {},
     "output_type": "execute_result"
    }
   ],
   "source": [
    "(737/60000)*100"
   ]
  },
  {
   "cell_type": "code",
   "execution_count": 14,
   "id": "67c20f48",
   "metadata": {},
   "outputs": [
    {
     "name": "stdout",
     "output_type": "stream",
     "text": [
      "Data before removal of special character : (60000, 7)\n",
      "Data after removal of special character : (59257, 7)\n"
     ]
    }
   ],
   "source": [
    "#drop the data having special character\n",
    "print(\"Data before removal of special character :\", df_sample.shape)\n",
    "df_sample.drop(special_char.index, axis=0, inplace=True)\n",
    "print(\"Data after removal of special character :\", df_sample.shape)"
   ]
  },
  {
   "cell_type": "markdown",
   "id": "c666ea3c",
   "metadata": {},
   "source": [
    "#### 3.2 <span style='color:red'>|</span> Check duplicates"
   ]
  },
  {
   "cell_type": "code",
   "execution_count": 15,
   "id": "753c7243",
   "metadata": {},
   "outputs": [
    {
     "data": {
      "text/plain": [
       "263"
      ]
     },
     "execution_count": 15,
     "metadata": {},
     "output_type": "execute_result"
    }
   ],
   "source": [
    "df_sample.duplicated().sum()"
   ]
  },
  {
   "cell_type": "markdown",
   "id": "6b9d7de4",
   "metadata": {},
   "source": [
    "* 265 duplicates record found"
   ]
  },
  {
   "cell_type": "code",
   "execution_count": 16,
   "id": "21139b4b",
   "metadata": {},
   "outputs": [
    {
     "name": "stdout",
     "output_type": "stream",
     "text": [
      "Data with duplicate records : (59257, 7)\n",
      "Data withour duplicate records : (58994, 7)\n"
     ]
    }
   ],
   "source": [
    "print(\"Data with duplicate records :\", df_sample.shape)\n",
    "df_sample.drop_duplicates(inplace=True)\n",
    "print(\"Data withour duplicate records :\", df_sample.shape)"
   ]
  },
  {
   "cell_type": "markdown",
   "id": "a38924ac",
   "metadata": {},
   "source": [
    "#### 3.3 <span style='color:red'>|</span> Check null values"
   ]
  },
  {
   "cell_type": "code",
   "execution_count": 17,
   "id": "dd1d150b",
   "metadata": {},
   "outputs": [
    {
     "data": {
      "text/plain": [
       "Global_active_power      0\n",
       "Global_reactive_power    0\n",
       "Voltage                  0\n",
       "Global_intensity         0\n",
       "Sub_metering_1           0\n",
       "Sub_metering_2           0\n",
       "Sub_metering_3           0\n",
       "dtype: int64"
      ]
     },
     "execution_count": 17,
     "metadata": {},
     "output_type": "execute_result"
    }
   ],
   "source": [
    "df_sample.isnull().sum()"
   ]
  },
  {
   "cell_type": "markdown",
   "id": "ab012825",
   "metadata": {},
   "source": [
    "* No null values in dataset"
   ]
  },
  {
   "cell_type": "markdown",
   "id": "20cfa709",
   "metadata": {},
   "source": [
    "#### 3.4 <span style='color:red'>|</span> Convert dtype of columns"
   ]
  },
  {
   "cell_type": "code",
   "execution_count": 18,
   "id": "c1d6834e",
   "metadata": {},
   "outputs": [],
   "source": [
    "df_sample = df_sample.astype(float)"
   ]
  },
  {
   "cell_type": "code",
   "execution_count": 19,
   "id": "5aaf2252",
   "metadata": {},
   "outputs": [
    {
     "data": {
      "text/plain": [
       "Global_active_power      float64\n",
       "Global_reactive_power    float64\n",
       "Voltage                  float64\n",
       "Global_intensity         float64\n",
       "Sub_metering_1           float64\n",
       "Sub_metering_2           float64\n",
       "Sub_metering_3           float64\n",
       "dtype: object"
      ]
     },
     "execution_count": 19,
     "metadata": {},
     "output_type": "execute_result"
    }
   ],
   "source": [
    "df_sample.dtypes"
   ]
  },
  {
   "cell_type": "markdown",
   "id": "cd68e3a4",
   "metadata": {},
   "source": [
    "#### 3.5 <span style='color:red'>|</span> Combining Features"
   ]
  },
  {
   "cell_type": "code",
   "execution_count": 20,
   "id": "f875a0a2",
   "metadata": {},
   "outputs": [],
   "source": [
    "df_sample['meter'] = df_sample['Sub_metering_1'] + df_sample['Sub_metering_2'] + df_sample['Sub_metering_2']"
   ]
  },
  {
   "cell_type": "code",
   "execution_count": 21,
   "id": "8e0cfbb4",
   "metadata": {},
   "outputs": [],
   "source": [
    "df_sample.drop(['Sub_metering_1','Sub_metering_2','Sub_metering_3'], axis=1, inplace=True)"
   ]
  },
  {
   "cell_type": "code",
   "execution_count": 32,
   "id": "4b852ec5",
   "metadata": {},
   "outputs": [
    {
     "data": {
      "text/plain": [
       "Index(['Global_active_power', 'Global_reactive_power', 'Voltage',\n",
       "       'Global_intensity', 'meter'],\n",
       "      dtype='object')"
      ]
     },
     "execution_count": 32,
     "metadata": {},
     "output_type": "execute_result"
    }
   ],
   "source": [
    "df_sample.columns"
   ]
  },
  {
   "cell_type": "code",
   "execution_count": 28,
   "id": "357c6ecd",
   "metadata": {},
   "outputs": [
    {
     "data": {
      "text/html": [
       "<div>\n",
       "<style scoped>\n",
       "    .dataframe tbody tr th:only-of-type {\n",
       "        vertical-align: middle;\n",
       "    }\n",
       "\n",
       "    .dataframe tbody tr th {\n",
       "        vertical-align: top;\n",
       "    }\n",
       "\n",
       "    .dataframe thead th {\n",
       "        text-align: right;\n",
       "    }\n",
       "</style>\n",
       "<table border=\"1\" class=\"dataframe\">\n",
       "  <thead>\n",
       "    <tr style=\"text-align: right;\">\n",
       "      <th></th>\n",
       "      <th>Global_active_power</th>\n",
       "      <th>Global_reactive_power</th>\n",
       "      <th>Voltage</th>\n",
       "      <th>Global_intensity</th>\n",
       "      <th>meter</th>\n",
       "    </tr>\n",
       "  </thead>\n",
       "  <tbody>\n",
       "    <tr>\n",
       "      <th>1233438</th>\n",
       "      <td>2.632</td>\n",
       "      <td>0.104</td>\n",
       "      <td>240.23</td>\n",
       "      <td>10.8</td>\n",
       "      <td>1.0</td>\n",
       "    </tr>\n",
       "    <tr>\n",
       "      <th>817152</th>\n",
       "      <td>0.728</td>\n",
       "      <td>0.188</td>\n",
       "      <td>241.32</td>\n",
       "      <td>3.0</td>\n",
       "      <td>0.0</td>\n",
       "    </tr>\n",
       "    <tr>\n",
       "      <th>1623532</th>\n",
       "      <td>0.250</td>\n",
       "      <td>0.000</td>\n",
       "      <td>247.45</td>\n",
       "      <td>1.0</td>\n",
       "      <td>0.0</td>\n",
       "    </tr>\n",
       "    <tr>\n",
       "      <th>1193085</th>\n",
       "      <td>0.446</td>\n",
       "      <td>0.178</td>\n",
       "      <td>243.28</td>\n",
       "      <td>2.0</td>\n",
       "      <td>2.0</td>\n",
       "    </tr>\n",
       "    <tr>\n",
       "      <th>1321839</th>\n",
       "      <td>0.294</td>\n",
       "      <td>0.226</td>\n",
       "      <td>240.15</td>\n",
       "      <td>1.4</td>\n",
       "      <td>2.0</td>\n",
       "    </tr>\n",
       "  </tbody>\n",
       "</table>\n",
       "</div>"
      ],
      "text/plain": [
       "         Global_active_power  Global_reactive_power  Voltage  \\\n",
       "1233438                2.632                  0.104   240.23   \n",
       "817152                 0.728                  0.188   241.32   \n",
       "1623532                0.250                  0.000   247.45   \n",
       "1193085                0.446                  0.178   243.28   \n",
       "1321839                0.294                  0.226   240.15   \n",
       "\n",
       "         Global_intensity  meter  \n",
       "1233438              10.8    1.0  \n",
       "817152                3.0    0.0  \n",
       "1623532               1.0    0.0  \n",
       "1193085               2.0    2.0  \n",
       "1321839               1.4    2.0  "
      ]
     },
     "execution_count": 28,
     "metadata": {},
     "output_type": "execute_result"
    }
   ],
   "source": [
    "df_sample.head()"
   ]
  },
  {
   "cell_type": "code",
   "execution_count": 29,
   "id": "0197d0d0",
   "metadata": {},
   "outputs": [
    {
     "data": {
      "text/html": [
       "<div>\n",
       "<style scoped>\n",
       "    .dataframe tbody tr th:only-of-type {\n",
       "        vertical-align: middle;\n",
       "    }\n",
       "\n",
       "    .dataframe tbody tr th {\n",
       "        vertical-align: top;\n",
       "    }\n",
       "\n",
       "    .dataframe thead th {\n",
       "        text-align: right;\n",
       "    }\n",
       "</style>\n",
       "<table border=\"1\" class=\"dataframe\">\n",
       "  <thead>\n",
       "    <tr style=\"text-align: right;\">\n",
       "      <th></th>\n",
       "      <th>count</th>\n",
       "      <th>mean</th>\n",
       "      <th>std</th>\n",
       "      <th>min</th>\n",
       "      <th>25%</th>\n",
       "      <th>50%</th>\n",
       "      <th>75%</th>\n",
       "      <th>max</th>\n",
       "    </tr>\n",
       "  </thead>\n",
       "  <tbody>\n",
       "    <tr>\n",
       "      <th>Global_active_power</th>\n",
       "      <td>58994.0</td>\n",
       "      <td>1.098659</td>\n",
       "      <td>1.066037</td>\n",
       "      <td>0.076</td>\n",
       "      <td>0.310</td>\n",
       "      <td>0.608</td>\n",
       "      <td>1.534</td>\n",
       "      <td>9.338</td>\n",
       "    </tr>\n",
       "    <tr>\n",
       "      <th>Global_reactive_power</th>\n",
       "      <td>58994.0</td>\n",
       "      <td>0.123723</td>\n",
       "      <td>0.112490</td>\n",
       "      <td>0.000</td>\n",
       "      <td>0.048</td>\n",
       "      <td>0.100</td>\n",
       "      <td>0.194</td>\n",
       "      <td>1.190</td>\n",
       "    </tr>\n",
       "    <tr>\n",
       "      <th>Voltage</th>\n",
       "      <td>58994.0</td>\n",
       "      <td>240.820611</td>\n",
       "      <td>3.260856</td>\n",
       "      <td>223.490</td>\n",
       "      <td>238.960</td>\n",
       "      <td>240.970</td>\n",
       "      <td>242.890</td>\n",
       "      <td>253.230</td>\n",
       "    </tr>\n",
       "    <tr>\n",
       "      <th>Global_intensity</th>\n",
       "      <td>58994.0</td>\n",
       "      <td>4.656969</td>\n",
       "      <td>4.481814</td>\n",
       "      <td>0.200</td>\n",
       "      <td>1.400</td>\n",
       "      <td>2.600</td>\n",
       "      <td>6.400</td>\n",
       "      <td>41.800</td>\n",
       "    </tr>\n",
       "    <tr>\n",
       "      <th>meter</th>\n",
       "      <td>58994.0</td>\n",
       "      <td>3.784080</td>\n",
       "      <td>13.551102</td>\n",
       "      <td>0.000</td>\n",
       "      <td>0.000</td>\n",
       "      <td>0.000</td>\n",
       "      <td>2.000</td>\n",
       "      <td>179.000</td>\n",
       "    </tr>\n",
       "  </tbody>\n",
       "</table>\n",
       "</div>"
      ],
      "text/plain": [
       "                         count        mean        std      min      25%  \\\n",
       "Global_active_power    58994.0    1.098659   1.066037    0.076    0.310   \n",
       "Global_reactive_power  58994.0    0.123723   0.112490    0.000    0.048   \n",
       "Voltage                58994.0  240.820611   3.260856  223.490  238.960   \n",
       "Global_intensity       58994.0    4.656969   4.481814    0.200    1.400   \n",
       "meter                  58994.0    3.784080  13.551102    0.000    0.000   \n",
       "\n",
       "                           50%      75%      max  \n",
       "Global_active_power      0.608    1.534    9.338  \n",
       "Global_reactive_power    0.100    0.194    1.190  \n",
       "Voltage                240.970  242.890  253.230  \n",
       "Global_intensity         2.600    6.400   41.800  \n",
       "meter                    0.000    2.000  179.000  "
      ]
     },
     "execution_count": 29,
     "metadata": {},
     "output_type": "execute_result"
    }
   ],
   "source": [
    "df_sample.describe().T"
   ]
  },
  {
   "cell_type": "markdown",
   "id": "aa0126ca",
   "metadata": {},
   "source": [
    "#### 3.6 <span style='color:red'>|</span> Data Distribution"
   ]
  },
  {
   "cell_type": "code",
   "execution_count": 35,
   "id": "926863f8",
   "metadata": {},
   "outputs": [
    {
     "data": {
      "image/png": "[encoded data removed]",
      "text/plain": [
       "<Figure size 1440x1440 with 5 Axes>"
      ]
     },
     "metadata": {},
     "output_type": "display_data"
    }
   ],
   "source": [
    "#Data Distribution in each column\n",
    "plt.figure(figsize=(20,20), facecolor='white')\n",
    "plotnum =1\n",
    "\n",
    "for col in df_sample.columns:\n",
    "    if plotnum <= 5:\n",
    "        ax = plt.subplot(3,2,plotnum)\n",
    "        sns.distplot(df_sample[col], bins=30)\n",
    "        plt.xlabel(col, fontsize=16)\n",
    "    plotnum += 1\n",
    "plt.show()"
   ]
  },
  {
   "cell_type": "markdown",
   "id": "a30374f6",
   "metadata": {},
   "source": [
    "#### 3.7 <span style='color:red'>|</span> Check & Handle outliers"
   ]
  },
  {
   "cell_type": "code",
   "execution_count": 37,
   "id": "b1715f58",
   "metadata": {},
   "outputs": [
    {
     "data": {
      "image/png": "[encoded data removed]",
      "text/plain": [
       "<Figure size 1440x720 with 5 Axes>"
      ]
     },
     "metadata": {
      "needs_background": "light"
     },
     "output_type": "display_data"
    }
   ],
   "source": [
    "plt.figure(figsize=(20,10))\n",
    "plotnum = 1\n",
    "\n",
    "for col in df_sample.columns:\n",
    "    if plotnum <= 5:\n",
    "        ax = plt.subplot(2,3,plotnum)\n",
    "        sns.boxplot(df_sample[col])\n",
    "        plt.xlabel(col, fontsize=16)\n",
    "    plotnum += 1\n",
    "plt.show()"
   ]
  },
  {
   "cell_type": "code",
   "execution_count": 51,
   "id": "6871ac52",
   "metadata": {},
   "outputs": [],
   "source": [
    "#Handling Outlier\n",
    "\n",
    "df1 = df_sample.copy()\n",
    "\n",
    "for col in df1.columns:\n",
    "    iqr = df1[col].quantile(0.75) - df1[col].quantile(0.25)\n",
    "    lower_limit = df1[col].quantile(0.25) - (1.5*iqr)\n",
    "    upper_limit = df1[col].quantile(0.75) + (1.5*iqr)\n",
    "    \n",
    "    df1[col] = np.where(df1[col]>upper_limit,upper_limit,np.where(df1[col]<lower_limit,lower_limit,df1[col]))"
   ]
  },
  {
   "cell_type": "code",
   "execution_count": 64,
   "id": "04204cad",
   "metadata": {},
   "outputs": [
    {
     "data": {
      "image/png": "[encoded data removed]",
      "text/plain": [
       "<Figure size 1152x288 with 2 Axes>"
      ]
     },
     "metadata": {
      "needs_background": "light"
     },
     "output_type": "display_data"
    },
    {
     "data": {
      "image/png": "[encoded data removed]",
      "text/plain": [
       "<Figure size 1152x288 with 2 Axes>"
      ]
     },
     "metadata": {
      "needs_background": "light"
     },
     "output_type": "display_data"
    },
    {
     "data": {
      "image/png": "[encoded data removed]",
      "text/plain": [
       "<Figure size 1152x288 with 2 Axes>"
      ]
     },
     "metadata": {
      "needs_background": "light"
     },
     "output_type": "display_data"
    },
    {
     "data": {
      "image/png": "[encoded data removed]",
      "text/plain": [
       "<Figure size 1152x288 with 2 Axes>"
      ]
     },
     "metadata": {
      "needs_background": "light"
     },
     "output_type": "display_data"
    },
    {
     "data": {
      "image/png": "[encoded data removed]",
      "text/plain": [
       "<Figure size 1152x288 with 2 Axes>"
      ]
     },
     "metadata": {
      "needs_background": "light"
     },
     "output_type": "display_data"
    }
   ],
   "source": [
    "#compare the distribution across quantile\n",
    "\n",
    "for col in df1.columns:\n",
    "    \n",
    "    plt.figure(figsize=(16,4))\n",
    "    plt.subplot(121)\n",
    "    sns.boxplot(df_sample[col])\n",
    "    plt.xlabel(f\"Boxplot of {col} before outliers handling\", fontsize=14, fontweight='bold')\n",
    "    \n",
    "    plt.subplot(122)\n",
    "    sns.boxplot(df1[col])\n",
    "    plt.xlabel(f\"Boxplot of {col} after outliers handling\", fontsize=14, fontweight='bold')"
   ]
  },
  {
   "cell_type": "markdown",
   "id": "8abbeb4d",
   "metadata": {},
   "source": [
    "## 4 <span style='color:red'>|</span> Model Building"
   ]
  },
  {
   "cell_type": "code",
   "execution_count": 68,
   "id": "b6f9b5bf",
   "metadata": {},
   "outputs": [],
   "source": [
    "x= df1.drop('meter', axis=1)\n",
    "y = df1['meter']"
   ]
  },
  {
   "cell_type": "code",
   "execution_count": 69,
   "id": "a03a8c2c",
   "metadata": {},
   "outputs": [
    {
     "data": {
      "text/plain": [
       "((58994, 4), (58994,))"
      ]
     },
     "execution_count": 69,
     "metadata": {},
     "output_type": "execute_result"
    }
   ],
   "source": [
    "x.shape,y.shape"
   ]
  },
  {
   "cell_type": "markdown",
   "id": "723b5da6",
   "metadata": {},
   "source": [
    "#### 4.1 <span style='color:red'>|</span> Train Test Split Dataset"
   ]
  },
  {
   "cell_type": "code",
   "execution_count": 70,
   "id": "42b37a02",
   "metadata": {},
   "outputs": [],
   "source": [
    "x_train, x_test, y_train, y_test = train_test_split(x,y, random_state=42, test_size=0.20)"
   ]
  },
  {
   "cell_type": "markdown",
   "id": "3d7dfd99",
   "metadata": {},
   "source": [
    "#### 4.1 <span style='color:red'>|</span> Standardization"
   ]
  },
  {
   "cell_type": "code",
   "execution_count": 71,
   "id": "54f868e4",
   "metadata": {},
   "outputs": [],
   "source": [
    "scaler = StandardScaler()\n",
    "x_train = scaler.fit_transform(x_train)\n",
    "x_test = scaler.fit_transform(x_test)"
   ]
  },
  {
   "cell_type": "markdown",
   "id": "08067e08",
   "metadata": {},
   "source": [
    "#### 4.3 <span style='color:red'>|</span> Modeling"
   ]
  },
  {
   "cell_type": "code",
   "execution_count": 72,
   "id": "1c6a67bc",
   "metadata": {},
   "outputs": [],
   "source": [
    "report = []"
   ]
  },
  {
   "cell_type": "code",
   "execution_count": 75,
   "id": "487b917e",
   "metadata": {},
   "outputs": [],
   "source": [
    "models = {\n",
    "    \"Linear Regression\" : LinearRegression(),\n",
    "    \"Ridge Regression\" : Ridge(),\n",
    "    \"Lasso Regression\" : Lasso(),\n",
    "    \"Support Vector Regression\" : SVR(),\n",
    "    \"Decision Tree Regressor\" : DecisionTreeRegressor(),\n",
    "    \"Random Forest Regressor\" : RandomForestRegressor()\n",
    "}\n"
   ]
  },
  {
   "cell_type": "code",
   "execution_count": 89,
   "id": "67191d25",
   "metadata": {},
   "outputs": [],
   "source": [
    "for i in range(len(models)):\n",
    "    model = list(models.values())[i] \n",
    "    model.fit(x_train,y_train)\n",
    "    \n",
    "    #prediction\n",
    "    y_train_pred = model.predict(x_train)\n",
    "    y_test_pred = model.predict(x_test)\n",
    "    \n",
    "    #Training data performance\n",
    "    n = len(y_train)\n",
    "    k = x_train.shape[1]\n",
    "    train_mse = mean_squared_error(y_train, y_train_pred)\n",
    "    train_mae = mean_absolute_error(y_train, y_train_pred)\n",
    "    train_r2 = r2_score(y_train, y_train_pred)\n",
    "    train_adj_r2 = 1-(((1-train_r2)*(n-1))/(n-k-1))\n",
    "    \n",
    "    #Test data performance\n",
    "    n2 = len(y_test)\n",
    "    k2 = x_test.shape[1]\n",
    "    test_mse = mean_squared_error(y_test, y_test_pred)\n",
    "    test_mae = mean_absolute_error(y_test, y_test_pred)\n",
    "    test_r2 = r2_score(y_test, y_test_pred)\n",
    "    test_adj_r2 = 1-(((1-test_r2)*(n2-1))/(n2-k2-1))\n",
    "    \n",
    "    report.append({\"Model\": list(models.keys())[i],\n",
    "                 \"Train MSE\" : train_mse,\n",
    "                 \"Test MSE\" : test_mse,\n",
    "                 \"Train MAE\" : train_mae,\n",
    "                 \"Test MAE\" : test_mae,\n",
    "                 \"Train R2\" : train_r2,\n",
    "                 \"Test R2\" : test_r2,\n",
    "                 \"Train Adj R2\" : train_adj_r2,\n",
    "                 \"Test Adj R2\" : test_adj_r2})"
   ]
  },
  {
   "cell_type": "code",
   "execution_count": 90,
   "id": "d28103fb",
   "metadata": {},
   "outputs": [
    {
     "data": {
      "text/html": [
       "<div>\n",
       "<style scoped>\n",
       "    .dataframe tbody tr th:only-of-type {\n",
       "        vertical-align: middle;\n",
       "    }\n",
       "\n",
       "    .dataframe tbody tr th {\n",
       "        vertical-align: top;\n",
       "    }\n",
       "\n",
       "    .dataframe thead th {\n",
       "        text-align: right;\n",
       "    }\n",
       "</style>\n",
       "<table border=\"1\" class=\"dataframe\">\n",
       "  <thead>\n",
       "    <tr style=\"text-align: right;\">\n",
       "      <th></th>\n",
       "      <th>Model</th>\n",
       "      <th>Train MSE</th>\n",
       "      <th>Test MSE</th>\n",
       "      <th>Train MAE</th>\n",
       "      <th>Test MAE</th>\n",
       "      <th>Train R2</th>\n",
       "      <th>Test R2</th>\n",
       "      <th>Train Adj R2</th>\n",
       "      <th>Test Adj R2</th>\n",
       "    </tr>\n",
       "  </thead>\n",
       "  <tbody>\n",
       "    <tr>\n",
       "      <th>0</th>\n",
       "      <td>Linear Regression</td>\n",
       "      <td>1.944641</td>\n",
       "      <td>1.955379</td>\n",
       "      <td>1.058670</td>\n",
       "      <td>1.060772</td>\n",
       "      <td>0.261948</td>\n",
       "      <td>2.616539e-01</td>\n",
       "      <td>0.261885</td>\n",
       "      <td>0.261404</td>\n",
       "    </tr>\n",
       "    <tr>\n",
       "      <th>1</th>\n",
       "      <td>Ridge Regression</td>\n",
       "      <td>1.944643</td>\n",
       "      <td>1.955420</td>\n",
       "      <td>1.058657</td>\n",
       "      <td>1.060769</td>\n",
       "      <td>0.261947</td>\n",
       "      <td>2.616383e-01</td>\n",
       "      <td>0.261885</td>\n",
       "      <td>0.261388</td>\n",
       "    </tr>\n",
       "    <tr>\n",
       "      <th>2</th>\n",
       "      <td>Lasso Regression</td>\n",
       "      <td>2.634829</td>\n",
       "      <td>2.648324</td>\n",
       "      <td>1.352414</td>\n",
       "      <td>1.355161</td>\n",
       "      <td>0.000000</td>\n",
       "      <td>-4.935586e-07</td>\n",
       "      <td>-0.000085</td>\n",
       "      <td>-0.000340</td>\n",
       "    </tr>\n",
       "    <tr>\n",
       "      <th>3</th>\n",
       "      <td>Support Vector Regression</td>\n",
       "      <td>2.035497</td>\n",
       "      <td>2.039821</td>\n",
       "      <td>0.834417</td>\n",
       "      <td>0.832355</td>\n",
       "      <td>0.227465</td>\n",
       "      <td>2.297688e-01</td>\n",
       "      <td>0.227400</td>\n",
       "      <td>0.229508</td>\n",
       "    </tr>\n",
       "    <tr>\n",
       "      <th>4</th>\n",
       "      <td>Decision Tree Regressor</td>\n",
       "      <td>0.012407</td>\n",
       "      <td>3.459107</td>\n",
       "      <td>0.005883</td>\n",
       "      <td>1.089075</td>\n",
       "      <td>0.995291</td>\n",
       "      <td>-3.061501e-01</td>\n",
       "      <td>0.995291</td>\n",
       "      <td>-0.306593</td>\n",
       "    </tr>\n",
       "    <tr>\n",
       "      <th>5</th>\n",
       "      <td>Random Forest Regressor</td>\n",
       "      <td>0.269070</td>\n",
       "      <td>1.933529</td>\n",
       "      <td>0.352266</td>\n",
       "      <td>0.992859</td>\n",
       "      <td>0.897879</td>\n",
       "      <td>2.699043e-01</td>\n",
       "      <td>0.897871</td>\n",
       "      <td>0.269657</td>\n",
       "    </tr>\n",
       "  </tbody>\n",
       "</table>\n",
       "</div>"
      ],
      "text/plain": [
       "                       Model  Train MSE  Test MSE  Train MAE  Test MAE  \\\n",
       "0          Linear Regression   1.944641  1.955379   1.058670  1.060772   \n",
       "1           Ridge Regression   1.944643  1.955420   1.058657  1.060769   \n",
       "2           Lasso Regression   2.634829  2.648324   1.352414  1.355161   \n",
       "3  Support Vector Regression   2.035497  2.039821   0.834417  0.832355   \n",
       "4    Decision Tree Regressor   0.012407  3.459107   0.005883  1.089075   \n",
       "5    Random Forest Regressor   0.269070  1.933529   0.352266  0.992859   \n",
       "\n",
       "   Train R2       Test R2  Train Adj R2  Test Adj R2  \n",
       "0  0.261948  2.616539e-01      0.261885     0.261404  \n",
       "1  0.261947  2.616383e-01      0.261885     0.261388  \n",
       "2  0.000000 -4.935586e-07     -0.000085    -0.000340  \n",
       "3  0.227465  2.297688e-01      0.227400     0.229508  \n",
       "4  0.995291 -3.061501e-01      0.995291    -0.306593  \n",
       "5  0.897879  2.699043e-01      0.897871     0.269657  "
      ]
     },
     "execution_count": 90,
     "metadata": {},
     "output_type": "execute_result"
    }
   ],
   "source": [
    "all_models = pd.DataFrame(report)\n",
    "all_models"
   ]
  },
  {
   "cell_type": "code",
   "execution_count": null,
   "id": "bcd88bac",
   "metadata": {},
   "outputs": [],
   "source": []
  }
 ],
 "metadata": {
  "kernelspec": {
   "display_name": "Python 3 (ipykernel)",
   "language": "python",
   "name": "python3"
  },
  "language_info": {
   "codemirror_mode": {
    "name": "ipython",
    "version": 3
   },
   "file_extension": ".py",
   "mimetype": "text/x-python",
   "name": "python",
   "nbconvert_exporter": "python",
   "pygments_lexer": "ipython3",
   "version": "3.9.7"
  }
 },
 "nbformat": 4,
 "nbformat_minor": 5
}
