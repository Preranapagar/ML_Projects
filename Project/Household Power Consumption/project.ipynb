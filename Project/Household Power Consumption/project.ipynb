{
 "cells": [
  {
   "cell_type": "markdown",
   "id": "87e874b9",
   "metadata": {},
   "source": [
    "# <center><span style='color:green'> Household Electricity Consumption </span></center>"
   ]
  },
  {
   "cell_type": "markdown",
   "id": "6e539bd3",
   "metadata": {},
   "source": [
    "## Problem Statement"
   ]
  },
  {
   "cell_type": "markdown",
   "id": "1a223679",
   "metadata": {},
   "source": [
    "* Predict the household electricity consumption\n",
    "* Regression problem"
   ]
  },
  {
   "cell_type": "markdown",
   "id": "ed179a6a",
   "metadata": {},
   "source": [
    "## 1 <span style='color:red'>|</span> Import Libraries"
   ]
  },
  {
   "cell_type": "code",
   "execution_count": 3,
   "id": "6ea4f906",
   "metadata": {},
   "outputs": [],
   "source": [
    "import pandas as pd\n",
    "import numpy as np\n",
    "\n",
    "import matplotlib.pyplot as plt\n",
    "%matplotlib inline\n",
    "import seaborn as sns\n",
    "import warnings\n",
    "warnings.filterwarnings('ignore')\n",
    "\n",
    "#for modeling\n",
    "from sklearn.linear_model import LinearRegression, Ridge, Lasso\n",
    "from sklearn.svm import SVR\n",
    "from sklearn.metrics import accuracy_score , r2_score, mean_squared_error, mean_absolute_error\n",
    "from sklearn.model_selection import train_test_split\n",
    "from sklearn.preprocessing import StandardScaler\n",
    "from sklearn.ensemble import BaggingRegressor , RandomForestRegressor\n",
    "from sklearn.model_selection import RandomizedSearchCV\n",
    "from sklearn.tree import DecisionTreeRegressor\n",
    "\n",
    "#database\n",
    "import pymongo\n",
    "\n",
    "#save the model\n",
    "import pickle\n",
    "\n",
    "#to read data\n",
    "import zipfile"
   ]
  },
  {
   "cell_type": "markdown",
   "id": "4981076e",
   "metadata": {},
   "source": [
    "## 2 <span style='color:red'>|</span> Load Dataset"
   ]
  },
  {
   "cell_type": "code",
   "execution_count": 4,
   "id": "6a5750f2",
   "metadata": {},
   "outputs": [],
   "source": [
    "zip_file_path = \"cosumption_data.zip\"\n",
    "file_name = \"household_power_consumption.txt\"\n",
    "\n",
    "with zipfile.ZipFile(zip_file_path, 'r') as zip_file:\n",
    "    file_list = zip_file.namelist()\n",
    "    for file in file_list:\n",
    "        if file == file_name:\n",
    "            with zip_file.open(file_name) as csv_file:\n",
    "                df = pd.read_csv(csv_file, delimiter=';')"
   ]
  },
  {
   "cell_type": "code",
   "execution_count": 5,
   "id": "fc5f7e46",
   "metadata": {},
   "outputs": [
    {
     "data": {
      "text/html": [
       "<div>\n",
       "<style scoped>\n",
       "    .dataframe tbody tr th:only-of-type {\n",
       "        vertical-align: middle;\n",
       "    }\n",
       "\n",
       "    .dataframe tbody tr th {\n",
       "        vertical-align: top;\n",
       "    }\n",
       "\n",
       "    .dataframe thead th {\n",
       "        text-align: right;\n",
       "    }\n",
       "</style>\n",
       "<table border=\"1\" class=\"dataframe\">\n",
       "  <thead>\n",
       "    <tr style=\"text-align: right;\">\n",
       "      <th></th>\n",
       "      <th>Date</th>\n",
       "      <th>Time</th>\n",
       "      <th>Global_active_power</th>\n",
       "      <th>Global_reactive_power</th>\n",
       "      <th>Voltage</th>\n",
       "      <th>Global_intensity</th>\n",
       "      <th>Sub_metering_1</th>\n",
       "      <th>Sub_metering_2</th>\n",
       "      <th>Sub_metering_3</th>\n",
       "    </tr>\n",
       "  </thead>\n",
       "  <tbody>\n",
       "    <tr>\n",
       "      <th>0</th>\n",
       "      <td>16/12/2006</td>\n",
       "      <td>17:24:00</td>\n",
       "      <td>4.216</td>\n",
       "      <td>0.418</td>\n",
       "      <td>234.840</td>\n",
       "      <td>18.400</td>\n",
       "      <td>0.000</td>\n",
       "      <td>1.000</td>\n",
       "      <td>17.0</td>\n",
       "    </tr>\n",
       "    <tr>\n",
       "      <th>1</th>\n",
       "      <td>16/12/2006</td>\n",
       "      <td>17:25:00</td>\n",
       "      <td>5.360</td>\n",
       "      <td>0.436</td>\n",
       "      <td>233.630</td>\n",
       "      <td>23.000</td>\n",
       "      <td>0.000</td>\n",
       "      <td>1.000</td>\n",
       "      <td>16.0</td>\n",
       "    </tr>\n",
       "    <tr>\n",
       "      <th>2</th>\n",
       "      <td>16/12/2006</td>\n",
       "      <td>17:26:00</td>\n",
       "      <td>5.374</td>\n",
       "      <td>0.498</td>\n",
       "      <td>233.290</td>\n",
       "      <td>23.000</td>\n",
       "      <td>0.000</td>\n",
       "      <td>2.000</td>\n",
       "      <td>17.0</td>\n",
       "    </tr>\n",
       "    <tr>\n",
       "      <th>3</th>\n",
       "      <td>16/12/2006</td>\n",
       "      <td>17:27:00</td>\n",
       "      <td>5.388</td>\n",
       "      <td>0.502</td>\n",
       "      <td>233.740</td>\n",
       "      <td>23.000</td>\n",
       "      <td>0.000</td>\n",
       "      <td>1.000</td>\n",
       "      <td>17.0</td>\n",
       "    </tr>\n",
       "    <tr>\n",
       "      <th>4</th>\n",
       "      <td>16/12/2006</td>\n",
       "      <td>17:28:00</td>\n",
       "      <td>3.666</td>\n",
       "      <td>0.528</td>\n",
       "      <td>235.680</td>\n",
       "      <td>15.800</td>\n",
       "      <td>0.000</td>\n",
       "      <td>1.000</td>\n",
       "      <td>17.0</td>\n",
       "    </tr>\n",
       "  </tbody>\n",
       "</table>\n",
       "</div>"
      ],
      "text/plain": [
       "         Date      Time Global_active_power Global_reactive_power  Voltage  \\\n",
       "0  16/12/2006  17:24:00               4.216                 0.418  234.840   \n",
       "1  16/12/2006  17:25:00               5.360                 0.436  233.630   \n",
       "2  16/12/2006  17:26:00               5.374                 0.498  233.290   \n",
       "3  16/12/2006  17:27:00               5.388                 0.502  233.740   \n",
       "4  16/12/2006  17:28:00               3.666                 0.528  235.680   \n",
       "\n",
       "  Global_intensity Sub_metering_1 Sub_metering_2  Sub_metering_3  \n",
       "0           18.400          0.000          1.000            17.0  \n",
       "1           23.000          0.000          1.000            16.0  \n",
       "2           23.000          0.000          2.000            17.0  \n",
       "3           23.000          0.000          1.000            17.0  \n",
       "4           15.800          0.000          1.000            17.0  "
      ]
     },
     "execution_count": 5,
     "metadata": {},
     "output_type": "execute_result"
    }
   ],
   "source": [
    "df.head()"
   ]
  },
  {
   "cell_type": "code",
   "execution_count": 6,
   "id": "ce68b6b4",
   "metadata": {},
   "outputs": [
    {
     "data": {
      "text/plain": [
       "(2075259, 9)"
      ]
     },
     "execution_count": 6,
     "metadata": {},
     "output_type": "execute_result"
    }
   ],
   "source": [
    "df.shape"
   ]
  },
  {
   "cell_type": "markdown",
   "id": "bb2a2592",
   "metadata": {},
   "source": [
    "* Taking a sample of 60000 as data is too large "
   ]
  },
  {
   "cell_type": "code",
   "execution_count": 7,
   "id": "efd1b914",
   "metadata": {},
   "outputs": [
    {
     "data": {
      "text/plain": [
       "(60000, 9)"
      ]
     },
     "execution_count": 7,
     "metadata": {},
     "output_type": "execute_result"
    }
   ],
   "source": [
    "df_sample = df.sample(60000)\n",
    "df_sample.shape"
   ]
  },
  {
   "cell_type": "markdown",
   "id": "30cace60",
   "metadata": {},
   "source": [
    "## 3 <span style='color:red'>|</span> Exploratory Data Analysis"
   ]
  },
  {
   "cell_type": "code",
   "execution_count": 8,
   "id": "2639a6f8",
   "metadata": {},
   "outputs": [
    {
     "data": {
      "text/plain": [
       "Index(['Date', 'Time', 'Global_active_power', 'Global_reactive_power',\n",
       "       'Voltage', 'Global_intensity', 'Sub_metering_1', 'Sub_metering_2',\n",
       "       'Sub_metering_3'],\n",
       "      dtype='object')"
      ]
     },
     "execution_count": 8,
     "metadata": {},
     "output_type": "execute_result"
    }
   ],
   "source": [
    "df_sample.columns"
   ]
  },
  {
   "cell_type": "code",
   "execution_count": 9,
   "id": "47278feb",
   "metadata": {},
   "outputs": [],
   "source": [
    "df_sample.drop(['Date','Time'], axis=1, inplace=True)"
   ]
  },
  {
   "cell_type": "code",
   "execution_count": 10,
   "id": "98afa781",
   "metadata": {},
   "outputs": [
    {
     "data": {
      "text/html": [
       "<div>\n",
       "<style scoped>\n",
       "    .dataframe tbody tr th:only-of-type {\n",
       "        vertical-align: middle;\n",
       "    }\n",
       "\n",
       "    .dataframe tbody tr th {\n",
       "        vertical-align: top;\n",
       "    }\n",
       "\n",
       "    .dataframe thead th {\n",
       "        text-align: right;\n",
       "    }\n",
       "</style>\n",
       "<table border=\"1\" class=\"dataframe\">\n",
       "  <thead>\n",
       "    <tr style=\"text-align: right;\">\n",
       "      <th></th>\n",
       "      <th>Global_active_power</th>\n",
       "      <th>Global_reactive_power</th>\n",
       "      <th>Voltage</th>\n",
       "      <th>Global_intensity</th>\n",
       "      <th>Sub_metering_1</th>\n",
       "      <th>Sub_metering_2</th>\n",
       "      <th>Sub_metering_3</th>\n",
       "    </tr>\n",
       "  </thead>\n",
       "  <tbody>\n",
       "    <tr>\n",
       "      <th>2022179</th>\n",
       "      <td>0.386</td>\n",
       "      <td>0.076</td>\n",
       "      <td>243.070</td>\n",
       "      <td>1.600</td>\n",
       "      <td>0.000</td>\n",
       "      <td>1.000</td>\n",
       "      <td>0.0</td>\n",
       "    </tr>\n",
       "    <tr>\n",
       "      <th>471178</th>\n",
       "      <td>0.996</td>\n",
       "      <td>0.310</td>\n",
       "      <td>240.470</td>\n",
       "      <td>4.200</td>\n",
       "      <td>0.000</td>\n",
       "      <td>2.000</td>\n",
       "      <td>0.0</td>\n",
       "    </tr>\n",
       "    <tr>\n",
       "      <th>1292917</th>\n",
       "      <td>4.408</td>\n",
       "      <td>0.298</td>\n",
       "      <td>236.990</td>\n",
       "      <td>18.600</td>\n",
       "      <td>37.000</td>\n",
       "      <td>0.000</td>\n",
       "      <td>29.0</td>\n",
       "    </tr>\n",
       "    <tr>\n",
       "      <th>1410401</th>\n",
       "      <td>1.228</td>\n",
       "      <td>0.000</td>\n",
       "      <td>242.500</td>\n",
       "      <td>5.000</td>\n",
       "      <td>0.000</td>\n",
       "      <td>0.000</td>\n",
       "      <td>18.0</td>\n",
       "    </tr>\n",
       "    <tr>\n",
       "      <th>1477430</th>\n",
       "      <td>2.504</td>\n",
       "      <td>0.142</td>\n",
       "      <td>237.860</td>\n",
       "      <td>10.400</td>\n",
       "      <td>0.000</td>\n",
       "      <td>37.000</td>\n",
       "      <td>0.0</td>\n",
       "    </tr>\n",
       "  </tbody>\n",
       "</table>\n",
       "</div>"
      ],
      "text/plain": [
       "        Global_active_power Global_reactive_power  Voltage Global_intensity  \\\n",
       "2022179               0.386                 0.076  243.070            1.600   \n",
       "471178                0.996                 0.310  240.470            4.200   \n",
       "1292917               4.408                 0.298  236.990           18.600   \n",
       "1410401               1.228                 0.000  242.500            5.000   \n",
       "1477430               2.504                 0.142  237.860           10.400   \n",
       "\n",
       "        Sub_metering_1 Sub_metering_2  Sub_metering_3  \n",
       "2022179          0.000          1.000             0.0  \n",
       "471178           0.000          2.000             0.0  \n",
       "1292917         37.000          0.000            29.0  \n",
       "1410401          0.000          0.000            18.0  \n",
       "1477430          0.000         37.000             0.0  "
      ]
     },
     "execution_count": 10,
     "metadata": {},
     "output_type": "execute_result"
    }
   ],
   "source": [
    "df_sample.head()"
   ]
  },
  {
   "cell_type": "code",
   "execution_count": 11,
   "id": "631c88b5",
   "metadata": {},
   "outputs": [
    {
     "data": {
      "text/html": [
       "<div>\n",
       "<style scoped>\n",
       "    .dataframe tbody tr th:only-of-type {\n",
       "        vertical-align: middle;\n",
       "    }\n",
       "\n",
       "    .dataframe tbody tr th {\n",
       "        vertical-align: top;\n",
       "    }\n",
       "\n",
       "    .dataframe thead th {\n",
       "        text-align: right;\n",
       "    }\n",
       "</style>\n",
       "<table border=\"1\" class=\"dataframe\">\n",
       "  <thead>\n",
       "    <tr style=\"text-align: right;\">\n",
       "      <th></th>\n",
       "      <th>Global_active_power</th>\n",
       "      <th>Global_reactive_power</th>\n",
       "      <th>Voltage</th>\n",
       "      <th>Global_intensity</th>\n",
       "      <th>Sub_metering_1</th>\n",
       "      <th>Sub_metering_2</th>\n",
       "      <th>Sub_metering_3</th>\n",
       "    </tr>\n",
       "  </thead>\n",
       "  <tbody>\n",
       "    <tr>\n",
       "      <th>236364</th>\n",
       "      <td>0.898</td>\n",
       "      <td>0.052</td>\n",
       "      <td>236.410</td>\n",
       "      <td>4.000</td>\n",
       "      <td>0.000</td>\n",
       "      <td>0.000</td>\n",
       "      <td>0.0</td>\n",
       "    </tr>\n",
       "    <tr>\n",
       "      <th>1223711</th>\n",
       "      <td>1.444</td>\n",
       "      <td>0.106</td>\n",
       "      <td>239.640</td>\n",
       "      <td>6.000</td>\n",
       "      <td>0.000</td>\n",
       "      <td>1.000</td>\n",
       "      <td>19.0</td>\n",
       "    </tr>\n",
       "    <tr>\n",
       "      <th>396074</th>\n",
       "      <td>0.256</td>\n",
       "      <td>0.188</td>\n",
       "      <td>238.360</td>\n",
       "      <td>1.200</td>\n",
       "      <td>0.000</td>\n",
       "      <td>2.000</td>\n",
       "      <td>0.0</td>\n",
       "    </tr>\n",
       "    <tr>\n",
       "      <th>984835</th>\n",
       "      <td>1.690</td>\n",
       "      <td>0.060</td>\n",
       "      <td>244.700</td>\n",
       "      <td>7.000</td>\n",
       "      <td>0.000</td>\n",
       "      <td>0.000</td>\n",
       "      <td>18.0</td>\n",
       "    </tr>\n",
       "    <tr>\n",
       "      <th>1296763</th>\n",
       "      <td>0.246</td>\n",
       "      <td>0.112</td>\n",
       "      <td>242.310</td>\n",
       "      <td>1.000</td>\n",
       "      <td>0.000</td>\n",
       "      <td>0.000</td>\n",
       "      <td>1.0</td>\n",
       "    </tr>\n",
       "    <tr>\n",
       "      <th>1582602</th>\n",
       "      <td>1.362</td>\n",
       "      <td>0.048</td>\n",
       "      <td>243.700</td>\n",
       "      <td>5.600</td>\n",
       "      <td>0.000</td>\n",
       "      <td>0.000</td>\n",
       "      <td>18.0</td>\n",
       "    </tr>\n",
       "    <tr>\n",
       "      <th>862361</th>\n",
       "      <td>0.172</td>\n",
       "      <td>0.138</td>\n",
       "      <td>239.860</td>\n",
       "      <td>0.800</td>\n",
       "      <td>0.000</td>\n",
       "      <td>2.000</td>\n",
       "      <td>0.0</td>\n",
       "    </tr>\n",
       "    <tr>\n",
       "      <th>1830967</th>\n",
       "      <td>0.206</td>\n",
       "      <td>0.000</td>\n",
       "      <td>243.310</td>\n",
       "      <td>1.000</td>\n",
       "      <td>0.000</td>\n",
       "      <td>0.000</td>\n",
       "      <td>0.0</td>\n",
       "    </tr>\n",
       "    <tr>\n",
       "      <th>1533386</th>\n",
       "      <td>0.318</td>\n",
       "      <td>0.094</td>\n",
       "      <td>240.800</td>\n",
       "      <td>1.400</td>\n",
       "      <td>0.000</td>\n",
       "      <td>0.000</td>\n",
       "      <td>1.0</td>\n",
       "    </tr>\n",
       "    <tr>\n",
       "      <th>1422542</th>\n",
       "      <td>2.948</td>\n",
       "      <td>0.706</td>\n",
       "      <td>235.920</td>\n",
       "      <td>13.000</td>\n",
       "      <td>1.000</td>\n",
       "      <td>1.000</td>\n",
       "      <td>18.0</td>\n",
       "    </tr>\n",
       "  </tbody>\n",
       "</table>\n",
       "</div>"
      ],
      "text/plain": [
       "        Global_active_power Global_reactive_power  Voltage Global_intensity  \\\n",
       "236364                0.898                 0.052  236.410            4.000   \n",
       "1223711               1.444                 0.106  239.640            6.000   \n",
       "396074                0.256                 0.188  238.360            1.200   \n",
       "984835                1.690                 0.060  244.700            7.000   \n",
       "1296763               0.246                 0.112  242.310            1.000   \n",
       "1582602               1.362                 0.048  243.700            5.600   \n",
       "862361                0.172                 0.138  239.860            0.800   \n",
       "1830967               0.206                 0.000  243.310            1.000   \n",
       "1533386               0.318                 0.094  240.800            1.400   \n",
       "1422542               2.948                 0.706  235.920           13.000   \n",
       "\n",
       "        Sub_metering_1 Sub_metering_2  Sub_metering_3  \n",
       "236364           0.000          0.000             0.0  \n",
       "1223711          0.000          1.000            19.0  \n",
       "396074           0.000          2.000             0.0  \n",
       "984835           0.000          0.000            18.0  \n",
       "1296763          0.000          0.000             1.0  \n",
       "1582602          0.000          0.000            18.0  \n",
       "862361           0.000          2.000             0.0  \n",
       "1830967          0.000          0.000             0.0  \n",
       "1533386          0.000          0.000             1.0  \n",
       "1422542          1.000          1.000            18.0  "
      ]
     },
     "execution_count": 11,
     "metadata": {},
     "output_type": "execute_result"
    }
   ],
   "source": [
    "df_sample.sample(10)"
   ]
  },
  {
   "cell_type": "code",
   "execution_count": 12,
   "id": "5103927f",
   "metadata": {},
   "outputs": [
    {
     "data": {
      "text/plain": [
       "Global_active_power       object\n",
       "Global_reactive_power     object\n",
       "Voltage                   object\n",
       "Global_intensity          object\n",
       "Sub_metering_1            object\n",
       "Sub_metering_2            object\n",
       "Sub_metering_3           float64\n",
       "dtype: object"
      ]
     },
     "execution_count": 12,
     "metadata": {},
     "output_type": "execute_result"
    }
   ],
   "source": [
    "df_sample.dtypes"
   ]
  },
  {
   "cell_type": "markdown",
   "id": "9b9a822b",
   "metadata": {},
   "source": [
    "#### 3.1 <span style='color:red'>|</span> Check any special character and handle them "
   ]
  },
  {
   "cell_type": "code",
   "execution_count": 13,
   "id": "bd11d0ee",
   "metadata": {},
   "outputs": [
    {
     "data": {
      "text/plain": [
       "True"
      ]
     },
     "execution_count": 13,
     "metadata": {},
     "output_type": "execute_result"
    }
   ],
   "source": [
    "character_check = any(not value.isnumeric() for value in df_sample['Global_active_power'])\n",
    "character_check"
   ]
  },
  {
   "cell_type": "code",
   "execution_count": 14,
   "id": "d30f1163",
   "metadata": {},
   "outputs": [
    {
     "data": {
      "text/plain": [
       "{'?'}"
      ]
     },
     "execution_count": 14,
     "metadata": {},
     "output_type": "execute_result"
    }
   ],
   "source": [
    "character = [value for value in df_sample['Global_active_power'] if not str(value).replace('.','',1).isnumeric()]\n",
    "set(character)"
   ]
  },
  {
   "cell_type": "code",
   "execution_count": 15,
   "id": "c6213b96",
   "metadata": {},
   "outputs": [
    {
     "data": {
      "text/html": [
       "<div>\n",
       "<style scoped>\n",
       "    .dataframe tbody tr th:only-of-type {\n",
       "        vertical-align: middle;\n",
       "    }\n",
       "\n",
       "    .dataframe tbody tr th {\n",
       "        vertical-align: top;\n",
       "    }\n",
       "\n",
       "    .dataframe thead th {\n",
       "        text-align: right;\n",
       "    }\n",
       "</style>\n",
       "<table border=\"1\" class=\"dataframe\">\n",
       "  <thead>\n",
       "    <tr style=\"text-align: right;\">\n",
       "      <th></th>\n",
       "      <th>Global_active_power</th>\n",
       "      <th>Global_reactive_power</th>\n",
       "      <th>Voltage</th>\n",
       "      <th>Global_intensity</th>\n",
       "      <th>Sub_metering_1</th>\n",
       "      <th>Sub_metering_2</th>\n",
       "      <th>Sub_metering_3</th>\n",
       "    </tr>\n",
       "  </thead>\n",
       "  <tbody>\n",
       "    <tr>\n",
       "      <th>1987712</th>\n",
       "      <td>?</td>\n",
       "      <td>?</td>\n",
       "      <td>?</td>\n",
       "      <td>?</td>\n",
       "      <td>?</td>\n",
       "      <td>?</td>\n",
       "      <td>NaN</td>\n",
       "    </tr>\n",
       "    <tr>\n",
       "      <th>1397534</th>\n",
       "      <td>?</td>\n",
       "      <td>?</td>\n",
       "      <td>?</td>\n",
       "      <td>?</td>\n",
       "      <td>?</td>\n",
       "      <td>?</td>\n",
       "      <td>NaN</td>\n",
       "    </tr>\n",
       "    <tr>\n",
       "      <th>193894</th>\n",
       "      <td>?</td>\n",
       "      <td>?</td>\n",
       "      <td>?</td>\n",
       "      <td>?</td>\n",
       "      <td>?</td>\n",
       "      <td>?</td>\n",
       "      <td>NaN</td>\n",
       "    </tr>\n",
       "    <tr>\n",
       "      <th>1989079</th>\n",
       "      <td>?</td>\n",
       "      <td>?</td>\n",
       "      <td>?</td>\n",
       "      <td>?</td>\n",
       "      <td>?</td>\n",
       "      <td>?</td>\n",
       "      <td>NaN</td>\n",
       "    </tr>\n",
       "    <tr>\n",
       "      <th>1988592</th>\n",
       "      <td>?</td>\n",
       "      <td>?</td>\n",
       "      <td>?</td>\n",
       "      <td>?</td>\n",
       "      <td>?</td>\n",
       "      <td>?</td>\n",
       "      <td>NaN</td>\n",
       "    </tr>\n",
       "    <tr>\n",
       "      <th>...</th>\n",
       "      <td>...</td>\n",
       "      <td>...</td>\n",
       "      <td>...</td>\n",
       "      <td>...</td>\n",
       "      <td>...</td>\n",
       "      <td>...</td>\n",
       "      <td>...</td>\n",
       "    </tr>\n",
       "    <tr>\n",
       "      <th>1714505</th>\n",
       "      <td>?</td>\n",
       "      <td>?</td>\n",
       "      <td>?</td>\n",
       "      <td>?</td>\n",
       "      <td>?</td>\n",
       "      <td>?</td>\n",
       "      <td>NaN</td>\n",
       "    </tr>\n",
       "    <tr>\n",
       "      <th>1935685</th>\n",
       "      <td>?</td>\n",
       "      <td>?</td>\n",
       "      <td>?</td>\n",
       "      <td>?</td>\n",
       "      <td>?</td>\n",
       "      <td>?</td>\n",
       "      <td>NaN</td>\n",
       "    </tr>\n",
       "    <tr>\n",
       "      <th>1311431</th>\n",
       "      <td>?</td>\n",
       "      <td>?</td>\n",
       "      <td>?</td>\n",
       "      <td>?</td>\n",
       "      <td>?</td>\n",
       "      <td>?</td>\n",
       "      <td>NaN</td>\n",
       "    </tr>\n",
       "    <tr>\n",
       "      <th>1713629</th>\n",
       "      <td>?</td>\n",
       "      <td>?</td>\n",
       "      <td>?</td>\n",
       "      <td>?</td>\n",
       "      <td>?</td>\n",
       "      <td>?</td>\n",
       "      <td>NaN</td>\n",
       "    </tr>\n",
       "    <tr>\n",
       "      <th>192120</th>\n",
       "      <td>?</td>\n",
       "      <td>?</td>\n",
       "      <td>?</td>\n",
       "      <td>?</td>\n",
       "      <td>?</td>\n",
       "      <td>?</td>\n",
       "      <td>NaN</td>\n",
       "    </tr>\n",
       "  </tbody>\n",
       "</table>\n",
       "<p>731 rows × 7 columns</p>\n",
       "</div>"
      ],
      "text/plain": [
       "        Global_active_power Global_reactive_power Voltage Global_intensity  \\\n",
       "1987712                   ?                     ?       ?                ?   \n",
       "1397534                   ?                     ?       ?                ?   \n",
       "193894                    ?                     ?       ?                ?   \n",
       "1989079                   ?                     ?       ?                ?   \n",
       "1988592                   ?                     ?       ?                ?   \n",
       "...                     ...                   ...     ...              ...   \n",
       "1714505                   ?                     ?       ?                ?   \n",
       "1935685                   ?                     ?       ?                ?   \n",
       "1311431                   ?                     ?       ?                ?   \n",
       "1713629                   ?                     ?       ?                ?   \n",
       "192120                    ?                     ?       ?                ?   \n",
       "\n",
       "        Sub_metering_1 Sub_metering_2  Sub_metering_3  \n",
       "1987712              ?              ?             NaN  \n",
       "1397534              ?              ?             NaN  \n",
       "193894               ?              ?             NaN  \n",
       "1989079              ?              ?             NaN  \n",
       "1988592              ?              ?             NaN  \n",
       "...                ...            ...             ...  \n",
       "1714505              ?              ?             NaN  \n",
       "1935685              ?              ?             NaN  \n",
       "1311431              ?              ?             NaN  \n",
       "1713629              ?              ?             NaN  \n",
       "192120               ?              ?             NaN  \n",
       "\n",
       "[731 rows x 7 columns]"
      ]
     },
     "execution_count": 15,
     "metadata": {},
     "output_type": "execute_result"
    }
   ],
   "source": [
    "#Check character in dataframe\n",
    "special_char = df_sample[df_sample['Global_active_power']=='?']\n",
    "special_char"
   ]
  },
  {
   "cell_type": "markdown",
   "id": "54fdb823",
   "metadata": {},
   "source": [
    "* 737/60000 rows and 7/7 columns has special character in it"
   ]
  },
  {
   "cell_type": "code",
   "execution_count": 16,
   "id": "d04b4311",
   "metadata": {},
   "outputs": [
    {
     "data": {
      "text/plain": [
       "1.2283333333333333"
      ]
     },
     "execution_count": 16,
     "metadata": {},
     "output_type": "execute_result"
    }
   ],
   "source": [
    "(737/60000)*100"
   ]
  },
  {
   "cell_type": "code",
   "execution_count": 17,
   "id": "67c20f48",
   "metadata": {},
   "outputs": [
    {
     "name": "stdout",
     "output_type": "stream",
     "text": [
      "Data before removal of special character : (60000, 7)\n",
      "Data after removal of special character : (59269, 7)\n"
     ]
    }
   ],
   "source": [
    "#drop the data having special character\n",
    "print(\"Data before removal of special character :\", df_sample.shape)\n",
    "df_sample.drop(special_char.index, axis=0, inplace=True)\n",
    "print(\"Data after removal of special character :\", df_sample.shape)"
   ]
  },
  {
   "cell_type": "markdown",
   "id": "c666ea3c",
   "metadata": {},
   "source": [
    "#### 3.2 <span style='color:red'>|</span> Check duplicates"
   ]
  },
  {
   "cell_type": "code",
   "execution_count": 18,
   "id": "753c7243",
   "metadata": {},
   "outputs": [
    {
     "data": {
      "text/plain": [
       "260"
      ]
     },
     "execution_count": 18,
     "metadata": {},
     "output_type": "execute_result"
    }
   ],
   "source": [
    "df_sample.duplicated().sum()"
   ]
  },
  {
   "cell_type": "markdown",
   "id": "6b9d7de4",
   "metadata": {},
   "source": [
    "* 265 duplicates record found"
   ]
  },
  {
   "cell_type": "code",
   "execution_count": 19,
   "id": "21139b4b",
   "metadata": {},
   "outputs": [
    {
     "name": "stdout",
     "output_type": "stream",
     "text": [
      "Data with duplicate records : (59269, 7)\n",
      "Data withour duplicate records : (59009, 7)\n"
     ]
    }
   ],
   "source": [
    "print(\"Data with duplicate records :\", df_sample.shape)\n",
    "df_sample.drop_duplicates(inplace=True)\n",
    "print(\"Data withour duplicate records :\", df_sample.shape)"
   ]
  },
  {
   "cell_type": "markdown",
   "id": "a38924ac",
   "metadata": {},
   "source": [
    "#### 3.3 <span style='color:red'>|</span> Check null values"
   ]
  },
  {
   "cell_type": "code",
   "execution_count": 20,
   "id": "dd1d150b",
   "metadata": {},
   "outputs": [
    {
     "data": {
      "text/plain": [
       "Global_active_power      0\n",
       "Global_reactive_power    0\n",
       "Voltage                  0\n",
       "Global_intensity         0\n",
       "Sub_metering_1           0\n",
       "Sub_metering_2           0\n",
       "Sub_metering_3           0\n",
       "dtype: int64"
      ]
     },
     "execution_count": 20,
     "metadata": {},
     "output_type": "execute_result"
    }
   ],
   "source": [
    "df_sample.isnull().sum()"
   ]
  },
  {
   "cell_type": "markdown",
   "id": "ab012825",
   "metadata": {},
   "source": [
    "* No null values in dataset"
   ]
  },
  {
   "cell_type": "markdown",
   "id": "20cfa709",
   "metadata": {},
   "source": [
    "#### 3.4 <span style='color:red'>|</span> Convert dtype of columns"
   ]
  },
  {
   "cell_type": "code",
   "execution_count": 21,
   "id": "c1d6834e",
   "metadata": {},
   "outputs": [],
   "source": [
    "df_sample = df_sample.astype(float)"
   ]
  },
  {
   "cell_type": "code",
   "execution_count": 22,
   "id": "5aaf2252",
   "metadata": {},
   "outputs": [
    {
     "data": {
      "text/plain": [
       "Global_active_power      float64\n",
       "Global_reactive_power    float64\n",
       "Voltage                  float64\n",
       "Global_intensity         float64\n",
       "Sub_metering_1           float64\n",
       "Sub_metering_2           float64\n",
       "Sub_metering_3           float64\n",
       "dtype: object"
      ]
     },
     "execution_count": 22,
     "metadata": {},
     "output_type": "execute_result"
    }
   ],
   "source": [
    "df_sample.dtypes"
   ]
  },
  {
   "cell_type": "markdown",
   "id": "cd68e3a4",
   "metadata": {},
   "source": [
    "#### 3.5 <span style='color:red'>|</span> Combining Features"
   ]
  },
  {
   "cell_type": "code",
   "execution_count": 23,
   "id": "f875a0a2",
   "metadata": {},
   "outputs": [],
   "source": [
    "df_sample['meter'] = df_sample['Sub_metering_1'] + df_sample['Sub_metering_2'] + df_sample['Sub_metering_2']"
   ]
  },
  {
   "cell_type": "code",
   "execution_count": 24,
   "id": "8e0cfbb4",
   "metadata": {},
   "outputs": [],
   "source": [
    "df_sample.drop(['Sub_metering_1','Sub_metering_2','Sub_metering_3'], axis=1, inplace=True)"
   ]
  },
  {
   "cell_type": "code",
   "execution_count": 25,
   "id": "4b852ec5",
   "metadata": {},
   "outputs": [
    {
     "data": {
      "text/plain": [
       "Index(['Global_active_power', 'Global_reactive_power', 'Voltage',\n",
       "       'Global_intensity', 'meter'],\n",
       "      dtype='object')"
      ]
     },
     "execution_count": 25,
     "metadata": {},
     "output_type": "execute_result"
    }
   ],
   "source": [
    "df_sample.columns"
   ]
  },
  {
   "cell_type": "code",
   "execution_count": 26,
   "id": "357c6ecd",
   "metadata": {},
   "outputs": [
    {
     "data": {
      "text/html": [
       "<div>\n",
       "<style scoped>\n",
       "    .dataframe tbody tr th:only-of-type {\n",
       "        vertical-align: middle;\n",
       "    }\n",
       "\n",
       "    .dataframe tbody tr th {\n",
       "        vertical-align: top;\n",
       "    }\n",
       "\n",
       "    .dataframe thead th {\n",
       "        text-align: right;\n",
       "    }\n",
       "</style>\n",
       "<table border=\"1\" class=\"dataframe\">\n",
       "  <thead>\n",
       "    <tr style=\"text-align: right;\">\n",
       "      <th></th>\n",
       "      <th>Global_active_power</th>\n",
       "      <th>Global_reactive_power</th>\n",
       "      <th>Voltage</th>\n",
       "      <th>Global_intensity</th>\n",
       "      <th>meter</th>\n",
       "    </tr>\n",
       "  </thead>\n",
       "  <tbody>\n",
       "    <tr>\n",
       "      <th>2022179</th>\n",
       "      <td>0.386</td>\n",
       "      <td>0.076</td>\n",
       "      <td>243.07</td>\n",
       "      <td>1.6</td>\n",
       "      <td>2.0</td>\n",
       "    </tr>\n",
       "    <tr>\n",
       "      <th>471178</th>\n",
       "      <td>0.996</td>\n",
       "      <td>0.310</td>\n",
       "      <td>240.47</td>\n",
       "      <td>4.2</td>\n",
       "      <td>4.0</td>\n",
       "    </tr>\n",
       "    <tr>\n",
       "      <th>1292917</th>\n",
       "      <td>4.408</td>\n",
       "      <td>0.298</td>\n",
       "      <td>236.99</td>\n",
       "      <td>18.6</td>\n",
       "      <td>37.0</td>\n",
       "    </tr>\n",
       "    <tr>\n",
       "      <th>1410401</th>\n",
       "      <td>1.228</td>\n",
       "      <td>0.000</td>\n",
       "      <td>242.50</td>\n",
       "      <td>5.0</td>\n",
       "      <td>0.0</td>\n",
       "    </tr>\n",
       "    <tr>\n",
       "      <th>1477430</th>\n",
       "      <td>2.504</td>\n",
       "      <td>0.142</td>\n",
       "      <td>237.86</td>\n",
       "      <td>10.4</td>\n",
       "      <td>74.0</td>\n",
       "    </tr>\n",
       "  </tbody>\n",
       "</table>\n",
       "</div>"
      ],
      "text/plain": [
       "         Global_active_power  Global_reactive_power  Voltage  \\\n",
       "2022179                0.386                  0.076   243.07   \n",
       "471178                 0.996                  0.310   240.47   \n",
       "1292917                4.408                  0.298   236.99   \n",
       "1410401                1.228                  0.000   242.50   \n",
       "1477430                2.504                  0.142   237.86   \n",
       "\n",
       "         Global_intensity  meter  \n",
       "2022179               1.6    2.0  \n",
       "471178                4.2    4.0  \n",
       "1292917              18.6   37.0  \n",
       "1410401               5.0    0.0  \n",
       "1477430              10.4   74.0  "
      ]
     },
     "execution_count": 26,
     "metadata": {},
     "output_type": "execute_result"
    }
   ],
   "source": [
    "df_sample.head()"
   ]
  },
  {
   "cell_type": "code",
   "execution_count": 27,
   "id": "0197d0d0",
   "metadata": {},
   "outputs": [
    {
     "data": {
      "text/html": [
       "<div>\n",
       "<style scoped>\n",
       "    .dataframe tbody tr th:only-of-type {\n",
       "        vertical-align: middle;\n",
       "    }\n",
       "\n",
       "    .dataframe tbody tr th {\n",
       "        vertical-align: top;\n",
       "    }\n",
       "\n",
       "    .dataframe thead th {\n",
       "        text-align: right;\n",
       "    }\n",
       "</style>\n",
       "<table border=\"1\" class=\"dataframe\">\n",
       "  <thead>\n",
       "    <tr style=\"text-align: right;\">\n",
       "      <th></th>\n",
       "      <th>count</th>\n",
       "      <th>mean</th>\n",
       "      <th>std</th>\n",
       "      <th>min</th>\n",
       "      <th>25%</th>\n",
       "      <th>50%</th>\n",
       "      <th>75%</th>\n",
       "      <th>max</th>\n",
       "    </tr>\n",
       "  </thead>\n",
       "  <tbody>\n",
       "    <tr>\n",
       "      <th>Global_active_power</th>\n",
       "      <td>59009.0</td>\n",
       "      <td>1.093812</td>\n",
       "      <td>1.054105</td>\n",
       "      <td>0.078</td>\n",
       "      <td>0.310</td>\n",
       "      <td>0.606</td>\n",
       "      <td>1.534</td>\n",
       "      <td>9.374</td>\n",
       "    </tr>\n",
       "    <tr>\n",
       "      <th>Global_reactive_power</th>\n",
       "      <td>59009.0</td>\n",
       "      <td>0.124272</td>\n",
       "      <td>0.113910</td>\n",
       "      <td>0.000</td>\n",
       "      <td>0.048</td>\n",
       "      <td>0.100</td>\n",
       "      <td>0.194</td>\n",
       "      <td>1.100</td>\n",
       "    </tr>\n",
       "    <tr>\n",
       "      <th>Voltage</th>\n",
       "      <td>59009.0</td>\n",
       "      <td>240.847621</td>\n",
       "      <td>3.238100</td>\n",
       "      <td>223.490</td>\n",
       "      <td>238.990</td>\n",
       "      <td>241.020</td>\n",
       "      <td>242.880</td>\n",
       "      <td>253.520</td>\n",
       "    </tr>\n",
       "    <tr>\n",
       "      <th>Global_intensity</th>\n",
       "      <td>59009.0</td>\n",
       "      <td>4.637716</td>\n",
       "      <td>4.429207</td>\n",
       "      <td>0.200</td>\n",
       "      <td>1.400</td>\n",
       "      <td>2.600</td>\n",
       "      <td>6.400</td>\n",
       "      <td>41.800</td>\n",
       "    </tr>\n",
       "    <tr>\n",
       "      <th>meter</th>\n",
       "      <td>59009.0</td>\n",
       "      <td>3.723330</td>\n",
       "      <td>13.359553</td>\n",
       "      <td>0.000</td>\n",
       "      <td>0.000</td>\n",
       "      <td>0.000</td>\n",
       "      <td>2.000</td>\n",
       "      <td>182.000</td>\n",
       "    </tr>\n",
       "  </tbody>\n",
       "</table>\n",
       "</div>"
      ],
      "text/plain": [
       "                         count        mean        std      min      25%  \\\n",
       "Global_active_power    59009.0    1.093812   1.054105    0.078    0.310   \n",
       "Global_reactive_power  59009.0    0.124272   0.113910    0.000    0.048   \n",
       "Voltage                59009.0  240.847621   3.238100  223.490  238.990   \n",
       "Global_intensity       59009.0    4.637716   4.429207    0.200    1.400   \n",
       "meter                  59009.0    3.723330  13.359553    0.000    0.000   \n",
       "\n",
       "                           50%      75%      max  \n",
       "Global_active_power      0.606    1.534    9.374  \n",
       "Global_reactive_power    0.100    0.194    1.100  \n",
       "Voltage                241.020  242.880  253.520  \n",
       "Global_intensity         2.600    6.400   41.800  \n",
       "meter                    0.000    2.000  182.000  "
      ]
     },
     "execution_count": 27,
     "metadata": {},
     "output_type": "execute_result"
    }
   ],
   "source": [
    "df_sample.describe().T"
   ]
  },
  {
   "cell_type": "markdown",
   "id": "aa0126ca",
   "metadata": {},
   "source": [
    "#### 3.6 <span style='color:red'>|</span> Data Distribution"
   ]
  },
  {
   "cell_type": "code",
   "execution_count": 28,
   "id": "926863f8",
   "metadata": {},
   "outputs": [
    {
     "data": {
      "image/png": "[encoded data removed]",
      "text/plain": [
       "<Figure size 1440x1440 with 5 Axes>"
      ]
     },
     "metadata": {},
     "output_type": "display_data"
    }
   ],
   "source": [
    "#Data Distribution in each column\n",
    "plt.figure(figsize=(20,20), facecolor='white')\n",
    "plotnum =1\n",
    "\n",
    "for col in df_sample.columns:\n",
    "    if plotnum <= 5:\n",
    "        ax = plt.subplot(3,2,plotnum)\n",
    "        sns.distplot(df_sample[col], bins=30)\n",
    "        plt.xlabel(col, fontsize=16)\n",
    "    plotnum += 1\n",
    "plt.show()"
   ]
  },
  {
   "cell_type": "markdown",
   "id": "a30374f6",
   "metadata": {},
   "source": [
    "#### 3.7 <span style='color:red'>|</span> Check & Handle outliers"
   ]
  },
  {
   "cell_type": "code",
   "execution_count": 29,
   "id": "b1715f58",
   "metadata": {},
   "outputs": [
    {
     "data": {
      "image/png": "[encoded data removed]",
      "text/plain": [
       "<Figure size 1440x720 with 5 Axes>"
      ]
     },
     "metadata": {
      "needs_background": "light"
     },
     "output_type": "display_data"
    }
   ],
   "source": [
    "plt.figure(figsize=(20,10))\n",
    "plotnum = 1\n",
    "\n",
    "for col in df_sample.columns:\n",
    "    if plotnum <= 5:\n",
    "        ax = plt.subplot(2,3,plotnum)\n",
    "        sns.boxplot(df_sample[col])\n",
    "        plt.xlabel(col, fontsize=16)\n",
    "    plotnum += 1\n",
    "plt.show()"
   ]
  },
  {
   "cell_type": "code",
   "execution_count": 30,
   "id": "6871ac52",
   "metadata": {},
   "outputs": [],
   "source": [
    "#Handling Outlier\n",
    "\n",
    "df1 = df_sample.copy()\n",
    "\n",
    "for col in df1.columns:\n",
    "    iqr = df1[col].quantile(0.75) - df1[col].quantile(0.25)\n",
    "    lower_limit = df1[col].quantile(0.25) - (1.5*iqr)\n",
    "    upper_limit = df1[col].quantile(0.75) + (1.5*iqr)\n",
    "    \n",
    "    df1[col] = np.where(df1[col]>upper_limit,upper_limit,np.where(df1[col]<lower_limit,lower_limit,df1[col]))"
   ]
  },
  {
   "cell_type": "code",
   "execution_count": 31,
   "id": "04204cad",
   "metadata": {},
   "outputs": [
    {
     "data": {
      "image/png": "[encoded data removed]",
      "text/plain": [
       "<Figure size 1152x288 with 2 Axes>"
      ]
     },
     "metadata": {
      "needs_background": "light"
     },
     "output_type": "display_data"
    },
    {
     "data": {
      "image/png": "[encoded data removed]",
      "text/plain": [
       "<Figure size 1152x288 with 2 Axes>"
      ]
     },
     "metadata": {
      "needs_background": "light"
     },
     "output_type": "display_data"
    },
    {
     "data": {
      "image/png": "[encoded data removed]",
      "text/plain": [
       "<Figure size 1152x288 with 2 Axes>"
      ]
     },
     "metadata": {
      "needs_background": "light"
     },
     "output_type": "display_data"
    },
    {
     "data": {
      "image/png": "[encoded data removed]",
      "text/plain": [
       "<Figure size 1152x288 with 2 Axes>"
      ]
     },
     "metadata": {
      "needs_background": "light"
     },
     "output_type": "display_data"
    },
    {
     "data": {
      "image/png": "[encoded data removed]",
      "text/plain": [
       "<Figure size 1152x288 with 2 Axes>"
      ]
     },
     "metadata": {
      "needs_background": "light"
     },
     "output_type": "display_data"
    }
   ],
   "source": [
    "#compare the distribution across quantile\n",
    "\n",
    "for col in df1.columns:\n",
    "    \n",
    "    plt.figure(figsize=(16,4))\n",
    "    plt.subplot(121)\n",
    "    sns.boxplot(df_sample[col])\n",
    "    plt.xlabel(f\"Boxplot of {col} before outliers handling\", fontsize=14, fontweight='bold')\n",
    "    \n",
    "    plt.subplot(122)\n",
    "    sns.boxplot(df1[col])\n",
    "    plt.xlabel(f\"Boxplot of {col} after outliers handling\", fontsize=14, fontweight='bold')"
   ]
  },
  {
   "cell_type": "markdown",
   "id": "8abbeb4d",
   "metadata": {},
   "source": [
    "## 4 <span style='color:red'>|</span> Model Building"
   ]
  },
  {
   "cell_type": "code",
   "execution_count": 32,
   "id": "b6f9b5bf",
   "metadata": {},
   "outputs": [],
   "source": [
    "x= df1.drop('meter', axis=1)\n",
    "y = df1['meter']"
   ]
  },
  {
   "cell_type": "code",
   "execution_count": 33,
   "id": "a03a8c2c",
   "metadata": {},
   "outputs": [
    {
     "data": {
      "text/plain": [
       "((59009, 4), (59009,))"
      ]
     },
     "execution_count": 33,
     "metadata": {},
     "output_type": "execute_result"
    }
   ],
   "source": [
    "x.shape,y.shape"
   ]
  },
  {
   "cell_type": "markdown",
   "id": "723b5da6",
   "metadata": {},
   "source": [
    "#### 4.1 <span style='color:red'>|</span> Train Test Split Dataset"
   ]
  },
  {
   "cell_type": "code",
   "execution_count": 34,
   "id": "42b37a02",
   "metadata": {},
   "outputs": [],
   "source": [
    "x_train, x_test, y_train, y_test = train_test_split(x,y, random_state=42, test_size=0.20)"
   ]
  },
  {
   "cell_type": "markdown",
   "id": "3d7dfd99",
   "metadata": {},
   "source": [
    "#### 4.1 <span style='color:red'>|</span> Standardization"
   ]
  },
  {
   "cell_type": "code",
   "execution_count": 35,
   "id": "54f868e4",
   "metadata": {},
   "outputs": [],
   "source": [
    "scaler = StandardScaler()\n",
    "x_train = scaler.fit_transform(x_train)\n",
    "x_test = scaler.fit_transform(x_test)"
   ]
  },
  {
   "cell_type": "markdown",
   "id": "08067e08",
   "metadata": {},
   "source": [
    "#### 4.3 <span style='color:red'>|</span> Modeling"
   ]
  },
  {
   "cell_type": "code",
   "execution_count": 36,
   "id": "1c6a67bc",
   "metadata": {},
   "outputs": [],
   "source": [
    "report = []"
   ]
  },
  {
   "cell_type": "code",
   "execution_count": 37,
   "id": "487b917e",
   "metadata": {},
   "outputs": [],
   "source": [
    "models = {\n",
    "    \"Linear Regression\" : LinearRegression(),\n",
    "    \"Ridge Regression\" : Ridge(),\n",
    "    \"Lasso Regression\" : Lasso(),\n",
    "    \"Support Vector Regression\" : SVR(),\n",
    "    \"Decision Tree Regressor\" : DecisionTreeRegressor(),\n",
    "    \"Random Forest Regressor\" : RandomForestRegressor()\n",
    "}\n"
   ]
  },
  {
   "cell_type": "code",
   "execution_count": 38,
   "id": "67191d25",
   "metadata": {},
   "outputs": [],
   "source": [
    "for i in range(len(models)):\n",
    "    model = list(models.values())[i] \n",
    "    model.fit(x_train,y_train)\n",
    "    \n",
    "    #prediction\n",
    "    y_train_pred = model.predict(x_train)\n",
    "    y_test_pred = model.predict(x_test)\n",
    "    \n",
    "    #Training data performance\n",
    "    n = len(y_train)\n",
    "    k = x_train.shape[1]\n",
    "    train_mse = mean_squared_error(y_train, y_train_pred)\n",
    "    train_mae = mean_absolute_error(y_train, y_train_pred)\n",
    "    train_r2 = r2_score(y_train, y_train_pred)\n",
    "    train_adj_r2 = 1-(((1-train_r2)*(n-1))/(n-k-1))\n",
    "    \n",
    "    #Test data performance\n",
    "    n2 = len(y_test)\n",
    "    k2 = x_test.shape[1]\n",
    "    test_mse = mean_squared_error(y_test, y_test_pred)\n",
    "    test_mae = mean_absolute_error(y_test, y_test_pred)\n",
    "    test_r2 = r2_score(y_test, y_test_pred)\n",
    "    test_adj_r2 = 1-(((1-test_r2)*(n2-1))/(n2-k2-1))\n",
    "    \n",
    "    report.append({\"Model\": list(models.keys())[i],\n",
    "                 \"Train MSE\" : train_mse,\n",
    "                 \"Test MSE\" : test_mse,\n",
    "                 \"Train MAE\" : train_mae,\n",
    "                 \"Test MAE\" : test_mae,\n",
    "                 \"Train R2\" : train_r2,\n",
    "                 \"Test R2\" : test_r2,\n",
    "                 \"Train Adj R2\" : train_adj_r2,\n",
    "                 \"Test Adj R2\" : test_adj_r2})"
   ]
  },
  {
   "cell_type": "code",
   "execution_count": 39,
   "id": "d28103fb",
   "metadata": {},
   "outputs": [
    {
     "data": {
      "text/html": [
       "<div>\n",
       "<style scoped>\n",
       "    .dataframe tbody tr th:only-of-type {\n",
       "        vertical-align: middle;\n",
       "    }\n",
       "\n",
       "    .dataframe tbody tr th {\n",
       "        vertical-align: top;\n",
       "    }\n",
       "\n",
       "    .dataframe thead th {\n",
       "        text-align: right;\n",
       "    }\n",
       "</style>\n",
       "<table border=\"1\" class=\"dataframe\">\n",
       "  <thead>\n",
       "    <tr style=\"text-align: right;\">\n",
       "      <th></th>\n",
       "      <th>Model</th>\n",
       "      <th>Train MSE</th>\n",
       "      <th>Test MSE</th>\n",
       "      <th>Train MAE</th>\n",
       "      <th>Test MAE</th>\n",
       "      <th>Train R2</th>\n",
       "      <th>Test R2</th>\n",
       "      <th>Train Adj R2</th>\n",
       "      <th>Test Adj R2</th>\n",
       "    </tr>\n",
       "  </thead>\n",
       "  <tbody>\n",
       "    <tr>\n",
       "      <th>0</th>\n",
       "      <td>Linear Regression</td>\n",
       "      <td>1.931082</td>\n",
       "      <td>1.974786</td>\n",
       "      <td>1.053063</td>\n",
       "      <td>1.066849</td>\n",
       "      <td>0.260555</td>\n",
       "      <td>0.262401</td>\n",
       "      <td>0.260492</td>\n",
       "      <td>0.262151</td>\n",
       "    </tr>\n",
       "    <tr>\n",
       "      <th>1</th>\n",
       "      <td>Ridge Regression</td>\n",
       "      <td>1.931083</td>\n",
       "      <td>1.974677</td>\n",
       "      <td>1.053049</td>\n",
       "      <td>1.066813</td>\n",
       "      <td>0.260554</td>\n",
       "      <td>0.262441</td>\n",
       "      <td>0.260491</td>\n",
       "      <td>0.262191</td>\n",
       "    </tr>\n",
       "    <tr>\n",
       "      <th>2</th>\n",
       "      <td>Lasso Regression</td>\n",
       "      <td>2.611527</td>\n",
       "      <td>2.677883</td>\n",
       "      <td>1.347569</td>\n",
       "      <td>1.360388</td>\n",
       "      <td>0.000000</td>\n",
       "      <td>-0.000212</td>\n",
       "      <td>-0.000085</td>\n",
       "      <td>-0.000551</td>\n",
       "    </tr>\n",
       "    <tr>\n",
       "      <th>3</th>\n",
       "      <td>Support Vector Regression</td>\n",
       "      <td>2.004882</td>\n",
       "      <td>2.012397</td>\n",
       "      <td>0.826179</td>\n",
       "      <td>0.850385</td>\n",
       "      <td>0.232295</td>\n",
       "      <td>0.248352</td>\n",
       "      <td>0.232230</td>\n",
       "      <td>0.248098</td>\n",
       "    </tr>\n",
       "    <tr>\n",
       "      <th>4</th>\n",
       "      <td>Decision Tree Regressor</td>\n",
       "      <td>0.010218</td>\n",
       "      <td>3.718014</td>\n",
       "      <td>0.004692</td>\n",
       "      <td>1.141671</td>\n",
       "      <td>0.996087</td>\n",
       "      <td>-0.388710</td>\n",
       "      <td>0.996087</td>\n",
       "      <td>-0.389181</td>\n",
       "    </tr>\n",
       "    <tr>\n",
       "      <th>5</th>\n",
       "      <td>Random Forest Regressor</td>\n",
       "      <td>0.268165</td>\n",
       "      <td>2.051864</td>\n",
       "      <td>0.351714</td>\n",
       "      <td>1.006451</td>\n",
       "      <td>0.897315</td>\n",
       "      <td>0.233611</td>\n",
       "      <td>0.897306</td>\n",
       "      <td>0.233351</td>\n",
       "    </tr>\n",
       "  </tbody>\n",
       "</table>\n",
       "</div>"
      ],
      "text/plain": [
       "                       Model  Train MSE  Test MSE  Train MAE  Test MAE  \\\n",
       "0          Linear Regression   1.931082  1.974786   1.053063  1.066849   \n",
       "1           Ridge Regression   1.931083  1.974677   1.053049  1.066813   \n",
       "2           Lasso Regression   2.611527  2.677883   1.347569  1.360388   \n",
       "3  Support Vector Regression   2.004882  2.012397   0.826179  0.850385   \n",
       "4    Decision Tree Regressor   0.010218  3.718014   0.004692  1.141671   \n",
       "5    Random Forest Regressor   0.268165  2.051864   0.351714  1.006451   \n",
       "\n",
       "   Train R2   Test R2  Train Adj R2  Test Adj R2  \n",
       "0  0.260555  0.262401      0.260492     0.262151  \n",
       "1  0.260554  0.262441      0.260491     0.262191  \n",
       "2  0.000000 -0.000212     -0.000085    -0.000551  \n",
       "3  0.232295  0.248352      0.232230     0.248098  \n",
       "4  0.996087 -0.388710      0.996087    -0.389181  \n",
       "5  0.897315  0.233611      0.897306     0.233351  "
      ]
     },
     "execution_count": 39,
     "metadata": {},
     "output_type": "execute_result"
    }
   ],
   "source": [
    "all_models = pd.DataFrame(report)\n",
    "all_models"
   ]
  },
  {
   "cell_type": "markdown",
   "id": "020ed749",
   "metadata": {},
   "source": [
    "#### 4.4 <span style='color:red'>|</span> Hyperparameter Tunning"
   ]
  },
  {
   "cell_type": "code",
   "execution_count": null,
   "id": "49fb14e6",
   "metadata": {},
   "outputs": [],
   "source": [
    "rand_params = {'max_depth':[5,8,10,15,None],\n",
    "              'max_features':[3,'auto'],\n",
    "              'min_samples_split':[2,8,15,20],\n",
    "              'n_estimators':[50,100,200,500]}"
   ]
  }
 ],
 "metadata": {
  "kernelspec": {
   "display_name": "Python 3 (ipykernel)",
   "language": "python",
   "name": "python3"
  },
  "language_info": {
   "codemirror_mode": {
    "name": "ipython",
    "version": 3
   },
   "file_extension": ".py",
   "mimetype": "text/x-python",
   "name": "python",
   "nbconvert_exporter": "python",
   "pygments_lexer": "ipython3",
   "version": "3.9.7"
  }
 },
 "nbformat": 4,
 "nbformat_minor": 5
}
